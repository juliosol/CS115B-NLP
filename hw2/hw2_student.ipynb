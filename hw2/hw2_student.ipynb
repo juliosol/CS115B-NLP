{
 "cells": [
  {
   "cell_type": "code",
   "execution_count": 1,
   "metadata": {},
   "outputs": [
    {
     "data": {
      "text/html": [
       "<style>\n",
       "blockquote { background: #AEDE94; }\n",
       "\n",
       "hr {\n",
       "    height: 1px;\n",
       "    background-color: black;\n",
       "    border: none;\n",
       "}\n",
       "\n",
       "div.quote {\n",
       "\tpadding: 0.5em;\n",
       "\tfont-size: 12px;\n",
       "\talign-items: center;\n",
       "\tmax-width: 80%;\n",
       "\ttext-align: center;\n",
       "}\n",
       "\n",
       "div.header_purple {\n",
       "\tbackground-color: #D0C7FF; \n",
       "\twidth: 100%;\n",
       "\tbox-shadow: 5px 5px 10px 2px #888;\n",
       "\tfont-size: 15px;\n",
       "\tpadding-top: 8px;\n",
       "\tpadding-left: 20px;\n",
       "\tpadding-right: 20px; \n",
       "\tpadding-bottom: 20px;\n",
       "}\n",
       "\n",
       "div.q_purple {\n",
       "\tbackground-color: #9183D9;\n",
       "\tborder-color: #FF8484;\n",
       "\tborder-left: 5px solid #FF8484; \n",
       "\tpadding: 0.5em;\n",
       "}\n",
       "\n",
       "div.header_teagreen {\n",
       "\tbackground-color: #DEEFB7; \n",
       "\twidth: 100%;\n",
       "\tbox-shadow: 5px 5px 10px 2px #888;\n",
       "\tfont-size: 15px;\n",
       "\tpadding-top: 8px;\n",
       "\tpadding-left: 20px;\n",
       "\tpadding-right: 20px; \n",
       "\tpadding-bottom: 20px;\n",
       "}\n",
       "\n",
       "div.q_teagreen {\n",
       "\tbackground-color: #DEEFB7;\n",
       "\tborder-color: #5FB49C;\n",
       "\tborder-left: 5px solid #5FB49C; \n",
       "\tpadding: 0.5em;\n",
       "}\n",
       "\n",
       "div.header_aquagreen {\n",
       "\tbackground-color: #AACFC4; \n",
       "\twidth: 100%;\n",
       "\tbox-shadow: 5px 5px 10px 2px #888;\n",
       "\tfont-size: 15px;\n",
       "\tpadding-top: 8px;\n",
       "\tpadding-left: 20px;\n",
       "\tpadding-right: 20px; \n",
       "\tpadding-bottom: 20px;\n",
       "}\n",
       "\n",
       "div.q_aquagreen {\n",
       "\tbackground-color: #AACFC4;\n",
       "\tborder-color: #5F758E;\n",
       "\tborder-left: 5px solid #5F758E; \n",
       "\tpadding: 0.5em;\n",
       "}\n",
       "\n",
       "div.header_lightpurp {\n",
       "\tbackground-color: #CBC5EA; \n",
       "\twidth: 100%;\n",
       "\tbox-shadow: 5px 5px 10px 2px #888;\n",
       "\tfont-size: 15px;\n",
       "\tpadding-top: 8px;\n",
       "\tpadding-left: 20px;\n",
       "\tpadding-right: 20px; \n",
       "\tpadding-bottom: 20px;\n",
       "}\n",
       "\n",
       "div.q_lightpurp {\n",
       "\tbackground-color: #CBC5EA;\n",
       "\tborder-color: #73628A;\n",
       "\tborder-left: 5px solid #73628A; \n",
       "\tpadding: 0.5em;\n",
       "}\n",
       "\n",
       "div.header_silver {\n",
       "\tbackground-color: #707078; \n",
       "\twidth: 100%;\n",
       "\tbox-shadow: 5px 5px 10px 2px #888;\n",
       "\tfont-size: 15px;\n",
       "\tpadding-top: 8px;\n",
       "\tpadding-left: 20px;\n",
       "\tpadding-right: 20px; \n",
       "\tpadding-bottom: 20px;\n",
       "}\n",
       "\n",
       "div.q_silver {\n",
       "\tbackground-color: #707078;\n",
       "\tborder-color: #090909;\n",
       "\tborder-left: 5px solid #090909; \n",
       "\tpadding: 0.5em;\n",
       "}\n",
       "\n",
       "div.header_pink {\n",
       "\tbackground-color: #FFC8C8;\n",
       "\twidth: 100%;\n",
       "\tbox-shadow: 5px 5px 10px 2px #888;\n",
       "\tfont-size: 15px;\n",
       "\tpadding-top: 8px;\n",
       "\tpadding-left: 20px;\n",
       "\tpadding-right: 20px; \n",
       "\tpadding-bottom: 20px;\n",
       "}\n",
       "\n",
       "div.q_pink {\n",
       "\tbackground-color: #FFC8C8;\n",
       "\tborder-color: #FF8484;\n",
       "\tborder-left: 5px solid #FF8484; \n",
       "\tpadding: 0.5em;\n",
       "}\n",
       "\n",
       "div.header_yellow {\n",
       "\tbackground-color: #FDFFB6; \n",
       "\twidth: 100%;\n",
       "\tbox-shadow: 5px 5px 10px 2px #888;\n",
       "\tfont-size: 15px;\n",
       "\tpadding-top: 8px;\n",
       "\tpadding-left: 20px;\n",
       "\tpadding-right: 20px; \n",
       "\tpadding-bottom: 20px;\n",
       "}\n",
       "\n",
       "div.q_yellow {\n",
       "\tbackground-color: #FDFFD0;\n",
       "\tborder-color: #FFD6A5;\n",
       "\tborder-left: 5px solid #FFD6A5; \n",
       "\tpadding: 0.5em;\n",
       "}\n",
       "\n",
       "div.header_orange {\n",
       "\tbackground-color: #FFD6A5; \n",
       "\twidth: 100%;\n",
       "\tbox-shadow: 5px 5px 10px 2px #888;\n",
       "\tfont-size: 15px;\n",
       "\tpadding-top: 8px;\n",
       "\tpadding-left: 20px;\n",
       "\tpadding-right: 20px; \n",
       "\tpadding-bottom: 20px;\n",
       "}\n",
       "\n",
       "div.q_orange {\n",
       "\tbackground-color: #FFD6A5;\n",
       "\tborder-color: #D6562C;\n",
       "\tborder-left: 5px solid #D6562C; \n",
       "\tpadding: 0.5em;\n",
       "}\n",
       "\n",
       "div.header_green {\n",
       "\tbackground-color: #CAFFBF; \n",
       "\twidth: 100%;\n",
       "\tbox-shadow: 5px 5px 10px 2px #888;\n",
       "\tfont-size: 15px;\n",
       "\tpadding-top: 8px;\n",
       "\tpadding-left: 20px;\n",
       "\tpadding-right: 20px; \n",
       "\tpadding-bottom: 20px;\n",
       "}\n",
       "\n",
       "div.q_green {\n",
       "\tbackground-color: #CAFFBF;\n",
       "\tborder-color: #98C98E;\n",
       "\tborder-left: 5px solid #98C98E; \n",
       "\tpadding: 0.5em;\n",
       "}\n",
       "\n",
       "\n",
       "div.header_blue {\n",
       "\tbackground-color: #C9FAFF; \n",
       "\twidth: 100%;\n",
       "\tbox-shadow: 5px 5px 10px 2px #888;\n",
       "\tfont-size: 15px;\n",
       "\tpadding-top: 8px;\n",
       "\tpadding-left: 20px;\n",
       "\tpadding-right: 20px; \n",
       "\tpadding-bottom: 20px;\n",
       "}\n",
       "\n",
       "div.q_blue {\n",
       "\tbackground-color: #C9FAFF;\n",
       "\tborder-color: #A0C4FF;\n",
       "\tborder-left: 5px solid #A0C4FF; \n",
       "\tpadding: 0.5em;\n",
       "}\n",
       "\n",
       "\n",
       "h1 {\n",
       "    text-align: left; \n",
       "    color: black;\n",
       "}\n",
       "\n",
       "h2 { \n",
       "    text-align: left; \n",
       "    color: black;\n",
       "}\n",
       "\n",
       "</style>\n"
      ],
      "text/plain": [
       "<IPython.core.display.HTML object>"
      ]
     },
     "execution_count": 1,
     "metadata": {},
     "output_type": "execute_result"
    }
   ],
   "source": [
    "################################\n",
    "#        RUN THIS CELL\n",
    "################################\n",
    "from IPython.core.display import HTML\n",
    "HTML(\"style.css\")"
   ]
  },
  {
   "cell_type": "markdown",
   "metadata": {},
   "source": [
    "\n",
    "<div class='header_teagreen'>\n",
    "\n",
    "# <img style=\"float: left; padding-right: 10px; width: 60px\" src=\"https://raw.githubusercontent.com/Harvard-IACS/2018-CS109A/master/content/styles/iacs.png\"> AC295/CS287/E-115B: Deep Learning for NLP\n",
    "\n",
    "<br/>\n",
    "<hr color=black>\n",
    "\n",
    "## Homework 2: Recurrent Neural Networks and Machine Translation\n",
    "### THE TEA GREEN BOOK\n",
    "\n",
    "**Harvard University**<br/>\n",
    "**Fall 2021**<br/>\n",
    "**Instructor**: Chris Tanner<br/>\n",
    "**Release Date**: September 21 (Tues)<br/>\n",
    "<font color=\"red\">**Due Date**: October 5 (Tues) @ 11:59pm (EST)</font>\n",
    "\n",
    "<hr color=black>\n",
    "<center>\n",
    "<div class='quote'>\n",
    "\n",
    "_\"We don't speak the same language [...] you missin' every single shot that you ain't taken\"_\n",
    "\n",
    "    Malcolm McCormick (August 3, 2018)\n",
    "</div>\n",
    "</center>\n",
    "</div>"
   ]
  },
  {
   "cell_type": "markdown",
   "metadata": {},
   "source": [
    "<div class='header_teagreen'>\n",
    "    \n",
    "# OVERVIEW\n",
    "\n",
    "</div>\n",
    "<br/>\n",
    "This assignment spans the content covered in the following lectures:\n",
    "\n",
    "- **Lecture 5:** Recurrent Neural Networks (RNNs)\n",
    "- **Lecture 6:** LSTMs\n",
    "- **Lecture 7:** seq2seq + Attention\n",
    "- **Lecture 8:** Machine Translation\n",
    "\n",
    "Language is inherently sequential in nature, which makes it conducive to models that can capture the contextual, long-range dependencies. Toward this, you will first gain experience working with a simple RNN. The RNN aims to capture the data's meaning in its hidden layer (like all neural models), which will be used toward a classification task (sentiment analysis of IMDb movies).\n",
    "\n",
    "After seeing the effectiveness of this basic model, you will then extend this model for two missions. As a warm-up, we would like you to try your hand on performing sentiment analysis on an IMDB review dataset. Afterwards, your *true* mission, should you accept, is to make a complete Machine Translation system. There are some evil hackers on the Dark Web who are stealing and selling others' personal information, financial documents, CS287 assignments, etc. To make their operation covert, they are speaking in a \"Mystery Language\". Forensics suspect their mystery language is actually one of the following languages:\n",
    "- Danish\n",
    "- English\n",
    "- German\n",
    "- Finnish\n",
    "- Spanish\n",
    "\n",
    "You are tasked with determining the true identity of their mystery language, so that their words can be read and understood. Help save the day and keep everyone's data safe (for now). ~~This tape will self-destruct in five seconds.~\n",
    "\n",
    "As a heads-up, this assignment is shorter than Homework 1, as we wanted to provide you all with more time to focus on research. This pattern will persist, as each homework assignment will be shorter than the previous. With that said, the models at hand are increasing in complexity, and thus please ensure you allocate sufficient time to building, debugging, and running the models. For example, the last part of Problem 2 (programming) requires you to run your model on 5 different corpora. Our solutions can train the full model in just a few minutes (i.e., 1-5); however, if your solution is overwhelmingly slow, the total running time can start to become a hindrance.\n",
    "\n",
    "If your code runs slowly on your own local machine, you are free to run your code on [Google Colab](https://colab.research.google.com/) -- just be mindful that the academic policy is still in tact, and that nobody else should have access to your code. In terms of grading, in general, we will not be too picky with the _efficiency_ of your code, unless it's egregious. Having a sound solution is the most important."
   ]
  },
  {
   "cell_type": "markdown",
   "metadata": {},
   "source": [
    "<div class='header_teagreen'>\n",
    "    \n",
    "# LEARNING OBJECTIVES\n",
    "\n",
    "</div>\n",
    "<br/>\n",
    "\n",
    "The purpose of this homework is to help you:\n",
    "\n",
    "- understand the sequential nature of language\n",
    "- develop a strong foundation in working with recurrent networks\n",
    "- gain experience working with text classification\n",
    "- understand the mechanics of a basic, neural Machine Translation system\n",
    "- think critically about how language can be used and leveraged (e.g., for classification and translation), while recognizing strengths and weaknesses.\n",
    "\n",
    "To assist you reach these learning objectives, this homework is structured into three parts:\n",
    "- <span style=\"background-color: #FDFFB6\"><b>Foundation (concepts):</b></span> demonstrate an understanding of the core concepts taught in lectures\n",
    "- <span style=\"background-color: #FFC8C8\"><b>Application (programming):</b></span> gain experience putting that knowledge into practice \n",
    "- <span style=\"background-color: #CAFFBF\"><b>Research (creating new knowledge):</b></span> use your current NLP knowledge and skills to go beyond the course material, to grasp cutting-edge results and to critically accept or challenge that information. This serves as practice for you to research your own NLP interests and to be well-equipped to continuously learn the latest, greatest NLP work."
   ]
  },
  {
   "cell_type": "markdown",
   "metadata": {},
   "source": [
    "<div class='header_teagreen'>\n",
    "    \n",
    "## SUPPORT\n",
    "\n",
    "</div>\n",
    "\n",
    "- **Supplemental Resources:** See the list of [supplemental resources](https://harvard-iacs.github.io/CS287/supplemental) for a wealth of rich information concerning Machine Learning, NLP, and Math. Some of the courses listed concern the exact topics covered in this homework and lectures.\n",
    "- **Sanity Check cells:** Throughout the homeworks, we sometimes provide 'sanity check' cells which allow you to see our expected outputs. You should ensure your code produces the same. <span style=\"background-color: #FDFFB6\"><b>**NOTE:** We are not claiming that passing the sanity check cells indicates that you have _fully_ implemented everything correctly; rather, they provide simple checks to help inform you if you are on the right track.</span>\n",
    "- **Ed**: If you are stuck on anything conceptual (not code) about the content from lectures, please post a question on Ed. This is your community, and please contribute and help each other out. If your questions concern the homework, you can post these on Ed, too, but make sure you are not posting any of your code or solutions in general. If you think you've spotted a bug in our homework questions, or something that needs clarifying, please let us know on Ed! <span style=\"background-color: #FDFFB6\">Extra credit will be awarded for bugs.</span> We want to correct these issues ASAP.\n",
    "- **OH:** After having given a wholehearted attempt, if you are having trouble with the homework, please come to Office Hours.\n",
    "- **Classmates:** We have a strict policy about the homeworks being individual. You are free to discuss _concepts_ with one another, to help each other learn the material. However, no student shall ever discuss their solutions or see another student's solutions to any problem. Once you see someone's coding solution, it's nearly impossible to harness that information in a way that you can write your own unique solution. You've been robbed of a learning opportunity and will likely just regurgitate someone else's work. As a reminder, if you want to take a shortcut on any problem by looking online for already-existing solutions, that's permissible, but you must cite your sources. Otherwise, it constitutes cheating. Posting any pieces of this homework online for others to see if a flagrant violation of our academic policy.\n",
    "- **Other:** I want everyone to be and feel fully supported. If there's anything else we, as a teaching staff, can do to further assist in your learning, please let us know. Related, at the end of this homework assignment, you are expected to complete an anonymous feedback form. I urge you to critically and earnestly think about your own learning, communicate to us your thoughts, and to optionally tell us possible adjustments we could make so that you meet our learning expectations and you achieve your own learning goals."
   ]
  },
  {
   "cell_type": "markdown",
   "metadata": {},
   "source": [
    "<div class='header_lightpurp'>\n",
    "    \n",
    "# 1. FOUNDATION (CONCEPTS) [10 points]\n",
    "\n",
    "</div>\n",
    "<br/>"
   ]
  },
  {
   "cell_type": "markdown",
   "metadata": {},
   "source": [
    "<div class='q_lightpurp'><b>1.1 RNN [2 points]</b>\n",
    "\n",
    "Recall the standard, canonical RNN that was discussed in Lecture 5. Our hidden layer at timestep $t$ is defined as $h_{t} = f([h_{t-1}; x_{t}])$, where:\n",
    "\n",
    "- $f()$ is any non-linear activation function\n",
    "- $x$ corresponds to the input Embedding (densely encoded, not one-hot representation)\n",
    "- $;$ represents vector concatenation\n",
    "- this is a slightly abstract view, as we are not explicitly showing the two weight matrices by which $h_{t-1}$ and $x_{t}$ are being multipled before they're concatenated together. We're also not indicating the bias.\n",
    "\n",
    "Let's say we change $h_{t}$ as follows:\n",
    "\n",
    "$h_{t} = f([x_{t-1}; x_{t}])$\n",
    "\n",
    "In 2-3 sentences, discuss how and why you expect this to affect performance.\n",
    "</div>\n"
   ]
  },
  {
   "cell_type": "markdown",
   "metadata": {},
   "source": [
    "YOUR RESPONSE HERE\n",
    "Idea: We are neglecting the embedding/signals we learned from previous layers, so basically we are deleting the recurrence in the network and only considering the input of previous time step and this time step."
   ]
  },
  {
   "cell_type": "markdown",
   "metadata": {},
   "source": [
    "<div class='q_lightpurp'><b>1.2 seq2seq with Attention [2 points]</b>\n",
    "\n",
    "NOTE: This question concerns the standard Attention discussed in Lecture 7, not Self-Attention\n",
    "Which of the following statements about Attention are true (select all that apply)?\n",
    "\n",
    "- A: Attention is used for situations where you have both an encoder and decoder model\n",
    "- B: Attention determines how much emphasis to place on each hidden state from an encoder\n",
    "- C: Attention determines how much emphasis to place on each hidden state from a decoder\n",
    "- D: Attention scores can be computed in various ways (e.g., dot-product, bilinear transformation, feed-forward neural network)\n",
    "\n",
    "No explanation needed, just write below the letters you believe are true statements.\n",
    "</div>\n"
   ]
  },
  {
   "cell_type": "markdown",
   "metadata": {},
   "source": [
    "YOUR RESPONSE HERE\n",
    "Correct answers are B and D"
   ]
  },
  {
   "cell_type": "markdown",
   "metadata": {},
   "source": [
    "<div class='q_lightpurp'><b>1.3 Machine Translation: Directionality [2 points]</b>\n",
    "\n",
    "Let's say we have a parallel corpus of 100,000 sentences in two languages: \"source language\" and \"target language\". For example, perhaps the \"source language\" is Indonesian and the \"target language\" is English, and sentence $i$ in the English corpus is the translation of sentence $i$ in the Indonesian corpus.\n",
    "\n",
    "Let's model Machine Translation with a `seq2seq model with Attention` that operates on word tokens. Generally, for any particular pair of languages (e.g., Language $A$ and Language $B$), will the model yield the \"same\" results regardless of if language $A$ serves as the \"source\" language or \"target\" language?\n",
    "\n",
    "Few clarifying statements about what we're asking:\n",
    "\n",
    "- We are contrasting (1) treating language $A$ as the source language and $B$ as the target language; versus, (2) treating $A$ as the target language and $B$ as the source language\n",
    "- We are **not** contrasting language pairs ($A$,$B$) with language pairs ($C$, $D$), or even ($B$, $C$).\n",
    "- By \"same results\", we are not nitpicking about floating point precision and natural variation. Rather, we assert that any model trained on a given pair $(A, B)$, when run a few times, will naturally produce slightly varying results (due to the stochasticity of a NN), which one can summarize as a performance _range_. We are effectively asking if reversing the language pairs to be $(B,A)$ will yield performance that is consistently within the same performance _range_ as $(A, B)$.\n",
    "- We assume all other experimental setup is sound; e.g., nothing unusual with the train/dev/test splits. So, you can expect that in every situation, the first 70k sentences are used for train, the next 10k for dev, and the remaining 20k for test.\n",
    "\n",
    "Please discuss in 3-4 sentences your model expectations and justify.\n",
    "\n",
    "</div>\n"
   ]
  },
  {
   "cell_type": "markdown",
   "metadata": {},
   "source": [
    "YOUR RESPONSE HERE\n",
    "Switching the source and target yields different results \n",
    "In decoder you are keeping track of all the previous hidden states to predict a word but in encoder we don't do that.  \n",
    "Check at different in prediction time (test time).\n",
    "Think of differences of what you do in encoding vs decoding.\n"
   ]
  },
  {
   "cell_type": "markdown",
   "metadata": {},
   "source": [
    "<div class='q_lightpurp'><b>1.4 Machine Translation: Denoising [4 points]</b>\n",
    "\n",
    "Again, let's say we have a parallel corpus of 100,000 sentences in two languages (\"source language\" and \"target language\"), and that we're using a `seq2seq model with Attention` that operates on word tokens.\n",
    "\n",
    "**PART 1 (2 points):**\n",
    "If we alter our corpus such that for **every distinct, non-white space character** in the source language, we instantly replace it with a corresponding **different, distinct, non-whitespace character**. Then, we run the same model, from scratch, on this modified corpus. Would you expect the performance of the system to decrease, stay the same, or improve? Discuss in ~3 sentences what your expectations are and why.\n",
    "\n",
    "**PART 2 (2 points):**\n",
    "If we alter our corpus such that for **every distinct, non-white space character** in the source language, we instantly replace it with a corresponding **different, distinct, character (that may include whitespace)**. Then, we run the same model, from scratch, on this modified corpus. Would you expect the performance of the system to decrease, stay the same, or improve? Discuss in ~3 sentences what your expectations are and why.\n",
    "\n",
    "Few clarifying statements about what we're asking in PART 1 and PART 2:\n",
    "\n",
    "- each distinct character in the source language (e.g., 'a' will be consistently replaced with a different distinct character such as 'p')\n",
    "- no two characters in the original source language should become replaced by the same character (i.e., if 'a' is replaced with 'p', then no other letter will also be replaced by a 'p')\n",
    "- this is not a Distributed Systems class; we're **not** treating this replacement as a _series_ of replacements. That is, we do not need to worry about any race conditions. Letters are simply getting mapped to others.\n",
    "\n",
    "</div>\n"
   ]
  },
  {
   "cell_type": "markdown",
   "metadata": {},
   "source": [
    "YOUR RESPONSE HERE\n"
   ]
  },
  {
   "cell_type": "markdown",
   "metadata": {},
   "source": [
    "<div class='header_yellow'>\n",
    "    \n",
    "# 2. APPLICATION (PROGRAMMING) [70 points]\n",
    "\n",
    "</div>\n",
    "<br/>\n",
    "\n",
    "\n",
    "In this programming exercise, you will be guided through an implementation of the encoder-decoder.\n",
    "\n",
    "We start with an RNN-based `Encoder`, from which we can extract the final hidden state and cell state. LSTM units are used so that we can retain long-term dependencies. We treat the final vectors as a summary of the sentence, which we can use for binary classification on the text. We will apply this idea to the sentiment analysis of an IMDB movie review dataset, where we hope to determine whether a review is positive or negative. \n",
    "\n",
    "Building on the `Encoder`, we will further add on an RNN-based `Decoder`. This time, we will work on a translation task between source language and target language. We feed the source sentence to the Encoder, obtain the final states and feed them into the `Decoder`. The outputs of the Decoder is our translation.\n",
    "\n",
    "In total, you will gain hands-on experience building an important, powerful model (RNN-based Encoder/Decoder), which you'll demonstrate as being highly useful for completely different tasks and data. We're starting to see the beauty of using deep learning models for NLP!\n",
    "\n",
    "### DATA\n",
    "\n",
    "See the relevant section for a detailed description of the data we use. \n",
    "\n",
    "### PANDAS\n",
    "In all homework assignments, including this one, you are free to use `Pandas`. You are not required to use it at all, but it has some highly useful functionality, e.g., its `read_csv()` function, `DataFrame` and `Series` data structures, and its ability to quickly filter/sort/edit data (which is particularly helpful when experimenting and exploring your data)."
   ]
  },
  {
   "cell_type": "code",
   "execution_count": 68,
   "metadata": {},
   "outputs": [],
   "source": [
    "# utilities you will need or are free to use\n",
    "import pickle\n",
    "from typing import List, Tuple, Dict\n",
    "\n",
    "import matplotlib.pyplot as plt\n",
    "import numpy as np\n",
    "import pandas as pd\n",
    "\n",
    "import torch\n",
    "from torch import nn, optim\n",
    "from torch.nn import BCEWithLogitsLoss, CrossEntropyLoss, NLLLoss\n",
    "from torch.nn.utils.rnn import pack_padded_sequence, pad_packed_sequence, pad_sequence\n",
    "from torch.utils.data import DataLoader, Dataset\n",
    "\n",
    "from torchtext.data.metrics import bleu_score"
   ]
  },
  {
   "cell_type": "markdown",
   "metadata": {},
   "source": [
    "<div class='header_yellow'>\n",
    "\n",
    "# IMDb Sentiment Analysis\n",
    "\n",
    "</div>\n",
    "<br/>\n",
    "\n",
    "For this problem, we're going to build a binary sentiment classifier for movie reviews using the classic [IMDb dataset](https://ai.stanford.edu/~amaas/data/sentiment/). \n",
    "\n",
    "## Data\n",
    "\n",
    "Since you've already seen how to process and handle raw text data in HW1, we've gone ahead and handled the data processing and infrastructure for you this time. We've trimmed the reviews of punctuation and HTML tags, removed stop words, and [lemmatized](https://en.wikipedia.org/wiki/Lemmatisation) the remaining tokens using [NLTK's WordNet Lemmatizer](https://www.nltk.org/_modules/nltk/stem/wordnet.html). For example, the review:\n",
    "> Billy Crystal normally brings the crowd to laughter, but in this movie he and all the rest of them cannot bring any smile on my face.... or perhaps just one. They call it comedy, I say it's a waste of my time.\n",
    "\n",
    "Becomes:\n",
    "> ['billy', 'crystal', 'normally', 'bring', 'crowd', 'laughter', 'movie', 'rest', 'bring', 'smile', 'face', 'perhaps', 'one', 'call', 'comedy', 'say', 'waste', 'time']\n",
    "\n",
    "For the sake of training speed, we've limited the original corpus of 50,000 reviews to just 5,000 by filtering for only reviews that are shorter than 100 words. \n",
    "\n",
    "We've provided two datasets for you to use in the form of Python Pickle files ([documentation on what Pickling is](https://docs.python.org/3/library/pickle.html)):\n",
    "- `imdb_train.pkl` contains 4000 reviews for training. \n",
    "- `imdb_test.pkl` contains 1000 reviews for testing.\n",
    "\n",
    "Each pickled file contains a dictionary formatted as follows: \n",
    "\n",
    "```\n",
    "{\n",
    "    'tokenized_reviews': [\n",
    "        [token, token, token, ...],\n",
    "        [token, token, token, ...],\n",
    "        ...\n",
    "    ],\n",
    "    'full_reviews': [review review review ...],\n",
    "    'sentiments': [sentiment sentiment sentiment ...]\n",
    "}\n",
    "```\n",
    "Where each sentiment is binary, either `\"positive\"` or `\"negative\"`. "
   ]
  },
  {
   "cell_type": "markdown",
   "metadata": {},
   "source": [
    "<div class='q_yellow'><b>2.1 Load the data [0 points]</b>\n",
    "\n",
    "In the cell below, we load each dataset for you (simply run the cell). Note that you can load each dataset using the `pickle` module in Python's standard library: \n",
    "```py\n",
    "import pickle\n",
    "with open(\"imdb_train.pkl\", \"rb\") as fp:\n",
    "    train_dict = pickle.load(fp)\n",
    "```\n",
    "</div>"
   ]
  },
  {
   "cell_type": "code",
   "execution_count": 69,
   "metadata": {},
   "outputs": [],
   "source": [
    "# YOU DO NOT NEED ADD ANY CODE IN THIS CELL\n",
    "with open(\"data/imdb_train.pkl\", \"rb\") as f:\n",
    "    train_dict = pickle.load(f)\n",
    "    \n",
    "with open(\"data/imdb_test.pkl\", \"rb\") as f:\n",
    "    test_dict = pickle.load(f)"
   ]
  },
  {
   "cell_type": "markdown",
   "metadata": {},
   "source": [
    "We encourage you to inspect and perform some *quick* exploratory data analysis on the IMDb reviews and sentiments. For instance, what percentage of the sentiments are positive? Understanding the data before training the data can often lead to very useful observations. Should you be worried if it turns out that only $1\\%$ of the datapoints are labelled negative?\n",
    "\n",
    "This part is for your understanding only. Do not worry, we will not grade it."
   ]
  },
  {
   "cell_type": "code",
   "execution_count": 70,
   "metadata": {},
   "outputs": [
    {
     "name": "stdout",
     "output_type": "stream",
     "text": [
      "In training set, there is 50.0% of negative reviews and 50.0% of positive reviews.\n",
      "In test set, there is 50.0% of negative reviews and 50.0% of positive reviews.\n",
      "For training set, number of reviews is 4000 and length of max review is 81\n",
      "For test set, number of reviews is 1000 and length of max review is 80\n"
     ]
    }
   ],
   "source": [
    "# TODO: inspect the dicts and perform some quick exploratory analysis\n",
    "# Percentage of positive and negative reviews training\n",
    "train_perc_neg = len([x for x in train_dict['sentiments'] if x=='negative'])/len(train_dict['sentiments'])*100\n",
    "train_perc_pos = len([x for x in train_dict['sentiments'] if x=='positive'])/len(train_dict['sentiments'])*100\n",
    "\n",
    "print(f\"In training set, there is {train_perc_neg}% of negative reviews and {train_perc_pos}% of positive reviews.\")\n",
    "\n",
    "test_perc_neg = len([x for x in test_dict['sentiments'] if x=='negative'])/len(test_dict['sentiments'])*100\n",
    "test_perc_pos = len([x for x in test_dict['sentiments'] if x=='positive'])/len(test_dict['sentiments'])*100\n",
    "\n",
    "print(f\"In test set, there is {test_perc_neg}% of negative reviews and {test_perc_pos}% of positive reviews.\")\n",
    "\n",
    "# Number of reviews and max size\n",
    "num_reviews_train = len(train_dict['full_reviews'])\n",
    "num_reviews_test = len(test_dict['full_reviews'])\n",
    "max_review_train = max([len(x) for x in train_dict['tokenized_reviews']])\n",
    "max_review_test = max([len(x) for x in test_dict['tokenized_reviews']])\n",
    "\n",
    "print(f\"For training set, number of reviews is {num_reviews_train} and length of max review is {max_review_train}\")\n",
    "print(f\"For test set, number of reviews is {num_reviews_test} and length of max review is {max_review_test}\")\n"
   ]
  },
  {
   "cell_type": "markdown",
   "metadata": {},
   "source": [
    "### Turn the data into a Dataset\n",
    "\n",
    "For time efficiency, we've also provided you a `torch.utils.data.Dataset` class below which generates an indexed vocabulary from a given corpus. Note that it replaces infrequent words with the `<UNK>` token and appends an `<EOS>` tag to the end of each review. Also note that it can accept another corpus' vocabulary instead of generating its own. This is helpful because, as you should remember from lecture, we need our model to be able to interpret and use all of the tokens that we encounter at _test time_. We always rely on our training set to provide us with the vocabulary we are expected to see, so it's nice to have the freedom to easily \"import\" another expansive vocabulary list."
   ]
  },
  {
   "cell_type": "code",
   "execution_count": 71,
   "metadata": {},
   "outputs": [],
   "source": [
    "# YOU DO NOT NEED ADD ANY CODE IN THIS CELL\n",
    "\n",
    "# Some useful helper functions, which we will need for later...\n",
    "PADDING_IDX = 0\n",
    "EOS_IDX = 1 \n",
    "UNK_IDX = 2\n",
    "\n",
    "def get_word_counts(reviews: List[List[str]]) -> Dict[str, int]:\n",
    "    \"\"\"\n",
    "    Given a tokenized corpus (in this case reviews), we count the frequency of\n",
    "    each word in the corpus\n",
    "    \"\"\"\n",
    "    word_counts = {}\n",
    "    for review in reviews:\n",
    "        for word in review:\n",
    "            if word in word_counts:\n",
    "                word_counts[word] += 1\n",
    "            else:\n",
    "                word_counts[word] = 1\n",
    "    return word_counts\n",
    "\n",
    "def generate_vocab(word_counts: Dict[str, int], min_freq: int) -> Tuple[Dict[str, int], int]:\n",
    "    \"\"\"\n",
    "    Given a set of word counts, we generate a vocabulary. We return two things\n",
    "    from this method:\n",
    "\n",
    "        1. A dict mapping tokens to indices\n",
    "        2. THe length of the vocab\n",
    "    \n",
    "    Words that occur fewer than `min_freq` are replaced with <UNK>\n",
    "    \"\"\"\n",
    "\n",
    "    sorted_words = sorted(word_counts.items(), key=lambda x: x[1], reverse=True)\n",
    "    vocab = {word: i+3 for i, (word, count) in enumerate(sorted_words) if count > min_freq}\n",
    "    vocab[\"<PAD>\"] = PADDING_IDX\n",
    "    vocab[\"<EOS>\"] = EOS_IDX \n",
    "    vocab[\"<UNK>\"] = UNK_IDX\n",
    "    return vocab, len(vocab)\n"
   ]
  },
  {
   "cell_type": "code",
   "execution_count": 72,
   "metadata": {},
   "outputs": [],
   "source": [
    "# YOU DO NOT NEED ADD ANY CODE IN THIS CELL\n",
    "class IMDBDataset(Dataset):   \n",
    "    def __init__(self, reviews: List[List[str]], sentiments: List[str], min_freq=3, vocab=None):\n",
    "        super().__init__()\n",
    "        \n",
    "        if vocab is None:\n",
    "            word_counts = get_word_counts(reviews)\n",
    "            self.vocab, self.vocab_size = generate_vocab(word_counts, min_freq)\n",
    "        else:\n",
    "            self.vocab = vocab\n",
    "            self.vocab_size = len(vocab)\n",
    "\n",
    "        self.reviews, self.targets = self._get_idx_dataset(reviews, sentiments, self.vocab)\n",
    "        \n",
    "    def __len__(self):\n",
    "        return len(self.targets)\n",
    "    \n",
    "    def __getitem__(self, idx):\n",
    "        return torch.tensor(self.reviews[idx]), torch.tensor(self.targets[idx])\n",
    "\n",
    "    def _get_idx_dataset(self, corpus: List[List[str]], labels: List[str], vocab):\n",
    "        reviews = []\n",
    "        targets = []\n",
    "        for review, label in zip(corpus, labels):\n",
    "            reviews.append([vocab[token] if token in vocab else vocab[\"<UNK>\"] for token in review] + [vocab[\"<EOS>\"]])\n",
    "            targets.append(0.0 if label == \"negative\" else 1.0)\n",
    "        \n",
    "        return reviews, targets"
   ]
  },
  {
   "cell_type": "markdown",
   "metadata": {},
   "source": [
    "<div class='q_yellow'><b>2.2 Instantiate Two Datasets [2 points]</b>\n",
    "    \n",
    "Instantiate two `IMDBDataset`'s, one train and one test, **making sure to use the training vocabulary when instantiating the test dataset** (as this is all our model rightfully knows).\n",
    "\n",
    "</div>"
   ]
  },
  {
   "cell_type": "code",
   "execution_count": 73,
   "metadata": {},
   "outputs": [],
   "source": [
    "# TODO: initialize the following datasets\n",
    "train_ds = IMDBDataset(train_dict['tokenized_reviews'], train_dict['sentiments'])\n",
    "test_ds = IMDBDataset(test_dict['tokenized_reviews'], test_dict['sentiments'])\n",
    "\n",
    "#raise NotImplementedError   # TODO: implement"
   ]
  },
  {
   "cell_type": "markdown",
   "metadata": {},
   "source": [
    "### <div class='q_yellow'><b>2.3 Collation and padding [2 points]</b>\n",
    "\n",
    "Each review is of varying length, but we'd like to combine them together into a single batch (i.e., a 2D matrix, where all data instances are of the same length). So, in order to batch them, we'll need to define a custom collate function which pads them all to the same length. This functionality is the same as in the first homework. However, unlike last time, we'll also need to return a Tensor of labels. Note that since our dataset's `__getitem__()` function returns multiple values (i.e., a Tuple), so our collate function will receive as input a **list of tuples.**\n",
    "\n",
    "</div>"
   ]
  },
  {
   "cell_type": "code",
   "execution_count": 74,
   "metadata": {},
   "outputs": [],
   "source": [
    "def pad_collate_classifier(batch: List[Tuple[torch.tensor, torch.tensor]]) -> Tuple[torch.tensor, torch.tensor]:\n",
    "    batch_tokens = [item[0] for item in batch]\n",
    "    batch_targets = [torch.unsqueeze(item[1],0) for item in batch]\n",
    "    padded_batch = pad_sequence(batch_tokens, batch_first=True, padding_value=PADDING_IDX)\n",
    "    return (padded_batch, torch.stack(batch_targets))"
   ]
  },
  {
   "cell_type": "markdown",
   "metadata": {},
   "source": [
    "<div class='q_yellow'><b>2.4 Instantiating DataLoaders [1 point]</b>\n",
    "\n",
    "Instantiate two `DataLoader` objects, one train and one test, with our custom collate function and with other arguments as appropriate (see the [docs](https://pytorch.org/docs/stable/data.html) for more details).\n",
    "\n",
    "</div>"
   ]
  },
  {
   "cell_type": "code",
   "execution_count": 75,
   "metadata": {},
   "outputs": [],
   "source": [
    "# TODO: intialize the dataloaders\n",
    "train_dl = DataLoader(train_ds, batch_size=32, shuffle=True, drop_last=True, collate_fn=pad_collate_classifier)\n",
    "test_dl = DataLoader(test_ds, batch_size=32, shuffle=False, drop_last=True, collate_fn=pad_collate_classifier)\n",
    "\n",
    "#raise NotImplementedError   # TODO: implement"
   ]
  },
  {
   "cell_type": "code",
   "execution_count": 76,
   "metadata": {},
   "outputs": [
    {
     "name": "stdout",
     "output_type": "stream",
     "text": [
      "(tensor([[ 366,    2, 2209,  ...,    0,    0,    0],\n",
      "        [ 136,   12, 1149,  ...,    0,    0,    0],\n",
      "        [ 115,    3,  203,  ...,    0,    0,    0],\n",
      "        ...,\n",
      "        [  18,   33,    6,  ...,    0,    0,    0],\n",
      "        [ 308,  287, 4289,  ...,    0,    0,    0],\n",
      "        [ 431,    3,  276,  ...,    0,    0,    0]]), tensor([[0.],\n",
      "        [1.],\n",
      "        [0.],\n",
      "        [1.],\n",
      "        [0.],\n",
      "        [1.],\n",
      "        [1.],\n",
      "        [0.],\n",
      "        [0.],\n",
      "        [1.],\n",
      "        [1.],\n",
      "        [0.],\n",
      "        [0.],\n",
      "        [0.],\n",
      "        [0.],\n",
      "        [1.],\n",
      "        [0.],\n",
      "        [1.],\n",
      "        [1.],\n",
      "        [0.],\n",
      "        [0.],\n",
      "        [0.],\n",
      "        [0.],\n",
      "        [1.],\n",
      "        [1.],\n",
      "        [0.],\n",
      "        [1.],\n",
      "        [0.],\n",
      "        [0.],\n",
      "        [1.],\n",
      "        [1.],\n",
      "        [1.]]))\n"
     ]
    }
   ],
   "source": [
    "batch = next(iter(train_dl))\n",
    "print(batch)\n"
   ]
  },
  {
   "cell_type": "markdown",
   "metadata": {},
   "source": [
    "<div class='q_yellow'><b>2.5 The LSTM Encoder [7 points]</b>\n",
    "\n",
    "Now it's time to implement the Encoder class. As usual, we'll extend the `torch.nn.Module` class. Remember that we have to implement the following methods:\n",
    "1. An `__init__()` method which instantializes the `Module` object. Here, we typically save input variables (such as model hyperparameters) and define/instantiate our layers. \n",
    "    - For the LSTM Encoder, we've provided the signature of `__init__()`. \n",
    "    - For simplicity, instantiate a fresh Embedding layer (rather than using existing embeddings)\n",
    "    - No need implement your own LSTM from scratch! For this homework, it suffices to use the PyTorch [LSTM](https://pytorch.org/docs/stable/generated/torch.nn.LSTM.html) class. Be sure to read the docs thoroughly to understand the parameters.\n",
    "\n",
    "2. A `forward()` method which takes as input (1) a batch of data from the `DataLoader`; and (2) the lengths of each sequence in the batch. The `forward()` method returns a tuple of two tensors: (a) the final hidden state (i.e., \"short-term memory\") and (b) the final cell state (i.e., \"long-term memory\") of the LSTM.\n",
    "\n",
    "In your code for `forward()`, you will need to make use of a function that is important for RNNs: the `torch.nn.utils.rnn` method [`pack_padded_sequence`](https://pytorch.org/docs/stable/generated/torch.nn.utils.rnn.pack_padded_sequence.html).  To gain some intuition on what this method is doing, see this [StackOverflow post](https://stackoverflow.com/questions/51030782/why-do-we-pack-the-sequences-in-pytorch/) (especially the diagrams).  There are two reasons why we need `pack_padded_sequence()`:\n",
    "- First, packing saves computation for batch sequences, especially if there is a lot of padding involved. Packing before feeding sequences to an LSTM can speed up computation if there is one sequence in your batch that is much longer than all of the others.\n",
    "- The second, and more important, reason is that packing is used for *extracting the correct hidden state for each element of the batch* after passing the sequence through the LSTM.  Let's say we have $B$ sequences in our batch, and they have lengths $t_1, t_2, \\ldots, t_B$.  The size of `input_seqs` (i.e., the input to `forward()`) will be $B \\times T$, where $T = \\max_{i=1}^B t_i$.  Recall that in LSTMs, a hidden state is generated *for each time step* from $1$ to $T$. However, we want to ensure that for the first element in the batch, we end up extracting the hidden state corresponding to time $t_1$ (and for the second element, $t_2$, and for the third element, $t_3$, etc.). In short, packing helps us achieve this.\n",
    "    \n",
    "</div>\n"
   ]
  },
  {
   "cell_type": "code",
   "execution_count": 77,
   "metadata": {},
   "outputs": [],
   "source": [
    "## ASK WHERE WE SHOULD USE PADDING IDX\n",
    "class EncoderLSTM(nn.Module):\n",
    "    def __init__(self, input_size: int, hidden_size: int, padding_idx: int):\n",
    "        super(EncoderLSTM, self).__init__()\n",
    "        self.input_size = input_size\n",
    "        self.hidden_size = hidden_size\n",
    "        self.padding_idx = padding_idx\n",
    "        self.embeddings = nn.Embedding(input_size, hidden_size)#, padding_idx=self.padding_idx) \n",
    "        self.lstm = nn.LSTM(hidden_size, hidden_size, batch_first=True) ## ASK WHAT TO DO WITH THESE DIMENSIONS\n",
    "        \n",
    "    def forward(self, input_seqs: torch.tensor) -> Tuple[torch.tensor, torch.tensor]:\n",
    "        # Finding the size of \n",
    "        seqs_length = [((t == 0).nonzero(as_tuple=True)[0])[0].item() - 1 if len(((t == 0).nonzero(as_tuple=True)[0])) != 0 else t.shape.numel() for t in input_seqs]\n",
    "        embedding_sequences = self.embeddings(input_seqs)\n",
    "        packed_seq_batch = torch.nn.utils.rnn.pack_padded_sequence(embedding_sequences, lengths=seqs_length, batch_first=True, enforce_sorted=False)\n",
    "        output, (hn, cn) = self.lstm(packed_seq_batch.float()) \n",
    "        return (hn, cn)\n",
    "        "
   ]
  },
  {
   "cell_type": "code",
   "execution_count": 78,
   "metadata": {},
   "outputs": [],
   "source": [
    "# Evaluation cell\n",
    "\n",
    "#LSTM = EncoderLSTM(10, 10, 4)\n",
    "# evaluation cell\n",
    "batch = next(iter(train_dl))\n",
    "model = EncoderLSTM(train_dl.dataset.vocab_size, 100, 4)\n",
    "hidden_cell, final_cell = model(batch[0]) # Alias for model.forward(batch)\n",
    "\n"
   ]
  },
  {
   "cell_type": "code",
   "execution_count": 79,
   "metadata": {},
   "outputs": [
    {
     "data": {
      "text/plain": [
       "torch.Size([1, 32, 100])"
      ]
     },
     "execution_count": 79,
     "metadata": {},
     "output_type": "execute_result"
    }
   ],
   "source": [
    "final_cell.shape"
   ]
  },
  {
   "cell_type": "markdown",
   "metadata": {},
   "source": [
    "<div class='q_yellow'><b>2.6 Binary Classifier [7 points]</b>\n",
    "\n",
    "Now we can use our Encoder class to create a binary classifier! Again, we'll subclass `torch.nn.Module`, and you'll need to implement the `__init__()` and `forward()` methods. \n",
    "\n",
    "Since we've already designed the Encoder, we can use an instance of our LSTM Encoder class here. In particular, we can take the final (hidden, cell) states as features and use them as input to a standard classifier network. We'll leave the particular details up to you here. \n",
    "\n",
    "As this is a binary classifier, you may want to add a final sigmoid output layer to your network. However, best practice is to leave the model without the softmax and instead incorporate it into the loss function (take a look at [`torch.nn.BCEWithLogitsLoss`](https://pytorch.org/docs/stable/generated/torch.nn.BCEWithLogitsLoss.html) and the more general [`torch.nn.CrossEntropyLoss`](https://pytorch.org/docs/stable/generated/torch.nn.CrossEntropyLoss.html)) due to numerical stability improvements from the [log-sum-exp trick](https://gregorygundersen.com/blog/2020/02/09/log-sum-exp/). Thus, your model should output logits (i.e., values *before* softmax), rather than probabilities (i.e., values *after* softmax), and use an appropriate loss function.\n",
    "</div>"
   ]
  },
  {
   "cell_type": "code",
   "execution_count": 80,
   "metadata": {},
   "outputs": [],
   "source": [
    "class BinaryClassifier(nn.Module):\n",
    "    def __init__(self, input_size: int, hidden_size: int, padding_idx: int):\n",
    "        super(BinaryClassifier, self).__init__()\n",
    "        self.input_size = input_size\n",
    "        self.hidden_size = hidden_size\n",
    "        self.padding_idx = padding_idx\n",
    "        \n",
    "        # Number of input features is 12.\n",
    "        self.layer_1 = nn.Linear(self.hidden_size, 128) \n",
    "        self.layer_2 = nn.Linear(128, 128)\n",
    "        self.layer_out = nn.Linear(128, 1) \n",
    "        \n",
    "        self.relu = nn.ReLU()\n",
    "        self.dropout = nn.Dropout(p=0.3)\n",
    "        self.batchnorm1 = nn.BatchNorm1d(32)\n",
    "        self.batchnorm2 = nn.BatchNorm1d(32)\n",
    "        \n",
    "        self.encoder = EncoderLSTM(self.input_size, self.hidden_size, 4)\n",
    "\n",
    "    def forward(self, input_seq):\n",
    "        hidden_cell, final_cell = self.encoder(input_seq)\n",
    "        x = self.layer_1(hidden_cell)\n",
    "        x = self.batchnorm1(x)\n",
    "        x = self.dropout(x)\n",
    "        x = self.relu(x)\n",
    "        x = self.layer_2(x)\n",
    "        x = self.batchnorm2(x)\n",
    "        x = self.dropout(x)\n",
    "        output = self.layer_out(x)\n",
    "        return output"
   ]
  },
  {
   "cell_type": "code",
   "execution_count": 81,
   "metadata": {},
   "outputs": [],
   "source": [
    "# Test cell\n",
    "#batch = next(iter(train_dl))\n",
    "#final_model = BinaryClassifier(train_dl.dataset.vocab_size, 100, 4)\n",
    "#predictions = model(batch[0]) # Alias for model.forward(batch)\n",
    "#predictions"
   ]
  },
  {
   "cell_type": "markdown",
   "metadata": {},
   "source": [
    "<div class='q_yellow'><b>2.7 Train the classifier [9 points]</b>\n",
    "\n",
    "Now, we get to train our classifier! Remember that we'll need to:\n",
    "1. Choose an optimizer. (Adam with default settings works well for us but feel free to experiment!)\n",
    "2. Choose a loss function. (Remember that for classifiers, this should be tied to your model's final, output layer.)\n",
    "3. Write a training loop. (We recommend 10-15 epochs.) **Please compute and print/graph a loss and a classification accuracy for each epoch on both the test and train sets.**\n",
    "    \n",
    "For reference, our solution runs 8 epochs in 7 minutes 25 seconds (on an i7-8650U @ 1.9 GHz).\n",
    "</div>\n",
    "\n"
   ]
  },
  {
   "cell_type": "code",
   "execution_count": 82,
   "metadata": {
    "scrolled": true
   },
   "outputs": [
    {
     "name": "stdout",
     "output_type": "stream",
     "text": [
      "Epoch 1, iteration    11, training loss: 0.830, training accuracy: 53.000\n",
      "Epoch 1, iteration    11, testing accuracy: 84.000\n",
      "Epoch 1, iteration    21, training loss: 0.688, training accuracy: 69.000\n",
      "Epoch 1, iteration    21, testing accuracy: 78.000\n",
      "Epoch 1, iteration    31, training loss: 0.715, training accuracy: 59.000\n",
      "Epoch 1, iteration    31, testing accuracy: 47.000\n",
      "Epoch 2, iteration    11, training loss: 0.706, training accuracy: 66.000\n",
      "Epoch 2, iteration    11, testing accuracy: 75.000\n",
      "Epoch 2, iteration    21, training loss: 0.668, training accuracy: 78.000\n",
      "Epoch 2, iteration    21, testing accuracy: 31.000\n",
      "Epoch 2, iteration    31, training loss: 0.624, training accuracy: 56.000\n",
      "Epoch 2, iteration    31, testing accuracy: 59.000\n",
      "Epoch 3, iteration    11, training loss: 0.647, training accuracy: 53.000\n",
      "Epoch 3, iteration    11, testing accuracy: 59.000\n",
      "Epoch 3, iteration    21, training loss: 0.609, training accuracy: 56.000\n",
      "Epoch 3, iteration    21, testing accuracy: 41.000\n",
      "Epoch 3, iteration    31, training loss: 0.600, training accuracy: 69.000\n",
      "Epoch 3, iteration    31, testing accuracy: 25.000\n",
      "Epoch 4, iteration    11, training loss: 0.641, training accuracy: 69.000\n",
      "Epoch 4, iteration    11, testing accuracy: 38.000\n",
      "Epoch 4, iteration    21, training loss: 0.566, training accuracy: 59.000\n",
      "Epoch 4, iteration    21, testing accuracy: 19.000\n",
      "Epoch 4, iteration    31, training loss: 0.550, training accuracy: 81.000\n",
      "Epoch 4, iteration    31, testing accuracy: 66.000\n",
      "Epoch 5, iteration    11, training loss: 0.495, training accuracy: 81.000\n",
      "Epoch 5, iteration    11, testing accuracy: 56.000\n",
      "Epoch 5, iteration    21, training loss: 0.483, training accuracy: 88.000\n",
      "Epoch 5, iteration    21, testing accuracy: 62.000\n",
      "Epoch 5, iteration    31, training loss: 0.494, training accuracy: 84.000\n",
      "Epoch 5, iteration    31, testing accuracy: 34.000\n",
      "Epoch 6, iteration    11, training loss: 0.665, training accuracy: 69.000\n",
      "Epoch 6, iteration    11, testing accuracy: 72.000\n",
      "Epoch 6, iteration    21, training loss: 0.656, training accuracy: 69.000\n",
      "Epoch 6, iteration    21, testing accuracy: 22.000\n",
      "Epoch 6, iteration    31, training loss: 0.611, training accuracy: 72.000\n",
      "Epoch 6, iteration    31, testing accuracy: 16.000\n",
      "Epoch 7, iteration    11, training loss: 0.590, training accuracy: 84.000\n",
      "Epoch 7, iteration    11, testing accuracy: 47.000\n",
      "Epoch 7, iteration    21, training loss: 0.521, training accuracy: 78.000\n",
      "Epoch 7, iteration    21, testing accuracy: 31.000\n",
      "Epoch 7, iteration    31, training loss: 0.481, training accuracy: 72.000\n",
      "Epoch 7, iteration    31, testing accuracy: 75.000\n",
      "Epoch 8, iteration    11, training loss: 0.449, training accuracy: 81.000\n",
      "Epoch 8, iteration    11, testing accuracy: 62.000\n",
      "Epoch 8, iteration    21, training loss: 0.447, training accuracy: 78.000\n",
      "Epoch 8, iteration    21, testing accuracy: 31.000\n",
      "Epoch 8, iteration    31, training loss: 0.384, training accuracy: 75.000\n",
      "Epoch 8, iteration    31, testing accuracy: 56.000\n",
      "Epoch 9, iteration    11, training loss: 0.391, training accuracy: 88.000\n",
      "Epoch 9, iteration    11, testing accuracy: 47.000\n",
      "Epoch 9, iteration    21, training loss: 0.439, training accuracy: 84.000\n",
      "Epoch 9, iteration    21, testing accuracy: 34.000\n",
      "Epoch 9, iteration    31, training loss: 0.364, training accuracy: 84.000\n",
      "Epoch 9, iteration    31, testing accuracy: 59.000\n",
      "Epoch 10, iteration    11, training loss: 0.383, training accuracy: 88.000\n",
      "Epoch 10, iteration    11, testing accuracy: 66.000\n",
      "Epoch 10, iteration    21, training loss: 0.389, training accuracy: 84.000\n",
      "Epoch 10, iteration    21, testing accuracy: 31.000\n",
      "Epoch 10, iteration    31, training loss: 0.336, training accuracy: 91.000\n",
      "Epoch 10, iteration    31, testing accuracy: 59.000\n",
      "Epoch 11, iteration    11, training loss: 0.337, training accuracy: 94.000\n",
      "Epoch 11, iteration    11, testing accuracy: 62.000\n",
      "Epoch 11, iteration    21, training loss: 0.306, training accuracy: 94.000\n",
      "Epoch 11, iteration    21, testing accuracy: 34.000\n",
      "Epoch 11, iteration    31, training loss: 0.393, training accuracy: 97.000\n",
      "Epoch 11, iteration    31, testing accuracy: 62.000\n",
      "Epoch 12, iteration    11, training loss: 0.351, training accuracy: 72.000\n",
      "Epoch 12, iteration    11, testing accuracy: 56.000\n",
      "Epoch 12, iteration    21, training loss: 0.313, training accuracy: 100.000\n",
      "Epoch 12, iteration    21, testing accuracy: 38.000\n",
      "Epoch 12, iteration    31, training loss: 0.328, training accuracy: 91.000\n",
      "Epoch 12, iteration    31, testing accuracy: 81.000\n",
      "Epoch 13, iteration    11, training loss: 0.255, training accuracy: 97.000\n",
      "Epoch 13, iteration    11, testing accuracy: 72.000\n",
      "Epoch 13, iteration    21, training loss: 0.309, training accuracy: 81.000\n",
      "Epoch 13, iteration    21, testing accuracy: 41.000\n",
      "Epoch 13, iteration    31, training loss: 0.214, training accuracy: 84.000\n",
      "Epoch 13, iteration    31, testing accuracy: 41.000\n",
      "Epoch 14, iteration    11, training loss: 0.291, training accuracy: 94.000\n",
      "Epoch 14, iteration    11, testing accuracy: 69.000\n",
      "Epoch 14, iteration    21, training loss: 0.253, training accuracy: 97.000\n",
      "Epoch 14, iteration    21, testing accuracy: 50.000\n",
      "Epoch 14, iteration    31, training loss: 0.273, training accuracy: 94.000\n",
      "Epoch 14, iteration    31, testing accuracy: 47.000\n",
      "Epoch 15, iteration    11, training loss: 0.225, training accuracy: 84.000\n",
      "Epoch 15, iteration    11, testing accuracy: 47.000\n",
      "Epoch 15, iteration    21, training loss: 0.172, training accuracy: 94.000\n",
      "Epoch 15, iteration    21, testing accuracy: 34.000\n",
      "Epoch 15, iteration    31, training loss: 0.145, training accuracy: 100.000\n",
      "Epoch 15, iteration    31, testing accuracy: 72.000\n",
      "Finished Training\n",
      "CPU times: user 3min 56s, sys: 5.09 s, total: 4min 1s\n",
      "Wall time: 1min\n"
     ]
    }
   ],
   "source": [
    "%%time \n",
    "\n",
    "final_model = BinaryClassifier(train_dl.dataset.vocab_size, 200, 4)\n",
    "\n",
    "from torch.optim import Adam\n",
    "from torch.nn import BCEWithLogitsLoss\n",
    "\n",
    "def binary_acc(y_pred, y_test):\n",
    "    y_pred_tag = torch.round(torch.sigmoid(y_pred))\n",
    "\n",
    "    correct_results_sum = (y_pred_tag == y_test).sum().float()\n",
    "    acc = correct_results_sum/y_test.shape[0]\n",
    "    acc = torch.round(acc * 100)\n",
    "    \n",
    "    return acc\n",
    "\n",
    "# TODO: train the model!\n",
    "loss_function = BCEWithLogitsLoss()\n",
    "optimizer =  Adam(final_model.parameters(), lr=0.001, weight_decay=1e-5)\n",
    "epochs = 15\n",
    "\n",
    "for epoch in range(epochs):\n",
    "    running_loss = 0.0\n",
    "    for i, (train_batch, test_batch) in enumerate(zip(train_dl,test_dl)):\n",
    "        word_seq, targets = train_batch\n",
    "        test_word_seq, test_targets = test_batch\n",
    "        \n",
    "        logit_output = torch.squeeze(final_model(word_seq), 0)\n",
    "        loss = loss_function(logit_output, targets)\n",
    "        training_acc = binary_acc(logit_output, targets)\n",
    "        \n",
    "        optimizer.zero_grad()\n",
    "        loss.backward()\n",
    "        optimizer.step()\n",
    "        \n",
    "        running_loss += loss.item()\n",
    "        if i % 10 == 0 and i > 0:\n",
    "            print('Epoch %d, iteration %5d, training loss: %.3f, training accuracy: %.3f' %\n",
    "                  (epoch + 1, i + 1, running_loss/10, training_acc))\n",
    "            test_logit_output = torch.squeeze(final_model(test_word_seq), 0)\n",
    "            testing_acc = binary_acc(test_logit_output, test_targets)\n",
    "            print('Epoch %d, iteration %5d, testing accuracy: %.3f' %\n",
    "                  (epoch + 1, i + 1, testing_acc))\n",
    "            running_loss = 0.0\n",
    "    \n",
    "print(\"Finished Training\")\n",
    "\n",
    "#print(preds, targets)\n",
    "#print(preds.shape, targets.shape)"
   ]
  },
  {
   "cell_type": "markdown",
   "metadata": {},
   "source": [
    "<div class='q_yellow'><b>2.8 Explore the model [2 points]</b>\n",
    "    \n",
    "Congrats on training your model! Hopefully you see meaningful results on a macroscopic scale (in terms of training/test loss). Now, let's explore our model from a more _microscopic_ perspective. **Please display three sentences** in the test set that (a) were classified correctly by your model and (b) were classified incorrectly **(for a grand total of 6 sentences)**. Do you notice anything interesting about these sentences that could help explain why the model classified them correctly or incorrectly? (Note: There is no particular, exact answer we are looking for here; rather, we are just looking to see if you say something reasonable, justifying, and plausible.)"
   ]
  },
  {
   "cell_type": "code",
   "execution_count": null,
   "metadata": {},
   "outputs": [],
   "source": [
    "# TODO: explore your trained model!"
   ]
  },
  {
   "cell_type": "markdown",
   "metadata": {},
   "source": [
    "<div class=\"header_yellow\"> \n",
    "    \n",
    "# Machine Translation \n",
    "    \n",
    "</div>\n",
    "</br>\n",
    "\n",
    "Now that we've warmed up by implementing a sentiment analysis model, we're reading to try a new task: machine translation. Fortunately, we can re-use some of your work from the previous part! We now want to add a Decoder component to your architecture to perform sequence-to-sequence translation. \n",
    "\n",
    "Why are we doing machine translation? As we mentioned at the beginning of this notebook, your task is to help save the day by determining which language the Dark Web hackers are speaking. That is, we've obtained some text from them which seems non-sensical. However, the investigators currently suspect it's either Danish, English, German, Finnish, or Spanish.\n",
    "\n",
    "Your first task is to assume it's English and to see how well you can translate from a bunch of their \"noisy\" data to English (we were fortunate to have a parallel corpus that includes the exact English equivalent of their noisy data).\n",
    "\n",
    "The investigation includes some amazing linguists who were able to also provide parallel corpora for all other languages mentioned above. So, your second task is to consider each of these languages as the true \"source\" language, and aim to translate each to the \"noisy\" target (aka mystery language) that the hackers have been communicating with.\n",
    "\n",
    "Best of luck!\n",
    "\n",
    "Pictured below is our only footage of the suspects:\n",
    "\n",
    "<img src=\"images/hackers1.png\" width=\"400\"><img src=\"images/hackers2.png\" width=\"400\"> (Fun Fact: movie star Angelina Jolie was in this movie, Hackers (1995))"
   ]
  },
  {
   "cell_type": "markdown",
   "metadata": {},
   "source": [
    "### Data\n",
    "Like before, we have provided pre-tokenized data for you to use. The data\n",
    "files consist of a train set `mt_train_sentences.pkl`, a validation set `mt_val_sentences.pkl`, and a test set `mt_test_sentences.pkl`, \n",
    "with corresponding lists of examples from all six languages:\n",
    "\n",
    "- Danish\n",
    "- English\n",
    "- German\n",
    "- Finnish\n",
    "- Spanish\n",
    "- Mystery langauge\n",
    "\n",
    "\n",
    "The file is formatted as:\n",
    "\n",
    "```\n",
    "{\n",
    "    'danish': [\n",
    "        [token token token ...],\n",
    "        [token token token ...],\n",
    "        ...\n",
    "    ]\n",
    "    'english': [\n",
    "        [token token token ...],\n",
    "        [token token token ...],\n",
    "        ...\n",
    "    ],\n",
    "    'mystery': [\n",
    "        [token token token ...],\n",
    "        [token token token ...],\n",
    "        ...\n",
    "    ],\n",
    "    # etc\n",
    "}\n",
    "```\n",
    "\n",
    "The key indicates the source language, and the $n$-th sentence (`[token token token ...]`) in each list are parallel translations in one of the six languages.\n",
    "\n",
    "Again, in short, your tasks are to:\n",
    "\n",
    "**(a)** train your model on the mystery -> English corpus;\n",
    "\n",
    "**(b)** train your model on each of the five pairings:\n",
    "-  Danish -> Mystery\n",
    "-  English -> Mystery\n",
    "-  German -> Mystery\n",
    "-  Finnish -> Mystery\n",
    "-  Spanish -> Mystery\n",
    "\n",
    "**Note:** these pairings are the reverse of what you did in part **a**. This is because it's natural to view the Mystery language as being the denoised version of the true, \"source\" language. So, we wish to model the mapping from the original source to this denoised version.\n",
    "\n",
    "**(c)** use the results to figure out the identity of the original mystery language you've been given.\n",
    "\n",
    "**Note:** we've randomly assigned mystery languages to each student, so your\n",
    "friend's language will not match up with your own."
   ]
  },
  {
   "cell_type": "markdown",
   "metadata": {},
   "source": [
    "<div class='q_yellow'><b>2.9 Process translation data [2 points]</b>\n",
    "    \n",
    "In the cell below, we provide pre-processing code to load in each dataset and build in its dataloader. \n",
    "Almost everything is given to you *except* the collate function, which you will\n",
    "have to implement in the same style as the previous part, but now adapted for\n",
    "seq2seq translation.\n",
    "\n",
    "Please spend some time reading through the code and playing around with the objects to make sure you understand them.  For example, we recommend that you explore a few batches in each dataloader to understand what will be fed to the model.  Recall that you can generate a batch from any dataloader `dl` with `next(iter(dl))`. \n",
    "    \n",
    "</div>"
   ]
  },
  {
   "cell_type": "code",
   "execution_count": 94,
   "metadata": {},
   "outputs": [],
   "source": [
    "with open(\"data/mt_train_sentences.pkl\", \"rb\") as f:\n",
    "    train_dict = pickle.load(f)\n",
    "\n",
    "with open(\"data/mt_val_sentences.pkl\", \"rb\") as f:\n",
    "    val_dict = pickle.load(f)\n",
    "\n",
    "with open(\"data/mt_test_sentences.pkl\", \"rb\") as f:\n",
    "    test_dict = pickle.load(f)\n",
    "\n",
    "class TranslationDataset(Dataset):   \n",
    "    def __init__(self, source: List[List[str]], target: List[List[str]], min_freq=3, source_vocab=None, target_vocab=None):\n",
    "        super().__init__()\n",
    "        \n",
    "        if source_vocab is None and target_vocab is None:\n",
    "            self.source_vocab, self.source_vocab_size = generate_vocab(get_word_counts(source), min_freq)\n",
    "            self.target_vocab, self.target_vocab_size = generate_vocab(get_word_counts(target), min_freq)\n",
    "        else:\n",
    "            self.source_vocab = source_vocab\n",
    "            self.source_vocab_size = len(source_vocab)\n",
    "\n",
    "            self.target_vocab = target_vocab\n",
    "            self.target_vocab_size = len(target_vocab)\n",
    "\n",
    "        self.source, self.target = self._get_idx_dataset(source, target, self.source_vocab, self.target_vocab)\n",
    "        \n",
    "    def __len__(self):\n",
    "        return len(self.target)\n",
    "    \n",
    "    def __getitem__(self, idx):\n",
    "        return torch.tensor(self.source[idx]), torch.tensor(self.target[idx])\n",
    "\n",
    "    def _get_idx_dataset(self, source: List[List[str]], target: List[List[str]], source_vocab: Dict[str, int], target_vocab: Dict[str, int]):\n",
    "        source_toks = []\n",
    "        target_toks = []\n",
    "\n",
    "        for src, tar in zip(source, target):\n",
    "            source_toks.append([source_vocab[token] if token in source_vocab else source_vocab[\"<UNK>\"] for token in src] + [source_vocab[\"<EOS>\"]])\n",
    "            target_toks.append([target_vocab[\"<EOS>\"]] + [target_vocab[token] if token in target_vocab else target_vocab[\"<UNK>\"] for token in tar] + [target_vocab[\"<EOS>\"]])\n",
    "        \n",
    "        return source_toks, target_toks\n",
    "\n",
    "train_ds = TranslationDataset(train_dict[\"mystery\"], train_dict[\"english\"])\n",
    "test_ds = TranslationDataset(test_dict[\"mystery\"], test_dict[\"english\"], source_vocab=train_ds.source_vocab, target_vocab=train_ds.target_vocab)\n",
    "val_ds = TranslationDataset(val_dict[\"mystery\"], val_dict[\"english\"], source_vocab=train_ds.source_vocab, target_vocab=train_ds.target_vocab)\n",
    "\n",
    "# TODO: implement this padding function\n",
    "# ASK IF BASICALLY WE NEED TO PAD BOTH TENSORS in batch[0] to be of the same size or do we need to patch all \n",
    "# tensors in batch[0] (for all 32 entries) \n",
    "def pad_collate(batch: List[Tuple[torch.tensor, torch.tensor]]) -> Tuple[torch.tensor, torch.tensor]:\n",
    "    #import pdb\n",
    "    #pdb.set_trace()\n",
    "    batch_source_lang = [item[0] for item in batch]\n",
    "    batch_target_lang = [item[1] for item in batch]\n",
    "    padded_source_lang = pad_sequence(batch_source_lang, batch_first=True, padding_value=PADDING_IDX)\n",
    "    padded_target_lang = pad_sequence(batch_target_lang, batch_first=True, padding_value=PADDING_IDX)\n",
    "    return (padded_source_lang, padded_target_lang)\n",
    "    \n",
    "train_dl = DataLoader(train_ds, collate_fn=pad_collate, num_workers=0, shuffle=True, batch_size=32)\n",
    "test_dl = DataLoader(test_ds, collate_fn=pad_collate, num_workers=0, shuffle=True, batch_size=32)\n",
    "val_dl = DataLoader(val_ds, collate_fn=pad_collate, num_workers=0, shuffle=True, batch_size=32)"
   ]
  },
  {
   "cell_type": "code",
   "execution_count": 95,
   "metadata": {},
   "outputs": [
    {
     "name": "stdout",
     "output_type": "stream",
     "text": [
      "torch.Size([32, 49])\n",
      "torch.Size([32, 14])\n"
     ]
    }
   ],
   "source": [
    "batch = next(iter(train_dl))\n",
    "print(batch[0].shape)\n",
    "print(batch[1].shape)\n"
   ]
  },
  {
   "cell_type": "markdown",
   "metadata": {},
   "source": [
    "<div class='q_yellow'><b>2.10 The LSTM Decoder [8 points]</b>\n",
    "    \n",
    "We are going to build a sequence-to-sequence (seq2seq) translation system.  Our seq2seq will have two major components: (1) an encoder that maps a source sentence to a tuple of (hidden, cell) vectors and (2) a decoder that uses the (hidden, cell) vectors to generate a translation.  The good news is that the encoder has already been implemented for you -- that is, you did it yourself in the previous problem!  We can simply reuse the `EncoderLSTM` that you used for the text classifier as our encoder; part of the point of this exercise is to illustrate that deep learning enables the use of common architectures for NLP problems that are quite different from one another (e.g. text classification vs. machine translation).\n",
    "\n",
    "Thus, our next task is to build the `DecoderLSTM` object.  Like the `EncoderLSTM`, there are two main functions to implement:\n",
    "- `__init__()`: Defines the layers of our network.  We will need an `Embedding` layer to encode the target vocabulary as vectors and an `LSTM` layer for decoding our target words.\n",
    "- `forward()`: Takes three arguments -- (a) the `input_seqs` of the target (i.e. a batch size x sequence length tensor), (b) `hidden_init`, the last hidden state of the encoder, and (c) `cell_init`, the last cell state of the encoder.  This function will return a tuple of three tensors -- (a) the hidden states of the LSTM for all time steps, (b) the final hidden state of the LSTM, and (c) the final cell state of the LSTM.\n",
    "\n",
    "Before moving on to the next section, we recommend testing your `forward()` function with randomly generated inputs (try  `torch.randint` for integer tensors and `torch.randn` for float/decimal tensors) to make sure it works without error.\n",
    "\n",
    "</div>"
   ]
  },
  {
   "cell_type": "code",
   "execution_count": 106,
   "metadata": {},
   "outputs": [],
   "source": [
    "class DecoderLSTM(nn.Module):\n",
    "    def __init__(self, input_size: int, hidden_size: int, padding_idx: int):\n",
    "        super(DecoderLSTM, self).__init__()\n",
    "        self.input_size = input_size\n",
    "        self.hidden_size = hidden_size\n",
    "        self.padding_idx = padding_idx\n",
    "        self.embeddings = nn.Embedding(input_size, hidden_size)#, padding_idx=self.padding_idx) \n",
    "        self.decoder_lstm = nn.LSTM(hidden_size, hidden_size, batch_first=True) ## ASK WHAT TO DO WITH THESE DIMENSIONS\n",
    "        \n",
    "\n",
    "    def forward(\n",
    "        self, \n",
    "        input_seqs: torch.tensor, \n",
    "        hidden_init: torch.tensor, \n",
    "        cell_init: torch.tensor\n",
    "    ) -> Tuple[torch.tensor, torch.tensor, torch.tensor]:\n",
    "        embedding_sequences = self.embeddings(input_seqs)\n",
    "        output, (hn, cn) = self.decoder_lstm(embedding_sequences, (hidden_init, cell_init))\n",
    "        return (output, hn, cn)"
   ]
  },
  {
   "cell_type": "code",
   "execution_count": 158,
   "metadata": {},
   "outputs": [
    {
     "data": {
      "text/plain": [
       "(tensor([[[ 9.7466e-02,  1.3879e-01,  3.3824e-02,  ..., -2.3527e-01,\n",
       "           -6.3303e-02,  3.8441e-02],\n",
       "          [ 1.9270e-01,  1.1737e-01,  1.1787e-01,  ..., -1.7956e-01,\n",
       "           -2.0600e-02, -1.3967e-01],\n",
       "          [ 8.3197e-03,  1.2588e-01, -9.2285e-02,  ..., -1.3121e-01,\n",
       "           -2.4143e-01, -2.5686e-01],\n",
       "          ...,\n",
       "          [ 2.5136e-01,  3.3572e-02,  4.2948e-02,  ..., -1.1701e-01,\n",
       "           -4.7028e-02,  1.6899e-01],\n",
       "          [ 2.1402e-01,  5.4770e-02,  5.2902e-02,  ...,  2.6469e-02,\n",
       "            9.5703e-03,  1.5363e-01],\n",
       "          [ 2.4577e-01,  1.0219e-01,  3.5496e-02,  ..., -1.8070e-01,\n",
       "           -7.4353e-02,  5.5725e-02]],\n",
       " \n",
       "         [[ 1.3592e-02, -7.2357e-03, -3.7920e-04,  ..., -2.3581e-01,\n",
       "           -1.1418e-01, -5.3586e-02],\n",
       "          [-3.7684e-02,  1.6917e-01, -3.6633e-01,  ..., -1.7630e-01,\n",
       "            9.3256e-02, -2.1525e-01],\n",
       "          [-5.4447e-02,  3.7828e-03, -3.8649e-01,  ..., -1.3339e-01,\n",
       "           -1.8628e-01, -2.5810e-01],\n",
       "          ...,\n",
       "          [-1.0835e-01,  2.9135e-02, -1.4236e-01,  ...,  2.4083e-02,\n",
       "            2.9308e-01,  1.5508e-01],\n",
       "          [-1.6173e-01,  3.4990e-02, -1.4350e-01,  ...,  5.4101e-02,\n",
       "            3.2313e-01,  2.5207e-01],\n",
       "          [-1.8944e-01,  4.0714e-02, -1.4073e-01,  ...,  6.1404e-02,\n",
       "            3.3365e-01,  3.1214e-01]],\n",
       " \n",
       "         [[-8.1178e-02,  1.0785e-01,  5.3850e-02,  ..., -2.2673e-01,\n",
       "           -1.6620e-01, -6.4599e-02],\n",
       "          [ 2.8361e-02, -5.6591e-02,  2.4018e-02,  ..., -1.1598e-01,\n",
       "           -5.2269e-03,  2.8552e-02],\n",
       "          [-5.4249e-02, -8.5384e-02, -1.5193e-01,  ..., -1.1986e-01,\n",
       "           -2.4312e-01, -2.1527e-01],\n",
       "          ...,\n",
       "          [-3.7000e-03, -5.6737e-03, -6.0387e-02,  ..., -4.3509e-02,\n",
       "           -2.3927e-03, -5.3247e-02],\n",
       "          [ 1.4026e-01,  2.1128e-02, -3.6353e-02,  ..., -2.1516e-01,\n",
       "           -8.3055e-02, -6.6833e-02],\n",
       "          [-1.2908e-02,  1.2860e-02, -1.1613e-01,  ..., -2.4388e-02,\n",
       "            1.9232e-01,  6.6574e-03]],\n",
       " \n",
       "         ...,\n",
       " \n",
       "         [[ 6.5864e-02, -1.8062e-02, -5.7470e-02,  ..., -2.2327e-01,\n",
       "           -1.5374e-01,  4.0568e-02],\n",
       "          [-1.6737e-02,  1.6974e-01, -3.7789e-01,  ..., -1.7431e-01,\n",
       "            4.0377e-02, -1.7337e-01],\n",
       "          [-3.1961e-02,  7.5652e-03, -3.9262e-01,  ..., -1.2912e-01,\n",
       "           -2.0169e-01, -2.4241e-01],\n",
       "          ...,\n",
       "          [ 4.6885e-02,  8.5588e-02, -2.9093e-01,  ..., -7.2823e-02,\n",
       "           -3.6715e-02, -1.4416e-01],\n",
       "          [ 1.7291e-03,  1.3561e-01, -9.7679e-02,  ..., -9.0094e-02,\n",
       "           -5.7962e-03, -1.3489e-01],\n",
       "          [ 1.3736e-01,  1.7405e-01, -3.6148e-02,  ..., -2.8081e-01,\n",
       "           -9.3158e-02, -7.9627e-02]],\n",
       " \n",
       "         [[ 2.0895e-01,  6.1647e-02, -5.3981e-02,  ..., -2.0751e-01,\n",
       "           -1.6899e-01, -8.5850e-02],\n",
       "          [ 3.3299e-02,  2.0249e-01, -3.7674e-01,  ..., -1.3779e-01,\n",
       "            3.0407e-02, -2.1893e-01],\n",
       "          [-9.0952e-03,  5.1773e-02, -3.8873e-01,  ..., -9.3207e-02,\n",
       "           -2.0166e-01, -2.5318e-01],\n",
       "          ...,\n",
       "          [ 1.2877e-01, -7.9471e-02, -2.4601e-01,  ..., -1.5459e-01,\n",
       "           -2.1110e-01, -1.8786e-02],\n",
       "          [ 2.0680e-01, -2.0203e-02, -1.0967e-01,  ..., -2.6357e-01,\n",
       "           -1.9443e-01, -3.3907e-02],\n",
       "          [ 2.6093e-02,  2.7102e-02, -1.5002e-01,  ..., -7.3580e-02,\n",
       "            1.6163e-01,  6.1635e-02]],\n",
       " \n",
       "         [[ 2.3677e-01,  8.9791e-02, -3.4938e-02,  ..., -2.8827e-01,\n",
       "           -1.9819e-01, -1.2217e-01],\n",
       "          [ 4.1663e-02,  2.1753e-01, -3.7851e-01,  ..., -2.1500e-01,\n",
       "            1.8922e-02, -2.3910e-01],\n",
       "          [-7.8175e-03,  7.9202e-02, -3.9527e-01,  ..., -1.6370e-01,\n",
       "           -2.1031e-01, -2.6367e-01],\n",
       "          ...,\n",
       "          [-1.1870e-01,  7.9705e-03, -1.3527e-01,  ...,  1.6852e-02,\n",
       "            2.8487e-01,  1.4227e-01],\n",
       "          [-1.6542e-01,  2.2608e-02, -1.4093e-01,  ...,  4.8911e-02,\n",
       "            3.1900e-01,  2.3350e-01],\n",
       "          [-1.9018e-01,  3.3830e-02, -1.4051e-01,  ...,  5.7564e-02,\n",
       "            3.3216e-01,  2.9402e-01]]], grad_fn=<TransposeBackward0>),\n",
       " tensor([[[ 0.2458,  0.1022,  0.0355,  ..., -0.1807, -0.0744,  0.0557],\n",
       "          [-0.1894,  0.0407, -0.1407,  ...,  0.0614,  0.3337,  0.3121],\n",
       "          [-0.0129,  0.0129, -0.1161,  ..., -0.0244,  0.1923,  0.0067],\n",
       "          ...,\n",
       "          [ 0.1374,  0.1741, -0.0361,  ..., -0.2808, -0.0932, -0.0796],\n",
       "          [ 0.0261,  0.0271, -0.1500,  ..., -0.0736,  0.1616,  0.0616],\n",
       "          [-0.1902,  0.0338, -0.1405,  ...,  0.0576,  0.3322,  0.2940]]],\n",
       "        grad_fn=<StackBackward>),\n",
       " tensor([[[ 0.5386,  0.1421,  0.0864,  ..., -0.3692, -0.1535,  0.1565],\n",
       "          [-0.4960,  0.1195, -0.3255,  ...,  0.1450,  0.9485,  0.4615],\n",
       "          [-0.0308,  0.0391, -0.2760,  ..., -0.0604,  0.4776,  0.0096],\n",
       "          ...,\n",
       "          [ 0.2855,  0.2359, -0.0926,  ..., -0.5719, -0.1869, -0.2417],\n",
       "          [ 0.0621,  0.0798, -0.3493,  ..., -0.1936,  0.3871,  0.0900],\n",
       "          [-0.4995,  0.0994, -0.3260,  ...,  0.1357,  0.9485,  0.4292]]],\n",
       "        grad_fn=<StackBackward>))"
      ]
     },
     "execution_count": 158,
     "metadata": {},
     "output_type": "execute_result"
    }
   ],
   "source": [
    "encoder_model = EncoderLSTM(train_dl.dataset.source_vocab_size, 100, 4)\n",
    "hidden_cell, final_cell = model(batch[0]) # Alias for model.forward(batch)\n",
    "decoder_model = DecoderLSTM(train_dl.dataset.target_vocab_size, 100, 4)\n",
    "decoder_model(batch[1], hidden_cell, final_cell)\n",
    "#batch"
   ]
  },
  {
   "cell_type": "markdown",
   "metadata": {},
   "source": [
    "<div class='q_yellow'><b>2.11 The Seq2Seq model [14 points] </b>\n",
    "    \n",
    "Now comes the fun part: putting everything together!  Using our `EncoderLSTM` and `DecoderLSTM` blocks, let's implement the `Seq2Seq` model below.  There are three main functions to implement:\n",
    "- `__init__()`: Initializing the `Seq2Seq2` model.  You will need three blocks -- the `EncoderLSTM`, the `DecoderLSTM`, and a `Linear` projection layer to map hidden states of the decoder to the target vocabulary for word prediction.  This final projection layer should be something very familiar to you -- i.e. it serves the same role as the final projection layer in `CBOW` (word2vec) from Homework #1.\n",
    "- `forward()`: This function will be used for training the model.  Machine translation models are typically trained with a concept call *teacher forcing*, in which the ground-truth tokens from the true target translation (dubbed the \"teacher\") are used as context to predict the next word.  Let $B$ be the batch size, $T_i$ be the sequence length for the input sequence, $T_o$ be the sequence length for the output sequence, $V_o$ be the size of the output vocabulary, and $M_o$ be the number of non-pad tokens in `output_seqs`.  Our `forward()` function will take a $B \\times T_i$ `input_seqs` tensor and its corresponding target translation, the $B \\times T_o$ `output_seqs` tensor, and return a tuple of (1) a flattened predictions tensor `preds` of size $M_o \\times V_o$ and (2) a flattened target words tensor `targs` of length $M_o$ (Note: `targs` should not contain any padding indices).   \n",
    "- `generate()`: Recall that in machine translation, training is very different from inference.  In training, we use the `forward()` function to train the model with *teacher forcing*.  However, at inference time, we don't know what the true translation is, so the model must generate the entire target sequence from scratch.  It can do this by first encoding the source sequence with the encoder and then passing the EOS token to the decoder/output_layer to get a probability distribution for the first word.  Then, it can take the most likely token from this probability distribution as the next word.  We can then feed this next word back into the decoder to get the next word after that, until our model generates the EOS token again, telling us the translation is finished.  This is the logic you will implement in the `generate()` function.  For ease of implementation, we won't batch this function.  That is, the argument `source` will be a 1D tensor of size $t_i$ and you will return a 1D translation tensor with maximium length `max_steps`.\n",
    "    \n",
    "</div>"
   ]
  },
  {
   "cell_type": "code",
   "execution_count": 165,
   "metadata": {},
   "outputs": [],
   "source": [
    "# Helper function \n",
    "def flatten_tensors(context: torch.tensor, target: torch.tensor, padding_idx: int) -> Tuple[torch.tensor, torch.tensor]:\n",
    "    trimmed_contexts = []\n",
    "    trimmed_targets = []\n",
    "    for pair in zip(context, target):\n",
    "        curr_context = pair[0]\n",
    "        curr_target = pair[1]\n",
    "        #ctxt_boolean_mask = ((curr_context == padding_idx).nonzero(as_tuple=True)[0])\n",
    "        targ_boolean_mask = ((curr_target == padding_idx).nonzero(as_tuple=True)[0])\n",
    "        if targ_boolean_mask.numel() > 0:\n",
    "            first_pad_idx_targ = targ_boolean_mask.min(dim=0).values.item()\n",
    "            first_pad_idx_ctxt = first_pad_idx_targ\n",
    "        else:\n",
    "            first_pad_idx_targ = len(curr_target)\n",
    "            first_pad_idx_ctxt = first_pad_idx_targ\n",
    "        cutting_idx = min(first_pad_idx_ctxt, first_pad_idx_targ)\n",
    "        trimmed_contexts.append(curr_context[:cutting_idx, :])\n",
    "        trimmed_targets.append(curr_target[:cutting_idx])\n",
    "    target = torch.cat(trimmed_targets, dim=0)\n",
    "    context = torch.cat(trimmed_contexts, dim=0)\n",
    "    return context, target\n",
    "\n",
    "class Seq2Seq(nn.Module):\n",
    "    def __init__(self, input_vocab_size: int, output_vocab_size: int, hidden_size: int, padding_idx: int):\n",
    "        super().__init__()\n",
    "        self.input_vocab_size = input_vocab_size\n",
    "        self.output_vocab_size = output_vocab_size\n",
    "        self.hidden_size = hidden_size\n",
    "        self.padding_idx = padding_idx\n",
    "        self.encoder = EncoderLSTM(input_vocab_size, hidden_size, padding_idx)\n",
    "        self.decoder = DecoderLSTM(output_vocab_size, hidden_size, padding_idx)\n",
    "        self.linear = nn.Linear(hidden_size, output_vocab_size)\n",
    "        \n",
    "    def forward(self, input_seqs: torch.tensor, output_seqs: torch.tensor) -> Tuple[torch.tensor, torch.tensor]:\n",
    "        enc_hidden_cell, enc_final_cell = self.encoder(input_seqs)\n",
    "        hidden_states, dec_final_hidden_state, dec_final_cell = self.decoder(output_seqs, enc_hidden_cell, enc_final_cell)\n",
    "        flatten_hidden_states, flatten_targs = flatten_tensors(hidden_states, output_seqs, self.padding_idx)\n",
    "        out = self.linear(flatten_hidden_states)\n",
    "        log_probs_2 = torch.nn.functional.log_softmax(out, dim=1)\n",
    "        return log_probs_2, flatten_targs\n",
    "        \n",
    "    @torch.no_grad()\n",
    "    def generate(self, source: torch.tensor, max_steps: int, eos_idx: int) -> torch.tensor:\n",
    "        translation = []\n",
    "        translation.append(eos_idx)\n",
    "        source = torch.unsqueeze(source,0)\n",
    "        enc_hidden_cell, enc_final_cell = self.encoder(source)\n",
    "        blown_eos_idx = torch.unsqueeze(torch.unsqueeze(torch.tensor(eos_idx), 0), 0)\n",
    "        hidden_states, dec_final_hidden_state, dec_final_cell = self.decoder(blown_eos_idx, enc_hidden_cell, enc_final_cell)\n",
    "        flatten_hidden_states, flatten_targs = flatten_tensors(hidden_states, blown_eos_idx, self.padding_idx)\n",
    "        out = self.linear(flatten_hidden_states)\n",
    "        for i in range(1, max_steps):\n",
    "            next_idx = torch.argmax(torch.tensor(out))\n",
    "            translation.append(next_idx.item())\n",
    "            if next_idx == eos_idx:\n",
    "                break\n",
    "            blown_next_idx = torch.unsqueeze(torch.unsqueeze(torch.tensor(next_idx), 0), 0)\n",
    "            hidden_states, dec_final_hidden_state, dec_final_cell = self.decoder(blown_next_idx, enc_hidden_cell, enc_final_cell)\n",
    "            flatten_hidden_states, flatten_targs = flatten_tensors(hidden_states, blown_next_idx, self.padding_idx)\n",
    "            out = self.linear(flatten_hidden_states)\n",
    "        return translation\n",
    "        "
   ]
  },
  {
   "cell_type": "code",
   "execution_count": 166,
   "metadata": {},
   "outputs": [
    {
     "name": "stderr",
     "output_type": "stream",
     "text": [
      "<ipython-input-165-21f58c1552c3>:53: UserWarning: To copy construct from a tensor, it is recommended to use sourceTensor.clone().detach() or sourceTensor.clone().detach().requires_grad_(True), rather than torch.tensor(sourceTensor).\n",
      "  next_idx = torch.argmax(torch.tensor(out))\n",
      "<ipython-input-165-21f58c1552c3>:57: UserWarning: To copy construct from a tensor, it is recommended to use sourceTensor.clone().detach() or sourceTensor.clone().detach().requires_grad_(True), rather than torch.tensor(sourceTensor).\n",
      "  blown_next_idx = torch.unsqueeze(torch.unsqueeze(torch.tensor(next_idx), 0), 0)\n"
     ]
    },
    {
     "data": {
      "text/plain": [
       "[0, 946, 527]"
      ]
     },
     "execution_count": 166,
     "metadata": {},
     "output_type": "execute_result"
    }
   ],
   "source": [
    "seq2seq = Seq2Seq(train_dl.dataset.source_vocab_size, train_dl.dataset.target_vocab_size, 100, 4)\n",
    "batch = next(iter(train_dl))\n",
    "log_probs, targs = seq2seq(batch[0], batch[1])\n",
    "#print(batch[0])\n",
    "seq2seq.generate(torch.tensor([1,34,2,4]), 3, 0)"
   ]
  },
  {
   "cell_type": "markdown",
   "metadata": {},
   "source": [
    "<div class='q_yellow'><b>2.12 Train the Seq2Seq model [8 points]</b>\n",
    "    \n",
    "Now it's time to train the model! Implement the `train()` function below to\n",
    "train your model. We've provided code that will call your `train()` to produce\n",
    "a new model, and optionally plot the losses. We recommend training for at least\n",
    "8 epochs to achieve desirable results.\n",
    "\n",
    "Please use your:\n",
    "* **train split** to train the model\n",
    "* **validation split** to compute losses\n",
    "* **test split** to evaluate the performance of your model using BLEU (in the next step)\n",
    "\n",
    "For convenience, you may use the helper function below to compute the loss\n",
    "of your model on your validation set.\n",
    "    \n",
    "</div>"
   ]
  },
  {
   "cell_type": "code",
   "execution_count": null,
   "metadata": {
    "collapsed": true
   },
   "outputs": [],
   "source": []
  },
  {
   "cell_type": "code",
   "execution_count": null,
   "metadata": {},
   "outputs": [],
   "source": [
    "@torch.no_grad()\n",
    "\n",
    "# you do not need to edit this cell\n",
    "def compute_test_loss(model, val_dl, loss_fn):\n",
    "    all_preds, all_targs = [], []\n",
    "    for i, (input_seqs, output_seqs) in enumerate(val_dl):\n",
    "        preds, targs = model(input_seqs, output_seqs)\n",
    "        all_preds.append(preds)\n",
    "        all_targs.append(targs)\n",
    "    preds = torch.cat(all_preds, dim=0)\n",
    "    targs = torch.cat(all_targs, dim=0)\n",
    "    return loss_fn(preds, targs).item()"
   ]
  },
  {
   "cell_type": "code",
   "execution_count": 167,
   "metadata": {},
   "outputs": [
    {
     "ename": "SyntaxError",
     "evalue": "invalid syntax (<ipython-input-167-066461860491>, line 14)",
     "output_type": "error",
     "traceback": [
      "\u001b[0;36m  File \u001b[0;32m\"<ipython-input-167-066461860491>\"\u001b[0;36m, line \u001b[0;32m14\u001b[0m\n\u001b[0;31m    for epoch in range(epochs)\u001b[0m\n\u001b[0m                              ^\u001b[0m\n\u001b[0;31mSyntaxError\u001b[0m\u001b[0;31m:\u001b[0m invalid syntax\n"
     ]
    }
   ],
   "source": [
    "def train(train_ds: Dataset, train_dl: DataLoader, val_ds: Dataset, val_dl: DataLoader):\n",
    "    model = None\n",
    "    losses = {\n",
    "        'train': [], # keep track of your losses in these lists\n",
    "        'val': []\n",
    "    }\n",
    "    \n",
    "    model = Seq2Seq(train_dl.dataset.source_vocab_size, train_dl.dataset.target_vocab_size, 100, PADDING_IDX)\n",
    "    \n",
    "    loss_function = NLLLoss()\n",
    "    optimizer = Adam(model)\n",
    "    \n",
    "    epochs = 9\n",
    "    for epoch in range(epochs):\n",
    "        running_loss = 0.0\n",
    "        for i, (train_batch, val_batch) in enumerate(zip(train_dl, val_dl)):\n",
    "            \n",
    "            train_preds, train_targets = model(train_batch[0], train_batch[1])\n",
    "            train_loss = loss_function(train_preds, train_targets)\n",
    "            \n",
    "            val_preds, val_targets = model(val_batch[0], val_batch[1])\n",
    "            val_loss = loss_function(val_preds, val_targets)\n",
    "            \n",
    "            optimizer.zero_grad()\n",
    "            loss_backward()\n",
    "            optimizer.step()\n",
    "            \n",
    "            running_loss += loss.item()\n",
    "            if i % 2 == 0:\n",
    "                print('Epoch %d, iteration %5d, training_loss %.3f')\n",
    "    \n",
    "# TODO: train the model!\n",
    "loss_function = NLLLoss()\n",
    "optimizer =  Adam(model.parameters(), lr=0.0001)\n",
    "epochs = 5\n",
    "\n",
    "for epoch in range(epochs):\n",
    "    running_loss = 0.0\n",
    "    for i, batch in enumerate(full_dataloader):\n",
    "        \n",
    "        preds, targets = model(batch)\n",
    "        loss = loss_function(preds, targets)\n",
    "        optimizer.zero_grad()\n",
    "        loss.backward()\n",
    "        optimizer.step()\n",
    "        \n",
    "        running_loss += loss.item()\n",
    "        if i % 10 == 0 and i > 0:\n",
    "            print('Epoch %d, iteration %5d, loss: %.3f' %\n",
    "                  (epoch + 1, i + 1, running_loss/10))\n",
    "            running_loss = 0.0\n",
    "    \n",
    "print(\"Finished Training\")\n",
    "\n",
    "print(preds, targets)\n",
    "print(preds.shape, targets.shape)\n",
    "    \n",
    "    #raise NotImplementedError   # TODO: implement    return model, losses\n"
   ]
  },
  {
   "cell_type": "markdown",
   "metadata": {},
   "source": [
    "Call the cell below to train your model. For reference, it takes about 1 minute to train on our machines."
   ]
  },
  {
   "cell_type": "code",
   "execution_count": null,
   "metadata": {},
   "outputs": [],
   "source": [
    "%%time\n",
    "model, losses = train(train_ds, train_dl, val_ds, val_dl)\n",
    "\n",
    "# optionally plot your losses\n",
    "pd.DataFrame(losses).plot(xlabel='epoch #', ylabel='loss', title='Train and Validation Loss')"
   ]
  },
  {
   "cell_type": "markdown",
   "metadata": {},
   "source": [
    "<div class='q_yellow'><b>2.13 Evaluate model performance with BLEU [2 points]</b>\n",
    "\n",
    "While the loss is a good way of keeping track of our training progress, it is not a universal metric for our model performance. Heuristically, we have no way of telling how well our model is working for an application standpoint beyond the handful of examples we can print out -- not to mention the difficulty of comparing the quality of the translations on different models which are trained and evaluated on different datasets!\n",
    "\n",
    "The BLEU metric was proposed to combat this discrepancy. BLEU is empirically proven to align with how humans perceive the quality of translations. In 1-2 sentences, explain what (unigram) BLEU evaluates. Only include equations as you find them necessary. May Google be your friend (or Mooogle if you've downloaded and saved a lot of web pages about Machine Translation)."
   ]
  },
  {
   "cell_type": "markdown",
   "metadata": {},
   "source": [
    "YOUR ANSWER HERE"
   ]
  },
  {
   "cell_type": "markdown",
   "metadata": {},
   "source": [
    "Below is a method stub that translates all the examples from the test set, and\n",
    "returns both the model's translations as well as the original translations.\n",
    "This method will then be called to compute your BLEU score.\n",
    "\n",
    "**IMPORTANT:** Pay close attention to how your translations should be formatted:\n",
    "- `candidate_text`: these are the model's translations. It should have type\n",
    "`List[List[str]]`. Each inner list corresponds to a list of translated words.\n",
    "It should look like:\n",
    "\n",
    "```python\n",
    "    candidate_text = [\n",
    "        ['this', 'is', 'sentence', 'one'],\n",
    "        ['here', 'is', 'another', 'mighty', 'fine,' 'translation']\n",
    "    ]\n",
    "```\n",
    "\n",
    "- `reference_text`: these are the actual translations. When BLEU is computed,\n",
    "it allows for there to be more than one possible reference translation for\n",
    "every machine-translated example. As a result, it has a weirder type: `List[List[List[str]]]`.\n",
    "The extra nested list holds all the possible reference translation for every\n",
    "one machine translation. It should look like:\n",
    "```python\n",
    "    reference_text = [\n",
    "        [\n",
    "            # these are all possible reference translations for the first machine translated example\n",
    "            ['this', 'is', 'sentence', 'one'],\n",
    "            ['here', 'is', 'another', 'translation', 'for', 'sentence one'],\n",
    "        ],\n",
    "        [\n",
    "            # this example only contains one reference translation\n",
    "            ['here', 'is', 'another', 'mighty', 'fine,' 'translation'],\n",
    "        ]\n",
    "    ]\n",
    "```\n",
    "\n",
    "Practically, because we only have a single reference translation for every\n",
    "machine translation, your `reference_text` list should hold only a single\n",
    "example for every machine-translated text.\n",
    "\n",
    "For reference, we will use PyTorch's [bleu_score()](https://pytorch.org/text/stable/data_metrics.html) function\n",
    "to compute these scores.\n",
    "\n",
    "**NOTE**: `bleu_score()` is not included in the standard PyTorch installation.\n",
    "You will need to install the additional package [TorchText](https://pytorch.org/text/stable/index.html)"
   ]
  },
  {
   "cell_type": "code",
   "execution_count": null,
   "metadata": {},
   "outputs": [],
   "source": [
    "def translate_corpus(vocab: Dict[str, int], test_dl: DataLoader, model: nn.Module) -> Tuple[List[List[str]], List[List[List[str]]]]:\n",
    "    index_to_word = {v: k for k, v in vocab.items()}\n",
    "    candidate_text = []\n",
    "    reference_text = []\n",
    "\n",
    "    for source, target in test_dl:\n",
    "        raise NotImplementedError   # TODO: implement\n",
    "\n",
    "    return candidate_text, reference_text"
   ]
  },
  {
   "cell_type": "markdown",
   "metadata": {},
   "source": [
    "Run the cell below to compute you BLEU score. We achieved scores of around 0.3 - 0.5\n",
    "\n",
    "Depending on how you implemented your model, your mileage may vary. Scores\n",
    "less than 0.1 probably indicate something is off with your code."
   ]
  },
  {
   "cell_type": "code",
   "execution_count": null,
   "metadata": {},
   "outputs": [],
   "source": [
    "candidate_text, reference_text = translate_corpus(train_ds.target_vocab, test_dl, model)\n",
    "bleu_score(candidate_text, reference_text, max_n=1, weights=[1])"
   ]
  },
  {
   "cell_type": "markdown",
   "metadata": {},
   "source": [
    "<div class='q_yellow'><b>2.14 Identify the mystery language [6 points]</b>\n",
    "    \n",
    "You are now ready to unveil the mystery language! Train a model for each of the five different pairings:\n",
    "* Danish --> Mystery\n",
    "* English --> Mystery\n",
    "* German --> Mystery\n",
    "* Finnish --> Mystery\n",
    "* Spanish --> Mystery\n",
    "\n",
    "**NOTE:** The direction of translation is the *opposite* of what you did before\n",
    "    \n",
    "</div>"
   ]
  },
  {
   "cell_type": "code",
   "execution_count": null,
   "metadata": {
    "scrolled": true,
    "tags": []
   },
   "outputs": [],
   "source": [
    "# TODO: train five different models, one for each of the five different pairings\n",
    "\n",
    "raise NotImplementedError   # TODO: implement"
   ]
  },
  {
   "cell_type": "markdown",
   "metadata": {},
   "source": [
    "Now evaluate the BLEU score of all five models on the test set. The one with the highest BLEU score, often by a noticeable shot, is the underlying language of the mystery language. Report your findings below."
   ]
  },
  {
   "cell_type": "code",
   "execution_count": null,
   "metadata": {},
   "outputs": [],
   "source": [
    "# TODO: evaluate a BLEU score for all five models to identify the mystery language!\n",
    "\n",
    "raise NotImplementedError   # TODO: implement"
   ]
  },
  {
   "cell_type": "markdown",
   "metadata": {},
   "source": [
    "What's the mystery language?: YOUR ANSWER HERE"
   ]
  },
  {
   "cell_type": "markdown",
   "metadata": {},
   "source": [
    "<div class='header_green'>\n",
    "    \n",
    "# 3. RESEARCH [20 points]\n",
    "\n",
    "</div>"
   ]
  },
  {
   "cell_type": "markdown",
   "metadata": {},
   "source": [
    "As we build a foundation in NLP, it's also important to also see what the latest, cutting-edge work (research) looks like. It's incredibly worthwhile to learn about the types of problems people work on, their methodology and approach to the problem, the datasets they work on, the issues they raise, and the solutions they posit. The field moves incredibly fast, but the __approach__ to ML/NLP research is relatively stable -- different types of papers are accepted as the years progress, but that's a different story.\n",
    "\n",
    "We want to help you get practice reading research papers, which mostly entails thinking critically about the work, being able to discern the main takeaways/conclusions, and to reflect on the work in a meaningful way."
   ]
  },
  {
   "cell_type": "markdown",
   "metadata": {},
   "source": [
    "<div class='q_green'><b>3.1: Read an NLP research paper [0 points]</b>\n",
    "    \n",
    "Select and read a paper that was published in ACL, NAACL, EMNLP, or COLING in 2020 or 2021. You can find a list of such published papers by searching Google (Mooogle can't help you here), a la \"ACL 2020 accepted papers\". For this assignment, you are allowed to pick either a short paper (4-5 pages) or long paper (8-9 pages), **but you must not select a workshop paper**. List below the name of the paper, authors, venue, and year published.\n",
    "\n",
    "While I highly encourage you to look at the aforementioned venues to find a paper that interests you, alternatively, you could select one of the following papers:\n",
    "\n",
    "- An LSTM-based precursor to BERT:\n",
    "> context2vec: Learning Generic Context Embedding with Bidirectional LSTM. Melamud et al. CoNLL 2016.\n",
    "\n",
    "- Clever, famous usage of Attention for NLP + Vision:\n",
    "> Show, Attend and Tell: Neural Image Caption Generation with Visual Attention. Xu et al. ICML 2015.\n",
    "\n",
    "- Breakthrough paper that illustrated the power of seq2seq for Machine Translation:\n",
    "> Neural Machine Translation by Jointly Learning to Align and Translate. Bahdanau, Cho, and Bengio. ICLR 2015.\n",
    "\n",
    "- Another famous MT paper around the same time:\n",
    "> Sequence to Sequence Learning with Neural Networks. Sutskever, Vinyals, and Le. NIPS 2014 (now called NeurIPS).\n",
    "\n",
    "</div>"
   ]
  },
  {
   "cell_type": "markdown",
   "metadata": {},
   "source": [
    "YOUR PAPER HERE"
   ]
  },
  {
   "cell_type": "markdown",
   "metadata": {},
   "source": [
    "<div class='q_green'><b>3.2: Problem? [2 point]</b> What is the problem that it is trying to address? In other words, what is it trying to solve? (2-3 sentences)\n",
    "</div>"
   ]
  },
  {
   "cell_type": "markdown",
   "metadata": {},
   "source": [
    "YOUR ANSWER HERE"
   ]
  },
  {
   "cell_type": "markdown",
   "metadata": {},
   "source": [
    "<div class='q_green'><b>3.3: Solution? [2 point]</b> At a very high-level, what was their solution? (2-3 sentences). Here, you don't have room to go into the small details (e.g., about the model), so you'll need to summarize the most important elements that comprised the solution.\n",
    "</div>"
   ]
  },
  {
   "cell_type": "markdown",
   "metadata": {},
   "source": [
    "YOUR ANSWER HERE"
   ]
  },
  {
   "cell_type": "markdown",
   "metadata": {},
   "source": [
    "<div class='q_green'><b>3.4: Data? [2 points]</b> What dataset(s) did they use? Are they freely available? What's the size of the data? (2-3 sentences)\n",
    "</div>"
   ]
  },
  {
   "cell_type": "markdown",
   "metadata": {},
   "source": [
    "YOUR ANSWER HERE"
   ]
  },
  {
   "cell_type": "markdown",
   "metadata": {},
   "source": [
    "<div class='q_green'><b>3.5: Model [2 points]</b> Very related to the 'solutions' question, describe here any models that they used, and what made it effective (2-3 sentences)\n",
    "</div>"
   ]
  },
  {
   "cell_type": "markdown",
   "metadata": {},
   "source": [
    "YOUR ANSWER HERE"
   ]
  },
  {
   "cell_type": "markdown",
   "metadata": {},
   "source": [
    "<div class='q_green'><b>3.6: Results? [2 points]</b> What are their main results? (~2 sentences)\n",
    "</div>"
   ]
  },
  {
   "cell_type": "markdown",
   "metadata": {},
   "source": [
    "YOUR ANSWER HERE"
   ]
  },
  {
   "cell_type": "markdown",
   "metadata": {},
   "source": [
    "<div class='q_green'><b>3.7: Strengths? [2 points]</b> List 2-3 strengths of the paper\n",
    "</div>"
   ]
  },
  {
   "cell_type": "markdown",
   "metadata": {},
   "source": [
    "YOUR ANSWER HERE"
   ]
  },
  {
   "cell_type": "markdown",
   "metadata": {},
   "source": [
    "<div class='q_green'><b>3.8: Weaknesses? [2 points]</b> Although you may be new to this problem and all of its content, try to list 2-3 weaknesses of the paper (anything that you think could strengthen the paper is sufficient).\n",
    "</div>"
   ]
  },
  {
   "cell_type": "markdown",
   "metadata": {},
   "source": [
    "YOUR ANSWER HERE"
   ]
  },
  {
   "cell_type": "markdown",
   "metadata": {},
   "source": [
    "<div class='q_green'><b>3.9: Evaluation [2 points]</b>\n",
    "    \n",
    "How would you evaluate this paper in terms of:\n",
    "- scientific contribution\n",
    "- effectiveness to solve the problem\n",
    "- how convincing it was.\n",
    "    \n",
    "Give each of these elements a score from 1-10 (10 is best). No word explanation necessary.\n",
    "</div>"
   ]
  },
  {
   "cell_type": "markdown",
   "metadata": {},
   "source": [
    "YOUR ANSWER HERE"
   ]
  },
  {
   "cell_type": "markdown",
   "metadata": {},
   "source": [
    "<div class='q_green'><b>3.10: Research Ideas [4 points]</b>\n",
    "    \n",
    "Think of 1-2 research ideas that you have based on this paper. It doesn't have to be grand; most research is very incremental. Specifically, your research idea should have a concrete question that you're aiming to answer. List it below. \n",
    "</div>"
   ]
  },
  {
   "cell_type": "markdown",
   "metadata": {},
   "source": [
    "YOUR ANSWER HERE"
   ]
  },
  {
   "cell_type": "markdown",
   "metadata": {},
   "source": [
    "<div class='q_green'><b>BONUS POINTS [5 points]</b> I mention the full details in the syllabus on the course website. However, in short, these bonus points cannot bring one's grade to exceed 100. That is, if someone received a 97 on this homework, doing this bonus could allow their grade to reach 100 points. If the person had an 83 on the homework, then the most they could achieve is an 88.\n",
    "    \n",
    "The task: read another research paper (allowed to be a Short Paper) and answer the same questions again. Please copy and paste all of the questions below.\n",
    "</div>"
   ]
  },
  {
   "cell_type": "markdown",
   "metadata": {},
   "source": []
  },
  {
   "cell_type": "markdown",
   "metadata": {},
   "source": [
    "<div class='header_blue'>\n",
    "    \n",
    "# 4. SELF-REFLECTION [0 points]\n",
    "\n",
    "</div>"
   ]
  },
  {
   "cell_type": "markdown",
   "metadata": {},
   "source": [
    "<div class='q_blue'><b>4.1: Self-reflection and Feedback [0 points]</b>\n",
    "\n",
    "Are you thriving in the course? Are there elements that are particularly confusing to you? I want everyone to be and feel fully supported. Toward this, I strongly urge you all to think critically about your own learning and efforts. Please provide us with feedback about how you're doing in the course and if there's anything further or different we can do to better assist your learning. I want everyone to give their earnest account, so the form is completely anonymous.\n",
    "\n",
    "</div>\n",
    "\n",
    "[Anonymous Self-Reflection and Feedback Form](https://forms.gle/3LT6UfhtCtqp2G7X9)"
   ]
  },
  {
   "cell_type": "code",
   "execution_count": null,
   "metadata": {},
   "outputs": [],
   "source": []
  }
 ],
 "metadata": {
  "celltoolbar": "Edit Metadata",
  "interpreter": {
   "hash": "0d3e0cb9dfa8cf737dbf538b02aa0665a58b73e014f15f8af0ea4296e4e6b732"
  },
  "kernel_loop": {
   "byte_size": "82791"
  },
  "kernelspec": {
   "display_name": "Python 3",
   "language": "python",
   "name": "python3"
  },
  "language_info": {
   "codemirror_mode": {
    "name": "ipython",
    "version": 3
   },
   "file_extension": ".py",
   "mimetype": "text/x-python",
   "name": "python",
   "nbconvert_exporter": "python",
   "pygments_lexer": "ipython3",
   "version": "3.8.8"
  }
 },
 "nbformat": 4,
 "nbformat_minor": 4
}
