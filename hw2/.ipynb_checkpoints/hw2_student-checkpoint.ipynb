{
 "cells": [
  {
   "cell_type": "code",
   "execution_count": 1,
   "metadata": {},
   "outputs": [
    {
     "data": {
      "text/html": [
       "<style>\n",
       "blockquote { background: #AEDE94; }\n",
       "\n",
       "hr {\n",
       "    height: 1px;\n",
       "    background-color: black;\n",
       "    border: none;\n",
       "}\n",
       "\n",
       "div.quote {\n",
       "\tpadding: 0.5em;\n",
       "\tfont-size: 12px;\n",
       "\talign-items: center;\n",
       "\tmax-width: 80%;\n",
       "\ttext-align: center;\n",
       "}\n",
       "\n",
       "div.header_purple {\n",
       "\tbackground-color: #D0C7FF; \n",
       "\twidth: 100%;\n",
       "\tbox-shadow: 5px 5px 10px 2px #888;\n",
       "\tfont-size: 15px;\n",
       "\tpadding-top: 8px;\n",
       "\tpadding-left: 20px;\n",
       "\tpadding-right: 20px; \n",
       "\tpadding-bottom: 20px;\n",
       "}\n",
       "\n",
       "div.q_purple {\n",
       "\tbackground-color: #9183D9;\n",
       "\tborder-color: #FF8484;\n",
       "\tborder-left: 5px solid #FF8484; \n",
       "\tpadding: 0.5em;\n",
       "}\n",
       "\n",
       "div.header_teagreen {\n",
       "\tbackground-color: #DEEFB7; \n",
       "\twidth: 100%;\n",
       "\tbox-shadow: 5px 5px 10px 2px #888;\n",
       "\tfont-size: 15px;\n",
       "\tpadding-top: 8px;\n",
       "\tpadding-left: 20px;\n",
       "\tpadding-right: 20px; \n",
       "\tpadding-bottom: 20px;\n",
       "}\n",
       "\n",
       "div.q_teagreen {\n",
       "\tbackground-color: #DEEFB7;\n",
       "\tborder-color: #5FB49C;\n",
       "\tborder-left: 5px solid #5FB49C; \n",
       "\tpadding: 0.5em;\n",
       "}\n",
       "\n",
       "div.header_aquagreen {\n",
       "\tbackground-color: #AACFC4; \n",
       "\twidth: 100%;\n",
       "\tbox-shadow: 5px 5px 10px 2px #888;\n",
       "\tfont-size: 15px;\n",
       "\tpadding-top: 8px;\n",
       "\tpadding-left: 20px;\n",
       "\tpadding-right: 20px; \n",
       "\tpadding-bottom: 20px;\n",
       "}\n",
       "\n",
       "div.q_aquagreen {\n",
       "\tbackground-color: #AACFC4;\n",
       "\tborder-color: #5F758E;\n",
       "\tborder-left: 5px solid #5F758E; \n",
       "\tpadding: 0.5em;\n",
       "}\n",
       "\n",
       "div.header_lightpurp {\n",
       "\tbackground-color: #CBC5EA; \n",
       "\twidth: 100%;\n",
       "\tbox-shadow: 5px 5px 10px 2px #888;\n",
       "\tfont-size: 15px;\n",
       "\tpadding-top: 8px;\n",
       "\tpadding-left: 20px;\n",
       "\tpadding-right: 20px; \n",
       "\tpadding-bottom: 20px;\n",
       "}\n",
       "\n",
       "div.q_lightpurp {\n",
       "\tbackground-color: #CBC5EA;\n",
       "\tborder-color: #73628A;\n",
       "\tborder-left: 5px solid #73628A; \n",
       "\tpadding: 0.5em;\n",
       "}\n",
       "\n",
       "div.header_silver {\n",
       "\tbackground-color: #707078; \n",
       "\twidth: 100%;\n",
       "\tbox-shadow: 5px 5px 10px 2px #888;\n",
       "\tfont-size: 15px;\n",
       "\tpadding-top: 8px;\n",
       "\tpadding-left: 20px;\n",
       "\tpadding-right: 20px; \n",
       "\tpadding-bottom: 20px;\n",
       "}\n",
       "\n",
       "div.q_silver {\n",
       "\tbackground-color: #707078;\n",
       "\tborder-color: #090909;\n",
       "\tborder-left: 5px solid #090909; \n",
       "\tpadding: 0.5em;\n",
       "}\n",
       "\n",
       "div.header_pink {\n",
       "\tbackground-color: #FFC8C8;\n",
       "\twidth: 100%;\n",
       "\tbox-shadow: 5px 5px 10px 2px #888;\n",
       "\tfont-size: 15px;\n",
       "\tpadding-top: 8px;\n",
       "\tpadding-left: 20px;\n",
       "\tpadding-right: 20px; \n",
       "\tpadding-bottom: 20px;\n",
       "}\n",
       "\n",
       "div.q_pink {\n",
       "\tbackground-color: #FFC8C8;\n",
       "\tborder-color: #FF8484;\n",
       "\tborder-left: 5px solid #FF8484; \n",
       "\tpadding: 0.5em;\n",
       "}\n",
       "\n",
       "div.header_yellow {\n",
       "\tbackground-color: #FDFFB6; \n",
       "\twidth: 100%;\n",
       "\tbox-shadow: 5px 5px 10px 2px #888;\n",
       "\tfont-size: 15px;\n",
       "\tpadding-top: 8px;\n",
       "\tpadding-left: 20px;\n",
       "\tpadding-right: 20px; \n",
       "\tpadding-bottom: 20px;\n",
       "}\n",
       "\n",
       "div.q_yellow {\n",
       "\tbackground-color: #FDFFD0;\n",
       "\tborder-color: #FFD6A5;\n",
       "\tborder-left: 5px solid #FFD6A5; \n",
       "\tpadding: 0.5em;\n",
       "}\n",
       "\n",
       "div.header_orange {\n",
       "\tbackground-color: #FFD6A5; \n",
       "\twidth: 100%;\n",
       "\tbox-shadow: 5px 5px 10px 2px #888;\n",
       "\tfont-size: 15px;\n",
       "\tpadding-top: 8px;\n",
       "\tpadding-left: 20px;\n",
       "\tpadding-right: 20px; \n",
       "\tpadding-bottom: 20px;\n",
       "}\n",
       "\n",
       "div.q_orange {\n",
       "\tbackground-color: #FFD6A5;\n",
       "\tborder-color: #D6562C;\n",
       "\tborder-left: 5px solid #D6562C; \n",
       "\tpadding: 0.5em;\n",
       "}\n",
       "\n",
       "div.header_green {\n",
       "\tbackground-color: #CAFFBF; \n",
       "\twidth: 100%;\n",
       "\tbox-shadow: 5px 5px 10px 2px #888;\n",
       "\tfont-size: 15px;\n",
       "\tpadding-top: 8px;\n",
       "\tpadding-left: 20px;\n",
       "\tpadding-right: 20px; \n",
       "\tpadding-bottom: 20px;\n",
       "}\n",
       "\n",
       "div.q_green {\n",
       "\tbackground-color: #CAFFBF;\n",
       "\tborder-color: #98C98E;\n",
       "\tborder-left: 5px solid #98C98E; \n",
       "\tpadding: 0.5em;\n",
       "}\n",
       "\n",
       "\n",
       "div.header_blue {\n",
       "\tbackground-color: #C9FAFF; \n",
       "\twidth: 100%;\n",
       "\tbox-shadow: 5px 5px 10px 2px #888;\n",
       "\tfont-size: 15px;\n",
       "\tpadding-top: 8px;\n",
       "\tpadding-left: 20px;\n",
       "\tpadding-right: 20px; \n",
       "\tpadding-bottom: 20px;\n",
       "}\n",
       "\n",
       "div.q_blue {\n",
       "\tbackground-color: #C9FAFF;\n",
       "\tborder-color: #A0C4FF;\n",
       "\tborder-left: 5px solid #A0C4FF; \n",
       "\tpadding: 0.5em;\n",
       "}\n",
       "\n",
       "\n",
       "h1 {\n",
       "    text-align: left; \n",
       "    color: black;\n",
       "}\n",
       "\n",
       "h2 { \n",
       "    text-align: left; \n",
       "    color: black;\n",
       "}\n",
       "\n",
       "</style>\n"
      ],
      "text/plain": [
       "<IPython.core.display.HTML object>"
      ]
     },
     "execution_count": 1,
     "metadata": {},
     "output_type": "execute_result"
    }
   ],
   "source": [
    "################################\n",
    "#        RUN THIS CELL\n",
    "################################\n",
    "from IPython.core.display import HTML\n",
    "HTML(\"style.css\")"
   ]
  },
  {
   "cell_type": "markdown",
   "metadata": {},
   "source": [
    "\n",
    "<div class='header_teagreen'>\n",
    "\n",
    "# <img style=\"float: left; padding-right: 10px; width: 60px\" src=\"https://raw.githubusercontent.com/Harvard-IACS/2018-CS109A/master/content/styles/iacs.png\"> AC295/CS287/E-115B: Deep Learning for NLP\n",
    "\n",
    "<br/>\n",
    "<hr color=black>\n",
    "\n",
    "## Homework 2: Recurrent Neural Networks and Machine Translation\n",
    "### THE TEA GREEN BOOK\n",
    "\n",
    "**Harvard University**<br/>\n",
    "**Fall 2021**<br/>\n",
    "**Instructor**: Chris Tanner<br/>\n",
    "**Release Date**: September 21 (Tues)<br/>\n",
    "<font color=\"red\">**Due Date**: October 5 (Tues) @ 11:59pm (EST)</font>\n",
    "\n",
    "<hr color=black>\n",
    "<center>\n",
    "<div class='quote'>\n",
    "\n",
    "_\"We don't speak the same language [...] you missin' every single shot that you ain't taken\"_\n",
    "\n",
    "    Malcolm McCormick (August 3, 2018)\n",
    "</div>\n",
    "</center>\n",
    "</div>"
   ]
  },
  {
   "cell_type": "markdown",
   "metadata": {},
   "source": [
    "<div class='header_teagreen'>\n",
    "    \n",
    "# OVERVIEW\n",
    "\n",
    "</div>\n",
    "<br/>\n",
    "This assignment spans the content covered in the following lectures:\n",
    "\n",
    "- **Lecture 5:** Recurrent Neural Networks (RNNs)\n",
    "- **Lecture 6:** LSTMs\n",
    "- **Lecture 7:** seq2seq + Attention\n",
    "- **Lecture 8:** Machine Translation\n",
    "\n",
    "Language is inherently sequential in nature, which makes it conducive to models that can capture the contextual, long-range dependencies. Toward this, you will first gain experience working with a simple RNN. The RNN aims to capture the data's meaning in its hidden layer (like all neural models), which will be used toward a classification task (sentiment analysis of IMDb movies).\n",
    "\n",
    "After seeing the effectiveness of this basic model, you will then extend this model for two missions. As a warm-up, we would like you to try your hand on performing sentiment analysis on an IMDB review dataset. Afterwards, your *true* mission, should you accept, is to make a complete Machine Translation system. There are some evil hackers on the Dark Web who are stealing and selling others' personal information, financial documents, CS287 assignments, etc. To make their operation covert, they are speaking in a \"Mystery Language\". Forensics suspect their mystery language is actually one of the following languages:\n",
    "- Danish\n",
    "- English\n",
    "- German\n",
    "- Finnish\n",
    "- Spanish\n",
    "\n",
    "You are tasked with determining the true identity of their mystery language, so that their words can be read and understood. Help save the day and keep everyone's data safe (for now). ~~This tape will self-destruct in five seconds.~\n",
    "\n",
    "As a heads-up, this assignment is shorter than Homework 1, as we wanted to provide you all with more time to focus on research. This pattern will persist, as each homework assignment will be shorter than the previous. With that said, the models at hand are increasing in complexity, and thus please ensure you allocate sufficient time to building, debugging, and running the models. For example, the last part of Problem 2 (programming) requires you to run your model on 5 different corpora. Our solutions can train the full model in just a few minutes (i.e., 1-5); however, if your solution is overwhelmingly slow, the total running time can start to become a hindrance.\n",
    "\n",
    "If your code runs slowly on your own local machine, you are free to run your code on [Google Colab](https://colab.research.google.com/) -- just be mindful that the academic policy is still in tact, and that nobody else should have access to your code. In terms of grading, in general, we will not be too picky with the _efficiency_ of your code, unless it's egregious. Having a sound solution is the most important."
   ]
  },
  {
   "cell_type": "markdown",
   "metadata": {},
   "source": [
    "<div class='header_teagreen'>\n",
    "    \n",
    "# LEARNING OBJECTIVES\n",
    "\n",
    "</div>\n",
    "<br/>\n",
    "\n",
    "The purpose of this homework is to help you:\n",
    "\n",
    "- understand the sequential nature of language\n",
    "- develop a strong foundation in working with recurrent networks\n",
    "- gain experience working with text classification\n",
    "- understand the mechanics of a basic, neural Machine Translation system\n",
    "- think critically about how language can be used and leveraged (e.g., for classification and translation), while recognizing strengths and weaknesses.\n",
    "\n",
    "To assist you reach these learning objectives, this homework is structured into three parts:\n",
    "- <span style=\"background-color: #FDFFB6\"><b>Foundation (concepts):</b></span> demonstrate an understanding of the core concepts taught in lectures\n",
    "- <span style=\"background-color: #FFC8C8\"><b>Application (programming):</b></span> gain experience putting that knowledge into practice \n",
    "- <span style=\"background-color: #CAFFBF\"><b>Research (creating new knowledge):</b></span> use your current NLP knowledge and skills to go beyond the course material, to grasp cutting-edge results and to critically accept or challenge that information. This serves as practice for you to research your own NLP interests and to be well-equipped to continuously learn the latest, greatest NLP work."
   ]
  },
  {
   "cell_type": "markdown",
   "metadata": {},
   "source": [
    "<div class='header_teagreen'>\n",
    "    \n",
    "## SUPPORT\n",
    "\n",
    "</div>\n",
    "\n",
    "- **Supplemental Resources:** See the list of [supplemental resources](https://harvard-iacs.github.io/CS287/supplemental) for a wealth of rich information concerning Machine Learning, NLP, and Math. Some of the courses listed concern the exact topics covered in this homework and lectures.\n",
    "- **Sanity Check cells:** Throughout the homeworks, we sometimes provide 'sanity check' cells which allow you to see our expected outputs. You should ensure your code produces the same. <span style=\"background-color: #FDFFB6\"><b>**NOTE:** We are not claiming that passing the sanity check cells indicates that you have _fully_ implemented everything correctly; rather, they provide simple checks to help inform you if you are on the right track.</span>\n",
    "- **Ed**: If you are stuck on anything conceptual (not code) about the content from lectures, please post a question on Ed. This is your community, and please contribute and help each other out. If your questions concern the homework, you can post these on Ed, too, but make sure you are not posting any of your code or solutions in general. If you think you've spotted a bug in our homework questions, or something that needs clarifying, please let us know on Ed! <span style=\"background-color: #FDFFB6\">Extra credit will be awarded for bugs.</span> We want to correct these issues ASAP.\n",
    "- **OH:** After having given a wholehearted attempt, if you are having trouble with the homework, please come to Office Hours.\n",
    "- **Classmates:** We have a strict policy about the homeworks being individual. You are free to discuss _concepts_ with one another, to help each other learn the material. However, no student shall ever discuss their solutions or see another student's solutions to any problem. Once you see someone's coding solution, it's nearly impossible to harness that information in a way that you can write your own unique solution. You've been robbed of a learning opportunity and will likely just regurgitate someone else's work. As a reminder, if you want to take a shortcut on any problem by looking online for already-existing solutions, that's permissible, but you must cite your sources. Otherwise, it constitutes cheating. Posting any pieces of this homework online for others to see if a flagrant violation of our academic policy.\n",
    "- **Other:** I want everyone to be and feel fully supported. If there's anything else we, as a teaching staff, can do to further assist in your learning, please let us know. Related, at the end of this homework assignment, you are expected to complete an anonymous feedback form. I urge you to critically and earnestly think about your own learning, communicate to us your thoughts, and to optionally tell us possible adjustments we could make so that you meet our learning expectations and you achieve your own learning goals."
   ]
  },
  {
   "cell_type": "markdown",
   "metadata": {},
   "source": [
    "<div class='header_lightpurp'>\n",
    "    \n",
    "# 1. FOUNDATION (CONCEPTS) [10 points]\n",
    "\n",
    "</div>\n",
    "<br/>"
   ]
  },
  {
   "cell_type": "markdown",
   "metadata": {},
   "source": [
    "<div class='q_lightpurp'><b>1.1 RNN [2 points]</b>\n",
    "\n",
    "Recall the standard, canonical RNN that was discussed in Lecture 5. Our hidden layer at timestep $t$ is defined as $h_{t} = f([h_{t-1}; x_{t}])$, where:\n",
    "\n",
    "- $f()$ is any non-linear activation function\n",
    "- $x$ corresponds to the input Embedding (densely encoded, not one-hot representation)\n",
    "- $;$ represents vector concatenation\n",
    "- this is a slightly abstract view, as we are not explicitly showing the two weight matrices by which $h_{t-1}$ and $x_{t}$ are being multipled before they're concatenated together. We're also not indicating the bias.\n",
    "\n",
    "Let's say we change $h_{t}$ as follows:\n",
    "\n",
    "$h_{t} = f([x_{t-1}; x_{t}])$\n",
    "\n",
    "In 2-3 sentences, discuss how and why you expect this to affect performance.\n",
    "</div>\n"
   ]
  },
  {
   "cell_type": "markdown",
   "metadata": {},
   "source": [
    "YOUR RESPONSE HERE\n",
    "\n",
    "If we modify $h_t$ to be as described then we are basically losing the memory capacity of the RNN. So, we will not be able to model long term relationships within the language and thus our results will be degraded. Basically, when we generate each new hidden state we will only be feeding into the model the current word embedding $x_t$ and the previous word embedding $x_{t-1}$ but not much more than that. \n"
   ]
  },
  {
   "cell_type": "markdown",
   "metadata": {},
   "source": [
    "<div class='q_lightpurp'><b>1.2 seq2seq with Attention [2 points]</b>\n",
    "\n",
    "NOTE: This question concerns the standard Attention discussed in Lecture 7, not Self-Attention\n",
    "Which of the following statements about Attention are true (select all that apply)?\n",
    "\n",
    "- A: Attention is used for situations where you have both an encoder and decoder model\n",
    "- B: Attention determines how much emphasis to place on each hidden state from an encoder\n",
    "- C: Attention determines how much emphasis to place on each hidden state from a decoder\n",
    "- D: Attention scores can be computed in various ways (e.g., dot-product, bilinear transformation, feed-forward neural network)\n",
    "\n",
    "No explanation needed, just write below the letters you believe are true statements.\n",
    "</div>\n"
   ]
  },
  {
   "cell_type": "markdown",
   "metadata": {},
   "source": [
    "YOUR RESPONSE HERE\n",
    "Correct answers are B and D"
   ]
  },
  {
   "cell_type": "markdown",
   "metadata": {},
   "source": [
    "<div class='q_lightpurp'><b>1.3 Machine Translation: Directionality [2 points]</b>\n",
    "\n",
    "Let's say we have a parallel corpus of 100,000 sentences in two languages: \"source language\" and \"target language\". For example, perhaps the \"source language\" is Indonesian and the \"target language\" is English, and sentence $i$ in the English corpus is the translation of sentence $i$ in the Indonesian corpus.\n",
    "\n",
    "Let's model Machine Translation with a `seq2seq model with Attention` that operates on word tokens. Generally, for any particular pair of languages (e.g., Language $A$ and Language $B$), will the model yield the \"same\" results regardless of if language $A$ serves as the \"source\" language or \"target\" language?\n",
    "\n",
    "Few clarifying statements about what we're asking:\n",
    "\n",
    "- We are contrasting (1) treating language $A$ as the source language and $B$ as the target language; versus, (2) treating $A$ as the target language and $B$ as the source language\n",
    "- We are **not** contrasting language pairs ($A$,$B$) with language pairs ($C$, $D$), or even ($B$, $C$).\n",
    "- By \"same results\", we are not nitpicking about floating point precision and natural variation. Rather, we assert that any model trained on a given pair $(A, B)$, when run a few times, will naturally produce slightly varying results (due to the stochasticity of a NN), which one can summarize as a performance _range_. We are effectively asking if reversing the language pairs to be $(B,A)$ will yield performance that is consistently within the same performance _range_ as $(A, B)$.\n",
    "- We assume all other experimental setup is sound; e.g., nothing unusual with the train/dev/test splits. So, you can expect that in every situation, the first 70k sentences are used for train, the next 10k for dev, and the remaining 20k for test.\n",
    "\n",
    "Please discuss in 3-4 sentences your model expectations and justify.\n",
    "\n",
    "</div>\n"
   ]
  },
  {
   "cell_type": "markdown",
   "metadata": {},
   "source": [
    "YOUR RESPONSE HERE\n",
    "\n",
    "The model will not yield the same results if we use language A as a source vs using language A as a target. The intuition of this is that when we use language A for training, we will get a specific set of hidden states that model the connections and structure of language A and then, when working with the decoder, we use these hidden states all the time for generating the attention weights. In contrast, if we use language A as a target, we will only use the hidden states generated from language A in the decoding stage, thus we won't have the model of the structure of language A in the encoding hidden states but rather as an input for the prediction step. THus, when language A is the target, we won't have the information of the encodings of A in the attention weights. Hence, given the change in hidden states from the encodings and the attention weights when we change language A to be either source or target, we expect the results to be quite different. \n"
   ]
  },
  {
   "cell_type": "markdown",
   "metadata": {},
   "source": [
    "<div class='q_lightpurp'><b>1.4 Machine Translation: Denoising [4 points]</b>\n",
    "\n",
    "Again, let's say we have a parallel corpus of 100,000 sentences in two languages (\"source language\" and \"target language\"), and that we're using a `seq2seq model with Attention` that operates on word tokens.\n",
    "\n",
    "**PART 1 (2 points):**\n",
    "If we alter our corpus such that for **every distinct, non-white space character** in the source language, we instantly replace it with a corresponding **different, distinct, non-whitespace character**. Then, we run the same model, from scratch, on this modified corpus. Would you expect the performance of the system to decrease, stay the same, or improve? Discuss in ~3 sentences what your expectations are and why.\n",
    "\n",
    "**PART 2 (2 points):**\n",
    "If we alter our corpus such that for **every distinct, non-white space character** in the source language, we instantly replace it with a corresponding **different, distinct, character (that may include whitespace)**. Then, we run the same model, from scratch, on this modified corpus. Would you expect the performance of the system to decrease, stay the same, or improve? Discuss in ~3 sentences what your expectations are and why.\n",
    "\n",
    "Few clarifying statements about what we're asking in PART 1 and PART 2:\n",
    "\n",
    "- each distinct character in the source language (e.g., 'a' will be consistently replaced with a different distinct character such as 'p')\n",
    "- no two characters in the original source language should become replaced by the same character (i.e., if 'a' is replaced with 'p', then no other letter will also be replaced by a 'p')\n",
    "- this is not a Distributed Systems class; we're **not** treating this replacement as a _series_ of replacements. That is, we do not need to worry about any race conditions. Letters are simply getting mapped to others.\n",
    "\n",
    "</div>\n"
   ]
  },
  {
   "cell_type": "markdown",
   "metadata": {},
   "source": [
    "YOUR RESPONSE HERE\n",
    "PART 1: If we just map every character in the source language to a distinct non-whitespace character in a one-to-one fashion, we don't expect the performance of the system to decrease. I believe this because we are basically encoding the same relationships between words and have the same number of words in the source language and the new encoded language, thus the model should learn the same representations and the same connections between the words.\n",
    "\n",
    "PART 2: If we ap every distinct, non-white space charater to different, distinct, character (including whitespaces) then I do expect the model performance to decrease. In particular, I expect this because now there is a chance of splitting a word into more than 1 word if two or more characters in the word are mapped to white spaces. This changes the number of words we have in the encoded language and possibly the relationships between the words. Thus, the model would effectively be learning representations of a different language than the initial source language. Thus, we should se a decrease in the performance."
   ]
  },
  {
   "cell_type": "markdown",
   "metadata": {},
   "source": [
    "<div class='header_yellow'>\n",
    "    \n",
    "# 2. APPLICATION (PROGRAMMING) [70 points]\n",
    "\n",
    "</div>\n",
    "<br/>\n",
    "\n",
    "\n",
    "In this programming exercise, you will be guided through an implementation of the encoder-decoder.\n",
    "\n",
    "We start with an RNN-based `Encoder`, from which we can extract the final hidden state and cell state. LSTM units are used so that we can retain long-term dependencies. We treat the final vectors as a summary of the sentence, which we can use for binary classification on the text. We will apply this idea to the sentiment analysis of an IMDB movie review dataset, where we hope to determine whether a review is positive or negative. \n",
    "\n",
    "Building on the `Encoder`, we will further add on an RNN-based `Decoder`. This time, we will work on a translation task between source language and target language. We feed the source sentence to the Encoder, obtain the final states and feed them into the `Decoder`. The outputs of the Decoder is our translation.\n",
    "\n",
    "In total, you will gain hands-on experience building an important, powerful model (RNN-based Encoder/Decoder), which you'll demonstrate as being highly useful for completely different tasks and data. We're starting to see the beauty of using deep learning models for NLP!\n",
    "\n",
    "### DATA\n",
    "\n",
    "See the relevant section for a detailed description of the data we use. \n",
    "\n",
    "### PANDAS\n",
    "In all homework assignments, including this one, you are free to use `Pandas`. You are not required to use it at all, but it has some highly useful functionality, e.g., its `read_csv()` function, `DataFrame` and `Series` data structures, and its ability to quickly filter/sort/edit data (which is particularly helpful when experimenting and exploring your data)."
   ]
  },
  {
   "cell_type": "code",
   "execution_count": 40,
   "metadata": {},
   "outputs": [],
   "source": [
    "# utilities you will need or are free to use\n",
    "import pickle\n",
    "from typing import List, Tuple, Dict\n",
    "\n",
    "import matplotlib.pyplot as plt\n",
    "import numpy as np\n",
    "import pandas as pd\n",
    "\n",
    "import torch\n",
    "from torch import nn, optim\n",
    "from torch.nn import BCEWithLogitsLoss, CrossEntropyLoss, NLLLoss\n",
    "from torch.nn.utils.rnn import pack_padded_sequence, pad_packed_sequence, pad_sequence\n",
    "from torch.utils.data import DataLoader, Dataset\n",
    "from torch.optim import Adam\n",
    "\n",
    "\n",
    "from torchtext.data.metrics import bleu_score"
   ]
  },
  {
   "cell_type": "markdown",
   "metadata": {},
   "source": [
    "<div class='header_yellow'>\n",
    "\n",
    "# IMDb Sentiment Analysis\n",
    "\n",
    "</div>\n",
    "<br/>\n",
    "\n",
    "For this problem, we're going to build a binary sentiment classifier for movie reviews using the classic [IMDb dataset](https://ai.stanford.edu/~amaas/data/sentiment/). \n",
    "\n",
    "## Data\n",
    "\n",
    "Since you've already seen how to process and handle raw text data in HW1, we've gone ahead and handled the data processing and infrastructure for you this time. We've trimmed the reviews of punctuation and HTML tags, removed stop words, and [lemmatized](https://en.wikipedia.org/wiki/Lemmatisation) the remaining tokens using [NLTK's WordNet Lemmatizer](https://www.nltk.org/_modules/nltk/stem/wordnet.html). For example, the review:\n",
    "> Billy Crystal normally brings the crowd to laughter, but in this movie he and all the rest of them cannot bring any smile on my face.... or perhaps just one. They call it comedy, I say it's a waste of my time.\n",
    "\n",
    "Becomes:\n",
    "> ['billy', 'crystal', 'normally', 'bring', 'crowd', 'laughter', 'movie', 'rest', 'bring', 'smile', 'face', 'perhaps', 'one', 'call', 'comedy', 'say', 'waste', 'time']\n",
    "\n",
    "For the sake of training speed, we've limited the original corpus of 50,000 reviews to just 5,000 by filtering for only reviews that are shorter than 100 words. \n",
    "\n",
    "We've provided two datasets for you to use in the form of Python Pickle files ([documentation on what Pickling is](https://docs.python.org/3/library/pickle.html)):\n",
    "- `imdb_train.pkl` contains 4000 reviews for training. \n",
    "- `imdb_test.pkl` contains 1000 reviews for testing.\n",
    "\n",
    "Each pickled file contains a dictionary formatted as follows: \n",
    "\n",
    "```\n",
    "{\n",
    "    'tokenized_reviews': [\n",
    "        [token, token, token, ...],\n",
    "        [token, token, token, ...],\n",
    "        ...\n",
    "    ],\n",
    "    'full_reviews': [review review review ...],\n",
    "    'sentiments': [sentiment sentiment sentiment ...]\n",
    "}\n",
    "```\n",
    "Where each sentiment is binary, either `\"positive\"` or `\"negative\"`. "
   ]
  },
  {
   "cell_type": "markdown",
   "metadata": {},
   "source": [
    "<div class='q_yellow'><b>2.1 Load the data [0 points]</b>\n",
    "\n",
    "In the cell below, we load each dataset for you (simply run the cell). Note that you can load each dataset using the `pickle` module in Python's standard library: \n",
    "```py\n",
    "import pickle\n",
    "with open(\"imdb_train.pkl\", \"rb\") as fp:\n",
    "    train_dict = pickle.load(fp)\n",
    "```\n",
    "</div>"
   ]
  },
  {
   "cell_type": "code",
   "execution_count": 41,
   "metadata": {},
   "outputs": [],
   "source": [
    "# YOU DO NOT NEED ADD ANY CODE IN THIS CELL\n",
    "with open(\"data/imdb_train.pkl\", \"rb\") as f:\n",
    "    train_dict = pickle.load(f)\n",
    "    \n",
    "with open(\"data/imdb_test.pkl\", \"rb\") as f:\n",
    "    test_dict = pickle.load(f)"
   ]
  },
  {
   "cell_type": "markdown",
   "metadata": {},
   "source": [
    "We encourage you to inspect and perform some *quick* exploratory data analysis on the IMDb reviews and sentiments. For instance, what percentage of the sentiments are positive? Understanding the data before training the data can often lead to very useful observations. Should you be worried if it turns out that only $1\\%$ of the datapoints are labelled negative?\n",
    "\n",
    "This part is for your understanding only. Do not worry, we will not grade it."
   ]
  },
  {
   "cell_type": "code",
   "execution_count": 42,
   "metadata": {},
   "outputs": [
    {
     "name": "stdout",
     "output_type": "stream",
     "text": [
      "In training set, there is 50.0% of negative reviews and 50.0% of positive reviews.\n",
      "In test set, there is 50.0% of negative reviews and 50.0% of positive reviews.\n",
      "For training set, number of reviews is 4000 and length of max review is 81\n",
      "For test set, number of reviews is 1000 and length of max review is 80\n"
     ]
    }
   ],
   "source": [
    "# TODO: inspect the dicts and perform some quick exploratory analysis\n",
    "# Percentage of positive and negative reviews training\n",
    "train_perc_neg = len([x for x in train_dict['sentiments'] if x=='negative'])/len(train_dict['sentiments'])*100\n",
    "train_perc_pos = len([x for x in train_dict['sentiments'] if x=='positive'])/len(train_dict['sentiments'])*100\n",
    "\n",
    "print(f\"In training set, there is {train_perc_neg}% of negative reviews and {train_perc_pos}% of positive reviews.\")\n",
    "\n",
    "test_perc_neg = len([x for x in test_dict['sentiments'] if x=='negative'])/len(test_dict['sentiments'])*100\n",
    "test_perc_pos = len([x for x in test_dict['sentiments'] if x=='positive'])/len(test_dict['sentiments'])*100\n",
    "\n",
    "print(f\"In test set, there is {test_perc_neg}% of negative reviews and {test_perc_pos}% of positive reviews.\")\n",
    "\n",
    "# Number of reviews and max size\n",
    "num_reviews_train = len(train_dict['full_reviews'])\n",
    "num_reviews_test = len(test_dict['full_reviews'])\n",
    "max_review_train = max([len(x) for x in train_dict['tokenized_reviews']])\n",
    "max_review_test = max([len(x) for x in test_dict['tokenized_reviews']])\n",
    "\n",
    "print(f\"For training set, number of reviews is {num_reviews_train} and length of max review is {max_review_train}\")\n",
    "print(f\"For test set, number of reviews is {num_reviews_test} and length of max review is {max_review_test}\")\n"
   ]
  },
  {
   "cell_type": "markdown",
   "metadata": {},
   "source": [
    "### Turn the data into a Dataset\n",
    "\n",
    "For time efficiency, we've also provided you a `torch.utils.data.Dataset` class below which generates an indexed vocabulary from a given corpus. Note that it replaces infrequent words with the `<UNK>` token and appends an `<EOS>` tag to the end of each review. Also note that it can accept another corpus' vocabulary instead of generating its own. This is helpful because, as you should remember from lecture, we need our model to be able to interpret and use all of the tokens that we encounter at _test time_. We always rely on our training set to provide us with the vocabulary we are expected to see, so it's nice to have the freedom to easily \"import\" another expansive vocabulary list."
   ]
  },
  {
   "cell_type": "code",
   "execution_count": 43,
   "metadata": {},
   "outputs": [],
   "source": [
    "# YOU DO NOT NEED ADD ANY CODE IN THIS CELL\n",
    "\n",
    "# Some useful helper functions, which we will need for later...\n",
    "PADDING_IDX = 0\n",
    "EOS_IDX = 1 \n",
    "UNK_IDX = 2\n",
    "\n",
    "def get_word_counts(reviews: List[List[str]]) -> Dict[str, int]:\n",
    "    \"\"\"\n",
    "    Given a tokenized corpus (in this case reviews), we count the frequency of\n",
    "    each word in the corpus\n",
    "    \"\"\"\n",
    "    word_counts = {}\n",
    "    for review in reviews:\n",
    "        for word in review:\n",
    "            if word in word_counts:\n",
    "                word_counts[word] += 1\n",
    "            else:\n",
    "                word_counts[word] = 1\n",
    "    return word_counts\n",
    "\n",
    "def generate_vocab(word_counts: Dict[str, int], min_freq: int) -> Tuple[Dict[str, int], int]:\n",
    "    \"\"\"\n",
    "    Given a set of word counts, we generate a vocabulary. We return two things\n",
    "    from this method:\n",
    "\n",
    "        1. A dict mapping tokens to indices\n",
    "        2. THe length of the vocab\n",
    "    \n",
    "    Words that occur fewer than `min_freq` are replaced with <UNK>\n",
    "    \"\"\"\n",
    "\n",
    "    sorted_words = sorted(word_counts.items(), key=lambda x: x[1], reverse=True)\n",
    "    vocab = {word: i+3 for i, (word, count) in enumerate(sorted_words) if count > min_freq}\n",
    "    vocab[\"<PAD>\"] = PADDING_IDX\n",
    "    vocab[\"<EOS>\"] = EOS_IDX \n",
    "    vocab[\"<UNK>\"] = UNK_IDX\n",
    "    return vocab, len(vocab)\n"
   ]
  },
  {
   "cell_type": "code",
   "execution_count": 44,
   "metadata": {},
   "outputs": [],
   "source": [
    "# YOU DO NOT NEED ADD ANY CODE IN THIS CELL\n",
    "class IMDBDataset(Dataset):   \n",
    "    def __init__(self, reviews: List[List[str]], sentiments: List[str], min_freq=3, vocab=None):\n",
    "        super().__init__()\n",
    "        \n",
    "        if vocab is None:\n",
    "            word_counts = get_word_counts(reviews)\n",
    "            self.vocab, self.vocab_size = generate_vocab(word_counts, min_freq)\n",
    "        else:\n",
    "            self.vocab = vocab\n",
    "            self.vocab_size = len(vocab)\n",
    "\n",
    "        self.reviews, self.targets = self._get_idx_dataset(reviews, sentiments, self.vocab)\n",
    "        \n",
    "    def __len__(self):\n",
    "        return len(self.targets)\n",
    "    \n",
    "    def __getitem__(self, idx):\n",
    "        return torch.tensor(self.reviews[idx]), torch.tensor(self.targets[idx])\n",
    "\n",
    "    def _get_idx_dataset(self, corpus: List[List[str]], labels: List[str], vocab):\n",
    "        reviews = []\n",
    "        targets = []\n",
    "        for review, label in zip(corpus, labels):\n",
    "            reviews.append([vocab[token] if token in vocab else vocab[\"<UNK>\"] for token in review] + [vocab[\"<EOS>\"]])\n",
    "            targets.append(0.0 if label == \"negative\" else 1.0)\n",
    "        \n",
    "        return reviews, targets"
   ]
  },
  {
   "cell_type": "markdown",
   "metadata": {},
   "source": [
    "<div class='q_yellow'><b>2.2 Instantiate Two Datasets [2 points]</b>\n",
    "    \n",
    "Instantiate two `IMDBDataset`'s, one train and one test, **making sure to use the training vocabulary when instantiating the test dataset** (as this is all our model rightfully knows).\n",
    "\n",
    "</div>"
   ]
  },
  {
   "cell_type": "code",
   "execution_count": 45,
   "metadata": {},
   "outputs": [],
   "source": [
    "# TODO: initialize the following datasets\n",
    "train_ds = IMDBDataset(train_dict['tokenized_reviews'], train_dict['sentiments'])\n",
    "test_ds = IMDBDataset(test_dict['tokenized_reviews'], test_dict['sentiments'], vocab=train_ds.vocab)\n",
    "\n",
    "#raise NotImplementedError   # TODO: implement"
   ]
  },
  {
   "cell_type": "code",
   "execution_count": null,
   "metadata": {},
   "outputs": [],
   "source": []
  },
  {
   "cell_type": "markdown",
   "metadata": {},
   "source": [
    "### <div class='q_yellow'><b>2.3 Collation and padding [2 points]</b>\n",
    "\n",
    "Each review is of varying length, but we'd like to combine them together into a single batch (i.e., a 2D matrix, where all data instances are of the same length). So, in order to batch them, we'll need to define a custom collate function which pads them all to the same length. This functionality is the same as in the first homework. However, unlike last time, we'll also need to return a Tensor of labels. Note that since our dataset's `__getitem__()` function returns multiple values (i.e., a Tuple), so our collate function will receive as input a **list of tuples.**\n",
    "\n",
    "</div>"
   ]
  },
  {
   "cell_type": "code",
   "execution_count": 46,
   "metadata": {},
   "outputs": [],
   "source": [
    "def pad_collate_classifier(batch: List[Tuple[torch.tensor, torch.tensor]]) -> Tuple[torch.tensor, torch.tensor]:\n",
    "    batch_tokens = [item[0] for item in batch]\n",
    "    batch_targets = [torch.unsqueeze(item[1],0) for item in batch]\n",
    "    padded_batch = pad_sequence(batch_tokens, batch_first=True, padding_value=PADDING_IDX)\n",
    "    return (padded_batch, torch.stack(batch_targets))"
   ]
  },
  {
   "cell_type": "markdown",
   "metadata": {},
   "source": [
    "<div class='q_yellow'><b>2.4 Instantiating DataLoaders [1 point]</b>\n",
    "\n",
    "Instantiate two `DataLoader` objects, one train and one test, with our custom collate function and with other arguments as appropriate (see the [docs](https://pytorch.org/docs/stable/data.html) for more details).\n",
    "\n",
    "</div>"
   ]
  },
  {
   "cell_type": "code",
   "execution_count": 47,
   "metadata": {},
   "outputs": [],
   "source": [
    "# TODO: intialize the dataloaders\n",
    "train_dl = DataLoader(train_ds, batch_size=32, shuffle=True, drop_last=True, collate_fn=pad_collate_classifier)\n",
    "test_dl = DataLoader(test_ds, batch_size=32, shuffle=True, drop_last=True, collate_fn=pad_collate_classifier)\n",
    "\n",
    "#raise NotImplementedError   # TODO: implement"
   ]
  },
  {
   "cell_type": "code",
   "execution_count": 48,
   "metadata": {},
   "outputs": [
    {
     "name": "stdout",
     "output_type": "stream",
     "text": [
      "(tensor([[2149,  236,    8,  ...,  916,  624,    1],\n",
      "        [  18,    5,   29,  ...,    0,    0,    0],\n",
      "        [ 324,   29,    4,  ...,    0,    0,    0],\n",
      "        ...,\n",
      "        [  32, 1137,    4,  ...,    0,    0,    0],\n",
      "        [  95,   32,  776,  ...,    0,    0,    0],\n",
      "        [  62,  150,  115,  ...,    0,    0,    0]]), tensor([[0.],\n",
      "        [1.],\n",
      "        [1.],\n",
      "        [1.],\n",
      "        [0.],\n",
      "        [1.],\n",
      "        [1.],\n",
      "        [0.],\n",
      "        [0.],\n",
      "        [1.],\n",
      "        [1.],\n",
      "        [0.],\n",
      "        [1.],\n",
      "        [1.],\n",
      "        [1.],\n",
      "        [1.],\n",
      "        [0.],\n",
      "        [0.],\n",
      "        [1.],\n",
      "        [1.],\n",
      "        [1.],\n",
      "        [0.],\n",
      "        [0.],\n",
      "        [0.],\n",
      "        [1.],\n",
      "        [1.],\n",
      "        [0.],\n",
      "        [0.],\n",
      "        [1.],\n",
      "        [1.],\n",
      "        [0.],\n",
      "        [1.]]))\n",
      "(tensor([[  36,  599, 1063,  ...,    0,    0,    0],\n",
      "        [ 154,   68, 3132,  ...,    0,    0,    0],\n",
      "        [ 144, 1040,  357,  ...,    0,    0,    0],\n",
      "        ...,\n",
      "        [ 180,  180,  180,  ...,    0,    0,    0],\n",
      "        [  65,   50,  302,  ...,    0,    0,    0],\n",
      "        [ 181, 2445,   86,  ...,    0,    0,    0]]), tensor([[0.],\n",
      "        [1.],\n",
      "        [0.],\n",
      "        [1.],\n",
      "        [0.],\n",
      "        [0.],\n",
      "        [1.],\n",
      "        [0.],\n",
      "        [0.],\n",
      "        [0.],\n",
      "        [0.],\n",
      "        [1.],\n",
      "        [1.],\n",
      "        [0.],\n",
      "        [0.],\n",
      "        [1.],\n",
      "        [1.],\n",
      "        [0.],\n",
      "        [1.],\n",
      "        [1.],\n",
      "        [0.],\n",
      "        [1.],\n",
      "        [0.],\n",
      "        [0.],\n",
      "        [0.],\n",
      "        [0.],\n",
      "        [1.],\n",
      "        [0.],\n",
      "        [0.],\n",
      "        [1.],\n",
      "        [1.],\n",
      "        [0.]]))\n"
     ]
    }
   ],
   "source": [
    "train_batch = next(iter(train_dl))\n",
    "test_batch = next(iter(test_dl))\n",
    "print(train_batch)\n",
    "print(test_batch)\n"
   ]
  },
  {
   "cell_type": "markdown",
   "metadata": {},
   "source": [
    "<div class='q_yellow'><b>2.5 The LSTM Encoder [7 points]</b>\n",
    "\n",
    "Now it's time to implement the Encoder class. As usual, we'll extend the `torch.nn.Module` class. Remember that we have to implement the following methods:\n",
    "1. An `__init__()` method which instantializes the `Module` object. Here, we typically save input variables (such as model hyperparameters) and define/instantiate our layers. \n",
    "    - For the LSTM Encoder, we've provided the signature of `__init__()`. \n",
    "    - For simplicity, instantiate a fresh Embedding layer (rather than using existing embeddings)\n",
    "    - No need implement your own LSTM from scratch! For this homework, it suffices to use the PyTorch [LSTM](https://pytorch.org/docs/stable/generated/torch.nn.LSTM.html) class. Be sure to read the docs thoroughly to understand the parameters.\n",
    "\n",
    "2. A `forward()` method which takes as input (1) a batch of data from the `DataLoader`; and (2) the lengths of each sequence in the batch. The `forward()` method returns a tuple of two tensors: (a) the final hidden state (i.e., \"short-term memory\") and (b) the final cell state (i.e., \"long-term memory\") of the LSTM.\n",
    "\n",
    "In your code for `forward()`, you will need to make use of a function that is important for RNNs: the `torch.nn.utils.rnn` method [`pack_padded_sequence`](https://pytorch.org/docs/stable/generated/torch.nn.utils.rnn.pack_padded_sequence.html).  To gain some intuition on what this method is doing, see this [StackOverflow post](https://stackoverflow.com/questions/51030782/why-do-we-pack-the-sequences-in-pytorch/) (especially the diagrams).  There are two reasons why we need `pack_padded_sequence()`:\n",
    "- First, packing saves computation for batch sequences, especially if there is a lot of padding involved. Packing before feeding sequences to an LSTM can speed up computation if there is one sequence in your batch that is much longer than all of the others.\n",
    "- The second, and more important, reason is that packing is used for *extracting the correct hidden state for each element of the batch* after passing the sequence through the LSTM.  Let's say we have $B$ sequences in our batch, and they have lengths $t_1, t_2, \\ldots, t_B$.  The size of `input_seqs` (i.e., the input to `forward()`) will be $B \\times T$, where $T = \\max_{i=1}^B t_i$.  Recall that in LSTMs, a hidden state is generated *for each time step* from $1$ to $T$. However, we want to ensure that for the first element in the batch, we end up extracting the hidden state corresponding to time $t_1$ (and for the second element, $t_2$, and for the third element, $t_3$, etc.). In short, packing helps us achieve this.\n",
    "    \n",
    "</div>\n"
   ]
  },
  {
   "cell_type": "code",
   "execution_count": 49,
   "metadata": {},
   "outputs": [],
   "source": [
    "## ASK WHERE WE SHOULD USE PADDING IDX\n",
    "class EncoderLSTM(nn.Module):\n",
    "    def __init__(self, input_size: int, hidden_size: int, padding_idx: int):\n",
    "        super(EncoderLSTM, self).__init__()\n",
    "        self.input_size = input_size\n",
    "        self.hidden_size = hidden_size\n",
    "        self.padding_idx = padding_idx\n",
    "        self.embeddings = nn.Embedding(input_size, hidden_size)#, padding_idx=self.padding_idx) \n",
    "        self.lstm = nn.LSTM(hidden_size, hidden_size, batch_first=True) ## ASK WHAT TO DO WITH THESE DIMENSIONS\n",
    "        \n",
    "    def forward(self, input_seqs: torch.tensor) -> Tuple[torch.tensor, torch.tensor]:\n",
    "        seqs_length = [((t == self.padding_idx).nonzero(as_tuple=True)[0])[0].item() if len(((t == self.padding_idx).nonzero(as_tuple=True)[0])) != 0 else t.shape.numel() for t in input_seqs]\n",
    "        embedding_sequences = self.embeddings(input_seqs)\n",
    "        packed_seq_batch = torch.nn.utils.rnn.pack_padded_sequence(embedding_sequences, lengths=seqs_length, batch_first=True, enforce_sorted=False)\n",
    "        output, (hn, cn) = self.lstm(packed_seq_batch) \n",
    "        return (hn, cn)\n",
    "        "
   ]
  },
  {
   "cell_type": "code",
   "execution_count": 50,
   "metadata": {},
   "outputs": [],
   "source": [
    "# Evaluation cell\n",
    "\n",
    "#LSTM = EncoderLSTM(10, 10, 4)\n",
    "# evaluation cell\n",
    "batch = next(iter(train_dl))\n",
    "model = EncoderLSTM(train_dl.dataset.vocab_size, 100, PADDING_IDX)\n",
    "hidden_cell, final_cell = model(batch[0]) # Alias for model.forward(batch)\n",
    "\n"
   ]
  },
  {
   "cell_type": "code",
   "execution_count": 51,
   "metadata": {},
   "outputs": [
    {
     "data": {
      "text/plain": [
       "torch.Size([1, 32, 100])"
      ]
     },
     "execution_count": 51,
     "metadata": {},
     "output_type": "execute_result"
    }
   ],
   "source": [
    "final_cell.shape"
   ]
  },
  {
   "cell_type": "markdown",
   "metadata": {},
   "source": [
    "<div class='q_yellow'><b>2.6 Binary Classifier [7 points]</b>\n",
    "\n",
    "Now we can use our Encoder class to create a binary classifier! Again, we'll subclass `torch.nn.Module`, and you'll need to implement the `__init__()` and `forward()` methods. \n",
    "\n",
    "Since we've already designed the Encoder, we can use an instance of our LSTM Encoder class here. In particular, we can take the final (hidden, cell) states as features and use them as input to a standard classifier network. We'll leave the particular details up to you here. \n",
    "\n",
    "As this is a binary classifier, you may want to add a final sigmoid output layer to your network. However, best practice is to leave the model without the softmax and instead incorporate it into the loss function (take a look at [`torch.nn.BCEWithLogitsLoss`](https://pytorch.org/docs/stable/generated/torch.nn.BCEWithLogitsLoss.html) and the more general [`torch.nn.CrossEntropyLoss`](https://pytorch.org/docs/stable/generated/torch.nn.CrossEntropyLoss.html)) due to numerical stability improvements from the [log-sum-exp trick](https://gregorygundersen.com/blog/2020/02/09/log-sum-exp/). Thus, your model should output logits (i.e., values *before* softmax), rather than probabilities (i.e., values *after* softmax), and use an appropriate loss function.\n",
    "</div>"
   ]
  },
  {
   "cell_type": "code",
   "execution_count": 52,
   "metadata": {},
   "outputs": [],
   "source": [
    "class BinaryClassifier(nn.Module):\n",
    "    def __init__(self, input_size: int, hidden_size: int, padding_idx: int):\n",
    "        super(BinaryClassifier, self).__init__()\n",
    "        self.input_size = input_size\n",
    "        self.hidden_size = hidden_size\n",
    "        self.padding_idx = padding_idx\n",
    "        \n",
    "        # Number of input features is 12.\n",
    "        self.layer1 = nn.Linear(self.hidden_size*2, 256)\n",
    "        self.dropout = nn.Dropout(p=0.05)\n",
    "        self.batchnorm1 = nn.BatchNorm1d(32)\n",
    "        self.relu = nn.ReLU()\n",
    "        self.layer_out = nn.Linear(256, 1) \n",
    "        self.encoder = EncoderLSTM(self.input_size, self.hidden_size, self.padding_idx)\n",
    "\n",
    "    def forward(self, input_seq):\n",
    "        hidden_cell, final_cell = self.encoder(input_seq)\n",
    "        concat_cell_torch = torch.cat([hidden_cell, final_cell], -1)\n",
    "        out = self.layer1(concat_cell_torch)\n",
    "        out = self.batchnorm1(out)\n",
    "        out = self.relu(out)\n",
    "        out = self.dropout(out)\n",
    "        \n",
    "        output = self.layer_out(out)\n",
    "        return output"
   ]
  },
  {
   "cell_type": "markdown",
   "metadata": {},
   "source": [
    "<div class='q_yellow'><b>2.7 Train the classifier [9 points]</b>\n",
    "\n",
    "Now, we get to train our classifier! Remember that we'll need to:\n",
    "1. Choose an optimizer. (Adam with default settings works well for us but feel free to experiment!)\n",
    "2. Choose a loss function. (Remember that for classifiers, this should be tied to your model's final, output layer.)\n",
    "3. Write a training loop. (We recommend 10-15 epochs.) **Please compute and print/graph a loss and a classification accuracy for each epoch on both the test and train sets.**\n",
    "    \n",
    "For reference, our solution runs 8 epochs in 7 minutes 25 seconds (on an i7-8650U @ 1.9 GHz).\n",
    "</div>\n",
    "\n"
   ]
  },
  {
   "cell_type": "code",
   "execution_count": 53,
   "metadata": {
    "scrolled": true
   },
   "outputs": [
    {
     "name": "stdout",
     "output_type": "stream",
     "text": [
      "Epoch 1, training loss: 0.633, training accuracy: 63.464\n",
      "Epoch 1, testing loss: 0.013, testing accuracy: 72.774\n",
      "Epoch 2, training loss: 0.551, training accuracy: 71.856\n",
      "Epoch 2, testing loss: 0.022, testing accuracy: 76.677\n",
      "Epoch 3, training loss: 0.340, training accuracy: 85.880\n",
      "Epoch 3, testing loss: 0.021, testing accuracy: 81.258\n",
      "Epoch 4, training loss: 0.230, training accuracy: 91.568\n",
      "Epoch 4, testing loss: 0.007, testing accuracy: 81.258\n",
      "Epoch 5, training loss: 0.143, training accuracy: 94.864\n",
      "Epoch 5, testing loss: 0.016, testing accuracy: 78.871\n",
      "Epoch 6, training loss: 0.120, training accuracy: 95.904\n",
      "Epoch 6, testing loss: 0.018, testing accuracy: 77.613\n",
      "Epoch 7, training loss: 0.058, training accuracy: 98.248\n",
      "Epoch 7, testing loss: 0.043, testing accuracy: 79.194\n",
      "Epoch 8, training loss: 0.072, training accuracy: 97.536\n",
      "Epoch 8, testing loss: 0.034, testing accuracy: 79.258\n",
      "Epoch 9, training loss: 0.045, training accuracy: 98.560\n",
      "Epoch 9, testing loss: 0.026, testing accuracy: 79.903\n",
      "Epoch 10, training loss: 0.010, training accuracy: 99.736\n",
      "Epoch 10, testing loss: 0.038, testing accuracy: 79.742\n",
      "Epoch 11, training loss: 0.002, training accuracy: 99.952\n",
      "Epoch 11, testing loss: 0.081, testing accuracy: 80.774\n",
      "Epoch 12, training loss: 0.001, training accuracy: 99.976\n",
      "Epoch 12, testing loss: 0.027, testing accuracy: 80.742\n",
      "Finished Training\n",
      "CPU times: user 20min 23s, sys: 1min 26s, total: 21min 49s\n",
      "Wall time: 15min 18s\n"
     ]
    }
   ],
   "source": [
    "%%time \n",
    "\n",
    "final_model = BinaryClassifier(train_dl.dataset.vocab_size, 512, PADDING_IDX)\n",
    "\n",
    "from torch.nn import BCEWithLogitsLoss\n",
    "\n",
    "def binary_acc(y_pred, y_test):\n",
    "    y_pred_tag = torch.round(torch.sigmoid(y_pred))\n",
    "\n",
    "    correct_results_sum = (y_pred_tag == y_test).sum().float()\n",
    "    acc = correct_results_sum/y_test.shape[0]\n",
    "    acc = torch.round(acc * 100)\n",
    "    \n",
    "    return acc\n",
    "\n",
    "# TODO: train the model!\n",
    "loss_function = BCEWithLogitsLoss()\n",
    "optimizer =  Adam(final_model.parameters(), lr=0.001, weight_decay=0.00001)\n",
    "epochs = 12\n",
    "\n",
    "losses = {\n",
    "    'train': [], # keep track of your losses in these lists\n",
    "    'test': []\n",
    "}\n",
    "\n",
    "accuracies = {\n",
    "    'train': [],\n",
    "    'test': []\n",
    "}\n",
    "\n",
    "for epoch in range(epochs):\n",
    "    running_loss = 0.0\n",
    "    avg_training_acc = 0\n",
    "    test_running_loss = 0.0\n",
    "    avg_testing_acc = 0\n",
    "    \n",
    "    for i, train_batch in enumerate(train_dl):\n",
    "        word_seq, targets = train_batch\n",
    "        \n",
    "        just_model = torch.squeeze(final_model(word_seq),0)\n",
    "        loss = loss_function(just_model, targets)\n",
    "        training_acc = binary_acc(just_model, targets)\n",
    "        \n",
    "        optimizer.zero_grad()\n",
    "        loss.backward()\n",
    "        optimizer.step()\n",
    "        \n",
    "        running_loss += loss.item()\n",
    "        avg_training_acc += training_acc.item()\n",
    "        \n",
    "    for i, test_batch in enumerate(test_dl):\n",
    "        with torch.no_grad():\n",
    "    \n",
    "            test_word_seq, test_targets = test_batch\n",
    "            final_model.eval()\n",
    "            test_logit_output = torch.squeeze(final_model(test_word_seq), 0)\n",
    "            test_loss = loss_function(test_logit_output, test_targets)\n",
    "            testing_acc = binary_acc(test_logit_output, test_targets)\n",
    "            \n",
    "            test_running_loss += test_loss.item()\n",
    "            avg_testing_acc += testing_acc.item()\n",
    "\n",
    "        \n",
    "    print('Epoch %d, training loss: %.3f, training accuracy: %.3f' %\n",
    "            (epoch + 1, running_loss/len(train_dl), avg_training_acc/len(train_dl)))\n",
    "    print('Epoch %d, testing loss: %.3f, testing accuracy: %.3f' %\n",
    "            (epoch + 1, test_loss/len(test_dl), avg_testing_acc/len(test_dl)))\n",
    "    \n",
    "    losses['train'].append(running_loss/len(train_dl))\n",
    "    losses['test'].append(test_running_loss/len(test_dl))\n",
    "    accuracies['train'].append(avg_training_acc/len(train_dl))\n",
    "    accuracies['test'].append(avg_testing_acc/len(test_dl))\n",
    "    \n",
    "print(\"Finished Training\")\n"
   ]
  },
  {
   "cell_type": "code",
   "execution_count": 54,
   "metadata": {},
   "outputs": [
    {
     "name": "stdout",
     "output_type": "stream",
     "text": [
      "{'train': [0.633010810136795, 0.5508565953969955, 0.33979962587356566, 0.230233225107193, 0.14267847253382207, 0.12023570550978184, 0.057634784769266846, 0.07170662193931639, 0.044881610985845324, 0.009590006170561537, 0.0022450025199796074, 0.0014981188217643648], 'test': [0.5281161137165562, 0.5685331643589081, 0.4289443146797918, 0.5061669227096343, 0.5461046258288045, 0.7217815571254299, 0.7109184438182462, 0.7952902956355002, 0.8827915297400567, 1.0788730642487925, 1.188762322548897, 1.2467801164715522]}\n"
     ]
    },
    {
     "data": {
      "text/plain": [
       "<matplotlib.axes._subplots.AxesSubplot at 0x7fb7e06e0f50>"
      ]
     },
     "execution_count": 54,
     "metadata": {},
     "output_type": "execute_result"
    },
    {
     "data": {
      "image/png": "[encoded data removed]",
      "text/plain": [
       "<Figure size 432x288 with 1 Axes>"
      ]
     },
     "metadata": {
      "needs_background": "light"
     },
     "output_type": "display_data"
    }
   ],
   "source": [
    "# optionally plot your losses\n",
    "print(losses)\n",
    "pd.DataFrame(losses).plot(title='Train and Validation Loss')"
   ]
  },
  {
   "cell_type": "code",
   "execution_count": 55,
   "metadata": {},
   "outputs": [
    {
     "name": "stdout",
     "output_type": "stream",
     "text": [
      "{'train': [63.464, 71.856, 85.88, 91.568, 94.864, 95.904, 98.248, 97.536, 98.56, 99.736, 99.952, 99.976], 'test': [72.7741935483871, 76.6774193548387, 81.25806451612904, 81.25806451612904, 78.87096774193549, 77.61290322580645, 79.19354838709677, 79.25806451612904, 79.90322580645162, 79.74193548387096, 80.7741935483871, 80.74193548387096]}\n"
     ]
    },
    {
     "data": {
      "text/plain": [
       "<matplotlib.axes._subplots.AxesSubplot at 0x7fb7e06f4890>"
      ]
     },
     "execution_count": 55,
     "metadata": {},
     "output_type": "execute_result"
    },
    {
     "data": {
      "image/png": "[encoded data removed]",
      "text/plain": [
       "<Figure size 432x288 with 1 Axes>"
      ]
     },
     "metadata": {
      "needs_background": "light"
     },
     "output_type": "display_data"
    }
   ],
   "source": [
    "# optionally plot your losses\n",
    "print(accuracies)\n",
    "pd.DataFrame(accuracies).plot(title='Train and Validation Accuracy')"
   ]
  },
  {
   "cell_type": "markdown",
   "metadata": {},
   "source": [
    "<div class='q_yellow'><b>2.8 Explore the model [2 points]</b>\n",
    "    \n",
    "Congrats on training your model! Hopefully you see meaningful results on a macroscopic scale (in terms of training/test loss). Now, let's explore our model from a more _microscopic_ perspective. **Please display three sentences** in the test set that (a) were classified correctly by your model and (b) were classified incorrectly **(for a grand total of 6 sentences)**. Do you notice anything interesting about these sentences that could help explain why the model classified them correctly or incorrectly? (Note: There is no particular, exact answer we are looking for here; rather, we are just looking to see if you say something reasonable, justifying, and plausible.)"
   ]
  },
  {
   "cell_type": "code",
   "execution_count": 56,
   "metadata": {},
   "outputs": [
    {
     "name": "stdout",
     "output_type": "stream",
     "text": [
      "[0, 1, 2]\n",
      "[3, 4, 12]\n",
      "These are correct sentences: \n",
      "1. movie film history every way one care anyone think movie transcend criticism every flaw movie easily overcome many amaze thing movie go extremely beautiful movie doubt many u see anything like see time care count still become <UNK> every time feel hard describe one age, WITH TARGET SENTIMENT 1.0 and PREDICTED SENTIMENT 1.0\n",
      "2. despite age film <UNK> <UNK> charm attraction fine survive example early british cinema underlie air <UNK> <UNK> <UNK> humour place serve demonstrate assure direction production value involve many <UNK> type film disjoint <UNK> one standard act help great deal various <UNK> character come across interest believable little gem well worth anyone attention spite one jar note film surprisingly escape <UNK> attention, WITH TARGET SENTIMENT 1.0 and PREDICTED SENTIMENT 1.0\n",
      "3. enjoy movie unlike like pump <UNK> trash pas action movie play god simple realistic character believable action top enough twist turn keep interest end well direct well act good story, WITH TARGET SENTIMENT 1.0 and PREDICTED SENTIMENT 1.0\n",
      "\n",
      "\n",
      "These are incorrect sentences: \n",
      "1. want say disappoint see movie expect <UNK> story <UNK> great special fx etc film find absolute disaster <UNK> boat animal similar story want visual bible version <UNK> go watch movie, WITH TARGET SENTIMENT 0.0 and PREDICTED SENTIMENT 1.0\n",
      "2. course <UNK> already exactly ideal name dancer think michael really push irony <UNK> new title foot flame one really ca resist recommend <UNK> foot <UNK> retire clearly <UNK> <UNK> might add much like cheer london crowd per review <UNK> last live performance hint may last live performance <UNK> cheer <UNK> london crowd perry <UNK> movie guide, WITH TARGET SENTIMENT 0.0 and PREDICTED SENTIMENT 1.0\n",
      "3. okay know like movie pat <UNK> <UNK> interpretation japanese stereotype jay leno annoy yell laugh throughout long take account best movie world good <UNK> favorite part <UNK> talk bos tokyo drink close second, WITH TARGET SENTIMENT 1.0 and PREDICTED SENTIMENT 0.0\n",
      "abc\n"
     ]
    }
   ],
   "source": [
    "# TODO: explore your trained model!\n",
    "correct_sentences = []\n",
    "incorrect_sentences = []\n",
    "vocab = test_dl.dataset.vocab\n",
    "index_to_word = {v: k for k, v in vocab.items()}\n",
    "\n",
    "test_batch = next(iter(test_dl))\n",
    "while len(correct_sentences)<3 and len(incorrect_sentences) < 3:\n",
    "    test_word_seq, test_targets = test_batch\n",
    "    test_logit_output = torch.squeeze(final_model(test_word_seq), 0)\n",
    "    test_preds = torch.round(torch.sigmoid(test_logit_output))\n",
    "    for i, (pred, target) in enumerate(zip(test_preds, test_targets)):\n",
    "        if pred.item() == target.item():\n",
    "            if len(correct_sentences) < 3:\n",
    "                correct_sentences.append(i)\n",
    "            else:\n",
    "                continue\n",
    "        else:\n",
    "            #import pdb\n",
    "            #pdb.set_trace()\n",
    "            if len(incorrect_sentences) < 3:\n",
    "                incorrect_sentences.append(i)\n",
    "            else:\n",
    "                continue\n",
    "        if len(correct_sentences) == len(incorrect_sentences) and len(correct_sentences) == 3:\n",
    "            break\n",
    "    \n",
    "print(correct_sentences)\n",
    "print(incorrect_sentences)\n",
    "\n",
    "print(\"These are correct sentences: \")\n",
    "for i, idx in enumerate(correct_sentences):\n",
    "    correct_tokens =  test_word_seq[i]\n",
    "    sentence_words = [index_to_word[idx_tok.item()] for idx_tok in correct_tokens if idx_tok > 1]\n",
    "    word = \" \".join(sentence_words)\n",
    "    print(f\"{i + 1}. {word}, WITH TARGET SENTIMENT {test_targets[idx].item()} and PREDICTED SENTIMENT {test_preds[idx].item()}\")\n",
    "print(\"\\n\")\n",
    "    \n",
    "print(\"These are incorrect sentences: \")\n",
    "for i, idx in enumerate(incorrect_sentences):\n",
    "    incorrect_tokens =  test_word_seq[idx]\n",
    "    sentence_words = [index_to_word[idx_tok.item()] for idx_tok in incorrect_tokens if idx_tok > 1]\n",
    "    word = \" \".join(sentence_words)\n",
    "    print(f\"{i + 1}. {word}, WITH TARGET SENTIMENT {test_targets[idx].item()} and PREDICTED SENTIMENT {test_preds[idx].item()}\")\n",
    "    \n",
    "\n",
    "print(\"abc\")"
   ]
  },
  {
   "cell_type": "markdown",
   "metadata": {},
   "source": [
    "From the results of incorrect and correct sentences above, we can see that for the correctly predicted reviews, these revies have a lot of strong sentiment words (e.g. well, good, beautiful). And in general, when we look at the rough ideas these reviews try to convey they are either strongly positive or strongly negative, but there is no mild intention. On the contrary, on the incorrectly predicted reviews, we see that the reviews do have some strong words (either positive or negative) but there is also some mention of a positive aspect of the movie or some reviews are very neutral. Thus we see that without these strong sentiment words the model is having a hard time deciding what category they belong to."
   ]
  },
  {
   "cell_type": "markdown",
   "metadata": {},
   "source": [
    "<div class=\"header_yellow\"> \n",
    "    \n",
    "# Machine Translation \n",
    "    \n",
    "</div>\n",
    "</br>\n",
    "\n",
    "Now that we've warmed up by implementing a sentiment analysis model, we're reading to try a new task: machine translation. Fortunately, we can re-use some of your work from the previous part! We now want to add a Decoder component to your architecture to perform sequence-to-sequence translation. \n",
    "\n",
    "Why are we doing machine translation? As we mentioned at the beginning of this notebook, your task is to help save the day by determining which language the Dark Web hackers are speaking. That is, we've obtained some text from them which seems non-sensical. However, the investigators currently suspect it's either Danish, English, German, Finnish, or Spanish.\n",
    "\n",
    "Your first task is to assume it's English and to see how well you can translate from a bunch of their \"noisy\" data to English (we were fortunate to have a parallel corpus that includes the exact English equivalent of their noisy data).\n",
    "\n",
    "The investigation includes some amazing linguists who were able to also provide parallel corpora for all other languages mentioned above. So, your second task is to consider each of these languages as the true \"source\" language, and aim to translate each to the \"noisy\" target (aka mystery language) that the hackers have been communicating with.\n",
    "\n",
    "Best of luck!\n",
    "\n",
    "Pictured below is our only footage of the suspects:\n",
    "\n",
    "<img src=\"images/hackers1.png\" width=\"400\"><img src=\"images/hackers2.png\" width=\"400\"> (Fun Fact: movie star Angelina Jolie was in this movie, Hackers (1995))"
   ]
  },
  {
   "cell_type": "markdown",
   "metadata": {},
   "source": [
    "### Data\n",
    "Like before, we have provided pre-tokenized data for you to use. The data\n",
    "files consist of a train set `mt_train_sentences.pkl`, a validation set `mt_val_sentences.pkl`, and a test set `mt_test_sentences.pkl`, \n",
    "with corresponding lists of examples from all six languages:\n",
    "\n",
    "- Danish\n",
    "- English\n",
    "- German\n",
    "- Finnish\n",
    "- Spanish\n",
    "- Mystery langauge\n",
    "\n",
    "\n",
    "The file is formatted as:\n",
    "\n",
    "```\n",
    "{\n",
    "    'danish': [\n",
    "        [token token token ...],\n",
    "        [token token token ...],\n",
    "        ...\n",
    "    ]\n",
    "    'english': [\n",
    "        [token token token ...],\n",
    "        [token token token ...],\n",
    "        ...\n",
    "    ],\n",
    "    'mystery': [\n",
    "        [token token token ...],\n",
    "        [token token token ...],\n",
    "        ...\n",
    "    ],\n",
    "    # etc\n",
    "}\n",
    "```\n",
    "\n",
    "The key indicates the source language, and the $n$-th sentence (`[token token token ...]`) in each list are parallel translations in one of the six languages.\n",
    "\n",
    "Again, in short, your tasks are to:\n",
    "\n",
    "**(a)** train your model on the mystery -> English corpus;\n",
    "\n",
    "**(b)** train your model on each of the five pairings:\n",
    "-  Danish -> Mystery\n",
    "-  English -> Mystery\n",
    "-  German -> Mystery\n",
    "-  Finnish -> Mystery\n",
    "-  Spanish -> Mystery\n",
    "\n",
    "**Note:** these pairings are the reverse of what you did in part **a**. This is because it's natural to view the Mystery language as being the denoised version of the true, \"source\" language. So, we wish to model the mapping from the original source to this denoised version.\n",
    "\n",
    "**(c)** use the results to figure out the identity of the original mystery language you've been given.\n",
    "\n",
    "**Note:** we've randomly assigned mystery languages to each student, so your\n",
    "friend's language will not match up with your own."
   ]
  },
  {
   "cell_type": "markdown",
   "metadata": {},
   "source": [
    "<div class='q_yellow'><b>2.9 Process translation data [2 points]</b>\n",
    "    \n",
    "In the cell below, we provide pre-processing code to load in each dataset and build in its dataloader. \n",
    "Almost everything is given to you *except* the collate function, which you will\n",
    "have to implement in the same style as the previous part, but now adapted for\n",
    "seq2seq translation.\n",
    "\n",
    "Please spend some time reading through the code and playing around with the objects to make sure you understand them.  For example, we recommend that you explore a few batches in each dataloader to understand what will be fed to the model.  Recall that you can generate a batch from any dataloader `dl` with `next(iter(dl))`. \n",
    "    \n",
    "</div>"
   ]
  },
  {
   "cell_type": "code",
   "execution_count": 19,
   "metadata": {},
   "outputs": [],
   "source": [
    "with open(\"data/mt_train_sentences.pkl\", \"rb\") as f:\n",
    "    train_dict = pickle.load(f)\n",
    "\n",
    "with open(\"data/mt_val_sentences.pkl\", \"rb\") as f:\n",
    "    val_dict = pickle.load(f)\n",
    "\n",
    "with open(\"data/mt_test_sentences.pkl\", \"rb\") as f:\n",
    "    test_dict = pickle.load(f)\n",
    "\n",
    "class TranslationDataset(Dataset):   \n",
    "    def __init__(self, source: List[List[str]], target: List[List[str]], min_freq=3, source_vocab=None, target_vocab=None):\n",
    "        super().__init__()\n",
    "        \n",
    "        if source_vocab is None and target_vocab is None:\n",
    "            self.source_vocab, self.source_vocab_size = generate_vocab(get_word_counts(source), min_freq)\n",
    "            self.target_vocab, self.target_vocab_size = generate_vocab(get_word_counts(target), min_freq)\n",
    "        else:\n",
    "            self.source_vocab = source_vocab\n",
    "            self.source_vocab_size = len(source_vocab)\n",
    "\n",
    "            self.target_vocab = target_vocab\n",
    "            self.target_vocab_size = len(target_vocab)\n",
    "\n",
    "        self.source, self.target = self._get_idx_dataset(source, target, self.source_vocab, self.target_vocab)\n",
    "        \n",
    "    def __len__(self):\n",
    "        return len(self.target)\n",
    "    \n",
    "    def __getitem__(self, idx):\n",
    "        return torch.tensor(self.source[idx]), torch.tensor(self.target[idx])\n",
    "\n",
    "    def _get_idx_dataset(self, source: List[List[str]], target: List[List[str]], source_vocab: Dict[str, int], target_vocab: Dict[str, int]):\n",
    "        source_toks = []\n",
    "        target_toks = []\n",
    "\n",
    "        for src, tar in zip(source, target):\n",
    "            source_toks.append([source_vocab[token] if token in source_vocab else source_vocab[\"<UNK>\"] for token in src] + [source_vocab[\"<EOS>\"]])\n",
    "            target_toks.append([target_vocab[\"<EOS>\"]] + [target_vocab[token] if token in target_vocab else target_vocab[\"<UNK>\"] for token in tar] + [target_vocab[\"<EOS>\"]])\n",
    "        \n",
    "        return source_toks, target_toks\n",
    "\n",
    "train_ds = TranslationDataset(train_dict[\"mystery\"], train_dict[\"english\"])\n",
    "test_ds = TranslationDataset(test_dict[\"mystery\"], test_dict[\"english\"], source_vocab=train_ds.source_vocab, target_vocab=train_ds.target_vocab)\n",
    "val_ds = TranslationDataset(val_dict[\"mystery\"], val_dict[\"english\"], source_vocab=train_ds.source_vocab, target_vocab=train_ds.target_vocab)\n",
    "\n",
    "# TODO: implement this padding function\n",
    "# ASK IF BASICALLY WE NEED TO PAD BOTH TENSORS in batch[0] to be of the same size or do we need to patch all \n",
    "# tensors in batch[0] (for all 32 entries) \n",
    "def pad_collate(batch: List[Tuple[torch.tensor, torch.tensor]]) -> Tuple[torch.tensor, torch.tensor]:\n",
    "    batch_source_lang = [item[0] for item in batch]\n",
    "    batch_target_lang = [item[1] for item in batch]\n",
    "    padded_source_lang = pad_sequence(batch_source_lang, batch_first=True, padding_value=PADDING_IDX)\n",
    "    padded_target_lang = pad_sequence(batch_target_lang, batch_first=True, padding_value=PADDING_IDX)\n",
    "    return (padded_source_lang, padded_target_lang)\n",
    "    \n",
    "train_dl = DataLoader(train_ds, collate_fn=pad_collate, num_workers=0, shuffle=True, batch_size=32)\n",
    "test_dl = DataLoader(test_ds, collate_fn=pad_collate, num_workers=0, shuffle=True, batch_size=32)\n",
    "val_dl = DataLoader(val_ds, collate_fn=pad_collate, num_workers=0, shuffle=True, batch_size=32)"
   ]
  },
  {
   "cell_type": "code",
   "execution_count": 20,
   "metadata": {},
   "outputs": [
    {
     "name": "stdout",
     "output_type": "stream",
     "text": [
      "tensor([[   4,  343,    7,    6, 1806,   33,   32,  230,  631, 1092,    2,    2,\n",
      "          117,    2,    2, 1037,   21,    2, 1189,    1,    0,    0,    0,    0,\n",
      "            0,    0],\n",
      "        [  45,  111,    9,   10,    2,   64,   65,   29,   25,  189,    2,  144,\n",
      "          267,    1,    0,    0,    0,    0,    0,    0,    0,    0,    0,    0,\n",
      "            0,    0],\n",
      "        [  11,    8,   58,    2,    9,   10,  134,  135,  136,  249,    1,    0,\n",
      "            0,    0,    0,    0,    0,    0,    0,    0,    0,    0,    0,    0,\n",
      "            0,    0],\n",
      "        [  11,    8,    2,  144,   20,   55,   12,    2,   29, 1324, 1325,  115,\n",
      "          732,    2,    1,    0,    0,    0,    0,    0,    0,    0,    0,    0,\n",
      "            0,    0],\n",
      "        [   4,  174,   30,   18,   85,    2,    2,  276,    1,    0,    0,    0,\n",
      "            0,    0,    0,    0,    0,    0,    0,    0,    0,    0,    0,    0,\n",
      "            0,    0],\n",
      "        [  25,    2,    2,    2,   74,   75,   46,  175,   29,  176, 1240, 1241,\n",
      "          727,   20,   98,    2,    2,    1,    0,    0,    0,    0,    0,    0,\n",
      "            0,    0],\n",
      "        [  56,   59,  125,   25,   63,   14,   19,  967,    2,    2,    2,  586,\n",
      "            2,   20, 1786, 1787,    1,    0,    0,    0,    0,    0,    0,    0,\n",
      "            0,    0],\n",
      "        [  11,    8,   21,    2,  137,  138,   67,    1,    0,    0,    0,    0,\n",
      "            0,    0,    0,    0,    0,    0,    0,    0,    0,    0,    0,    0,\n",
      "            0,    0],\n",
      "        [   4,   55,   12,   42,   24,    3, 1406,   46,   20,   42,   24, 1017,\n",
      "           20,    2,    1,    0,    0,    0,    0,    0,    0,    0,    0,    0,\n",
      "            0,    0],\n",
      "        [  51,   52,   53,  737,    9,   10,  134,  135,  136,   12,  132,  131,\n",
      "           62,  638,  639,   37, 1150,   54,    1,    0,    0,    0,    0,    0,\n",
      "            0,    0],\n",
      "        [  20,  558,   22,   17,   44,    4,  318,   17,   70,  319,   87,   84,\n",
      "            9,   10,  254,   26,   15,   16,  692,    1,    0,    0,    0,    0,\n",
      "            0,    0],\n",
      "        [   5,    3,   13,   58,  388,    2,    9,   10,   12,  132,  131,    1,\n",
      "            0,    0,    0,    0,    0,    0,    0,    0,    0,    0,    0,    0,\n",
      "            0,    0],\n",
      "        [   5,    3,    2, 1464,   56,   15,   16,    5,    3,  630,  508,  607,\n",
      "          608,    1,    0,    0,    0,    0,    0,    0,    0,    0,    0,    0,\n",
      "            0,    0],\n",
      "        [   4,    8,   43,    6,  142,   12,  121,    1,    0,    0,    0,    0,\n",
      "            0,    0,    0,    0,    0,    0,    0,    0,    0,    0,    0,    0,\n",
      "            0,    0],\n",
      "        [  40,   41,  353,  354,  355, 1397, 1398,   55,   12,    4,  377,  303,\n",
      "           21,  149,    1,    0,    0,    0,    0,    0,    0,    0,    0,    0,\n",
      "            0,    0],\n",
      "        [  25,  182,   60,   61,  180,  181,  122,   23,   25,   21,   93,    2,\n",
      "         1257,    2,    1,    0,    0,    0,    0,    0,    0,    0,    0,    0,\n",
      "            0,    0],\n",
      "        [   4,  721,   79,  722,  161,  162,   23,    2,  725,    2,   18,    2,\n",
      "         1107,    1,    0,    0,    0,    0,    0,    0,    0,    0,    0,    0,\n",
      "            0,    0],\n",
      "        [ 245,   59,   24,   12,   68,    3,    2,    9,   10,    2, 1320, 1011,\n",
      "           12,   68, 1314,   22,   24,   26,   70,   15,   16, 1759,    1,    0,\n",
      "            0,    0],\n",
      "        [   5,    3,   13,    6,  142,   12,   23,  233,  809,    2,    2,   14,\n",
      "           19,    2,    1,    0,    0,    0,    0,    0,    0,    0,    0,    0,\n",
      "            0,    0],\n",
      "        [   4,    8,   45,   43,  154,  220,   72,   73,  449,    2,   18,    2,\n",
      "         1257, 1043,  692,  193,  194,   64,   65,   29,    1,    0,    0,    0,\n",
      "            0,    0],\n",
      "        [ 109, 1038, 1039, 1040,    7,    6,    2,    3,   90,  614,   15,   16,\n",
      "           21,    2,   59,    2,    2,    1,    0,    0,    0,    0,    0,    0,\n",
      "            0,    0],\n",
      "        [   5,    3,   13,  113,   17,  741,  742,  280,   12,   68,    2,    1,\n",
      "            0,    0,    0,    0,    0,    0,    0,    0,    0,    0,    0,    0,\n",
      "            0,    0],\n",
      "        [   5,    3,   13,   60,   61,   76,   23,   25,   23, 1027,    2,   45,\n",
      "           18,   35,   36,   34,    2,    9,   10,   12,  132,  131,  267,   59,\n",
      "           17,    1],\n",
      "        [  11,  273,   15,   16,   14,   19, 1399,    2,   77,  376,    2,  472,\n",
      "          656,   71,    1,    0,    0,    0,    0,    0,    0,    0,    0,    0,\n",
      "            0,    0],\n",
      "        [  25,   59,  125,   87,   84,   45,   63,  253,    9,   10,   47,    2,\n",
      "            1,    0,    0,    0,    0,    0,    0,    0,    0,    0,    0,    0,\n",
      "            0,    0],\n",
      "        [   5,    3,   13,   45,   27,   28,    2,    2,    2,    2,  989,    1,\n",
      "            0,    0,    0,    0,    0,    0,    0,    0,    0,    0,    0,    0,\n",
      "            0,    0],\n",
      "        [   4,    8,   15,   16,   56,   63,   21, 1049,    1,    0,    0,    0,\n",
      "            0,    0,    0,    0,    0,    0,    0,    0,    0,    0,    0,    0,\n",
      "            0,    0],\n",
      "        [   4,   55,   12,    7,    6,    2,    2,   69,  787,  679,   21,  553,\n",
      "            7,    6,    2,   21,    2,    1,    0,    0,    0,    0,    0,    0,\n",
      "            0,    0],\n",
      "        [   4,  535,  536,   48,   14,   19, 1637,    1,    0,    0,    0,    0,\n",
      "            0,    0,    0,    0,    0,    0,    0,    0,    0,    0,    0,    0,\n",
      "            0,    0],\n",
      "        [   4,  174,   30,  105,  298,   18,    9,   10,    2,    2,  707,    1,\n",
      "            0,    0,    0,    0,    0,    0,    0,    0,    0,    0,    0,    0,\n",
      "            0,    0],\n",
      "        [   4,  412,  413,   21,  880,    6,  112,   11,    2,  364,  365,   62,\n",
      "           55,   12,    1,    0,    0,    0,    0,    0,    0,    0,    0,    0,\n",
      "            0,    0],\n",
      "        [  86,   26,  128,   15,   16,  192,    2,    2,    1,    0,    0,    0,\n",
      "            0,    0,    0,    0,    0,    0,    0,    0,    0,    0,    0,    0,\n",
      "            0,    0]])\n",
      "tensor([[   1,    4,    3,    2, 1188,    8,  215,   88,    2,   20,  948,    2,\n",
      "            2,    1],\n",
      "        [   1,    5,    6,   29,   10,   15,    3,   37,    8,   33,  978,    1,\n",
      "            0,    0],\n",
      "        [   1,   18,    3,   14,    2,  122,    9,    7,   46,  147,    1,    0,\n",
      "            0,    0],\n",
      "        [   1,   15,    3,    2,   17,   36,   90,  575,   21,  586,  148,    1,\n",
      "            0,    0],\n",
      "        [   1,    4,    3,   11,   14, 1126,   89,    1,    0,    0,    0,    0,\n",
      "            0,    0],\n",
      "        [   1,   15,    3,    2,   16,  603,   17,    2,  446,    1,    0,    0,\n",
      "            0,    0],\n",
      "        [   1,    4,    3,   28,   27,    9,   14,  430,    2,    2,    1,    0,\n",
      "            0,    0],\n",
      "        [   1,   15,    3,  485,    8,  457,    1,    0,    0,    0,    0,    0,\n",
      "            0,    0],\n",
      "        [   1,    4,    3,  393,   14,  191,  151,   17,   44,  443,   17,  634,\n",
      "          151,    1],\n",
      "        [   1,    5,    6,  146,  306,   22,    7,   46,    2,  237,  733,    1,\n",
      "            0,    0],\n",
      "        [   1,    4,    3,    2,   87,    2,   45,    7,  103,   19,   13,   27,\n",
      "            1,    0],\n",
      "        [   1,    5,    6,   14,  577,    2,    9,    7,   65,    1,    0,    0,\n",
      "            0,    0],\n",
      "        [   1,    5,    6,   13,    2,    2,   27,    5,    6,  246,    2,   14,\n",
      "          226,    1],\n",
      "        [   1,    4,    3,   70,   21,   12,    1,    0,    0,    0,    0,    0,\n",
      "            0,    0],\n",
      "        [   1,    4,    3,    2,    9,  102,  148,  144,    1,    0,    0,    0,\n",
      "            0,    0],\n",
      "        [   1,    5,    6,   55,   16,    7,    2,    1,    0,    0,    0,    0,\n",
      "            0,    0],\n",
      "        [   1,    4,    3,   35,  177,    7,  141,  564,  535,   11, 1191,    1,\n",
      "            0,    0],\n",
      "        [   1,    4,    3,   58,    2,   47,    7,    2,    2,   11,    7,  399,\n",
      "            2,    1],\n",
      "        [   1,    5,    6,   31,   10,   80,    2,   19,  168,   12,  134,    1,\n",
      "            0,    0],\n",
      "        [   1,    4,    3,   70,   10,   80,    2,   34,   33,  296,   11,    2,\n",
      "            1,    0],\n",
      "        [   1,    4,    3,  768,   21,    7,    2,    9,   44,    2,  602,    1,\n",
      "            0,    0],\n",
      "        [   1,    5,    6,   25,  820,  307,   11,   78,    1,    0,    0,    0,\n",
      "            0,    0],\n",
      "        [   1,    5,    6,  217,   10,    7,   65,  152,   33,   56,  650,  120,\n",
      "          866,    1],\n",
      "        [   1,   15,    3,   13,   11, 1162,    7,    2,    2,    9,   12,   91,\n",
      "            2,    1],\n",
      "        [   1,    4,    3,   26,   57,   21,    7,  136,    9,  216,    1,    0,\n",
      "            0,    0],\n",
      "        [   1,    5,    6,   26,   11,   40,    9,    2,    2,  158,    1,    0,\n",
      "            0,    0],\n",
      "        [   1,    4,    3,   13,   27,    8,    2,  247,    1,    0,    0,    0,\n",
      "            0,    0],\n",
      "        [   1,    4,    3,  231,    8,  282,  513,    8,  643,    7,    2,    1,\n",
      "            0,    0],\n",
      "        [   1,    4,    3,  165,    7,  365,    9,  548,    1,    0,    0,    0,\n",
      "            0,    0],\n",
      "        [   1,    4,    3,   35,  197,   11,   14,  343,  936,    1,    0,    0,\n",
      "            0,    0],\n",
      "        [   1,    4,    3,   31,    8,  167,  402,    9,   59,  775,    1,    0,\n",
      "            0,    0],\n",
      "        [   1,   15,    3,   90,  404,  995,   77,    1,    0,    0,    0,    0,\n",
      "            0,    0]])\n"
     ]
    }
   ],
   "source": [
    "batch = next(iter(train_dl))\n",
    "print(batch[0])\n",
    "print(batch[1])\n"
   ]
  },
  {
   "cell_type": "markdown",
   "metadata": {},
   "source": [
    "<div class='q_yellow'><b>2.10 The LSTM Decoder [8 points]</b>\n",
    "    \n",
    "We are going to build a sequence-to-sequence (seq2seq) translation system.  Our seq2seq will have two major components: (1) an encoder that maps a source sentence to a tuple of (hidden, cell) vectors and (2) a decoder that uses the (hidden, cell) vectors to generate a translation.  The good news is that the encoder has already been implemented for you -- that is, you did it yourself in the previous problem!  We can simply reuse the `EncoderLSTM` that you used for the text classifier as our encoder; part of the point of this exercise is to illustrate that deep learning enables the use of common architectures for NLP problems that are quite different from one another (e.g. text classification vs. machine translation).\n",
    "\n",
    "Thus, our next task is to build the `DecoderLSTM` object.  Like the `EncoderLSTM`, there are two main functions to implement:\n",
    "- `__init__()`: Defines the layers of our network.  We will need an `Embedding` layer to encode the target vocabulary as vectors and an `LSTM` layer for decoding our target words.\n",
    "- `forward()`: Takes three arguments -- (a) the `input_seqs` of the target (i.e. a batch size x sequence length tensor), (b) `hidden_init`, the last hidden state of the encoder, and (c) `cell_init`, the last cell state of the encoder.  This function will return a tuple of three tensors -- (a) the hidden states of the LSTM for all time steps, (b) the final hidden state of the LSTM, and (c) the final cell state of the LSTM.\n",
    "\n",
    "Before moving on to the next section, we recommend testing your `forward()` function with randomly generated inputs (try  `torch.randint` for integer tensors and `torch.randn` for float/decimal tensors) to make sure it works without error.\n",
    "\n",
    "</div>"
   ]
  },
  {
   "cell_type": "code",
   "execution_count": 21,
   "metadata": {},
   "outputs": [],
   "source": [
    "class DecoderLSTM(nn.Module):\n",
    "    def __init__(self, input_size: int, hidden_size: int, padding_idx: int):\n",
    "        super(DecoderLSTM, self).__init__()\n",
    "        self.input_size = input_size\n",
    "        self.hidden_size = hidden_size\n",
    "        self.padding_idx = padding_idx\n",
    "        self.embeddings = nn.Embedding(input_size, hidden_size)#, padding_idx=self.padding_idx) \n",
    "        self.decoder_lstm = nn.LSTM(hidden_size, hidden_size, batch_first=True) ## ASK WHAT TO DO WITH THESE DIMENSIONS\n",
    "        \n",
    "\n",
    "    def forward(\n",
    "        self, \n",
    "        input_seqs: torch.tensor, \n",
    "        hidden_init: torch.tensor, \n",
    "        cell_init: torch.tensor\n",
    "    ) -> Tuple[torch.tensor, torch.tensor, torch.tensor]:\n",
    "        embedding_sequences = self.embeddings(input_seqs)\n",
    "        output, (hn, cn) = self.decoder_lstm(embedding_sequences, (hidden_init, cell_init))\n",
    "        return (output, hn, cn)"
   ]
  },
  {
   "cell_type": "code",
   "execution_count": 22,
   "metadata": {},
   "outputs": [
    {
     "data": {
      "text/plain": [
       "(tensor([[[-0.0039,  0.0665, -0.1885,  ...,  0.1380,  0.1263, -0.0664],\n",
       "          [ 0.1285,  0.0954, -0.1198,  ...,  0.3513, -0.0104,  0.2396],\n",
       "          [ 0.1616,  0.0418, -0.1507,  ...,  0.0916, -0.0462,  0.0630],\n",
       "          ...,\n",
       "          [-0.0280, -0.0088, -0.0401,  ...,  0.2311,  0.0184, -0.1161],\n",
       "          [-0.0076,  0.0426, -0.1218,  ...,  0.3435, -0.0088, -0.1698],\n",
       "          [ 0.0350,  0.1646, -0.1595,  ...,  0.2306,  0.1544, -0.1141]],\n",
       " \n",
       "         [[ 0.1121,  0.1323, -0.1444,  ...,  0.1270,  0.1613, -0.0353],\n",
       "          [-0.0549,  0.1513, -0.0308,  ...,  0.0651,  0.1714,  0.0166],\n",
       "          [-0.0044,  0.1957, -0.1001,  ...,  0.0385,  0.1159,  0.1462],\n",
       "          ...,\n",
       "          [ 0.0109, -0.0341, -0.1443,  ...,  0.1818,  0.1457,  0.1295],\n",
       "          [-0.2653,  0.0914,  0.0268,  ...,  0.0012,  0.2801,  0.1751],\n",
       "          [-0.4596,  0.1615,  0.1192,  ..., -0.0471,  0.2850,  0.1869]],\n",
       " \n",
       "         [[ 0.0829,  0.1051, -0.2347,  ...,  0.1242,  0.0598, -0.0373],\n",
       "          [ 0.0107,  0.0784, -0.2472,  ...,  0.1373, -0.1402,  0.0614],\n",
       "          [ 0.0904, -0.0036, -0.1795,  ...,  0.0323, -0.0870,  0.0261],\n",
       "          ...,\n",
       "          [-0.2488,  0.0868,  0.0943,  ..., -0.0050,  0.3273,  0.1961],\n",
       "          [-0.4468,  0.1571,  0.1590,  ..., -0.0476,  0.3170,  0.2017],\n",
       "          [-0.5572,  0.1891,  0.1893,  ..., -0.0574,  0.2946,  0.2024]],\n",
       " \n",
       "         ...,\n",
       " \n",
       "         [[ 0.0835,  0.1487, -0.2029,  ...,  0.0927,  0.1352, -0.1341],\n",
       "          [ 0.2128,  0.1204, -0.1226,  ...,  0.3321, -0.0059,  0.1309],\n",
       "          [ 0.2061,  0.0552, -0.1526,  ...,  0.0856, -0.0419,  0.0285],\n",
       "          ...,\n",
       "          [-0.4025,  0.2130,  0.1527,  ..., -0.0308,  0.2833,  0.1436],\n",
       "          [-0.5305,  0.2162,  0.1871,  ..., -0.0484,  0.2701,  0.1677],\n",
       "          [-0.6019,  0.2162,  0.2030,  ..., -0.0551,  0.2598,  0.1803]],\n",
       " \n",
       "         [[ 0.0260,  0.0013, -0.1384,  ...,  0.1253,  0.1531, -0.0345],\n",
       "          [ 0.1590,  0.0728, -0.1105,  ...,  0.3449,  0.0015,  0.2791],\n",
       "          [ 0.1793,  0.0288, -0.1449,  ...,  0.0908, -0.0383,  0.0724],\n",
       "          ...,\n",
       "          [-0.1319,  0.1244,  0.0595,  ..., -0.0023,  0.4138,  0.1483],\n",
       "          [-0.3744,  0.1778,  0.1354,  ..., -0.0392,  0.3652,  0.1715],\n",
       "          [-0.5169,  0.1999,  0.1747,  ..., -0.0515,  0.3206,  0.1826]],\n",
       " \n",
       "         [[ 0.0515,  0.2194, -0.1818,  ...,  0.1037,  0.1816, -0.1329],\n",
       "          [ 0.0073,  0.1559, -0.2083,  ...,  0.1357,  0.1126, -0.0339],\n",
       "          [ 0.1013,  0.0908, -0.1421,  ...,  0.0868,  0.0130,  0.0239],\n",
       "          ...,\n",
       "          [-0.6007,  0.1915,  0.1888,  ..., -0.0564,  0.2699,  0.1883],\n",
       "          [-0.6432,  0.2009,  0.2016,  ..., -0.0583,  0.2618,  0.1913],\n",
       "          [-0.6686,  0.2055,  0.2082,  ..., -0.0591,  0.2567,  0.1930]]],\n",
       "        grad_fn=<TransposeBackward0>),\n",
       " tensor([[[ 0.0350,  0.1646, -0.1595,  ...,  0.2306,  0.1544, -0.1141],\n",
       "          [-0.4596,  0.1615,  0.1192,  ..., -0.0471,  0.2850,  0.1869],\n",
       "          [-0.5572,  0.1891,  0.1893,  ..., -0.0574,  0.2946,  0.2024],\n",
       "          ...,\n",
       "          [-0.6019,  0.2162,  0.2030,  ..., -0.0551,  0.2598,  0.1803],\n",
       "          [-0.5169,  0.1999,  0.1747,  ..., -0.0515,  0.3206,  0.1826],\n",
       "          [-0.6686,  0.2055,  0.2082,  ..., -0.0591,  0.2567,  0.1930]]],\n",
       "        grad_fn=<StackBackward>),\n",
       " tensor([[[ 0.0683,  0.2556, -0.2818,  ...,  0.4152,  0.3365, -0.2633],\n",
       "          [-0.7075,  0.2561,  0.2252,  ..., -0.1200,  0.3804,  0.6032],\n",
       "          [-0.9572,  0.3056,  0.3669,  ..., -0.1467,  0.3865,  0.6564],\n",
       "          ...,\n",
       "          [-1.1109,  0.3582,  0.4003,  ..., -0.1414,  0.3350,  0.5742],\n",
       "          [-0.8463,  0.3255,  0.3383,  ..., -0.1332,  0.4260,  0.5917],\n",
       "          [-1.4503,  0.3466,  0.4141,  ..., -0.1544,  0.3284,  0.6103]]],\n",
       "        grad_fn=<StackBackward>))"
      ]
     },
     "execution_count": 22,
     "metadata": {},
     "output_type": "execute_result"
    }
   ],
   "source": [
    "encoder_model = EncoderLSTM(train_dl.dataset.source_vocab_size, 100, PADDING_IDX)\n",
    "hidden_cell, final_cell = encoder_model(batch[0]) # Alias for model.forward(batch)\n",
    "decoder_model = DecoderLSTM(train_dl.dataset.target_vocab_size, 100, PADDING_IDX)\n",
    "decoder_model(batch[1], hidden_cell, final_cell)"
   ]
  },
  {
   "cell_type": "markdown",
   "metadata": {},
   "source": [
    "<div class='q_yellow'><b>2.11 The Seq2Seq model [14 points] </b>\n",
    "    \n",
    "Now comes the fun part: putting everything together!  Using our `EncoderLSTM` and `DecoderLSTM` blocks, let's implement the `Seq2Seq` model below.  There are three main functions to implement:\n",
    "- `__init__()`: Initializing the `Seq2Seq2` model.  You will need three blocks -- the `EncoderLSTM`, the `DecoderLSTM`, and a `Linear` projection layer to map hidden states of the decoder to the target vocabulary for word prediction.  This final projection layer should be something very familiar to you -- i.e. it serves the same role as the final projection layer in `CBOW` (word2vec) from Homework #1.\n",
    "- `forward()`: This function will be used for training the model.  Machine translation models are typically trained with a concept call *teacher forcing*, in which the ground-truth tokens from the true target translation (dubbed the \"teacher\") are used as context to predict the next word.  Let $B$ be the batch size, $T_i$ be the sequence length for the input sequence, $T_o$ be the sequence length for the output sequence, $V_o$ be the size of the output vocabulary, and $M_o$ be the number of non-pad tokens in `output_seqs`.  Our `forward()` function will take a $B \\times T_i$ `input_seqs` tensor and its corresponding target translation, the $B \\times T_o$ `output_seqs` tensor, and return a tuple of (1) a flattened predictions tensor `preds` of size $M_o \\times V_o$ and (2) a flattened target words tensor `targs` of length $M_o$ (Note: `targs` should not contain any padding indices).   \n",
    "- `generate()`: Recall that in machine translation, training is very different from inference.  In training, we use the `forward()` function to train the model with *teacher forcing*.  However, at inference time, we don't know what the true translation is, so the model must generate the entire target sequence from scratch.  It can do this by first encoding the source sequence with the encoder and then passing the EOS token to the decoder/output_layer to get a probability distribution for the first word.  Then, it can take the most likely token from this probability distribution as the next word.  We can then feed this next word back into the decoder to get the next word after that, until our model generates the EOS token again, telling us the translation is finished.  This is the logic you will implement in the `generate()` function.  For ease of implementation, we won't batch this function.  That is, the argument `source` will be a 1D tensor of size $t_i$ and you will return a 1D translation tensor with maximium length `max_steps`.\n",
    "    \n",
    "</div>"
   ]
  },
  {
   "cell_type": "code",
   "execution_count": 23,
   "metadata": {},
   "outputs": [],
   "source": [
    "# Helper function \n",
    "def flatten_tensors(hidden_states: torch.tensor, target: torch.tensor, padding_idx: int) -> Tuple[torch.tensor, torch.tensor]:\n",
    "    trimmed_hs = []\n",
    "    trimmed_targets = []\n",
    "    for pair in zip(hidden_states, target):\n",
    "        curr_context = pair[0]\n",
    "        curr_target = pair[1]\n",
    "        #ctxt_boolean_mask = ((curr_context == padding_idx).nonzero(as_tuple=True)[0])\n",
    "        targ_boolean_mask = ((curr_target == padding_idx).nonzero(as_tuple=True)[0])\n",
    "        if targ_boolean_mask.numel() > 0:\n",
    "            first_pad_idx_targ = targ_boolean_mask.min(dim=0).values.item()\n",
    "            first_pad_idx_ctxt = first_pad_idx_targ\n",
    "        else:\n",
    "            first_pad_idx_targ = len(curr_target)\n",
    "            first_pad_idx_ctxt = first_pad_idx_targ\n",
    "        cutting_idx = min(first_pad_idx_ctxt, first_pad_idx_targ)\n",
    "        trimmed_hs.append(curr_context[:cutting_idx, :])\n",
    "        trimmed_targets.append(curr_target[:cutting_idx])\n",
    "    target = torch.cat(trimmed_targets, dim=0)\n",
    "    context = torch.cat(trimmed_hs, dim=0)\n",
    "    return context, target\n",
    "\n",
    "class Seq2Seq(nn.Module):\n",
    "    def __init__(self, input_vocab_size: int, output_vocab_size: int, hidden_size: int, padding_idx: int):\n",
    "        super().__init__()\n",
    "        self.input_vocab_size = input_vocab_size\n",
    "        self.output_vocab_size = output_vocab_size\n",
    "        self.hidden_size = hidden_size\n",
    "        self.padding_idx = padding_idx\n",
    "        self.encoder = EncoderLSTM(input_vocab_size, hidden_size, padding_idx)\n",
    "        self.decoder = DecoderLSTM(output_vocab_size, hidden_size, padding_idx)\n",
    "        self.linear1 = nn.Linear(hidden_size, output_vocab_size)\n",
    "        \n",
    "    def forward(self, input_seqs: torch.tensor, output_seqs: torch.tensor) -> Tuple[torch.tensor, torch.tensor]:\n",
    "        enc_hidden_cell, enc_final_cell = self.encoder(input_seqs)\n",
    "        # Trimming off ending EOS\n",
    "        seqs_length = [((t == self.padding_idx).nonzero(as_tuple=True)[0])[0].item() if len(((t == self.padding_idx).nonzero(as_tuple=True)[0])) != 0 else t.shape.numel() for t in output_seqs]\n",
    "        output_seqs_non_EOS = torch.stack([torch.cat([seq[:length-1], seq[length:]]) for seq, length in zip(output_seqs, seqs_length)])\n",
    "        \n",
    "        hidden_states, dec_final_hidden_state, dec_final_cell = self.decoder(output_seqs_non_EOS, enc_hidden_cell, enc_final_cell)\n",
    "        \n",
    "        # Trimming off initial EOS and ending EOS\n",
    "        output_seqs = torch.stack([seq[1:] for seq in output_seqs])\n",
    "        \n",
    "        flatten_hidden_states, flatten_targs = flatten_tensors(hidden_states, output_seqs, self.padding_idx)\n",
    "        out = self.linear1(flatten_hidden_states)\n",
    "        #log_probs_2 = torch.nn.functional.log_softmax(out, dim=1)\n",
    "        return out, flatten_targs\n",
    "        \n",
    "    @torch.no_grad()\n",
    "    def generate(self, source: torch.tensor, max_steps: int, eos_idx: int) -> torch.tensor:\n",
    "        translation = []\n",
    "        source = torch.unsqueeze(source,0)\n",
    "        enc_hidden_cell, enc_final_cell = self.encoder(source)\n",
    "        blown_eos_idx = torch.tensor([[eos_idx]])\n",
    "        hidden_states, dec_final_hidden_state, dec_final_cell = self.decoder(blown_eos_idx, enc_hidden_cell, enc_final_cell)\n",
    "        flatten_hidden_states, flatten_targs = flatten_tensors(hidden_states, blown_eos_idx, self.padding_idx)\n",
    "        enc_hidden_cell = dec_final_hidden_state\n",
    "        enc_final_cell = dec_final_cell\n",
    "        out = self.linear1(flatten_hidden_states)\n",
    "        for i in range(1, max_steps):\n",
    "            next_idx = torch.argmax(torch.tensor(out))\n",
    "            translation.append(next_idx.item())\n",
    "            blown_next_idx = torch.unsqueeze(torch.unsqueeze(torch.tensor(next_idx), 0), 0)\n",
    "            hidden_states, dec_final_hidden_state, dec_final_cell = self.decoder(blown_next_idx, enc_hidden_cell, enc_final_cell)\n",
    "            flatten_hidden_states, flatten_targs = flatten_tensors(hidden_states, blown_next_idx, self.padding_idx)\n",
    "            out = self.linear1(flatten_hidden_states)\n",
    "            enc_hidden_cell = dec_final_hidden_state\n",
    "            enc_final_cell = dec_final_cell\n",
    "            # We want to exit the for loop if the next token predicted is eos index.\n",
    "            if torch.argmax(torch.tensor(out)) == eos_idx:\n",
    "                next_idx = torch.argmax(torch.tensor(out))\n",
    "                translation.append(next_idx.item())\n",
    "                break\n",
    "        return translation\n",
    "        "
   ]
  },
  {
   "cell_type": "code",
   "execution_count": 24,
   "metadata": {},
   "outputs": [
    {
     "name": "stdout",
     "output_type": "stream",
     "text": [
      "torch.Size([4])\n",
      "This is translation  [77, 502, 437, 988, 546, 663, 1067, 1109, 213, 64, 1021, 784, 479, 64, 64, 64, 64, 64, 64, 64, 64, 64, 64, 64, 64, 64, 64, 64, 64, 64, 64, 64, 64, 64, 64, 64, 64, 64, 64]\n"
     ]
    },
    {
     "name": "stderr",
     "output_type": "stream",
     "text": [
      "/Users/jsoldevilla/opt/anaconda3/lib/python3.7/site-packages/ipykernel_launcher.py:62: UserWarning: To copy construct from a tensor, it is recommended to use sourceTensor.clone().detach() or sourceTensor.clone().detach().requires_grad_(True), rather than torch.tensor(sourceTensor).\n",
      "/Users/jsoldevilla/opt/anaconda3/lib/python3.7/site-packages/ipykernel_launcher.py:64: UserWarning: To copy construct from a tensor, it is recommended to use sourceTensor.clone().detach() or sourceTensor.clone().detach().requires_grad_(True), rather than torch.tensor(sourceTensor).\n",
      "/Users/jsoldevilla/opt/anaconda3/lib/python3.7/site-packages/ipykernel_launcher.py:71: UserWarning: To copy construct from a tensor, it is recommended to use sourceTensor.clone().detach() or sourceTensor.clone().detach().requires_grad_(True), rather than torch.tensor(sourceTensor).\n"
     ]
    }
   ],
   "source": [
    "seq2seq = Seq2Seq(train_dl.dataset.source_vocab_size, train_dl.dataset.target_vocab_size, 100, PADDING_IDX)\n",
    "batch = next(iter(train_dl))\n",
    "log_probs, targs = seq2seq(batch[0], batch[1])\n",
    "test_1D_tensor = torch.tensor([1,34,2,4])\n",
    "print(test_1D_tensor.shape)\n",
    "translation = seq2seq.generate(torch.tensor([1,34,2,4]), 40, EOS_IDX)\n",
    "print(\"This is translation \", translation)"
   ]
  },
  {
   "cell_type": "markdown",
   "metadata": {},
   "source": [
    "<div class='q_yellow'><b>2.12 Train the Seq2Seq model [8 points]</b>\n",
    "    \n",
    "Now it's time to train the model! Implement the `train()` function below to\n",
    "train your model. We've provided code that will call your `train()` to produce\n",
    "a new model, and optionally plot the losses. We recommend training for at least\n",
    "8 epochs to achieve desirable results.\n",
    "\n",
    "Please use your:\n",
    "* **train split** to train the model\n",
    "* **validation split** to compute losses\n",
    "* **test split** to evaluate the performance of your model using BLEU (in the next step)\n",
    "\n",
    "For convenience, you may use the helper function below to compute the loss\n",
    "of your model on your validation set.\n",
    "    \n",
    "</div>"
   ]
  },
  {
   "cell_type": "code",
   "execution_count": null,
   "metadata": {},
   "outputs": [],
   "source": []
  },
  {
   "cell_type": "code",
   "execution_count": 25,
   "metadata": {},
   "outputs": [],
   "source": [
    "@torch.no_grad()\n",
    "\n",
    "# you do not need to edit this cell\n",
    "def compute_test_loss(model, val_dl, loss_fn):\n",
    "    all_preds, all_targs = [], []\n",
    "    for i, (input_seqs, output_seqs) in enumerate(val_dl):\n",
    "        preds, targs = model(input_seqs, output_seqs)\n",
    "        all_preds.append(preds)\n",
    "        all_targs.append(targs)\n",
    "    preds = torch.cat(all_preds, dim=0)\n",
    "    targs = torch.cat(all_targs, dim=0)\n",
    "    return loss_fn(preds, targs).item()"
   ]
  },
  {
   "cell_type": "code",
   "execution_count": 26,
   "metadata": {},
   "outputs": [],
   "source": [
    "def train(train_ds: Dataset, train_dl: DataLoader, val_ds: Dataset, val_dl: DataLoader):\n",
    "    model = None\n",
    "    losses = {\n",
    "        'train': [], # keep track of your losses in these lists\n",
    "        'val': []\n",
    "    }\n",
    "    \n",
    "    model = Seq2Seq(train_dl.dataset.source_vocab_size, train_dl.dataset.target_vocab_size, 512, PADDING_IDX)\n",
    "    \n",
    "    loss_function = nn.CrossEntropyLoss() #NLLLoss()\n",
    "    optimizer =  Adam(model.parameters(), lr=0.0001)#, weight_decay=1e-5)\n",
    "    \n",
    "    epochs = 15\n",
    "    for epoch in range(epochs):\n",
    "        train_running_loss = 0.0\n",
    "        val_running_loss = 0.0\n",
    "        for i, train_batch in enumerate(train_dl):\n",
    "            \n",
    "            train_preds, train_targets = model(train_batch[0], train_batch[1])\n",
    "            train_loss = loss_function(train_preds, train_targets)\n",
    "            \n",
    "            optimizer.zero_grad()\n",
    "            train_loss.backward()\n",
    "            optimizer.step()\n",
    "            \n",
    "            train_running_loss += train_loss.item()\n",
    "        \n",
    "        model.eval()\n",
    "        for i, val_batch in enumerate(val_dl):\n",
    "            with torch.no_grad():\n",
    "                val_preds, val_targets = model(val_batch[0], val_batch[1])\n",
    "                val_loss = compute_test_loss(model, val_dl, loss_function)\n",
    "\n",
    "                val_running_loss += val_loss#.item()\n",
    "\n",
    "        print('Epoch %d, training_loss %.3f, validation_loss %.3f' %\n",
    "            (epoch + 1, train_running_loss / len(train_dl), val_running_loss / len(val_dl)))\n",
    "        \n",
    "        losses['train'].append(train_running_loss/len(train_dl))\n",
    "        losses['val'].append(val_running_loss/len(val_dl))\n",
    "    print(\"Finished training!\")\n",
    "    \n",
    "    return model, losses\n"
   ]
  },
  {
   "cell_type": "markdown",
   "metadata": {},
   "source": [
    "Call the cell below to train your model. For reference, it takes about 1 minute to train on our machines."
   ]
  },
  {
   "cell_type": "code",
   "execution_count": 27,
   "metadata": {},
   "outputs": [
    {
     "name": "stdout",
     "output_type": "stream",
     "text": [
      "Epoch 1, training_loss 4.640, validation_loss 3.673\n",
      "Epoch 2, training_loss 3.658, validation_loss 3.414\n",
      "Epoch 3, training_loss 3.411, validation_loss 3.250\n",
      "Epoch 4, training_loss 3.250, validation_loss 3.145\n",
      "Epoch 5, training_loss 3.128, validation_loss 3.069\n",
      "Epoch 6, training_loss 3.019, validation_loss 3.007\n",
      "Epoch 7, training_loss 2.920, validation_loss 2.945\n",
      "Epoch 8, training_loss 2.825, validation_loss 2.897\n",
      "Epoch 9, training_loss 2.736, validation_loss 2.847\n",
      "Epoch 10, training_loss 2.650, validation_loss 2.812\n",
      "Epoch 11, training_loss 2.566, validation_loss 2.788\n",
      "Epoch 12, training_loss 2.480, validation_loss 2.759\n",
      "Epoch 13, training_loss 2.400, validation_loss 2.740\n",
      "Epoch 14, training_loss 2.319, validation_loss 2.726\n",
      "Epoch 15, training_loss 2.239, validation_loss 2.712\n",
      "Finished training!\n",
      "CPU times: user 29min 55s, sys: 4min 49s, total: 34min 45s\n",
      "Wall time: 21min 41s\n"
     ]
    },
    {
     "data": {
      "text/plain": [
       "<matplotlib.axes._subplots.AxesSubplot at 0x7fb7e071dc50>"
      ]
     },
     "execution_count": 27,
     "metadata": {},
     "output_type": "execute_result"
    },
    {
     "data": {
      "image/png": "[encoded data removed]",
      "text/plain": [
       "<Figure size 432x288 with 1 Axes>"
      ]
     },
     "metadata": {
      "needs_background": "light"
     },
     "output_type": "display_data"
    }
   ],
   "source": [
    "%%time\n",
    "model, losses = train(train_ds, train_dl, val_ds, val_dl)\n",
    "\n",
    "# optionally plot your losses\n",
    "pd.DataFrame(losses).plot(title='Train and Validation Loss')"
   ]
  },
  {
   "cell_type": "markdown",
   "metadata": {},
   "source": [
    "<div class='q_yellow'><b>2.13 Evaluate model performance with BLEU [2 points]</b>\n",
    "\n",
    "While the loss is a good way of keeping track of our training progress, it is not a universal metric for our model performance. Heuristically, we have no way of telling how well our model is working for an application standpoint beyond the handful of examples we can print out -- not to mention the difficulty of comparing the quality of the translations on different models which are trained and evaluated on different datasets!\n",
    "\n",
    "The BLEU metric was proposed to combat this discrepancy. BLEU is empirically proven to align with how humans perceive the quality of translations. In 1-2 sentences, explain what (unigram) BLEU evaluates. Only include equations as you find them necessary. May Google be your friend (or Mooogle if you've downloaded and saved a lot of web pages about Machine Translation)."
   ]
  },
  {
   "cell_type": "markdown",
   "metadata": {},
   "source": [
    "My Answer: (Unigram) BLEU is a score that allows you to measure how good a machine translation is. The idea is if the translation is pretty close to a reference provided by humans, then we will get a high BLEU score. Intuitively, we look at each of the words in the translation output and see if it appears in any of the corresponding references. We will count the maximum of number of times that the word appears in any reference and divide it by the total number of tokens in the translation, thus computing modified precision of machine translation. In Unigram BLEU, we look at modified  precision of words or unigrams. "
   ]
  },
  {
   "cell_type": "markdown",
   "metadata": {},
   "source": [
    "Below is a method stub that translates all the examples from the test set, and\n",
    "returns both the model's translations as well as the original translations.\n",
    "This method will then be called to compute your BLEU score.\n",
    "\n",
    "**IMPORTANT:** Pay close attention to how your translations should be formatted:\n",
    "- `candidate_text`: these are the model's translations. It should have type\n",
    "`List[List[str]]`. Each inner list corresponds to a list of translated words.\n",
    "It should look like:\n",
    "\n",
    "```python\n",
    "    candidate_text = [\n",
    "        ['this', 'is', 'sentence', 'one'],\n",
    "        ['here', 'is', 'another', 'mighty', 'fine,' 'translation']\n",
    "    ]\n",
    "```\n",
    "\n",
    "- `reference_text`: these are the actual translations. When BLEU is computed,\n",
    "it allows for there to be more than one possible reference translation for\n",
    "every machine-translated example. As a result, it has a weirder type: `List[List[List[str]]]`.\n",
    "The extra nested list holds all the possible reference translation for every\n",
    "one machine translation. It should look like:\n",
    "```python\n",
    "    reference_text = [\n",
    "        [\n",
    "            # these are all possible reference translations for the first machine translated example\n",
    "            ['this', 'is', 'sentence', 'one'],\n",
    "            ['here', 'is', 'another', 'translation', 'for', 'sentence one'],\n",
    "        ],\n",
    "        [\n",
    "            # this example only contains one reference translation\n",
    "            ['here', 'is', 'another', 'mighty', 'fine,' 'translation'],\n",
    "        ]\n",
    "    ]\n",
    "```\n",
    "\n",
    "Practically, because we only have a single reference translation for every\n",
    "machine translation, your `reference_text` list should hold only a single\n",
    "example for every machine-translated text.\n",
    "\n",
    "For reference, we will use PyTorch's [bleu_score()](https://pytorch.org/text/stable/data_metrics.html) function\n",
    "to compute these scores.\n",
    "\n",
    "**NOTE**: `bleu_score()` is not included in the standard PyTorch installation.\n",
    "You will need to install the additional package [TorchText](https://pytorch.org/text/stable/index.html)"
   ]
  },
  {
   "cell_type": "code",
   "execution_count": 28,
   "metadata": {},
   "outputs": [],
   "source": [
    "def translate_corpus(vocab: Dict[str, int], test_dl: DataLoader, model: nn.Module) -> Tuple[List[List[str]], List[List[List[str]]]]:\n",
    "    index_to_word = {v: k for k, v in vocab.items()}\n",
    "    candidate_text = []\n",
    "    reference_text = []\n",
    "\n",
    "    for source, target in test_dl:\n",
    "        current_translate_sentence = []\n",
    "        current_target_sentence = []\n",
    "        for source_item, target_item in zip(source, target):\n",
    "            translation = model.generate(source_item, 512, EOS_IDX)\n",
    "        candidate_text.append([index_to_word[idx] for idx in translation])\n",
    "        reference_text.append([[index_to_word[idx.item()] for idx in target_item if idx != PADDING_IDX]])\n",
    "        \n",
    "    return candidate_text, reference_text"
   ]
  },
  {
   "cell_type": "markdown",
   "metadata": {},
   "source": [
    "Run the cell below to compute you BLEU score. We achieved scores of around 0.3 - 0.5\n",
    "\n",
    "Depending on how you implemented your model, your mileage may vary. Scores\n",
    "less than 0.1 probably indicate something is off with your code."
   ]
  },
  {
   "cell_type": "code",
   "execution_count": 29,
   "metadata": {
    "scrolled": true
   },
   "outputs": [
    {
     "name": "stderr",
     "output_type": "stream",
     "text": [
      "/Users/jsoldevilla/opt/anaconda3/lib/python3.7/site-packages/ipykernel_launcher.py:62: UserWarning: To copy construct from a tensor, it is recommended to use sourceTensor.clone().detach() or sourceTensor.clone().detach().requires_grad_(True), rather than torch.tensor(sourceTensor).\n",
      "/Users/jsoldevilla/opt/anaconda3/lib/python3.7/site-packages/ipykernel_launcher.py:64: UserWarning: To copy construct from a tensor, it is recommended to use sourceTensor.clone().detach() or sourceTensor.clone().detach().requires_grad_(True), rather than torch.tensor(sourceTensor).\n",
      "/Users/jsoldevilla/opt/anaconda3/lib/python3.7/site-packages/ipykernel_launcher.py:71: UserWarning: To copy construct from a tensor, it is recommended to use sourceTensor.clone().detach() or sourceTensor.clone().detach().requires_grad_(True), rather than torch.tensor(sourceTensor).\n",
      "/Users/jsoldevilla/opt/anaconda3/lib/python3.7/site-packages/ipykernel_launcher.py:72: UserWarning: To copy construct from a tensor, it is recommended to use sourceTensor.clone().detach() or sourceTensor.clone().detach().requires_grad_(True), rather than torch.tensor(sourceTensor).\n"
     ]
    },
    {
     "data": {
      "text/plain": [
       "0.46453648791398827"
      ]
     },
     "execution_count": 29,
     "metadata": {},
     "output_type": "execute_result"
    }
   ],
   "source": [
    "candidate_text, reference_text = translate_corpus(train_ds.target_vocab, test_dl, model)\n",
    "bleu_score(candidate_text, reference_text, max_n=1, weights=[1])"
   ]
  },
  {
   "cell_type": "code",
   "execution_count": null,
   "metadata": {},
   "outputs": [],
   "source": []
  },
  {
   "cell_type": "markdown",
   "metadata": {},
   "source": [
    "<div class='q_yellow'><b>2.14 Identify the mystery language [6 points]</b>\n",
    "    \n",
    "You are now ready to unveil the mystery language! Train a model for each of the five different pairings:\n",
    "* Danish --> Mystery\n",
    "* English --> Mystery\n",
    "* German --> Mystery\n",
    "* Finnish --> Mystery\n",
    "* Spanish --> Mystery\n",
    "\n",
    "**NOTE:** The direction of translation is the *opposite* of what you did before\n",
    "    \n",
    "</div>"
   ]
  },
  {
   "cell_type": "code",
   "execution_count": 30,
   "metadata": {
    "scrolled": true,
    "tags": []
   },
   "outputs": [
    {
     "name": "stdout",
     "output_type": "stream",
     "text": [
      "Epoch 1, training_loss 5.555, validation_loss 4.483\n",
      "Epoch 2, training_loss 4.341, validation_loss 3.961\n",
      "Epoch 3, training_loss 3.912, validation_loss 3.657\n",
      "Epoch 4, training_loss 3.632, validation_loss 3.451\n",
      "Epoch 5, training_loss 3.421, validation_loss 3.303\n",
      "Epoch 6, training_loss 3.253, validation_loss 3.185\n",
      "Epoch 7, training_loss 3.110, validation_loss 3.090\n",
      "Epoch 8, training_loss 2.983, validation_loss 3.008\n",
      "Epoch 9, training_loss 2.868, validation_loss 2.945\n",
      "Epoch 10, training_loss 2.766, validation_loss 2.889\n",
      "Epoch 11, training_loss 2.669, validation_loss 2.842\n",
      "Epoch 12, training_loss 2.577, validation_loss 2.802\n",
      "Epoch 13, training_loss 2.490, validation_loss 2.782\n",
      "Epoch 14, training_loss 2.407, validation_loss 2.751\n",
      "Epoch 15, training_loss 2.326, validation_loss 2.731\n",
      "Finished training!\n"
     ]
    },
    {
     "data": {
      "text/plain": [
       "<matplotlib.axes._subplots.AxesSubplot at 0x7fb7e0817210>"
      ]
     },
     "execution_count": 30,
     "metadata": {},
     "output_type": "execute_result"
    },
    {
     "data": {
      "image/png": "[encoded data removed]",
      "text/plain": [
       "<Figure size 432x288 with 1 Axes>"
      ]
     },
     "metadata": {
      "needs_background": "light"
     },
     "output_type": "display_data"
    }
   ],
   "source": [
    "# TODO: train five different models, one for each of the five different pairings\n",
    "\n",
    "train_ds_d_m = TranslationDataset(train_dict[\"danish\"], train_dict[\"mystery\"])\n",
    "val_ds_d_m = TranslationDataset(val_dict[\"danish\"], val_dict[\"mystery\"], source_vocab=train_ds_d_m.source_vocab, target_vocab=train_ds_d_m.target_vocab)\n",
    "test_ds_d_m = TranslationDataset(test_dict[\"danish\"], test_dict[\"mystery\"], source_vocab=train_ds_d_m.source_vocab, target_vocab=train_ds_d_m.target_vocab)\n",
    "    \n",
    "train_dl_d_m = DataLoader(train_ds_d_m, collate_fn=pad_collate, num_workers=0, shuffle=True, batch_size=32)\n",
    "test_dl_d_m = DataLoader(test_ds_d_m, collate_fn=pad_collate, num_workers=0, shuffle=True, batch_size=32)\n",
    "val_dl_d_m = DataLoader(val_ds_d_m, collate_fn=pad_collate, num_workers=0, shuffle=True, batch_size=32)\n",
    "\n",
    "\n",
    "model_d_m, losses_d_m = train(train_ds_d_m, train_dl_d_m, val_ds_d_m, val_dl_d_m)\n",
    "# optionally plot your losses\n",
    "pd.DataFrame(losses_d_m).plot(title='Train and Validation Loss Danish to mystery')\n",
    "\n",
    "#raise NotImplementedError   # TODO: implement"
   ]
  },
  {
   "cell_type": "code",
   "execution_count": 31,
   "metadata": {},
   "outputs": [
    {
     "name": "stdout",
     "output_type": "stream",
     "text": [
      "Epoch 1, training_loss 5.517, validation_loss 4.466\n",
      "Epoch 2, training_loss 4.329, validation_loss 3.956\n",
      "Epoch 3, training_loss 3.913, validation_loss 3.664\n",
      "Epoch 4, training_loss 3.641, validation_loss 3.462\n",
      "Epoch 5, training_loss 3.436, validation_loss 3.319\n",
      "Epoch 6, training_loss 3.272, validation_loss 3.199\n",
      "Epoch 7, training_loss 3.126, validation_loss 3.095\n",
      "Epoch 8, training_loss 2.998, validation_loss 3.011\n",
      "Epoch 9, training_loss 2.881, validation_loss 2.938\n",
      "Epoch 10, training_loss 2.773, validation_loss 2.880\n",
      "Epoch 11, training_loss 2.671, validation_loss 2.832\n",
      "Epoch 12, training_loss 2.576, validation_loss 2.798\n",
      "Epoch 13, training_loss 2.487, validation_loss 2.759\n",
      "Epoch 14, training_loss 2.400, validation_loss 2.744\n",
      "Epoch 15, training_loss 2.319, validation_loss 2.708\n",
      "Finished training!\n"
     ]
    },
    {
     "data": {
      "text/plain": [
       "<matplotlib.axes._subplots.AxesSubplot at 0x7fb7e0b6fc10>"
      ]
     },
     "execution_count": 31,
     "metadata": {},
     "output_type": "execute_result"
    },
    {
     "data": {
      "image/png": "[encoded data removed]",
      "text/plain": [
       "<Figure size 432x288 with 1 Axes>"
      ]
     },
     "metadata": {
      "needs_background": "light"
     },
     "output_type": "display_data"
    }
   ],
   "source": [
    "train_ds_e_m = TranslationDataset(train_dict[\"english\"], train_dict[\"mystery\"])\n",
    "val_ds_e_m = TranslationDataset(val_dict[\"english\"], val_dict[\"mystery\"], source_vocab=train_ds_e_m.source_vocab, target_vocab=train_ds_e_m.target_vocab)\n",
    "test_ds_e_m = TranslationDataset(test_dict[\"danish\"], test_dict[\"mystery\"], source_vocab=train_ds_e_m.source_vocab, target_vocab=train_ds_e_m.target_vocab)\n",
    "    \n",
    "train_dl_e_m = DataLoader(train_ds_e_m, collate_fn=pad_collate, num_workers=0, shuffle=True, batch_size=32)\n",
    "test_dl_e_m = DataLoader(test_ds_e_m, collate_fn=pad_collate, num_workers=0, shuffle=True, batch_size=32)\n",
    "val_dl_e_m = DataLoader(val_ds_e_m, collate_fn=pad_collate, num_workers=0, shuffle=True, batch_size=32)\n",
    "\n",
    "model_e_m, losses_e_m = train(train_ds_e_m, train_dl_e_m, val_ds_e_m, val_dl_e_m)\n",
    "# optionally plot your losses\n",
    "pd.DataFrame(losses_e_m).plot(title='Train and Validation Loss English to Mystery')\n"
   ]
  },
  {
   "cell_type": "code",
   "execution_count": 32,
   "metadata": {},
   "outputs": [
    {
     "name": "stdout",
     "output_type": "stream",
     "text": [
      "Epoch 1, training_loss 5.524, validation_loss 4.469\n",
      "Epoch 2, training_loss 4.298, validation_loss 3.888\n",
      "Epoch 3, training_loss 3.814, validation_loss 3.533\n",
      "Epoch 4, training_loss 3.482, validation_loss 3.287\n",
      "Epoch 5, training_loss 3.225, validation_loss 3.093\n",
      "Epoch 6, training_loss 3.013, validation_loss 2.925\n",
      "Epoch 7, training_loss 2.815, validation_loss 2.794\n",
      "Epoch 8, training_loss 2.643, validation_loss 2.660\n",
      "Epoch 9, training_loss 2.480, validation_loss 2.560\n",
      "Epoch 10, training_loss 2.333, validation_loss 2.466\n",
      "Epoch 11, training_loss 2.200, validation_loss 2.385\n",
      "Epoch 12, training_loss 2.076, validation_loss 2.312\n",
      "Epoch 13, training_loss 1.962, validation_loss 2.270\n",
      "Epoch 14, training_loss 1.859, validation_loss 2.202\n",
      "Epoch 15, training_loss 1.760, validation_loss 2.154\n",
      "Finished training!\n"
     ]
    },
    {
     "data": {
      "text/plain": [
       "<matplotlib.axes._subplots.AxesSubplot at 0x7fb81955df50>"
      ]
     },
     "execution_count": 32,
     "metadata": {},
     "output_type": "execute_result"
    },
    {
     "data": {
      "image/png": "[encoded data removed]",
      "text/plain": [
       "<Figure size 432x288 with 1 Axes>"
      ]
     },
     "metadata": {
      "needs_background": "light"
     },
     "output_type": "display_data"
    }
   ],
   "source": [
    "train_ds_g_m = TranslationDataset(train_dict[\"german\"], train_dict[\"mystery\"])\n",
    "val_ds_g_m = TranslationDataset(val_dict[\"german\"], val_dict[\"mystery\"], source_vocab=train_ds_g_m.source_vocab, target_vocab=train_ds_g_m.target_vocab)\n",
    "test_ds_g_m = TranslationDataset(test_dict[\"danish\"], test_dict[\"mystery\"], source_vocab=train_ds_g_m.source_vocab, target_vocab=train_ds_g_m.target_vocab)\n",
    "    \n",
    "train_dl_g_m = DataLoader(train_ds_g_m, collate_fn=pad_collate, num_workers=0, shuffle=True, batch_size=32)\n",
    "test_dl_g_m = DataLoader(test_ds_g_m, collate_fn=pad_collate, num_workers=0, shuffle=True, batch_size=32)\n",
    "val_dl_g_m = DataLoader(val_ds_g_m, collate_fn=pad_collate, num_workers=0, shuffle=True, batch_size=32)\n",
    "\n",
    "model_g_m, losses_g_m = train(train_ds_g_m, train_dl_g_m, val_ds_g_m, val_dl_g_m)\n",
    "# optionally plot your losses\n",
    "pd.DataFrame(losses_g_m).plot(title='Train and Validation Loss German to Mystery')\n"
   ]
  },
  {
   "cell_type": "code",
   "execution_count": 33,
   "metadata": {},
   "outputs": [
    {
     "name": "stdout",
     "output_type": "stream",
     "text": [
      "Epoch 1, training_loss 5.523, validation_loss 4.500\n",
      "Epoch 2, training_loss 4.378, validation_loss 4.012\n",
      "Epoch 3, training_loss 3.960, validation_loss 3.706\n",
      "Epoch 4, training_loss 3.677, validation_loss 3.499\n",
      "Epoch 5, training_loss 3.471, validation_loss 3.346\n",
      "Epoch 6, training_loss 3.305, validation_loss 3.231\n",
      "Epoch 7, training_loss 3.167, validation_loss 3.137\n",
      "Epoch 8, training_loss 3.044, validation_loss 3.063\n",
      "Epoch 9, training_loss 2.933, validation_loss 2.988\n",
      "Epoch 10, training_loss 2.832, validation_loss 2.936\n",
      "Epoch 11, training_loss 2.738, validation_loss 2.886\n",
      "Epoch 12, training_loss 2.649, validation_loss 2.847\n",
      "Epoch 13, training_loss 2.568, validation_loss 2.814\n",
      "Epoch 14, training_loss 2.488, validation_loss 2.785\n",
      "Epoch 15, training_loss 2.413, validation_loss 2.767\n",
      "Finished training!\n"
     ]
    },
    {
     "data": {
      "text/plain": [
       "<matplotlib.axes._subplots.AxesSubplot at 0x7fb7f266b490>"
      ]
     },
     "execution_count": 33,
     "metadata": {},
     "output_type": "execute_result"
    },
    {
     "data": {
      "image/png": "[encoded data removed]",
      "text/plain": [
       "<Figure size 432x288 with 1 Axes>"
      ]
     },
     "metadata": {
      "needs_background": "light"
     },
     "output_type": "display_data"
    }
   ],
   "source": [
    "train_ds_f_m = TranslationDataset(train_dict[\"finnish\"], train_dict[\"mystery\"])\n",
    "val_ds_f_m = TranslationDataset(val_dict[\"finnish\"], val_dict[\"mystery\"], source_vocab=train_ds_f_m.source_vocab, target_vocab=train_ds_f_m.target_vocab)\n",
    "test_ds_f_m = TranslationDataset(test_dict[\"danish\"], test_dict[\"mystery\"], source_vocab=train_ds_f_m.source_vocab, target_vocab=train_ds_f_m.target_vocab)\n",
    "    \n",
    "train_dl_f_m = DataLoader(train_ds_f_m, collate_fn=pad_collate, num_workers=0, shuffle=True, batch_size=32)\n",
    "test_dl_f_m = DataLoader(test_ds_f_m, collate_fn=pad_collate, num_workers=0, shuffle=True, batch_size=32)\n",
    "val_dl_f_m = DataLoader(val_ds_f_m, collate_fn=pad_collate, num_workers=0, shuffle=True, batch_size=32)\n",
    "\n",
    "model_f_m, losses_f_m = train(train_ds_f_m, train_dl_f_m, val_ds_f_m, val_dl_f_m)\n",
    "# optionally plot your losses\n",
    "pd.DataFrame(losses_f_m).plot(title='Train and Validation Loss Finnish to Mystery')\n",
    "\n"
   ]
  },
  {
   "cell_type": "code",
   "execution_count": 34,
   "metadata": {},
   "outputs": [
    {
     "name": "stdout",
     "output_type": "stream",
     "text": [
      "Epoch 1, training_loss 5.543, validation_loss 4.475\n",
      "Epoch 2, training_loss 4.348, validation_loss 3.977\n",
      "Epoch 3, training_loss 3.928, validation_loss 3.670\n",
      "Epoch 4, training_loss 3.645, validation_loss 3.466\n",
      "Epoch 5, training_loss 3.436, validation_loss 3.316\n",
      "Epoch 6, training_loss 3.276, validation_loss 3.208\n",
      "Epoch 7, training_loss 3.138, validation_loss 3.115\n",
      "Epoch 8, training_loss 3.017, validation_loss 3.038\n",
      "Epoch 9, training_loss 2.907, validation_loss 2.981\n",
      "Epoch 10, training_loss 2.806, validation_loss 2.919\n",
      "Epoch 11, training_loss 2.711, validation_loss 2.880\n",
      "Epoch 12, training_loss 2.622, validation_loss 2.837\n",
      "Epoch 13, training_loss 2.537, validation_loss 2.812\n",
      "Epoch 14, training_loss 2.456, validation_loss 2.785\n",
      "Epoch 15, training_loss 2.377, validation_loss 2.767\n",
      "Finished training!\n"
     ]
    },
    {
     "data": {
      "text/plain": [
       "<matplotlib.axes._subplots.AxesSubplot at 0x7fb823e37f90>"
      ]
     },
     "execution_count": 34,
     "metadata": {},
     "output_type": "execute_result"
    },
    {
     "data": {
      "image/png": "[encoded data removed]",
      "text/plain": [
       "<Figure size 432x288 with 1 Axes>"
      ]
     },
     "metadata": {
      "needs_background": "light"
     },
     "output_type": "display_data"
    }
   ],
   "source": [
    "train_ds_s_m = TranslationDataset(train_dict[\"spanish\"], train_dict[\"mystery\"])\n",
    "val_ds_s_m = TranslationDataset(val_dict[\"spanish\"], val_dict[\"mystery\"], source_vocab=train_ds_s_m.source_vocab, target_vocab=train_ds_s_m.target_vocab)\n",
    "test_ds_s_m = TranslationDataset(test_dict[\"danish\"], test_dict[\"mystery\"], source_vocab=train_ds_s_m.source_vocab, target_vocab=train_ds_s_m.target_vocab)\n",
    "    \n",
    "train_dl_s_m = DataLoader(train_ds_s_m, collate_fn=pad_collate, num_workers=0, shuffle=True, batch_size=32)\n",
    "test_dl_s_m = DataLoader(test_ds_s_m, collate_fn=pad_collate, num_workers=0, shuffle=True, batch_size=32)\n",
    "val_dl_s_m = DataLoader(val_ds_s_m, collate_fn=pad_collate, num_workers=0, shuffle=True, batch_size=32)\n",
    "\n",
    "model_s_m, losses_s_m = train(train_ds_s_m, train_dl_s_m, val_ds_s_m, val_dl_s_m)\n",
    "# optionally plot your losses\n",
    "pd.DataFrame(losses_s_m).plot(title='Train and Validation Loss Spanish to Mystery')\n"
   ]
  },
  {
   "cell_type": "markdown",
   "metadata": {},
   "source": [
    "Now evaluate the BLEU score of all five models on the test set. The one with the highest BLEU score, often by a noticeable shot, is the underlying language of the mystery language. Report your findings below."
   ]
  },
  {
   "cell_type": "code",
   "execution_count": 35,
   "metadata": {},
   "outputs": [
    {
     "name": "stderr",
     "output_type": "stream",
     "text": [
      "/Users/jsoldevilla/opt/anaconda3/lib/python3.7/site-packages/ipykernel_launcher.py:62: UserWarning: To copy construct from a tensor, it is recommended to use sourceTensor.clone().detach() or sourceTensor.clone().detach().requires_grad_(True), rather than torch.tensor(sourceTensor).\n",
      "/Users/jsoldevilla/opt/anaconda3/lib/python3.7/site-packages/ipykernel_launcher.py:64: UserWarning: To copy construct from a tensor, it is recommended to use sourceTensor.clone().detach() or sourceTensor.clone().detach().requires_grad_(True), rather than torch.tensor(sourceTensor).\n",
      "/Users/jsoldevilla/opt/anaconda3/lib/python3.7/site-packages/ipykernel_launcher.py:71: UserWarning: To copy construct from a tensor, it is recommended to use sourceTensor.clone().detach() or sourceTensor.clone().detach().requires_grad_(True), rather than torch.tensor(sourceTensor).\n",
      "/Users/jsoldevilla/opt/anaconda3/lib/python3.7/site-packages/ipykernel_launcher.py:72: UserWarning: To copy construct from a tensor, it is recommended to use sourceTensor.clone().detach() or sourceTensor.clone().detach().requires_grad_(True), rather than torch.tensor(sourceTensor).\n"
     ]
    },
    {
     "name": "stdout",
     "output_type": "stream",
     "text": [
      "This is bleu score for Danish to mystery  0.3326721708345804\n"
     ]
    }
   ],
   "source": [
    "# TODO: evaluate a BLEU score for all five models to identify the mystery language!\n",
    "\n",
    "candidate_text_d_m, reference_text_d_m = translate_corpus(train_ds_d_m.target_vocab, test_dl_d_m, model_d_m)\n",
    "bleu_score_d_m = bleu_score(candidate_text_d_m, reference_text_d_m, max_n=1, weights=[1])\n",
    "print(\"This is bleu score for Danish to mystery \", bleu_score_d_m)"
   ]
  },
  {
   "cell_type": "code",
   "execution_count": 36,
   "metadata": {},
   "outputs": [
    {
     "name": "stderr",
     "output_type": "stream",
     "text": [
      "/Users/jsoldevilla/opt/anaconda3/lib/python3.7/site-packages/ipykernel_launcher.py:62: UserWarning: To copy construct from a tensor, it is recommended to use sourceTensor.clone().detach() or sourceTensor.clone().detach().requires_grad_(True), rather than torch.tensor(sourceTensor).\n",
      "/Users/jsoldevilla/opt/anaconda3/lib/python3.7/site-packages/ipykernel_launcher.py:64: UserWarning: To copy construct from a tensor, it is recommended to use sourceTensor.clone().detach() or sourceTensor.clone().detach().requires_grad_(True), rather than torch.tensor(sourceTensor).\n",
      "/Users/jsoldevilla/opt/anaconda3/lib/python3.7/site-packages/ipykernel_launcher.py:71: UserWarning: To copy construct from a tensor, it is recommended to use sourceTensor.clone().detach() or sourceTensor.clone().detach().requires_grad_(True), rather than torch.tensor(sourceTensor).\n",
      "/Users/jsoldevilla/opt/anaconda3/lib/python3.7/site-packages/ipykernel_launcher.py:72: UserWarning: To copy construct from a tensor, it is recommended to use sourceTensor.clone().detach() or sourceTensor.clone().detach().requires_grad_(True), rather than torch.tensor(sourceTensor).\n"
     ]
    },
    {
     "name": "stdout",
     "output_type": "stream",
     "text": [
      "This is bleu score for English to Mystery  0.1031307578086853\n"
     ]
    }
   ],
   "source": [
    "candidate_text_e_m, reference_text_e_m = translate_corpus(train_ds_e_m.target_vocab, test_dl_e_m, model_e_m)\n",
    "bleu_score_e_m = bleu_score(candidate_text_e_m, reference_text_e_m, max_n=1, weights=[1])\n",
    "print(\"This is bleu score for English to Mystery \", bleu_score_e_m)"
   ]
  },
  {
   "cell_type": "code",
   "execution_count": 37,
   "metadata": {},
   "outputs": [
    {
     "name": "stderr",
     "output_type": "stream",
     "text": [
      "/Users/jsoldevilla/opt/anaconda3/lib/python3.7/site-packages/ipykernel_launcher.py:62: UserWarning: To copy construct from a tensor, it is recommended to use sourceTensor.clone().detach() or sourceTensor.clone().detach().requires_grad_(True), rather than torch.tensor(sourceTensor).\n",
      "/Users/jsoldevilla/opt/anaconda3/lib/python3.7/site-packages/ipykernel_launcher.py:64: UserWarning: To copy construct from a tensor, it is recommended to use sourceTensor.clone().detach() or sourceTensor.clone().detach().requires_grad_(True), rather than torch.tensor(sourceTensor).\n",
      "/Users/jsoldevilla/opt/anaconda3/lib/python3.7/site-packages/ipykernel_launcher.py:71: UserWarning: To copy construct from a tensor, it is recommended to use sourceTensor.clone().detach() or sourceTensor.clone().detach().requires_grad_(True), rather than torch.tensor(sourceTensor).\n",
      "/Users/jsoldevilla/opt/anaconda3/lib/python3.7/site-packages/ipykernel_launcher.py:72: UserWarning: To copy construct from a tensor, it is recommended to use sourceTensor.clone().detach() or sourceTensor.clone().detach().requires_grad_(True), rather than torch.tensor(sourceTensor).\n"
     ]
    },
    {
     "name": "stdout",
     "output_type": "stream",
     "text": [
      "This is bleu score for German to Mystery  0.176630437374115\n"
     ]
    }
   ],
   "source": [
    "candidate_text_g_m, reference_text_g_m = translate_corpus(train_ds_g_m.target_vocab, test_dl_g_m, model_g_m)\n",
    "bleu_score_g_m = bleu_score(candidate_text_g_m, reference_text_g_m, max_n=1, weights=[1])\n",
    "print(\"This is bleu score for German to Mystery \", bleu_score_g_m)"
   ]
  },
  {
   "cell_type": "code",
   "execution_count": 38,
   "metadata": {},
   "outputs": [
    {
     "name": "stderr",
     "output_type": "stream",
     "text": [
      "/Users/jsoldevilla/opt/anaconda3/lib/python3.7/site-packages/ipykernel_launcher.py:62: UserWarning: To copy construct from a tensor, it is recommended to use sourceTensor.clone().detach() or sourceTensor.clone().detach().requires_grad_(True), rather than torch.tensor(sourceTensor).\n",
      "/Users/jsoldevilla/opt/anaconda3/lib/python3.7/site-packages/ipykernel_launcher.py:64: UserWarning: To copy construct from a tensor, it is recommended to use sourceTensor.clone().detach() or sourceTensor.clone().detach().requires_grad_(True), rather than torch.tensor(sourceTensor).\n",
      "/Users/jsoldevilla/opt/anaconda3/lib/python3.7/site-packages/ipykernel_launcher.py:71: UserWarning: To copy construct from a tensor, it is recommended to use sourceTensor.clone().detach() or sourceTensor.clone().detach().requires_grad_(True), rather than torch.tensor(sourceTensor).\n",
      "/Users/jsoldevilla/opt/anaconda3/lib/python3.7/site-packages/ipykernel_launcher.py:72: UserWarning: To copy construct from a tensor, it is recommended to use sourceTensor.clone().detach() or sourceTensor.clone().detach().requires_grad_(True), rather than torch.tensor(sourceTensor).\n"
     ]
    },
    {
     "name": "stdout",
     "output_type": "stream",
     "text": [
      "This is bleu score for Finnish to Mystery  0.15804597735404968\n"
     ]
    }
   ],
   "source": [
    "candidate_text_f_m, reference_text_f_m = translate_corpus(train_ds_f_m.target_vocab, test_dl_f_m, model_f_m)\n",
    "bleu_score_f_m = bleu_score(candidate_text_f_m, reference_text_f_m, max_n=1, weights=[1])\n",
    "print(\"This is bleu score for Finnish to Mystery \", bleu_score_f_m)"
   ]
  },
  {
   "cell_type": "code",
   "execution_count": 39,
   "metadata": {},
   "outputs": [
    {
     "name": "stderr",
     "output_type": "stream",
     "text": [
      "/Users/jsoldevilla/opt/anaconda3/lib/python3.7/site-packages/ipykernel_launcher.py:62: UserWarning: To copy construct from a tensor, it is recommended to use sourceTensor.clone().detach() or sourceTensor.clone().detach().requires_grad_(True), rather than torch.tensor(sourceTensor).\n",
      "/Users/jsoldevilla/opt/anaconda3/lib/python3.7/site-packages/ipykernel_launcher.py:64: UserWarning: To copy construct from a tensor, it is recommended to use sourceTensor.clone().detach() or sourceTensor.clone().detach().requires_grad_(True), rather than torch.tensor(sourceTensor).\n",
      "/Users/jsoldevilla/opt/anaconda3/lib/python3.7/site-packages/ipykernel_launcher.py:71: UserWarning: To copy construct from a tensor, it is recommended to use sourceTensor.clone().detach() or sourceTensor.clone().detach().requires_grad_(True), rather than torch.tensor(sourceTensor).\n",
      "/Users/jsoldevilla/opt/anaconda3/lib/python3.7/site-packages/ipykernel_launcher.py:72: UserWarning: To copy construct from a tensor, it is recommended to use sourceTensor.clone().detach() or sourceTensor.clone().detach().requires_grad_(True), rather than torch.tensor(sourceTensor).\n"
     ]
    },
    {
     "name": "stdout",
     "output_type": "stream",
     "text": [
      "This is bleu score for Spanish to Mystery  0.17547568678855896\n"
     ]
    }
   ],
   "source": [
    "candidate_text_s_m, reference_text_s_m = translate_corpus(train_ds_s_m.target_vocab, test_dl_s_m, model_s_m)\n",
    "bleu_score_s_m = bleu_score(candidate_text_s_m, reference_text_s_m, max_n=1, weights=[1])\n",
    "print(\"This is bleu score for Spanish to Mystery \", bleu_score_s_m)"
   ]
  },
  {
   "cell_type": "markdown",
   "metadata": {},
   "source": [
    "What's the mystery language?: Mystery Language is Danish\n"
   ]
  },
  {
   "cell_type": "markdown",
   "metadata": {},
   "source": [
    "<div class='header_green'>\n",
    "    \n",
    "<b>3. RESEARCH [20 points]</b>\n",
    "\n",
    "</div>"
   ]
  },
  {
   "cell_type": "markdown",
   "metadata": {},
   "source": [
    "As we build a foundation in NLP, it's also important to also see what the latest, cutting-edge work (research) looks like. It's incredibly worthwhile to learn about the types of problems people work on, their methodology and approach to the problem, the datasets they work on, the issues they raise, and the solutions they posit. The field moves incredibly fast, but the __approach__ to ML/NLP research is relatively stable -- different types of papers are accepted as the years progress, but that's a different story.\n",
    "\n",
    "We want to help you get practice reading research papers, which mostly entails thinking critically about the work, being able to discern the main takeaways/conclusions, and to reflect on the work in a meaningful way."
   ]
  },
  {
   "cell_type": "markdown",
   "metadata": {},
   "source": [
    "<div class='q_green'><b>3.1: Read an NLP research paper [0 points]</b>\n",
    "    \n",
    "Select and read a paper that was published in ACL, NAACL, EMNLP, or COLING in 2020 or 2021. You can find a list of such published papers by searching Google (Mooogle can't help you here), a la \"ACL 2020 accepted papers\". For this assignment, you are allowed to pick either a short paper (4-5 pages) or long paper (8-9 pages), **but you must not select a workshop paper**. List below the name of the paper, authors, venue, and year published.\n",
    "\n",
    "While I highly encourage you to look at the aforementioned venues to find a paper that interests you, alternatively, you could select one of the following papers:\n",
    "\n",
    "- An LSTM-based precursor to BERT:\n",
    "> context2vec: Learning Generic Context Embedding with Bidirectional LSTM. Melamud et al. CoNLL 2016.\n",
    "\n",
    "- Clever, famous usage of Attention for NLP + Vision:\n",
    "> Show, Attend and Tell: Neural Image Caption Generation with Visual Attention. Xu et al. ICML 2015.\n",
    "\n",
    "- Breakthrough paper that illustrated the power of seq2seq for Machine Translation:\n",
    "> Neural Machine Translation by Jointly Learning to Align and Translate. Bahdanau, Cho, and Bengio. ICLR 2015.\n",
    "\n",
    "- Another famous MT paper around the same time:\n",
    "> Sequence to Sequence Learning with Neural Networks. Sutskever, Vinyals, and Le. NIPS 2014 (now called NeurIPS).\n",
    "\n",
    "</div>"
   ]
  },
  {
   "cell_type": "markdown",
   "metadata": {},
   "source": [
    "The paper I chose is \"Amalgamation of protein sequence, structure and textual information for improving protein-protein ineraction identification\", Saha Sriparna and Dutta, which appeard in ACL 2020. \n"
   ]
  },
  {
   "cell_type": "markdown",
   "metadata": {},
   "source": [
    "<div class='q_green'><b>3.2: Problem? [2 point]</b> What is the problem that it is trying to address? In other words, what is it trying to solve? (2-3 sentences)\n",
    "</div>"
   ]
  },
  {
   "cell_type": "markdown",
   "metadata": {},
   "source": [
    "In this paper, they authors are proposing a new multi-modal dataset that isrelevatn for Protein-Protein interactions(PPI) by incorporating textual information from biomedical corpora, structural propertis of protein molecules and structuralinfromation. Additionally, the authors propose a multi-modal architecture using self attention to integrate extracted features from all the data sources. In particular, they are trying to solve the problem of having limited datasets (and types of data) for PPI tasks and proposing a new architecture to extract data from this new data source."
   ]
  },
  {
   "cell_type": "markdown",
   "metadata": {},
   "source": [
    "<div class='q_green'><b>3.3: Solution? [2 point]</b> At a very high-level, what was their solution? (2-3 sentences). Here, you don't have room to go into the small details (e.g., about the model), so you'll need to summarize the most important elements that comprised the solution.\n",
    "</div>"
   ]
  },
  {
   "cell_type": "markdown",
   "metadata": {},
   "source": [
    "To solve the lack of multi-modal datasets, the authors propose a new dataset for PPI interactions by combining text information from popular PPI benchmark corpora, namely BioInfer and HRPD50 datasets. Furthermore, they extracted data from the XML representations of the proteins (from the corpora mentioned above), additionally, they encoded (using DNNs) the genomic sequence and 3d structure of proteins from FASTA and RCSB protein data bank. Additionally, the authors proposed a new architecture to predict interaction between proteins that includes encoders with self-attention for combining the embeddings coming from textual information, from protein sequence and protein 3D structure."
   ]
  },
  {
   "cell_type": "markdown",
   "metadata": {},
   "source": [
    "<div class='q_green'><b>3.4: Data? [2 points]</b> What dataset(s) did they use? Are they freely available? What's the size of the data? (2-3 sentences)\n",
    "</div>"
   ]
  },
  {
   "cell_type": "markdown",
   "metadata": {},
   "source": [
    "This paper proposes a new dataset which in the end is available in their GitHub repo, but the sources to biuld that dataset are public and freely available. In particular these datasets are BioInfer, HRPD50, FASTA sequence and RCSB protein Data Bank. The dataset contains at least 10,000 relations since that is the size of BioInfer and HRPD50."
   ]
  },
  {
   "cell_type": "markdown",
   "metadata": {},
   "source": [
    "<div class='q_green'><b>3.5: Model [2 points]</b> Very related to the 'solutions' question, describe here any models that they used, and what made it effective (2-3 sentences)\n",
    "</div>"
   ]
  },
  {
   "cell_type": "markdown",
   "metadata": {},
   "source": [
    "For the solution of presenting the dataset, they find relationships between 2 or mor proteins identities from the XML representation of the corpora BioInfer and HRPD50 and once they found these relationships, they also the genomic sequence of the proteins by looking at the FASTA sequence dataset and the protein structures by looking at the RCSB Protein Data Bank archive. For the network they are proposing, they propose to do feature extraction from the proposed corpora taking text that describe the relationship between the identified proteins by using a BioBERT model to provide vector representation for the textprovided as input and after use a Bidirectional LSTM to encode the embedded representation coming out from BERT and get a vector representation. Afterwards, they extract the sequence features by applying a DNN to the vector of one-hot vector representation of the nucleotides in the protein and finally extracted the structural feature by applying Graph CNN's. Finally, they combine all the extracted features using attention mechanisms and finally passing the result to a softmax layer for classification."
   ]
  },
  {
   "cell_type": "markdown",
   "metadata": {},
   "source": [
    "<div class='q_green'><b>3.6: Results? [2 points]</b> What are their main results? (~2 sentences)\n",
    "</div>"
   ]
  },
  {
   "cell_type": "markdown",
   "metadata": {},
   "source": [
    "The main results of the paper come from the evaluation of the dataset using the proposed architecture. In particular, they find out that the proposed architecture surpasses all the baselines and SOTA results when predicting interaction between proteins, in particular, they get better Recall, Precision and F-score results."
   ]
  },
  {
   "cell_type": "markdown",
   "metadata": {},
   "source": [
    "<div class='q_green'><b>3.7: Strengths? [2 points]</b> List 2-3 strengths of the paper\n",
    "</div>"
   ]
  },
  {
   "cell_type": "markdown",
   "metadata": {},
   "source": [
    "- The proposed datasets is multi-modal, so it combines textual iformation with sequence features and 3D structure data for the proteins. This could give us a richer set of features for classification.\n",
    "- The proposed network seems simple but it gives the best results for Precision, Recall and F-score, surpassing SOTA results."
   ]
  },
  {
   "cell_type": "markdown",
   "metadata": {},
   "source": [
    "<div class='q_green'><b>3.8: Weaknesses? [2 points]</b> Although you may be new to this problem and all of its content, try to list 2-3 weaknesses of the paper (anything that you think could strengthen the paper is sufficient).\n",
    "</div>"
   ]
  },
  {
   "cell_type": "markdown",
   "metadata": {},
   "source": [
    "- The training dataset seems rather small. Perhaps future work could focuse on expanding the corpora used for finding the probable protein interactions.\n",
    "- While the methods for feaure extraction of the different types of data make sense, there is no deeper analysis on why using the attention mechanism. It would have been interesting to compare results on how to combine these features: using attention mechanism, self-attention, just concatenating and see data on why one is better than the other."
   ]
  },
  {
   "cell_type": "markdown",
   "metadata": {},
   "source": [
    "<div class='q_green'><b>3.9: Evaluation [2 points]</b>\n",
    "    \n",
    "How would you evaluate this paper in terms of:\n",
    "- scientific contribution\n",
    "- effectiveness to solve the problem\n",
    "- how convincing it was.\n",
    "    \n",
    "Give each of these elements a score from 1-10 (10 is best). No word explanation necessary.\n",
    "</div>"
   ]
  },
  {
   "cell_type": "markdown",
   "metadata": {},
   "source": [
    "- Scientific contribution: 8\n",
    "- Effectiveness to solve the problem: 9\n",
    "- How convincing it was: 8"
   ]
  },
  {
   "cell_type": "markdown",
   "metadata": {},
   "source": [
    "<div class='q_green'><b>3.10: Research Ideas [4 points]</b>\n",
    "    \n",
    "Think of 1-2 research ideas that you have based on this paper. It doesn't have to be grand; most research is very incremental. Specifically, your research idea should have a concrete question that you're aiming to answer. List it below. \n",
    "</div>"
   ]
  },
  {
   "cell_type": "markdown",
   "metadata": {},
   "source": [
    "- As suggested in the weaknesses of the paper, I think it could be interested to expand the dataset size by using more corpora to generate the multi-modal data and furthermore, to explore different ways to combine the extracted features, not only attention mechanism but also self-attention or simple concatenation. In particular, I would like to answer the questions: 1) Does having a much larger dataset increases the gap between the metric baseline and SOTA? 2) How does changing the extracted feature combination method change the results we see?"
   ]
  },
  {
   "cell_type": "markdown",
   "metadata": {},
   "source": [
    "<div class='q_green'><b>BONUS POINTS [5 points]</b> I mention the full details in the syllabus on the course website. However, in short, these bonus points cannot bring one's grade to exceed 100. That is, if someone received a 97 on this homework, doing this bonus could allow their grade to reach 100 points. If the person had an 83 on the homework, then the most they could achieve is an 88.\n",
    "    \n",
    "The task: read another research paper (allowed to be a Short Paper) and answer the same questions again. Please copy and paste all of the questions below.\n",
    "</div>"
   ]
  },
  {
   "cell_type": "markdown",
   "metadata": {},
   "source": [
    "3.1: Paper I read:\n",
    "\n",
    "For this second paper I read \"Show, attend and tell: Neural Image Caption Generation with Visual Attention\" by Xu, et.al. and was suggested by the professor.\n",
    "\n",
    "\n",
    "3.2: Problem? [2 point] What is the problem that it is trying to address? In other words, what is it trying to solve? (2-3 sentences)\n",
    "\n",
    "The authors are trying to provide a new way to desscribe the contents of an image using trainable neural networks. In particular, they want to train a model that generates a short description of a presented image.\n",
    "\n",
    "3.3: Solution? [2 point] At a very high-level, what was their solution? (2-3 sentences). Here, you don't have room to go into the small details (e.g., about the model), so you'll need to summarize the most important elements that comprised the solution.\n",
    "\n",
    "In a very high level, the authors are proposing a network that will use a CNN to extract features from a given image by taking some of the initial layers to extract certain pieces of the network. Then, they pass these features through an LSTM which will be predicting the context vector, that is computed from attention weights and a collection of annotation vectors that correspond to features extracted at different image locations. Finally the context vectors are used to predict the next word. The paper proposes two ways of computing the context vectors, one which is stoachastic and one dterministic.\n",
    "\n",
    "\n",
    "3.4: Data? [2 points] What dataset(s) did they use? Are they freely available? What's the size of the data? (2-3 sentences)\n",
    "\n",
    "The authors used the dataset Flickr8k and Flickr30k which each have 8000 and 30000 images respectively as well as the Microsoft COCO dataset with 82783 images.They are freely available datasets.\n",
    "\n",
    "3.5: Model [2 points] Very related to the 'solutions' question, describe here any models that they used, and what made it effective (2-3 sentences)\n",
    "\n",
    "In gneral, the authors proposed a section to use a CNN to extract features from the input image and used features from the initial layers to get simpler features from the image. Then, these features were input for an LSTM. One of the features of the LSTM is a context vector that is computed with attention weights and certain annotation vectors $a$ that come from the features extracted from the CNN. In the proposed solution, the computation of the context vector could be stochastic (soft-attentiont) or deterministic (hard-attention).\n",
    "\n",
    "3.6: Results? [2 points] What are their main results? (~2 sentences)\n",
    "\n",
    "The authors showed that they produce SOTA BLEU score inall the different datasets using the hard-attention mechanism and almost SOTA results using the METEOR score. \n",
    "\n",
    "3.7: Strengths? [2 points] List 2-3 strengths of the paper\n",
    "\n",
    "- I think the method proposed is simple enough and the paper provides enough intuition as to what choices of methods were made. \n",
    "- I think the paper makes a great job of providing intuition as to what the model is actually looking at in terms of features in the picture to generate the proposed text.\n",
    "\n",
    "\n",
    "3.8: Weaknesses? [2 points] Although you may be new to this problem and all of its content, try to list 2-3 weaknesses \n",
    "\n",
    "- There were discrepancies in the results of the soft-attention and hard-attention networks. I think it would have been interesting to dig a bit deeper into the reason for difference in results.\n",
    "- From the pictures they showed of where the model was paying attention, it would have been interesting on plotting a few of the first layers to see if there was a clearer choice of what layer to choose or maybe combine several layers of the CNN for generating input features for the LSTM.\n",
    "\n",
    "3.9: Evaluation [2 points]\n",
    "How would you evaluate this paper in terms of:\n",
    "\n",
    "scientific contribution\n",
    "effectiveness to solve the problem\n",
    "how convincing it was.\n",
    "Give each of these elements a score from 1-10 (10 is best). No word explanation necessary.\n",
    "\n",
    "- Scientific contribution: 10\n",
    "- Effectiveness to solve the problem: 9\n",
    "- How convincing it was: 9\n",
    "\n",
    "\n",
    "3.10: Research Ideas [4 points]\n",
    "Think of 1-2 research ideas that you have based on this paper. It doesn't have to be grand; most research is very incremental. Specifically, your research idea should have a concrete question that you're aiming to answer. List it below.\n",
    "\n",
    "- It could be interesting to measure the power of more sophisticated encoder-decoder architctures (transformers/BERT) in the image captioning task. In particular, I would like to answer the question: Can we increase the SOTA performance in the image captioning task by using transformers in my architecture.\n",
    "- I think it could be interesting to see if we can use NLP architectures to do the opposite task. Take strings/captions and generate an image that represents that text. IN particular, I would like to answer the question: Can we use NLP and CV architectures to generate images based from text?"
   ]
  },
  {
   "cell_type": "markdown",
   "metadata": {},
   "source": []
  },
  {
   "cell_type": "markdown",
   "metadata": {},
   "source": [
    "<div class='header_blue'>\n",
    "    \n",
    "# 4. SELF-REFLECTION [0 points]\n",
    "\n",
    "</div>"
   ]
  },
  {
   "cell_type": "markdown",
   "metadata": {},
   "source": [
    "<div class='q_blue'><b>4.1: Self-reflection and Feedback [0 points]</b>\n",
    "\n",
    "Are you thriving in the course? Are there elements that are particularly confusing to you? I want everyone to be and feel fully supported. Toward this, I strongly urge you all to think critically about your own learning and efforts. Please provide us with feedback about how you're doing in the course and if there's anything further or different we can do to better assist your learning. I want everyone to give their earnest account, so the form is completely anonymous.\n",
    "\n",
    "</div>\n",
    "\n",
    "[Anonymous Self-Reflection and Feedback Form](https://forms.gle/3LT6UfhtCtqp2G7X9)"
   ]
  },
  {
   "cell_type": "code",
   "execution_count": null,
   "metadata": {},
   "outputs": [],
   "source": []
  }
 ],
 "metadata": {
  "celltoolbar": "Edit Metadata",
  "interpreter": {
   "hash": "0d3e0cb9dfa8cf737dbf538b02aa0665a58b73e014f15f8af0ea4296e4e6b732"
  },
  "kernel_loop": {
   "byte_size": "82791"
  },
  "kernelspec": {
   "display_name": "Python 3",
   "language": "python",
   "name": "python3"
  },
  "language_info": {
   "codemirror_mode": {
    "name": "ipython",
    "version": 3
   },
   "file_extension": ".py",
   "mimetype": "text/x-python",
   "name": "python",
   "nbconvert_exporter": "python",
   "pygments_lexer": "ipython3",
   "version": "3.7.6"
  }
 },
 "nbformat": 4,
 "nbformat_minor": 4
}
