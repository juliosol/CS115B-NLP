{
 "cells": [
  {
   "cell_type": "code",
   "execution_count": 1,
   "metadata": {
    "button": false,
    "new_sheet": false,
    "run_control": {
     "read_only": false
    }
   },
   "outputs": [
    {
     "data": {
      "text/html": [
       "<style>\n",
       "blockquote { background: #AEDE94; }\n",
       "\n",
       "hr {\n",
       "    height: 1px;\n",
       "    background-color: black;\n",
       "    border: none;\n",
       "}\n",
       "\n",
       "div.quote {\n",
       "\tpadding: 0.5em;\n",
       "\tfont-size: 12px;\n",
       "\talign-items: center;\n",
       "\tmax-width: 80%;\n",
       "\ttext-align: center;\n",
       "}\n",
       "\n",
       "div.header_purple {\n",
       "\tbackground-color: #D0C7FF; \n",
       "\twidth: 100%;\n",
       "\tbox-shadow: 5px 5px 10px 2px #888;\n",
       "\tfont-size: 15px;\n",
       "\tpadding-top: 8px;\n",
       "\tpadding-left: 20px;\n",
       "\tpadding-right: 20px; \n",
       "\tpadding-bottom: 20px;\n",
       "}\n",
       "\n",
       "div.q_purple {\n",
       "\tbackground-color: #9183D9;\n",
       "\tborder-color: #FF8484;\n",
       "\tborder-left: 5px solid #FF8484; \n",
       "\tpadding: 0.5em;\n",
       "}\n",
       "\n",
       "div.header_pink {\n",
       "\tbackground-color: #FFC8C8;\n",
       "\twidth: 100%;\n",
       "\tbox-shadow: 5px 5px 10px 2px #888;\n",
       "\tfont-size: 15px;\n",
       "\tpadding-top: 8px;\n",
       "\tpadding-left: 20px;\n",
       "\tpadding-right: 20px; \n",
       "\tpadding-bottom: 20px;\n",
       "}\n",
       "\n",
       "div.q_pink {\n",
       "\tbackground-color: #FFC8C8;\n",
       "\tborder-color: #FF8484;\n",
       "\tborder-left: 5px solid #FF8484; \n",
       "\tpadding: 0.5em;\n",
       "}\n",
       "\n",
       "div.header_yellow {\n",
       "\tbackground-color: #FDFFB6; \n",
       "\twidth: 100%;\n",
       "\tbox-shadow: 5px 5px 10px 2px #888;\n",
       "\tfont-size: 15px;\n",
       "\tpadding-top: 8px;\n",
       "\tpadding-left: 20px;\n",
       "\tpadding-right: 20px; \n",
       "\tpadding-bottom: 20px;\n",
       "}\n",
       "\n",
       "div.q_yellow {\n",
       "\tbackground-color: #FDFFD0;\n",
       "\tborder-color: #FFD6A5;\n",
       "\tborder-left: 5px solid #FFD6A5; \n",
       "\tpadding: 0.5em;\n",
       "}\n",
       "\n",
       "div.header_orange {\n",
       "\tbackground-color: #FFD6A5; \n",
       "\twidth: 100%;\n",
       "\tbox-shadow: 5px 5px 10px 2px #888;\n",
       "\tfont-size: 15px;\n",
       "\tpadding-top: 8px;\n",
       "\tpadding-left: 20px;\n",
       "\tpadding-right: 20px; \n",
       "\tpadding-bottom: 20px;\n",
       "}\n",
       "\n",
       "div.q_orange {\n",
       "\tbackground-color: #FFD6A5;\n",
       "\tborder-color: #D6562C;\n",
       "\tborder-left: 5px solid #D6562C; \n",
       "\tpadding: 0.5em;\n",
       "}\n",
       "\n",
       "div.header_green {\n",
       "\tbackground-color: #CAFFBF; \n",
       "\twidth: 100%;\n",
       "\tbox-shadow: 5px 5px 10px 2px #888;\n",
       "\tfont-size: 15px;\n",
       "\tpadding-top: 8px;\n",
       "\tpadding-left: 20px;\n",
       "\tpadding-right: 20px; \n",
       "\tpadding-bottom: 20px;\n",
       "}\n",
       "\n",
       "div.q_green {\n",
       "\tbackground-color: #CAFFBF;\n",
       "\tborder-color: #98C98E;\n",
       "\tborder-left: 5px solid #98C98E; \n",
       "\tpadding: 0.5em;\n",
       "}\n",
       "\n",
       "\n",
       "div.header_blue {\n",
       "\tbackground-color: #C9FAFF; \n",
       "\twidth: 100%;\n",
       "\tbox-shadow: 5px 5px 10px 2px #888;\n",
       "\tfont-size: 15px;\n",
       "\tpadding-top: 8px;\n",
       "\tpadding-left: 20px;\n",
       "\tpadding-right: 20px; \n",
       "\tpadding-bottom: 20px;\n",
       "}\n",
       "\n",
       "div.q_blue {\n",
       "\tbackground-color: #C9FAFF;\n",
       "\tborder-color: #A0C4FF;\n",
       "\tborder-left: 5px solid #A0C4FF; \n",
       "\tpadding: 0.5em;\n",
       "}\n",
       "\n",
       "\n",
       "h1 {\n",
       "    text-align: left; \n",
       "    color: black;\n",
       "}\n",
       "\n",
       "h2 { \n",
       "    text-align: left; \n",
       "    color: black;\n",
       "}\n",
       "\n",
       "</style>\n"
      ],
      "text/plain": [
       "<IPython.core.display.HTML object>"
      ]
     },
     "execution_count": 1,
     "metadata": {},
     "output_type": "execute_result"
    }
   ],
   "source": [
    "################################\n",
    "#        RUN THIS CELL\n",
    "################################\n",
    "from IPython.core.display import HTML\n",
    "HTML(\"style.css\")"
   ]
  },
  {
   "cell_type": "markdown",
   "metadata": {
    "button": false,
    "new_sheet": false,
    "run_control": {
     "read_only": false
    }
   },
   "source": [
    "\n",
    "<div class='header_orange'>\n",
    "\n",
    "# <img style=\"float: left; padding-right: 10px; width: 60px\" src=\"https://raw.githubusercontent.com/Harvard-IACS/2018-CS109A/master/content/styles/iacs.png\"> AC295/CS287/E-115B: Deep Learning for NLP\n",
    "\n",
    "<br/>\n",
    "<hr color=black>\n",
    "\n",
    "## Homework 1: Language Representations and Modelling\n",
    "### THE ORANGE BOOK\n",
    "\n",
    "**Harvard University**<br/>\n",
    "**Fall 2021**<br/>\n",
    "**Instructor**: Chris Tanner<br/>\n",
    "**Release Date**: September 7 (Tues)<br/>\n",
    "<font color=\"red\">**Due Date**: Sept 20 (Mon) @ 11:59pm (EST)</font>\n",
    "\n",
    "<hr color=black>\n",
    "<center>\n",
    "<div class='quote'>\n",
    "\n",
    "_\"A couple of years ago, on Headland and Delowe, was the start of something good.\"_\n",
    "\n",
    "    André Benjamin (July 9, 1996)\n",
    "</div>\n",
    "</center>\n",
    "</div>"
   ]
  },
  {
   "cell_type": "markdown",
   "metadata": {
    "button": false,
    "new_sheet": false,
    "run_control": {
     "read_only": false
    }
   },
   "source": [
    "<div class='header_orange'>\n",
    "    \n",
    "# OVERVIEW\n",
    "\n",
    "</div>\n",
    "<br/>\n",
    "This assignment spans the content covered in the following lectures:\n",
    "\n",
    "- **Lecture 1:** Course Overview + Intro to NLP\n",
    "- **Lecture 2:** Representations: BoW and TF-IDF \n",
    "- **Lecture 3:** Language Models: n-grams\n",
    "- **Lecture 4:** word2vec\n",
    "\n",
    "You will gain experience with some of the simple yet highly powerful, foundational techniques that dominated NLP before the recent Deep Learning revolution. All of the core concepts behind these earlier approaches (e.g., `BoW`, `TF-IDF`, and `n-grams`) are still relevant and strongly intertwined within the modern, deep learning advances. For example, learning how to (a) _represent_ language on a fine-grain scale (e.g., words) and coarse-grain (e.g., documents); and (b) _model_ language are still the crux of all NLP systems -- but using deep neural networks to do so currently yield the best results to date. This material serves as the backbone for all future work in the course. Moreover, `word2vec` (2013) provides a segue to deep learning, as it was the first, revolutionary neural model in NLP that yielded profound results. It was the catalyst for the deep learning era, and it opened everyone's eyes to the incredible potential of using neural networks for language... again.\n",
    "\n",
    "**Disclaimer:** The dataset that we use for this assignment is a random subset of news articles. These articles may include content that is offensive, disturbing, or insensitive. We apologize if the nature of any of these documents is unsettling to you. Our intent is purely to use real-world data for pedagogical purposes."
   ]
  },
  {
   "cell_type": "markdown",
   "metadata": {
    "button": false,
    "new_sheet": false,
    "run_control": {
     "read_only": false
    }
   },
   "source": [
    "<div class='header_orange'>\n",
    "    \n",
    "# LEARNING OBJECTIVES\n",
    "\n",
    "</div>\n",
    "<br/>\n",
    "\n",
    "The purpose of this homework is to help you:\n",
    "\n",
    "- understand how language can be represented (on a coarse-grained document level and fine-grained word level)\n",
    "- understand the strengths and weaknesses of bag-of-words representations\n",
    "- develop a strong foundation in language _modelling,_ via `n-grams`\n",
    "- discover the profound power of distributed, contextualized word representations (i.e., word embeddings)\n",
    "- deeply understand the previous point by writing from scratch the revolutionary `word2vec` model\n",
    "- gain some initial experience with NLP research by critically reading and summarizing a recent research paper from a top NLP conference.\n",
    "\n",
    "To assist you reach these learning objectives, this homework is structured into three parts:\n",
    "- <span style=\"background-color: #FDFFB6\"><b>Foundation (concepts):</b></span> demonstrate an understanding of the core concepts taught in lectures\n",
    "- <span style=\"background-color: #FFC8C8\"><b>Application (programming):</b></span> gain experience putting that knowledge into practice \n",
    "- <span style=\"background-color: #CAFFBF\"><b>Research (creating new knowledge):</b></span> use your current NLP knowledge and skills to go beyond the course material, to grasp cutting-edge results and to critically accept or challenge that information. This serves as practice for you to research your own NLP interests and to be well-equipped to continuously learn the latest, greatest NLP work."
   ]
  },
  {
   "cell_type": "markdown",
   "metadata": {
    "button": false,
    "new_sheet": false,
    "run_control": {
     "read_only": false
    }
   },
   "source": [
    "<div class='header_orange'>\n",
    "    \n",
    "## SUPPORT\n",
    "\n",
    "</div>\n",
    "\n",
    "- **Supplemental Resources:** See the list of [supplemental resources](https://harvard-iacs.github.io/CS287/supplemental) for a wealth of rich information concerning Machine Learning, NLP, and Math. Some of the courses listed concern the exact topics covered in this homework and lectures.\n",
    "- **Sanity Check cells:** We provide several 'sanity check' cells which allow you to see our expected outputs. You should ensure your code produces the same. <span style=\"background-color: #FDFFB6\"><b>**NOTE:** We are not claiming that passing the sanity check cells indicates that you have _fully_ implemented everything correctly; rather, they provide simple checks to help inform you if you are on the right track.</span>\n",
    "- **Ed**: If you are stuck on anything conceptual (not code) about the content from lectures, please post a question on Ed. This is your community, and please contribute and help each other out. If your questions concern the homework, you can post these on Ed, too, but make sure you are not posting any of your code or solutions in general. If you think you've spotted a bug in our homework questions, or something that needs clarifying, please let us know on Ed! We want to correct these issues ASAP.\n",
    "- **OH:** After having given a wholehearted attempt, if you are having trouble with the homework, please come to Office Hours.\n",
    "- **Classmates:** We have a strict policy about the homeworks being individual. You are free to discuss _concepts_ with one another, to help each other learn the material. However, no student shall ever discuss their solutions or see another student's solutions to any problem. Once you see someone's coding solution, it's nearly impossible to harness that information in a way that you can write your own unique solution. You've been robbed of a learning opportunity and will likely just regurgitate someone else's work. As a reminder, if you want to take a shortcut on any problem by looking online for already-existing solutions, that's permissible, but you must cite your sources. Otherwise, it constitutes cheating. Posting any pieces of this homework online for others to see if a flagrant violation of our academic policy.\n",
    "- **Other:** I want everyone to be and feel fully supported. If there's anything else we, as a teaching staff, can do to further assist in your learning, please let us know. Related, at the end of this homework assignment, you are expected to complete an anonymous feedback form. I urge you to critically and earnestly think about your own learning, communicate to us your thoughts, and to optionally tell us possible adjustments we could make so that you meet our learning expectations and you achieve your own learning goals."
   ]
  },
  {
   "cell_type": "markdown",
   "metadata": {
    "button": false,
    "new_sheet": false,
    "run_control": {
     "read_only": false
    }
   },
   "source": [
    "<div class='header_yellow'>\n",
    "    \n",
    "# 1. FOUNDATION (CONCEPTS) [10 points]\n",
    "\n",
    "</div>\n",
    "<br/>"
   ]
  },
  {
   "cell_type": "markdown",
   "metadata": {
    "button": false,
    "new_sheet": false,
    "run_control": {
     "read_only": false
    }
   },
   "source": [
    "<div class='q_yellow'><b>1.1. BoW [2 points]</b>\n",
    "\n",
    "Let's say we are building a spam classifier, which simply predicts if each email is either spam or not spam. It doesn't matter what our exact model is, but our data is represented by **boolean, bag-of-words (BoW) vector representations**. Specifically, each email is represented as a boolean vector whose length is the size of our vocabulary. Each index of the vector corresponds to a particular word, and it has a value of 1 if the word is present in the input data, and 0 if the word is not present. Our model is able to achieve an accuracy of $S_{1}$.\n",
    "\n",
    "Now, if we change our data's representation such that we simply first remove all stopwords (e.g., the top 1% of the most frequent words, such as 'the', 'and', 'for'), our input vectors will naturally be 1% shorter, as their vocabulary is slightly smaller. Using this data on the aforementioned model yields an accuracy of $S_{2}$.\n",
    "\n",
    "What can you say about the scores $S_{1}$ and $S_{2}$? Which one should be higher (better)? Why?\n",
    "</div>\n"
   ]
  },
  {
   "cell_type": "markdown",
   "metadata": {
    "button": false,
    "new_sheet": false,
    "run_control": {
     "read_only": false
    }
   },
   "source": [
    "### My answer\n",
    "I believe score $S_2$ should be higher. I think this because when we drop the stopwords from our vector representations, the model is receiving a vector with more entries referring to words that are more meaningful than stopwords and thus it is easier to find a way of separating spam vs no spam emails with this smaller vector representations than with the original vector repreentations.  "
   ]
  },
  {
   "cell_type": "markdown",
   "metadata": {
    "button": false,
    "new_sheet": false,
    "run_control": {
     "read_only": false
    }
   },
   "source": [
    "<div class='q_yellow'><b>1.2. TF-IDF [2 points]</b>\n",
    "\n",
    "Let's say we have a corpus of 100,000 documents (academic research papers), and we're hoping to build an app that allows researchers to quickly see which papers are most related to others. (This could be used to help inform which papers one ought to cite when writing a paper). The 'relatedness' score is calculated by representing each document as a TF-IDF embedding, and then we compute the cosine similarity score between it and every other document vector. The app thus has a score for every pairwise combination of documents, and these can be visualized on the screen as a fully-connected graph with edges' lengths being shorter for documents that are more similar to one another.\n",
    "\n",
    "Unfortunately, one of the new employees who works on the app's parsing and data ingestion made a mistake: a random, 50% of the time, the system can't correctly parse any text after the Abstract section. So, our corpus has actually been reduced to having 50% of the research papers in its original, long form. Yet, the other 50% of papers only have the Abstract section and no other text.\n",
    "\n",
    "- How would this affect the app's results, in terms of how related it thinks the documents are (visualized as a graph)?\n",
    "- Do you think long documents would have more accurate document \"neighbors\" or would the Abstract-only documents? Explain.\n",
    "\n",
    "</div>\n"
   ]
  },
  {
   "cell_type": "markdown",
   "metadata": {
    "button": false,
    "new_sheet": false,
    "run_control": {
     "read_only": false
    }
   },
   "source": [
    "### My answer\n",
    "\n",
    "Before giving my answer, we are assuming that, even if there is an issue with some document parsing, we have the same vocabulary for all the documents (regardless of whether the doc had a parsing issue or not).\n",
    "\n",
    "1) With the parsing issue, now for the documents that we only see the abstract section, the term frequencies for the words in these documents are very small and there are a lot of terms that have a TF value of 0, actually. Thus, this implies that the TF-IDF vectors for these documents are very sparse. Thus, this would cause that when we compute the cosine similarity between the embedding vector of a document that was correctly parsed and the embedding of a document that was not correctly parsed, where the documents are closely related, the cosine similarity is smaller than it should be because of the sparseness of the embedding of the badly parsed document. Thus, in this sense, the app will be putting documents (when some of them were badly parsed) that might be very related further away from each other in the graph because the embedding vectors are sparse.   \n",
    "2) I think that long documents would have more accurate document neighbors. Related to what I explained above, the abstract-only documents have very sparse embeddings and so we do lose a lot of information in these embeddings. WHen we compute cosine similarity between any long document embedding and an abstract-only embedding (even though the two documents are very related), the sparseness of the abstract-only embedding will cause that the cosine-similarity of these embeddings is much smaller than it should be. Thus, we will have more accuracy in defining the neighbors of a document when we have the long documents and the embeddings of them compared to have abstract-only documents. "
   ]
  },
  {
   "cell_type": "markdown",
   "metadata": {
    "button": false,
    "new_sheet": false,
    "run_control": {
     "read_only": false
    }
   },
   "source": [
    "<div class='q_yellow'><b>1.3. n-grams [2 points]</b>\n",
    "\n",
    "**True/False** \n",
    "    \n",
    "Let $w$ and $w'$ represent word types and $d$ is an end-of-sentence padded corpus. If $n_{w}(d) = 1$, then there exists exactly one $w'$ such that $n_{w,w'}(d) = 1$.\n",
    "\n",
    "Remember, the notation $n_{w}(d)$ represents the number of occurrences of word $w$ in corpus $d$. Similarly, $n_{w,w'}(d)$ represents the number of times the bigram $w,w'$ appeared in corpus $d$.\n",
    "</div>\n"
   ]
  },
  {
   "cell_type": "markdown",
   "metadata": {
    "button": false,
    "new_sheet": false,
    "run_control": {
     "read_only": false
    }
   },
   "source": [
    "## My answer\n",
    "\n",
    "The statement above is true. We know that word $w$ appears exactly once in the whole corpus. Since it appears exactly once and we want to consider a bigram, then that implies that we must have some word $w'$ after it. Since the word $w$ happens only once, the pair $w,w'$ happens only once in the whole corpus. Thus, we know that $n_{w,w'}(d)=1$ only for the word $w'$ (and no other word since otherwise that would imply that word $w$ appears more than once in the corpus) that comes after the word $w$. Thus, we know that there is exactly one $w'$ such that $n_{w,w'}(d)=1$\n"
   ]
  },
  {
   "cell_type": "markdown",
   "metadata": {
    "button": false,
    "new_sheet": false,
    "run_control": {
     "read_only": false
    }
   },
   "source": [
    "<div class='q_yellow'><b>1.4. CBOW [2 points]</b>\n",
    "\n",
    "The CBOW model has two weight matrices:\n",
    "- input layer to the projection layer (V x N)\n",
    "- project layer to the output layer (N X V)\n",
    "\n",
    "What would happen to the results if we tied the weights (i.e., the 1st weight layer and 2nd weight layer are forced to always have the same weights)?\n",
    "</div>\n"
   ]
  },
  {
   "cell_type": "markdown",
   "metadata": {
    "button": false,
    "new_sheet": false,
    "run_control": {
     "read_only": false
    }
   },
   "source": [
    "### My Answer\n",
    "\n",
    "If we tied the weights, then basically the projection layer would be doing the same transformation as the input layer. Thus we would effectively be using the output of the projection layer as the output of the CBOW model (basically erasing the transformation going frmo the projection layer to the output layer). \n"
   ]
  },
  {
   "cell_type": "markdown",
   "metadata": {
    "button": false,
    "new_sheet": false,
    "run_control": {
     "read_only": false
    }
   },
   "source": [
    "<div class='q_yellow'><b>1.5. CBOW-Expanded [2 points]</b>\n",
    "\n",
    "In the typical CBOW architecture, the input words are the context words appearing to the left and right of the target word. If content window size = $N$, then the input vector would be of length $2N$ and **not** include the target word. What would happen to the results if we provided the target word in the input, too. That is, the input would be of size $2N+1$, and the center word would be the target word.\n",
    "</div>\n"
   ]
  },
  {
   "cell_type": "markdown",
   "metadata": {
    "button": false,
    "new_sheet": false,
    "run_control": {
     "read_only": false
    }
   },
   "source": [
    "### My answer\n",
    "\n",
    "If we had the target word in the input, then, given enough epochs, our network would overfit and the loss of the network would decrease very quickly. Theoretically, the network should be able to eventually recognized that the ooptimal weights would be those that output the middle word in each context to have the largest probability. Thus, the idea is that we would be eventually modelling an identity function."
   ]
  },
  {
   "cell_type": "markdown",
   "metadata": {
    "button": false,
    "new_sheet": false,
    "run_control": {
     "read_only": false
    }
   },
   "source": [
    "<div class='header_pink'>\n",
    "    \n",
    "# 2. APPLICATION (PROGRAMMING) [70 points]\n",
    "\n",
    "</div>\n",
    "\n",
    "\n",
    "# Mini-Google™ aka Mooogle\n",
    "In this programming exercise, we will build a very simple, make-shift \"search engine\" called Mini-Google, or Mooogle for short (cows love it). I'm putting \"search engine\" in quotes because clearly a fully-functioning, effective search engine requires a full host of computer science solutions; although NLP and Information Retrieval (IR) serve as the crux for any powerful search engine, one must also make heavy use of databases, distributed systems, security, data structures and algorithms, human-computer interaction (HCI), etc. Nonetheless, here, you will get a flavor of the work by building a barebones system that illustrates the power and limitations of document-level representations (e.g., `BoW` and `TF-IDF`) and basic word-level representations (e.g., `word2vec` embeddings).\n",
    "\n",
    "### DATA\n",
    "\n",
    "For Mooogle, we have created two datasets for you to use:\n",
    "- `CS287_news_full` which contains approximately 1000 documents from June 2016 and serves as the full corpus. The documents come from one of three news sources:\n",
    "    - New York Times articles (politically liberal)\n",
    "    - Reuters (politically neutral)\n",
    "    - Fox \"News\" (politically conservative)\n",
    "- `CS287_news_sample` which contains just 3 documents sampled from the full corpus. This serves as a toy example for you to do sanity checks. The documents consist of just 1 document from each of NYT, APNews, and Fox.\n",
    "\n",
    "### PANDAS\n",
    "In all homework assignments, including this one, you are free to use `Pandas`. You are not required to use it at all, but it has some highly useful functionality, e.g., its `read_csv()` function, `DataFrame` and `Series` data structures, and its ability to quickly filter/sort/edit data (which is particularly helpful when experimenting and exploring your data)."
   ]
  },
  {
   "cell_type": "markdown",
   "metadata": {
    "button": false,
    "new_sheet": false,
    "run_control": {
     "read_only": false
    }
   },
   "source": [
    "<div class='q_pink'>\n",
    "    \n",
    "**2.1 Tokenization [4 points total]**\n",
    "\n",
    "</div>\n",
    "\n",
    "The first step in any NLP pipeline is **tokenization**. Remember, tokenization is the process of taking a string of text (e.g. sentence, paragraph, document) and splitting it up into meaningful sub-units (e.g., words). This will allow models to process and understand text in the way that humans do -- i.e. one word at a time.\n",
    "\n",
    "Many popular libraries (e.g. [NLTK](https://www.nltk.org/api/nltk.tokenize.html), [SpaCy](https://spacy.io/api/tokenizer), [Keras](https://www.tensorflow.org/api_docs/python/tf/keras/preprocessing/text/Tokenizer)) have their own tokenization function, which we encourage you to use in future problem sets, as well as your research project. However, for this first problem set, we find it most instructive to write the tokenizer from scratch. This will allow us to develop an appreciation of what takes place \"under the hood\" of these great libraries.\n",
    "\n",
    "Our tokenizer will involve the following three steps:\n",
    "- **Lowercasing**: converts all text to lowercase (e.g. `\"The cat ate the fish.\"` -> `\"the cat ate the fish.\"`).  It will allow models to recognize that the first `\"The\"` in the sentence and the second `\"the\"` in the sentence are actually the same word.  \n",
    "- **Punctuation removal**: deletes punctuation (e.g. `\"the cat ate the fish.\"` -> `\"the cat ate the fish\"`) so that characters such as `\".\"`, `\"!\"`, `\"?\"`, etc. not recognized as part of any word. \n",
    "- **Whitespace-splitting**: takes a string of text and segments out the words as a list of strings based on whitespace (e.g. `\"the cat ate the fish\"` -> `[\"the\", \"cat\", \"ate\", \"the\", \"fish\"]`).  "
   ]
  },
  {
   "cell_type": "markdown",
   "metadata": {
    "button": false,
    "new_sheet": false,
    "run_control": {
     "read_only": false
    }
   },
   "source": [
    "Let's start with **lowercasing**. We will use this as an example to show how to complete problems in the programming section of this notebook. In general, when we ask you to write code, you will see a cell like this:"
   ]
  },
  {
   "cell_type": "code",
   "execution_count": 3,
   "metadata": {
    "button": false,
    "new_sheet": false,
    "run_control": {
     "read_only": false
    }
   },
   "outputs": [],
   "source": [
    "def lowercase(text: str) -> str:\n",
    "    raise NotImplementedError() # Replace with code"
   ]
  },
  {
   "cell_type": "markdown",
   "metadata": {
    "button": false,
    "new_sheet": false,
    "run_control": {
     "read_only": false
    }
   },
   "source": [
    "This cell asks you to implement a function named `lowercase()` that takes as input a *string* named `text` and outputs a *string* of lowercased text. If you're not already familiar, you can learn about _typing_ in Python [here](https://docs.python.org/3/library/typing.html). We will _type_ all of the functions we ask you to implement so that you know exactly what goes in and what needs to come out. Your job is to replace `raise NotImplementedError()` with code that accomplishes the desired task. For example, one solution may re-write the above cell as the following:"
   ]
  },
  {
   "cell_type": "code",
   "execution_count": 4,
   "metadata": {
    "button": false,
    "new_sheet": false,
    "run_control": {
     "read_only": false
    }
   },
   "outputs": [],
   "source": [
    "def lowercase(text: str) -> str:\n",
    "    return text.lower()"
   ]
  },
  {
   "cell_type": "markdown",
   "metadata": {
    "button": false,
    "new_sheet": false,
    "run_control": {
     "read_only": false
    }
   },
   "source": [
    "Then, we can test our function by running the following cell:"
   ]
  },
  {
   "cell_type": "code",
   "execution_count": 5,
   "metadata": {
    "button": false,
    "new_sheet": false,
    "run_control": {
     "read_only": false
    }
   },
   "outputs": [
    {
     "data": {
      "text/plain": [
       "'the cat ate the fish.'"
      ]
     },
     "execution_count": 5,
     "metadata": {},
     "output_type": "execute_result"
    }
   ],
   "source": [
    "# evaluation cell\n",
    "lowercase('The cat ate the fish.')"
   ]
  },
  {
   "cell_type": "markdown",
   "metadata": {
    "button": false,
    "new_sheet": false,
    "run_control": {
     "read_only": false
    }
   },
   "source": [
    "<div class='q_pink'>\n",
    "    \n",
    "**2.1a Tokenization: Punctuation Removal [1 point]**\n",
    "\n",
    "Now, implement the **punctuation removal** function below. The function accepts two inputs:\n",
    "- the input string `text`, which is the data from which you will remove punctuation\n",
    "- a `punc` string, which contains punctuation characters all concatenated together, each of which we want to remove from `text` (**Hint:** you might find Python's built-in functions [`str.replace`](https://www.w3schools.com/python/ref_string_replace.asp), [`str.translate`](https://www.w3schools.com/python/ref_string_translate.asp), or [`ord`](https://www.w3schools.com/python/ref_func_ord.asp) to be helpful)\n",
    "\n",
    "Your function should return `text` with the punctuation removed. **NOTE:** This function has nothing to do with lowercasing, so please do not change the casing of your input text. And, as you can see from the sanity check, you should be _removing_ punctuation, not _replacing_ it with whitespaces.\n",
    "</div>"
   ]
  },
  {
   "cell_type": "code",
   "execution_count": 6,
   "metadata": {
    "button": false,
    "new_sheet": false,
    "run_control": {
     "read_only": false
    }
   },
   "outputs": [],
   "source": [
    "def remove_punc(text: str, punc: str) -> str:\n",
    "    for ele in punc:\n",
    "        text = text.replace(ele, \"\")\n",
    "    return text"
   ]
  },
  {
   "cell_type": "markdown",
   "metadata": {
    "button": false,
    "new_sheet": false,
    "run_control": {
     "read_only": false
    }
   },
   "source": [
    "As a sanity check, run the test cell below, which should output 'the cat ate the fish'. **Remember:** we are not claiming that passing the following test indicates that you have _fully_ implemented everything correctly; rather, it's a simple check to help inform you if you are on the right track."
   ]
  },
  {
   "cell_type": "code",
   "execution_count": 7,
   "metadata": {
    "button": false,
    "new_sheet": false,
    "run_control": {
     "read_only": false
    }
   },
   "outputs": [
    {
     "data": {
      "text/plain": [
       "\"the cat ate the fish that's wild\""
      ]
     },
     "execution_count": 7,
     "metadata": {},
     "output_type": "execute_result"
    }
   ],
   "source": [
    "# sanity check cell\n",
    "punc = '!\"#$%&()*+,-./:;<=>?@[\\\\]^_`{|}~—“”'\n",
    "\n",
    "# should return 'the cat ate the fish that's wild'\n",
    "remove_punc('the cat ate the fish?!! that\\'s wild!', punc) "
   ]
  },
  {
   "cell_type": "markdown",
   "metadata": {
    "button": false,
    "new_sheet": false,
    "run_control": {
     "read_only": false
    }
   },
   "source": [
    "Once you are convinced that your code is correct, simply run the evaluation cell below to remove the punctuation from a more difficult string of text. **NOTE: DO NOT EDIT THE CELL BELOW.** You will be evaluated on the correctness of the cell's outputs."
   ]
  },
  {
   "cell_type": "code",
   "execution_count": 8,
   "metadata": {
    "button": false,
    "new_sheet": false,
    "run_control": {
     "read_only": false
    }
   },
   "outputs": [
    {
     "data": {
      "text/plain": [
       "'Passwords they say must include a special character like  or  but I think  is not allowed right'"
      ]
     },
     "execution_count": 8,
     "metadata": {},
     "output_type": "execute_result"
    }
   ],
   "source": [
    "# evaluation cell\n",
    "punc = '!\"#$%&()*+,-./:;<=>?@[\\\\]^_`{|}~—“”'\n",
    "remove_punc('Passwords, they say, must include a special character like !#$ or & but I think * is not allowed, right?!', punc)"
   ]
  },
  {
   "cell_type": "markdown",
   "metadata": {
    "button": false,
    "new_sheet": false,
    "run_control": {
     "read_only": false
    }
   },
   "source": [
    "<div class='q_pink'>\n",
    "    \n",
    "**2.1b Tokenization: Whitespace Splitting [1 point]**\n",
    "    \n",
    "OK, now let's try **whitespace-splitting**. Implement the following `split_on_whitespace()` function which simply takes as input a `text` string and outputs a list of words that have been delimited by _whitespace_. Note, this should handle any whitespace, including tabs, carriage returns, newline characters, and spaces.\n",
    "\n",
    "</div>"
   ]
  },
  {
   "cell_type": "code",
   "execution_count": 9,
   "metadata": {
    "button": false,
    "new_sheet": false,
    "run_control": {
     "read_only": false
    }
   },
   "outputs": [],
   "source": [
    "from typing import List\n",
    "\n",
    "def split_on_whitespace(text: str) -> List[str]:\n",
    "    text = text.lstrip()\n",
    "    text = text.rstrip()\n",
    "    if \"\\n \" in text:\n",
    "        text = text.replace(\"\\n \", \" \")\n",
    "    else:\n",
    "        text = text.replace(\"\\n\", \" \")\n",
    "    if \"\\n \" in text:\n",
    "        text = text.replace(\"\\t \", \" \")\n",
    "    else:\n",
    "        text = text.replace(\"\\t\", \" \")\n",
    "    if \"\\n \" in text:\n",
    "        text = text.replace(\"\\r \", \" \")\n",
    "    else:\n",
    "        text = text.replace(\"\\r\", \" \")\n",
    "    while \"  \" in text:\n",
    "        text = text.replace(\"  \", \" \")\n",
    "    text = text.split(\" \")\n",
    "    return text"
   ]
  },
  {
   "cell_type": "markdown",
   "metadata": {
    "button": false,
    "new_sheet": false,
    "run_control": {
     "read_only": false
    }
   },
   "source": [
    "As a sanity check, run the test cell below, which should output `['the', 'cat', 'ate', 'the', 'fish']`. **Remember:** we are not claiming that passing the following test indicates that you have _fully_ implemented everything correctly; rather, it's a simple check to help inform you if you are on the right track."
   ]
  },
  {
   "cell_type": "code",
   "execution_count": 10,
   "metadata": {
    "button": false,
    "new_sheet": false,
    "run_control": {
     "read_only": false
    }
   },
   "outputs": [
    {
     "data": {
      "text/plain": [
       "['the', 'cat', 'ate', 'the', 'fish.']"
      ]
     },
     "execution_count": 10,
     "metadata": {},
     "output_type": "execute_result"
    }
   ],
   "source": [
    "# sanity check cell\n",
    "split_on_whitespace(' the\\tcat\\n ate\\rthe     fish.  ')"
   ]
  },
  {
   "cell_type": "markdown",
   "metadata": {
    "button": false,
    "new_sheet": false,
    "run_control": {
     "read_only": false
    }
   },
   "source": [
    "Once you are convinced that your code is correct, simply run the evaluation cell below to create a vocabulary for the full corpus. **NOTE: DO NOT EDIT THE CELL BELOW.** You will be evaluated on the correctness of the cell's outputs."
   ]
  },
  {
   "cell_type": "code",
   "execution_count": 11,
   "metadata": {
    "button": false,
    "jupyter": {
     "outputs_hidden": true
    },
    "new_sheet": false,
    "run_control": {
     "read_only": false
    },
    "scrolled": true
   },
   "outputs": [
    {
     "data": {
      "text/plain": [
       "['It',\n",
       " 'goes',\n",
       " 'without',\n",
       " 'saying',\n",
       " 'that',\n",
       " 'regular',\n",
       " 'maintenance',\n",
       " 'is',\n",
       " 'key',\n",
       " 'to',\n",
       " 'the',\n",
       " 'good',\n",
       " 'looks',\n",
       " 'of',\n",
       " 'the',\n",
       " 'Old',\n",
       " 'Yard’s',\n",
       " 'most',\n",
       " 'popular',\n",
       " 'resident',\n",
       " 'who',\n",
       " 'is',\n",
       " 'nearing',\n",
       " '140',\n",
       " 'and',\n",
       " 'has',\n",
       " 'endured',\n",
       " 'much',\n",
       " 'at',\n",
       " 'the',\n",
       " 'hands',\n",
       " 'of',\n",
       " 'visitors',\n",
       " 'and',\n",
       " 'vandals.',\n",
       " 'The',\n",
       " 'iconic',\n",
       " 'John',\n",
       " 'Harvard',\n",
       " 'Statue,',\n",
       " 'modeled',\n",
       " 'after',\n",
       " 'a',\n",
       " 'student',\n",
       " 'from',\n",
       " 'the',\n",
       " '19th',\n",
       " 'century',\n",
       " '(not',\n",
       " 'the',\n",
       " '17th-century',\n",
       " 'English',\n",
       " 'minister',\n",
       " 'and',\n",
       " 'generous',\n",
       " 'College',\n",
       " 'benefactor,',\n",
       " 'John',\n",
       " 'Harvard),',\n",
       " 'receives',\n",
       " 'occasional',\n",
       " 'washings',\n",
       " 'by',\n",
       " 'Harvard’s',\n",
       " 'Landscape',\n",
       " 'Services',\n",
       " 'team,',\n",
       " 'but',\n",
       " 'last',\n",
       " 'month',\n",
       " 'he',\n",
       " 'had',\n",
       " 'a',\n",
       " 'kind',\n",
       " 'of',\n",
       " 'statuary',\n",
       " 'spa',\n",
       " 'treatment.']"
      ]
     },
     "execution_count": 11,
     "metadata": {},
     "output_type": "execute_result"
    }
   ],
   "source": [
    "# evaluation cell\n",
    "tmp_text = \"It goes without saying that regular maintenance is key to the good looks of the Old Yard’s most popular resident who is nearing 140 and has endured much at the hands of visitors and vandals.  \\\n",
    "\\\n",
    "The iconic John Harvard Statue, modeled after a student from the 19th century (not the 17th-century English minister and generous College benefactor, John Harvard), receives occasional washings by Harvard’s Landscape Services team, but last month he had a kind of statuary spa treatment.\"\n",
    "split_on_whitespace(tmp_text)"
   ]
  },
  {
   "cell_type": "markdown",
   "metadata": {
    "button": false,
    "new_sheet": false,
    "run_control": {
     "read_only": false
    }
   },
   "source": [
    "<div class='q_pink'>\n",
    "    \n",
    "**2.1c Tokenization: The full process [1 point]**\n",
    "\n",
    "Implement the following `tokenize()` function by chaining together the aforementioned three steps -- lowercase, punctuation removal, and whitespace-splitting -- and returns the list of string tokens. You can make use of the functions you've already written, if you wish. Then, test the function to ensure that it works.\n",
    "</div>"
   ]
  },
  {
   "cell_type": "code",
   "execution_count": 12,
   "metadata": {
    "button": false,
    "new_sheet": false,
    "run_control": {
     "read_only": false
    }
   },
   "outputs": [],
   "source": [
    "punc = '!\"#$%&()*+,-./:;<=>?@[\\\\]^_`{|}~—“”'\n",
    "def tokenize(text: str, punc: str) -> List[str]:\n",
    "    text = lowercase(text)\n",
    "    text = remove_punc(text, punc)\n",
    "    text = split_on_whitespace(text)\n",
    "    return text"
   ]
  },
  {
   "cell_type": "markdown",
   "metadata": {
    "button": false,
    "new_sheet": false,
    "run_control": {
     "read_only": false
    }
   },
   "source": [
    "As a sanity check, run the test cell below, which should output `['the', 'cat', 'ate', 'the', 'fish']`. \n",
    "\n",
    "**Remember:** we are not claiming that passing the following test indicates that you have _fully_ implemented everything correctly; rather, it's a simple check to help inform you if you are on the right track. <span style=\"background-color: #FDFFB6\">So as to minimize the annoyance and extraneous text, I will refrain from reminding you of this disclaimer on the subsequent \"sanity check\" cells.</span>"
   ]
  },
  {
   "cell_type": "code",
   "execution_count": 13,
   "metadata": {
    "button": false,
    "new_sheet": false,
    "run_control": {
     "read_only": false
    }
   },
   "outputs": [
    {
     "data": {
      "text/plain": [
       "['the', 'cat', 'ate', 'the', 'fish']"
      ]
     },
     "execution_count": 13,
     "metadata": {},
     "output_type": "execute_result"
    }
   ],
   "source": [
    "# sanity check cell\n",
    "tokenize('The cat\\t\\tate the fish?!', punc) "
   ]
  },
  {
   "cell_type": "markdown",
   "metadata": {
    "button": false,
    "new_sheet": false,
    "run_control": {
     "read_only": false
    }
   },
   "source": [
    "Run the evaluation cell below to test your `tokenize()` function. **NOTE: DO NOT EDIT THE CELL BELOW.** You will be evaluated on the correctness of the cell's outputs. <span style=\"background-color: #FDFFB6\">Similarly, all \"evaluation cells\" serve this purpose, and I will now refrain from describing such on the subsequent \"evaluation\" cells."
   ]
  },
  {
   "cell_type": "code",
   "execution_count": 14,
   "metadata": {
    "button": false,
    "new_sheet": false,
    "run_control": {
     "read_only": false
    }
   },
   "outputs": [
    {
     "name": "stdout",
     "output_type": "stream",
     "text": [
      "tokens: ['it', 'goes', 'without', 'saying', 'that', 'regular', 'maintenance', 'is', 'key', 'to', 'the', 'good', 'looks', 'of', 'the', 'old', 'yard’s', 'most', 'popular', 'resident', 'who', 'is', 'nearing', '140', 'and', 'has', 'endured', 'much', 'at', 'the', 'hands', 'of', 'visitors', 'and', 'vandals', 'the', 'iconic', 'john', 'harvard', 'statue', 'modeled', 'after', 'a', 'student', 'from', 'the', '19th', 'century', 'not', 'the', '17thcentury', 'english', 'minister', 'and', 'generous', 'college', 'benefactor', 'john', 'harvard', 'receives', 'occasional', 'washings', 'by', 'harvard’s', 'landscape', 'services', 'team', 'but', 'last', 'month', 'he', 'had', 'a', 'kind', 'of', 'statuary', 'spa', 'treatment']\n",
      "# tokens: 78\n",
      "contains check #3: True\n",
      "contains check #1: True\n",
      "contains check #2: False\n",
      "contains check #4: False\n",
      "contains check #5: False\n"
     ]
    }
   ],
   "source": [
    "tmp_text = \"It goes without saying that regular maintenance is key to the good looks of the Old Yard’s most popular resident who is nearing 140 and has endured much at the hands of visitors and vandals.  \\\n",
    "\\\n",
    "The iconic John Harvard Statue, modeled after a student from the 19th century (not the 17th-century English minister and generous College benefactor, John Harvard), receives occasional washings by Harvard’s Landscape Services team, but last month he had a kind of statuary spa treatment.\"\n",
    "\n",
    "tokens = tokenize(tmp_text, punc)\n",
    "print(\"tokens:\", tokens)\n",
    "print(\"# tokens:\", len(tokens))\n",
    "print(\"contains check #3:\", \"yard’s\" in tokens)\n",
    "print(\"contains check #1:\", \"17thcentury\" in tokens)\n",
    "print(\"contains check #2:\", \"17th\" in tokens)\n",
    "print(\"contains check #4:\", \"It\" in tokens)\n",
    "print(\"contains check #5:\", \" statue,\" in tokens)"
   ]
  },
  {
   "cell_type": "markdown",
   "metadata": {
    "button": false,
    "new_sheet": false,
    "run_control": {
     "read_only": false
    }
   },
   "source": [
    "Above, you should see that `tmp_text` contains a funky apostrophe, `’` that we did not include in our punctuation list. This was deliberate, as it illustrates how it can be difficult to anticipate all of the nuanced characters and situations that one may encounter in raw text. This is exacerbated by having multiple character encodings. Thus, in practice, it can take a long time to write from scratch a parser that perfectly parses (e.g., tokenizes) your desired input data. As mentioned, fortunately many popular libraries (e.g. [NLTK](https://www.nltk.org/api/nltk.tokenize.html), [SpaCy](https://spacy.io/api/tokenizer), [Keras](https://www.tensorflow.org/api_docs/python/tf/keras/preprocessing/text/Tokenizer)) have their own tokenization functions, which often works sufficiently well for one's data."
   ]
  },
  {
   "cell_type": "markdown",
   "metadata": {
    "button": false,
    "new_sheet": false,
    "run_control": {
     "read_only": false
    }
   },
   "source": [
    "<div class='q_pink'>\n",
    "    \n",
    "**2.1d Load Corpus [1 point]**\n",
    "\n",
    "Now, you will use your `tokenize()` function on some real data. Implement the following `load_corpus()` function, which: takes as input (a) the name of a file containing news articles, and (b) a string of punctuation symbols; loads the file's contents into memory; and returns as output a dictionary of tokenized documents. The _key_ of the dictionary should be the document id and the _value_ will be the tokenized list of words in the document.\n",
    "\n",
    "**NOTE:** Below, we import `pandas` for you. You are not required to use `pandas`, but in this homework you might find it highly useful (e.g., for its `read_csv()` function, `DataFrame` and `Series` data structures, etc).\n",
    "</div>"
   ]
  },
  {
   "cell_type": "code",
   "execution_count": 15,
   "metadata": {},
   "outputs": [],
   "source": [
    "import pandas as pd\n",
    "\n",
    "sample_data_df = pd.read_csv(\"CS287_news_sample.csv\")\n",
    "full_data_df = pd.read_csv(\"CS287_news_full.csv\") # Used for plotting later on."
   ]
  },
  {
   "cell_type": "code",
   "execution_count": 16,
   "metadata": {
    "button": false,
    "new_sheet": false,
    "run_control": {
     "read_only": false
    }
   },
   "outputs": [],
   "source": [
    "from typing import Tuple, Dict\n",
    "import pandas as pd\n",
    "\n",
    "def load_corpus(filename: str, punc: str) -> Dict[int, List[str]]:\n",
    "    df_documents = pd.read_csv(filename)\n",
    "    token_dict: Dict[float, list] = {}\n",
    "    for row in df_documents.itertuples(index=False):\n",
    "        token_dict[row[0]] = tokenize(row[8], punc)\n",
    "    return token_dict"
   ]
  },
  {
   "cell_type": "markdown",
   "metadata": {
    "button": false,
    "new_sheet": false,
    "run_control": {
     "read_only": false
    }
   },
   "source": [
    "As a sanity check, run the cell below to load the `CS287_news_sample` corpus. It should return a dictionary that has three keys: `20621, 84549, 189782`. The value for the key `20621` should be a list of strings, which starts as `['rome', 'among', 'the', 'bureaucrats', ...]`."
   ]
  },
  {
   "cell_type": "code",
   "execution_count": 17,
   "metadata": {
    "button": false,
    "editable": false,
    "new_sheet": false,
    "run_control": {
     "read_only": false
    }
   },
   "outputs": [
    {
     "name": "stdout",
     "output_type": "stream",
     "text": [
      "['rome', 'among', 'the', 'bureaucrats', 'of', 'the', 'european', 'union', 'it', 'is', 'an', 'article', 'of', 'faith', 'that', 'the', 'bloc', 'always', 'emerges', 'stronger']\n"
     ]
    }
   ],
   "source": [
    "# sanity check cell\n",
    "samp_tokenized = load_corpus('CS287_news_sample.csv', punc)\n",
    "print(samp_tokenized[20621][:20])"
   ]
  },
  {
   "cell_type": "markdown",
   "metadata": {
    "button": false,
    "new_sheet": false,
    "run_control": {
     "read_only": false
    }
   },
   "source": [
    "Once you are convinced that your code is correct, simply run (i.e., **DO NOT EDIT**) the cell below to parse the full corpus and output particular samples from it."
   ]
  },
  {
   "cell_type": "code",
   "execution_count": 18,
   "metadata": {
    "button": false,
    "editable": false,
    "new_sheet": false,
    "run_control": {
     "read_only": false
    }
   },
   "outputs": [
    {
     "name": "stdout",
     "output_type": "stream",
     "text": [
      "<class 'dict'>\n",
      "<class 'list'>\n",
      "# docs: 1139\n",
      "length of doc 20516: 274\n",
      "['nairobi', 'kenya', 'kenyan', 'consumers', 'have', 'long', 'suspected', 'a', 'little', 'monkey', 'business', 'when', 'it', 'comes', 'to', 'their', 'power', 'bills', 'but', 'the']\n",
      "['don’t', 'have', 'much', 'going', 'for', 'yourself', 'whether', 'it', 'be', 'work', 'whether', 'it', 'be', 'school', 'your', 'options', 'are', 'on', 'the', 'block']\n"
     ]
    }
   ],
   "source": [
    "# evaluation cell\n",
    "full_tokenized = load_corpus('CS287_news_full.csv', punc)\n",
    "print(type(full_tokenized))\n",
    "print(type(full_tokenized[20516]))\n",
    "print(\"# docs:\", len(full_tokenized.keys()))\n",
    "print(\"length of doc 20516:\", len(full_tokenized[20516]))\n",
    "print(full_tokenized[20516][:20])\n",
    "print(full_tokenized[23230][-20:])"
   ]
  },
  {
   "cell_type": "markdown",
   "metadata": {
    "button": false,
    "new_sheet": false,
    "run_control": {
     "read_only": false
    }
   },
   "source": [
    "<div class='q_pink'>\n",
    "    \n",
    "**2.2 Bag-of-words [6 points total]**\n",
    "\n",
    "</div>\n",
    "\n",
    "Now, we analyze our corpus by creating *vector representations* of each document. These vector representations will allow us to work with documents as numerical data, compare them to one another, and hopefully design a useful information retrieval system.  \n",
    "\n",
    "The first vector representation we will examine is **bag-of-words** (BoW). Here, in BoW, the dimension of each vector should represents the number of times a particular word occurs in a document.\n",
    "\n",
    "\n",
    "<div class='q_pink'>\n",
    "    \n",
    "**2.2a Word Mapping [1 point]**\n",
    "\n",
    "To start, we need to create a **vocabulary** that maps words to the indices of a vector. Implement the following `create_vocab()` function, which takes as input our `load_corpus()`'s output dictionary and returns a dictionary that maps each unique word in the corpus to a unique integer *index*. The returned dictionary should satisfy the following properties:\n",
    "- Each word is mapped to a number between $0$ and $V - 1$, inclusive, where $V$ is the number of unique words in the corpus.\n",
    "- Words with higher frequency across the corpus should have smaller indices; i.e. the most frequent word should have index $0$ and the least frequent word should have index $V - 1$.  Feel free to break ties arbitrarily.\n",
    "</div>"
   ]
  },
  {
   "cell_type": "code",
   "execution_count": 19,
   "metadata": {
    "button": false,
    "new_sheet": false,
    "run_control": {
     "read_only": false
    }
   },
   "outputs": [],
   "source": [
    "def create_vocab(tokenized_texts: Dict[int, List[str]]) -> Dict[str, int]:\n",
    "    vocab_dict: Dict[float, str] = {}\n",
    "    for id_doc, content_list in tokenized_texts.items():\n",
    "        for word in content_list:\n",
    "            if word == '':\n",
    "                import pdb\n",
    "                pdb.set_trace()\n",
    "            if word in vocab_dict.keys():\n",
    "                vocab_dict[word] += 1\n",
    "            else:\n",
    "                vocab_dict[word] = 1\n",
    "    num_unique_words = len(list(vocab_dict.keys()))\n",
    "    sorted_vocab_dict = {k[0]:idx for k, idx in zip(sorted(vocab_dict.items(), key=lambda item: item[1], reverse=True), range(num_unique_words))}\n",
    "    return sorted_vocab_dict\n",
    "    "
   ]
  },
  {
   "cell_type": "markdown",
   "metadata": {
    "button": false,
    "new_sheet": false,
    "run_control": {
     "read_only": false
    }
   },
   "source": [
    "As a sanity check, run the test cell below, which should output a dictionary with 1147 distinct keys (0 through 1146)."
   ]
  },
  {
   "cell_type": "code",
   "execution_count": 20,
   "metadata": {
    "button": false,
    "editable": false,
    "new_sheet": false,
    "run_control": {
     "read_only": false
    }
   },
   "outputs": [
    {
     "name": "stdout",
     "output_type": "stream",
     "text": [
      "{'the': 0, 'of': 1, 'to': 2, 'and': 3, 'in': 4, 'a': 5, 'for': 6, 'that': 7, 'is': 8, 'european': 9, 'has': 10, 'it': 11, 'on': 12, 'but': 13, 'as': 14, 'not': 15, 'said': 16, 'union': 17, 'from': 18, 'are': 19, 'have': 20, 'an': 21, 'by': 22, 'was': 23, 'he': 24, 'ryan': 25, 'europe': 26, 'with': 27, 'we': 28, 'zika': 29, 'would': 30, 'countries': 31, 'trump': 32, 'bloc': 33, 'who': 34, 'into': 35, 'britain': 36, 'its': 37, 'political': 38, 'had': 39, 'crisis': 40, 'this': 41, 'currency': 42, 'at': 43, 'u': 44, 'more': 45, 'his': 46, 'be': 47, 'could': 48, 'british': 49, 'euro': 50, 'economic': 51, 'health': 52, 'semen': 53, 'study': 54, 'which': 55, 'also': 56, 'even': 57, 'or': 58, 'than': 59, 'officials': 60, 'after': 61, 'will': 62, 's': 63, 'virus': 64, 'bloc’s': 65, 'out': 66, 'politics': 67, 'germany': 68, 'long': 69, 'some': 70, 'new': 71, 'other': 72, 'national': 73, 'their': 74, 'most': 75, 'men': 76, 'help': 77, 'sex': 78, 'one': 79, 'whether': 80, 'greece': 81, 'through': 82, 'policy': 83, 'been': 84, 'what': 85, 'eurozone': 86, 'during': 87, 'between': 88, 'public': 89, 'support': 90, 'house': 91, 'republican': 92, 'endorsement': 93, 'among': 94, 'six': 95, 'thursday': 96, 'when': 97, 'considered': 98, 'can': 99, 'debt': 100, 'how': 101, 'still': 102, 'parties': 103, 'france': 104, 'campaign': 105, 'member': 106, 'very': 107, 'director': 108, 'made': 109, 'people': 110, 'such': 111, 'months': 112, 'brussels': 113, 'analysts': 114, 'last': 115, 'she': 116, 'over': 117, 'wait': 118, 'tweeted': 119, 'agenda': 120, 'about': 121, 'feel': 122, 'including': 123, 'i': 124, 'infected': 125, 'sexual': 126, 'risk': 127, 'dr': 128, 'always': 129, 'now': 130, 'voters': 131, 'latest': 132, 'toward': 133, 'if': 134, 'does': 135, 'leave': 136, 'handling': 137, 'past': 138, 'decade': 139, 'time': 140, 'continent': 141, 'many': 142, 'badly': 143, 'institutions': 144, 'like': 145, 'vote': 146, 'states': 147, 'hungary': 148, 'all': 149, 'being': 150, 'they': 151, 'so': 152, 'happened': 153, 'years': 154, 'those': 155, 'integration': 156, 'partners': 157, 'greek': 158, 'ideas': 159, 'before': 160, 'just': 161, 'migrants': 162, 'since': 163, 'believe': 164, 'president': 165, 'say': 166, 'until': 167, 'you': 168, 'speech': 169, 'women': 170, 'nominee': 171, 'announcement': 172, 'voting': 173, 'i’ll': 174, 'ryan’s': 175, 'short': 176, 'we’re': 177, 'buck': 178, 'wrote': 179, 'no': 180, 'unprotected': 181, 'recommendation': 182, 'funding': 183, 'transmission': 184, 'going': 185, 'infection': 186, 'tuesday': 187, 'ago': 188, 'nations': 189, 'forward': 190, 'english': 191, 'establishment': 192, 'politicians': 193, 'may': 194, 'crises': 195, 'standoff': 196, 'migration': 197, 'each': 198, 'ugly': 199, 'angry': 200, 'across': 201, 'agree': 202, 'left': 203, 'way': 204, 'perceived': 205, 'while': 206, 'fully': 207, 'problems': 208, 'west': 209, 'potentially': 210, 'experts': 211, 'change': 212, 'zone': 213, 'meant': 214, 'nearly': 215, 'lost': 216, 'southern': 217, 'continue': 218, 'prime': 219, 'minister': 220, 'move': 221, 'united': 222, 'poland': 223, 'xenophobia': 224, 'remaining': 225, 'easy': 226, 'moment': 227, 'tilford': 228, 'deputy': 229, 'mr': 230, 'union’s': 231, 'benefits': 232, 'helped': 233, 'lots': 234, 'because': 235, 'join': 236, 'common': 237, 'drive': 238, 'system': 239, 'ability': 240, 'spending': 241, 'inevitably': 242, 'differences': 243, 'recovered': 244, 'were': 245, 'led': 246, 'became': 247, 'solution': 248, 'austerity': 249, 'outside': 250, 'members': 251, 'power': 252, 'followed': 253, 'populist': 254, 'aside': 255, 'tsipras': 256, 'clash': 257, 'against': 258, 'cultures': 259, 'greece’s': 260, 'there': 261, 'lot': 262, 'german': 263, 'mainstream': 264, 'year': 265, 'thousands': 266, 'refugees': 267, 'response': 268, 'under': 269, 'week': 270, 'little': 271, 'different': 272, 'force': 273, 'growing': 274, 'warned': 275, 'donald': 276, 'need': 277, 'away': 278, 'world': 279, 'up': 280, 'improve': 281, 'reforms': 282, 'further': 283, 'needed': 284, 'remains': 285, 'elections': 286, 'then': 287, 'see': 288, 'mother': 289, 'lives': 290, 'presidential': 291, 'office': 292, 'fall': 293, 'confident': 294, 'turn': 295, 'laws': 296, 'any': 297, 'back': 298, 'likely': 299, 'held': 300, 'gain': 301, 'though': 302, 'playing': 303, 'word': 304, 'games': 305, 'free': 306, 'call': 307, 'conversations': 308, 'issues': 309, 'enact': 310, 'our': 311, 'fox': 312, 'news': 313, 'weeks': 314, 'initiatives': 315, 'congress': 316, 'hillary': 317, 'clinton': 318, 'don’t': 319, 'follow': 320, 'report': 321, 'meantime': 322, 'couples': 323, 'refrain': 324, '62': 325, 'days': 326, 'along': 327, 'potential': 328, 'reach': 329, 'can’t': 330, 'money': 331, 'earmarked': 332, 'institute': 333, 'infectious': 334, 'brazil': 335, 'colombia': 336, 'determine': 337, 'interview': 338, 'get': 339, 'spread': 340, 'viruses': 341, 'least': 342, 'reported': 343, 'outbreak': 344, 'mosquito': 345, 'disease': 346, 'survived': 347, 'case': 348, 'similar': 349, 'cdc': 350, 'where': 351, 'include': 352, 'condoms': 353, 'chris': 354, 'personal': 355, 'priorities': 356, 'projects': 357, 'development': 358, 'detected': 359, 'experience': 360, 'symptoms': 361, 'urine': 362, 'researchers': 363, 'ebola': 364, 'medicine': 365, 'jersey': 366, 'rome': 367, 'bureaucrats': 368, 'article': 369, 'faith': 370, 'emerges': 371, 'stronger': 372, 'idealistic': 373, 'founders': 374, 'decades': 375, 'dreamed': 376, 'stitching': 377, 'warring': 378, 'peaceful': 379, 'whole': 380, 'knew': 381, 'path': 382, 'bumpy': 383, 'wobbled': 384, 'dream': 385, 'integrated': 386, 'sink': 387, 'channel': 388, 'decide': 389, 'abandon': 390, 'peculiarly': 391, 'affair': 392, 'villains': 393, 'opportunistic': 394, 'steering': 395, 'delusional': 396, 'mistake': 397, 'blame': 398, 'own': 399, 'tribulations': 400, 'flawed': 401, 'approach': 402, 'rammed': 403, 'fixes': 404, 'only': 405, 'inflamed': 406, 'nationalism': 407, 'spreading': 408, 'result': 409, 'almost': 410, 'ad': 411, 'hoc': 412, 'management': 413, 'admirers': 414, 'wounded': 415, 'reputation': 416, 'damaged': 417, 'idealism': 418, 'given': 419, 'disillusionment': 420, 'elite': 421, 'technocrats': 422, 'often': 423, 'touch': 424, 'equipped': 425, 'address': 426, 'unemployment': 427, 'stagnation': 428, 'solidarity': 429, 'dissolving': 430, 'regional': 431, 'divisions': 432, 'east': 433, 'north': 434, 'south': 435, 'implications': 436, 'exit': 437, 'brexit': 438, 'staggering': 439, 'regardless': 440, 'must': 441, 'structure': 442, 'fragile': 443, 'much': 444, 'struggling': 445, 'recover': 446, 'cannot': 447, 'status': 448, 'quo': 449, 'enrico': 450, 'letta': 451, 'former': 452, 'italian': 453, 'gotten': 454, 'mean': 455, 'gaining': 456, 'strength': 457, 'austria': 458, 'same': 459, 'nasty': 460, 'tenor': 461, 'infused': 462, 'hostility': 463, 'immigrants': 464, 'killing': 465, 'jo': 466, 'cox': 467, 'parliament': 468, 'campaigned': 469, 'shocked': 470, 'simon': 471, 'center': 472, 'reform': 473, 'london': 474, 'grim': 475, 'stuff': 476, 'falls': 477, 'interesting': 478, 'camp': 479, 'outspoken': 480, 'critic': 481, 'woes': 482, 'yet': 483, 'strongly': 484, 'supports': 485, 'britain’s': 486, 'far': 487, 'outweigh': 488, 'disadvantages': 489, 'argues': 490, 'realizes': 491, 'failures': 492, 'legitimize': 493, 'arguments': 494, 'want': 495, 'easier': 496, 'them': 497, 'portray': 498, 'e': 499, 'failure': 500, 'become': 501, 'euroskeptics': 502, 'recent': 503, '1990s': 504, 'already': 505, 'considering': 506, 'drop': 507, 'pound': 508, 'adopting': 509, 'today': 510, '19': 511, '28': 512, 'share': 513, 'financial': 514, 'markets': 515, '1992': 516, 'effectively': 517, 'settled': 518, 'matter': 519, 'decided': 520, 'changing': 521, 'skeptical': 522, 'using': 523, 'closer': 524, 'argued': 525, 'joining': 526, 'limit': 527, 'flexibility': 528, 'devalue': 529, 'downturns': 530, 'use': 531, 'deficit': 532, 'encourage': 533, 'growth': 534, 'arise': 535, 'stark': 536, 'sharing': 537, 'proved': 538, 'true': 539, 'plunged': 540, 'cycle': 541, 'disparities': 542, 'exposed': 543, 'save': 544, 'northern': 545, 'bailed': 546, 'desperate': 547, 'counterparts': 548, 'divided': 549, 'debtors': 550, 'creditors': 551, 'rather': 552, 'equal': 553, 'economics': 554, 'inflicted': 555, 'heavy': 556, 'punishment': 557, 'quickly': 558, '2008': 559, 'did': 560, 'group': 561, 'shifted': 562, 'powerhouse': 563, 'steadily': 564, 'accrued': 565, 'inside': 566, 'resentment': 567, 'gradually': 568, 'especially': 569, 'weakest': 570, 'indebted': 571, 'anger': 572, 'erupted': 573, 'january': 574, '2015': 575, 'swept': 576, 'country’s': 577, 'elected': 578, 'radical': 579, 'leftist': 580, 'alexis': 581, 'promised': 582, 'end': 583, 'write': 584, 'down': 585, 'leading': 586, 'consensus': 587, 'theater': 588, 'greeks': 589, 'misplay': 590, 'hand': 591, 'refused': 592, 'budge': 593, 'obligations': 594, 'negotiation': 595, 'brinkmanship': 596, 'collapsed': 597, 'bankruptcy': 598, 'acceding': 599, 'demands': 600, 'demonstration': 601, 'penchant': 602, 'muddling': 603, 'agreed': 604, 'bailout': 605, 'package': 606, 'regard': 607, 'stopgap': 608, 'higher': 609, 'warn': 610, 'another': 611, 'occur': 612, 'criticism': 613, 'daniela': 614, 'schwarzer': 615, 'program': 616, 'marshall': 617, 'fund': 618, 'berlin': 619, 'bleeds': 620, 'perception': 621, 'functioning': 622, 'properly': 623, 'ineffectiveness': 624, 'levels': 625, 'emboldened': 626, 'right': 627, 'seized': 628, 'images': 629, 'hundreds': 630, 'pouring': 631, 'provoke': 632, 'anxiety': 633, 'began': 634, 'erecting': 635, 'fences': 636, 'block': 637, 'despite': 638, 'open': 639, 'borders': 640, 'leaders': 641, 'struggled': 642, 'mount': 643, 'coherent': 644, 'chancellor': 645, 'angela': 646, 'merkel’s': 647, 'popularity': 648, 'plummeted': 649, 'opened': 650, 'syrian': 651, 'tightened': 652, 'restrictions': 653, 'championed': 654, 'controversial': 655, 'deal': 656, 'turkey': 657, 'sharply': 658, 'reduced': 659, 'migrant': 660, 'flow': 661, 'referendum': 662, 'forces': 663, 'sought': 664, 'depicting': 665, 'invasion': 666, 'poster': 667, 'unveiled': 668, 'nigel': 669, 'farage': 670, 'k': 671, 'independence': 672, 'party': 673, 'leader': 674, 'showed': 675, 'parade': 676, 'pilloried': 677, 'blatant': 678, 'propaganda': 679, 'should': 680, 'remain': 681, 'emerge': 682, 'powerful': 683, 'clout': 684, 'changes': 685, 'necessary': 686, 'top': 687, 'recognition': 688, 'europe’s': 689, 'misjudged': 690, 'appetite': 691, 'rapid': 692, 'specter': 693, 'breakup': 694, 'haunting': 695, 'tusk': 696, 'council': 697, 'comprises': 698, 'heads': 699, 'state': 700, 'understand': 701, 'necessity': 702, 'historical': 703, 'forget': 704, 'audacious': 705, 'experiment': 706, 'wash': 707, 'antagonisms': 708, 'war': 709, 'ii': 710, 'build': 711, 'unity': 712, 'required': 713, 'putting': 714, 'ancient': 715, 'rivalry': 716, 'binding': 717, 'together': 718, 'languages': 719, 'economies': 720, 'generations': 721, '1980s': 722, '2000s': 723, 'saw': 724, 'expanding': 725, 'brought': 726, 'tangible': 727, 'borderless': 728, 'travel': 729, 'job': 730, 'educational': 731, 'mobility': 732, 'within': 733, 'rising': 734, 'prosperity': 735, 'poorly': 736, 'governed': 737, 'came': 738, 'pressure': 739, 'expanded': 740, 'unwieldy': 741, 'frictions': 742, 'arose': 743, 'old': 744, 'resentments': 745, 'never': 746, 'scrubbed': 747, 'tensions': 748, 'increased': 749, 'governments': 750, 'sovereignty': 751, 'space': 752, 'deep': 753, 'possible': 754, 'powers': 755, 'advocates': 756, 'likelihood': 757, 'undertaking': 758, 'significant': 759, 'slim': 760, '2017': 761, 'doing': 762, 'something': 763, 'bold': 764, 'spur': 765, 'electoral': 766, 'backlash': 767, 'possibly': 768, 'humanism': 769, 'champion': 770, 'human': 771, 'rights': 772, 'democracy': 773, 'freedom': 774, 'pope': 775, 'francis': 776, 'asked': 777, 'month': 778, 'acceptance': 779, 'charlemagne': 780, 'prize': 781, 'awarded': 782, 'service': 783, 'unification': 784, 'added': 785, 'peoples': 786, 'great': 787, 'upheld': 788, 'sacrificed': 789, 'dignity': 790, 'brothers': 791, 'sisters': 792, 'speaker': 793, 'paul': 794, 'presumptive': 795, 'amounts': 796, 'column': 797, 'janesville': 798, 'gazette': 799, 'speaker’s': 800, 'hometown': 801, 'paper': 802, 'preference': 803, 'realdonaldtrump': 804, 'i’m': 805, 'gop’s': 806, 'https': 807, 'ends': 808, 'speculation': 809, 'off': 810, 'issuing': 811, 'formal': 812, 'saying': 813, 'business': 814, 'magnate': 815, 'appeared': 816, 'number': 817, 'delegates': 818, 'win': 819, 'nomination': 820, 'primary': 821, 'opponents': 822, 'suspended': 823, 'campaigns': 824, 'seemed': 825, 'stop': 826, 'clarified': 827, 'fact': 828, 'getting': 829, 'behind': 830, 'chief': 831, 'communications': 832, 'adviser': 833, 'brendan': 834, 'various': 835, 'gop': 836, 'seal': 837, 'headlines': 838, '2016': 839, 'biggest': 840, 'name': 841, 'coverage': 842, '→': 843, 'these': 844, 'us': 845, 'people’s': 846, 'that’s': 847, 'why': 848, 'him': 849, 'wisconsin': 850, 'representative': 851, 'acknowledged': 852, 'odds': 853, 'it’s': 854, 'secret': 855, 'won’t': 856, 'pretend': 857, 'otherwise': 858, 'speak': 859, 'my': 860, 'mind': 861, 'reality': 862, 'make': 863, 'ground': 864, 'disagreement': 865, 'criticized': 866, 'range': 867, 'statements': 868, 'york': 869, 'billionaire': 870, 'proposed': 871, 'ban': 872, 'muslims': 873, 'entering': 874, 'two': 875, 'private': 876, 'summit': 877, 'washington': 878, 'stopped': 879, 'backing': 880, 'meeting': 881, 'inevitable': 882, 'told': 883, 'comes': 884, 'begins': 885, 'rolling': 886, 'series': 887, 'next': 888, 'several': 889, 'none': 890, 'expected': 891, 'current': 892, 'democratic': 893, 'deliver': 894, 'foreign': 895, 'timing': 896, 'merely': 897, 'happenstance': 898, 'fun': 899, 'coincidence': 900, 'wasn’t': 901, 'timed': 902, 'her': 903, 'sched': 904, 'closely': 905, 'aide': 906, 'video': 907, 'forthcoming': 908, 'talking': 909, 'news’': 910, 'chad': 911, 'pergram': 912, 'contributed': 913, 'male': 914, 'partner': 915, 'extraordinary': 916, 'based': 917, 'single': 918, 'surviving': 919, 'affect': 920, 'millions': 921, 'grave': 922, 'risks': 923, 'associated': 924, 'driving': 925, 'authorities': 926, 'pursue': 927, 'research': 928, 'mired': 929, 'congressional': 930, 'gridlock': 931, 'example': 932, 'science': 933, 'borrowing': 934, 'programs': 935, 'allergy': 936, 'diseases': 937, 'started': 938, 'enrolling': 939, 'transmittable': 940, 'take': 941, 'complete': 942, 'interim': 943, 'results': 944, 'recommendations': 945, 'limb': 946, 'anthony': 947, 'fauci': 948, 'alarmed': 949, 'zika’s': 950, 'versatility': 951, 'expand': 952, 'primarily': 953, 'aedes': 954, 'aegypti': 955, 'mosquitoes': 956, 'dengue': 957, 'chikungunya': 958, '10': 959, 'infections': 960, 'traveled': 961, 'area': 962, 'whose': 963, 'foothold': 964, 'warm': 965, 'habitats': 966, 'effective': 967, 'agent': 968, 'caution': 969, 'lieu': 970, 'answers': 971, 'protect': 972, 'pregnant': 973, 'trying': 974, 'conceive': 975, 'centers': 976, 'control': 977, 'prevention': 978, 'recommended': 979, 'triple': 980, 'organization': 981, 'recently': 982, 'issued': 983, 'guidance': 984, 'strict': 985, 'advice': 986, 'ideal': 987, 'anne': 988, 'schuchat': 989, 'tell': 990, 'satisfying': 991, 'understanding': 992, 'territory': 993, 'puerto': 994, 'rico': 995, '2': 996, '100': 997, 'cases': 998, 'start': 999, 'passing': 1000, 'protection': 1001, 'kits': 1002, 'bug': 1003, 'spray': 1004, 'warning': 1005, 'isn’t': 1006, 'well': 1007, 'prue': 1008, 'behavioral': 1009, 'scientist': 1010, 'studied': 1011, 'popular': 1012, 'places': 1013, 'there’s': 1014, 'religious': 1015, 'preferences': 1016, 'factors': 1017, 'lawmakers': 1018, 'deadlocked': 1019, 'fight': 1020, 'senate': 1021, 'democrats': 1022, 'blocked': 1023, 'proposal': 1024, 'fell': 1025, 'challenge': 1026, 'posed': 1027, 'hurt': 1028, 'unclear': 1029, 'revisit': 1030, 'request': 1031, 'barack': 1032, 'obama': 1033, '1': 1034, '9': 1035, 'billion': 1036, 'white': 1037, 'diverted': 1038, '500': 1039, 'million': 1040, 'urgent': 1041, 'scientific': 1042, 'opportunities': 1043, 'acted': 1044, 'upon': 1045, 'immediately': 1046, 'children': 1047, 'born': 1048, 'identify': 1049, 'disabilities': 1050, 'birth': 1051, 'priority': 1052, 'list': 1053, 'vaccine': 1054, 'eradication': 1055, 'underway': 1056, 'assess': 1057, 'greater': 1058, 'fever': 1059, 'rash': 1060, 'information': 1061, 'vital': 1062, 'test': 1063, 'poses': 1064, 'grown': 1065, 'laboratory': 1066, 'cell': 1067, 'samples': 1068, 'contagious': 1069, 'typically': 1070, 'clears': 1071, 'bloodstream': 1072, 'twice': 1073, 'persistence': 1074, 'caused': 1075, 'draw': 1076, 'comparisons': 1077, 'hiv': 1078, 'blood': 1079, 'indefinitely': 1080, 'nile': 1081, 'reside': 1082, 'kidneys': 1083, 'patient': 1084, 'deadly': 1085, 'evidence': 1086, '18': 1087, 'got': 1088, 'surprised': 1089, 'hanging': 1090, 'around': 1091, 'peter': 1092, 'hotez': 1093, 'dean': 1094, 'school': 1095, 'tropical': 1096, 'baylor': 1097, 'college': 1098, 'big': 1099, 'questions': 1100, 'ask': 1101, 'cause': 1102, 'type': 1103, 'latency': 1104, 'additional': 1105, 'reporting': 1106, 'julie': 1107, 'steenhuysen': 1108, 'editing': 1109, 'michele': 1110, 'gershberg': 1111, 'lisa': 1112, 'girion': 1113, 'chicago': 1114, 'fate': 1115, 'plan': 1116, 'tax': 1117, 'hike': 1118, 'aimed': 1119, 'ending': 1120, 'illinois’': 1121, 'unprecedented': 1122, 'budget': 1123, 'impasse': 1124, 'moved': 1125, 'representatives': 1126, 'seek': 1127, 'legislation': 1128, 'overriding': 1129, 'governor’s': 1130, 'vetoes': 1131, 'maine': 1132, 'ended': 1133, 'partial': 1134, 'government': 1135, 'shutdowns': 1136, 'fourth': 1137, 'july': 1138, 'holiday': 1139, 'helping': 1140, 'governor': 1141, 'christie': 1142, 'embarrassment': 1143, 'photographed': 1144, 'beach': 1145, 'closed': 1146}\n"
     ]
    }
   ],
   "source": [
    "# sanity check cell\n",
    "samp_vocab = create_vocab(samp_tokenized)\n",
    "print(samp_vocab)"
   ]
  },
  {
   "cell_type": "markdown",
   "metadata": {
    "button": false,
    "new_sheet": false,
    "run_control": {
     "read_only": false
    }
   },
   "source": [
    "Once you are convinced that your code is correct, simply run (i.e., **DO NOT EDIT**) the cell below to create a vocabulary for the full corpus."
   ]
  },
  {
   "cell_type": "code",
   "execution_count": 21,
   "metadata": {
    "button": false,
    "editable": false,
    "new_sheet": false,
    "run_control": {
     "read_only": false
    }
   },
   "outputs": [
    {
     "name": "stdout",
     "output_type": "stream",
     "text": [
      "full vocab size: 35599\n",
      "'said' index: 9\n",
      "'last' index: 69\n",
      "'obama' index: 112\n"
     ]
    }
   ],
   "source": [
    "# evaluation cell\n",
    "full_vocab = create_vocab(full_tokenized)\n",
    "\n",
    "print(\"full vocab size:\", len(full_vocab))\n",
    "print(\"'said' index:\", full_vocab['said'])\n",
    "print(\"'last' index:\", full_vocab['last'])\n",
    "print(\"'obama' index:\", full_vocab['obama'])"
   ]
  },
  {
   "cell_type": "code",
   "execution_count": 22,
   "metadata": {},
   "outputs": [],
   "source": [
    "rev_full_vocab = {idx: word for word, idx in full_vocab.items()} # Used in code later on."
   ]
  },
  {
   "cell_type": "markdown",
   "metadata": {
    "button": false,
    "new_sheet": false,
    "run_control": {
     "read_only": false
    }
   },
   "source": [
    "<div class='q_pink'>\n",
    "    \n",
    "**2.2b BoW Representations [1 point]**\n",
    "\n",
    "Now, let's create the actual BoW representations. Write the function `create_bow()` below, as follows:\n",
    "- accept two inputs: the output from `load_corpus()` (e.g., `samp_tokenized` or `full_tokenized`) and the output from `create_vocab()` (e.g., `samp_vocab` or `full_vocab`)\n",
    "- it creates BoW representations for each document (not the titles) and returns it\n",
    "- specifically, the output needs to be a dictionary mapping each document id to a NumPy array $\\vec x \\in \\mathbb{R}^V$, where $x_i$ is the number of times the word, whose index into the vocabulary is $i$, appears in the document. For example, if $i=0$ corresponds to \"the\", and \"the\" appears 17 times in the given document, then the 1st index of vector $\\vec x$ should be 17."
   ]
  },
  {
   "cell_type": "code",
   "execution_count": 23,
   "metadata": {
    "button": false,
    "new_sheet": false,
    "run_control": {
     "read_only": false
    }
   },
   "outputs": [],
   "source": [
    "import numpy as np\n",
    "\n",
    "def create_bow(tokenized_texts: Dict[int, List[str]], vocab: Dict[str, int]) -> Dict[int, np.ndarray]:\n",
    "    bow_dict: Dict[int, np.array] = {}\n",
    "    for doc_id, tokens in tokenized_texts.items():\n",
    "        doc_list = [0] * len(vocab)\n",
    "        for idx, word in enumerate(vocab):\n",
    "            num_occurr = tokens.count(word)\n",
    "            doc_list[idx] = num_occurr\n",
    "        bow_dict[doc_id] = np.array(doc_list)\n",
    "    return bow_dict"
   ]
  },
  {
   "cell_type": "markdown",
   "metadata": {
    "button": false,
    "new_sheet": false,
    "run_control": {
     "read_only": false
    }
   },
   "source": [
    "As a sanity check, run the cell below on the sample data."
   ]
  },
  {
   "cell_type": "code",
   "execution_count": 24,
   "metadata": {
    "button": false,
    "editable": false,
    "new_sheet": false,
    "run_control": {
     "read_only": false
    }
   },
   "outputs": [
    {
     "name": "stdout",
     "output_type": "stream",
     "text": [
      "keys: dict_keys([20621, 84549, 189782])\n",
      "vocab size: 1147\n",
      "sample slice from doc 20621's vector: [130  60  33  43  27  30  12  19]\n"
     ]
    }
   ],
   "source": [
    "# sanity check cell\n",
    "samp_bow = create_bow(samp_tokenized, samp_vocab)\n",
    "\n",
    "# should yield keys: 20621, 84549, 189782\n",
    "print(\"keys:\", samp_bow.keys()) \n",
    "\n",
    "# should yield 1147\n",
    "print(\"vocab size:\", len(samp_bow[20621]))\n",
    "\n",
    "# should yield [130.  60.  33.  43.  27.  30.  12.  19.]\n",
    "print(\"sample slice from doc 20621's vector:\", samp_bow[20621][0:8]) "
   ]
  },
  {
   "cell_type": "markdown",
   "metadata": {
    "button": false,
    "new_sheet": false,
    "run_control": {
     "read_only": false
    }
   },
   "source": [
    "Once you are convinced that your code is correct, simply run (i.e., **DO NOT EDIT**) the cell below to create a BoW representation for the full corpus."
   ]
  },
  {
   "cell_type": "code",
   "execution_count": 25,
   "metadata": {
    "button": false,
    "new_sheet": false,
    "run_control": {
     "read_only": false
    }
   },
   "outputs": [
    {
     "name": "stdout",
     "output_type": "stream",
     "text": [
      "# keys: 1139\n",
      "first 5 sorted keys: [20153, 20189, 20240, 20283, 20285]\n",
      "last 5 sorted keys: [189773, 189775, 189777, 189778, 189782]\n",
      "vocab size: 35599\n",
      "[56 34 34 30 27]\n",
      "[53 14 26 21 18]\n"
     ]
    }
   ],
   "source": [
    "# evaluation cell\n",
    "full_bow = create_bow(full_tokenized, full_vocab)\n",
    "print(\"# keys:\", len(full_bow.keys()))\n",
    "print(\"first 5 sorted keys:\", sorted(full_bow.keys())[:5])\n",
    "print(\"last 5 sorted keys:\", sorted(full_bow.keys())[-5:])\n",
    "print(\"vocab size:\", len(full_bow[20337]))\n",
    "print(full_bow[20337][:5])\n",
    "print(full_bow[20442][:5])"
   ]
  },
  {
   "cell_type": "markdown",
   "metadata": {
    "button": false,
    "new_sheet": false,
    "run_control": {
     "read_only": false
    }
   },
   "source": [
    "<div class='q_pink'>\n",
    "    \n",
    "**2.2c Using BoW [4 points]**\n",
    "\n",
    "Great! Now that we have vector representations of all of our _documents_ (not titles of documents), let's see what we can do with them! To quantify the distance between two documents, we will calculate the **cosine similarity** between their vector representations. Imagine that someone is using Mooogle and really likes a particular document $d$. One easy way for Mooogle to recommend documents that are similar to $d$ is to find $k$ documents in the rest of the corpus that have the largest cosine similarity with $d$. Below, write code however you wish so that you can answer the following questions about the full `CS287_news_full.csv` corpus:\n",
    "1. What is the cosine similarity between the following pairs of documents: 20153 and 23299?\n",
    "2. What are the *titles* of the $k = 5$ documents most similar to document 23266? Do these results seem reasonable?\n",
    "3. Explore the corpus a bit.  Are there documents that are close to many different documents? Are there documents that are far from all other documents? **NOTE:** We are not asking/requiring you to make visualizations here; you can if you want, as that would be highly insightful, but we are simply asking for you to explore your results a bit and report your thoughts.\n",
    "4. Can you find a document whose $k = 5$ closest recommendations don't make sense?  Why do you think that's the case?\n",
    "\n",
    "For clarity, we will explicitly ask you each of these questions in separate prompts below.\n",
    "</div>"
   ]
  },
  {
   "cell_type": "code",
   "execution_count": 26,
   "metadata": {
    "button": false,
    "new_sheet": false,
    "run_control": {
     "read_only": false
    }
   },
   "outputs": [],
   "source": [
    "def cosine_similarity(vec_a, vec_b):\n",
    "    result = np.dot(vec_a, vec_b)/(np.linalg.norm(vec_a)*np.linalg.norm(vec_b))\n",
    "    return result\n",
    "\n",
    "def most_similar_docs(doc1, curr_bow, as_dict=True):\n",
    "    doc1_bow = curr_bow[doc1]\n",
    "    doc1_sim_dict: Dict[int, float] = {}\n",
    "    for doc in curr_bow.keys():\n",
    "        doc1_sim_dict[doc] = cosine_similarity(curr_bow[doc1], curr_bow[doc])\n",
    "    if as_dict:\n",
    "        sorted_vocab_dict = {k: v for k,v in sorted(doc1_sim_dict.items(), key=lambda item: item[1], reverse=True)}\n",
    "        return sorted_vocab_dict\n",
    "    else:\n",
    "        return doc_1_sim_dict"
   ]
  },
  {
   "cell_type": "markdown",
   "metadata": {
    "button": false,
    "new_sheet": false,
    "run_control": {
     "read_only": false
    }
   },
   "source": [
    "<div class='q_pink'>\n",
    "1. What is the cosine similarity between the following pairs of documents: 20153 and 23299? Your cell below should output your answer (e.g., 0.42)\n",
    "</div>"
   ]
  },
  {
   "cell_type": "code",
   "execution_count": 27,
   "metadata": {
    "button": false,
    "new_sheet": false,
    "run_control": {
     "read_only": false
    }
   },
   "outputs": [
    {
     "name": "stdout",
     "output_type": "stream",
     "text": [
      "Cosine similarity between documents 20153 and 23299 is : 0.8158961839604788\n"
     ]
    }
   ],
   "source": [
    "cos_sim = cosine_similarity(full_bow[20153], full_bow[23299])\n",
    "print(\"Cosine similarity between documents 20153 and 23299 is : %s\" % (cos_sim))"
   ]
  },
  {
   "cell_type": "markdown",
   "metadata": {
    "button": false,
    "new_sheet": false,
    "run_control": {
     "read_only": false
    }
   },
   "source": [
    "<div class='q_pink'>\n",
    "2. What are the titles of the $k=5$ documents most similar to document 23266 (which is titled \"Muhammad Ali Remembered, by Those Who Knew Him as Cassius - The New York Times\")? Your cell below should output your answer. \n",
    "</div>"
   ]
  },
  {
   "cell_type": "code",
   "execution_count": 28,
   "metadata": {
    "button": false,
    "new_sheet": false,
    "run_control": {
     "read_only": false
    }
   },
   "outputs": [
    {
     "name": "stdout",
     "output_type": "stream",
     "text": [
      "This is sorted_similarity_dict: \n",
      "Doc id: 20522 with similarity 0.9060596165772996\n",
      "Doc id: 189341 with similarity 0.8965078729119949\n",
      "Doc id: 25773 with similarity 0.8915644451910685\n",
      "Doc id: 84573 with similarity 0.8876387537786607\n",
      "Doc id: 20695 with similarity 0.8725416721687299\n"
     ]
    }
   ],
   "source": [
    "# Code to find most similar documents to document 23266\n",
    "complete_sim_list = most_similar_docs(23266, full_bow)\n",
    "sim_list_5 = [(doc_id, score) for doc_id, score in list(complete_sim_list.items())[1:6]]\n",
    "print(\"This is sorted_similarity_dict: \")\n",
    "for pair in sim_list_5:\n",
    "    print(f\"Doc id: {pair[0]} with similarity {pair[1]}\")\n",
    "    "
   ]
  },
  {
   "cell_type": "markdown",
   "metadata": {},
   "source": [
    "From the cell above, we can see that the 5 documents that are most similar to document 23266 are: 20522, 189341, 25773, 84573,20695. The title of document 23266 is: \"Muhammad Ali Rememberd, by Those whoKnew Him as Cassius- The New York Times\". The title of the 5 closest documents are 20522: \"Muhammad Ali was her first, and greatest, love - the New York Times\", 189341: \"MuhamadAli, 'the greatest', rememberd as boxer who transcended sports\", 25773: \"Muhammad Ali fans Pay Homage to Their Local Hero - The New York Times\", 84573: \"Juan Williams: Muhammad Ali was my hero who brought me to tears\" and 20695: \"Review: For Muhammad Ali, an Endless Round of Books\""
   ]
  },
  {
   "cell_type": "markdown",
   "metadata": {
    "button": false,
    "new_sheet": false,
    "run_control": {
     "read_only": false
    }
   },
   "source": [
    "<div class='q_pink'>\n",
    "2 (continued). Do the results above seem reasonable? Please explain in 1-2 sentences.\n",
    "</div>"
   ]
  },
  {
   "cell_type": "markdown",
   "metadata": {},
   "source": [
    "## My Solution:\n",
    "\n",
    "The results above seems reasonable since all the 5 documents are talking about remembering Muhammad Ali for his passing away. These documents all share stories, memories and words from people who knew him and talk about his boxing record, his humanitarian/religious stances and how he was remembered even after many years.\n"
   ]
  },
  {
   "cell_type": "markdown",
   "metadata": {
    "button": false,
    "new_sheet": false,
    "run_control": {
     "read_only": false
    }
   },
   "source": [
    "### TEXT SOLUTION:\n",
    "Yes, all 5 documents are clearly about Muhammad Ali. Several are about \"remembering\" him, so one can expect that the documents concern many shared words about remembering, paying homage, respect, and his legacy.."
   ]
  },
  {
   "cell_type": "markdown",
   "metadata": {
    "button": false,
    "new_sheet": false,
    "run_control": {
     "read_only": false
    }
   },
   "source": [
    "<div class='q_pink'>\n",
    "3. Explore the corpus a bit. Are there documents that are close to many different documents? Are there documents that are far from all other documents? Please limit your response to 2-3 sentences. <b>NOTE:</b> We are not asking/requiring you to make visualizations here; you can if you want, as that would be highly insightful, but we are simply asking for you to explore your results a bit and report your thoughts.\n",
    "</div>"
   ]
  },
  {
   "cell_type": "code",
   "execution_count": 29,
   "metadata": {
    "button": false,
    "new_sheet": false,
    "run_control": {
     "read_only": false
    }
   },
   "outputs": [],
   "source": [
    "# Code for computing matrix of cosine similarities\n",
    "def matrix_cos_sim(bow=full_bow):\n",
    "    docs_list = bow.keys()\n",
    "    list_similarities = []\n",
    "    for doc in docs_list:\n",
    "        similarity_list = list(most_similar_docs(doc, bow).values())\n",
    "        list_similarities.append(similarity_list)\n",
    "    matrix_similarities = np.array(list_similarities)\n",
    "    return pd.DataFrame(data=matrix_similarities, index=docs_list).T"
   ]
  },
  {
   "cell_type": "code",
   "execution_count": 30,
   "metadata": {},
   "outputs": [],
   "source": [
    "matrix_similarity = matrix_cos_sim()"
   ]
  },
  {
   "cell_type": "code",
   "execution_count": 31,
   "metadata": {},
   "outputs": [
    {
     "data": {
      "text/html": [
       "<div>\n",
       "<style scoped>\n",
       "    .dataframe tbody tr th:only-of-type {\n",
       "        vertical-align: middle;\n",
       "    }\n",
       "\n",
       "    .dataframe tbody tr th {\n",
       "        vertical-align: top;\n",
       "    }\n",
       "\n",
       "    .dataframe thead th {\n",
       "        text-align: right;\n",
       "    }\n",
       "</style>\n",
       "<table border=\"1\" class=\"dataframe\">\n",
       "  <thead>\n",
       "    <tr style=\"text-align: right;\">\n",
       "      <th></th>\n",
       "      <th>84570</th>\n",
       "      <th>84681</th>\n",
       "      <th>84882</th>\n",
       "      <th>84903</th>\n",
       "      <th>84899</th>\n",
       "      <th>84751</th>\n",
       "      <th>20727</th>\n",
       "      <th>20673</th>\n",
       "      <th>84886</th>\n",
       "      <th>84931</th>\n",
       "      <th>...</th>\n",
       "      <th>23402</th>\n",
       "      <th>23373</th>\n",
       "      <th>20547</th>\n",
       "      <th>23400</th>\n",
       "      <th>25801</th>\n",
       "      <th>20732</th>\n",
       "      <th>20510</th>\n",
       "      <th>25804</th>\n",
       "      <th>20485</th>\n",
       "      <th>20643</th>\n",
       "    </tr>\n",
       "  </thead>\n",
       "  <tbody>\n",
       "    <tr>\n",
       "      <th>count</th>\n",
       "      <td>1139.000000</td>\n",
       "      <td>1139.000000</td>\n",
       "      <td>1139.000000</td>\n",
       "      <td>1139.000000</td>\n",
       "      <td>1139.000000</td>\n",
       "      <td>1139.000000</td>\n",
       "      <td>1139.000000</td>\n",
       "      <td>1139.000000</td>\n",
       "      <td>1139.000000</td>\n",
       "      <td>1139.000000</td>\n",
       "      <td>...</td>\n",
       "      <td>1139.000000</td>\n",
       "      <td>1139.000000</td>\n",
       "      <td>1139.000000</td>\n",
       "      <td>1139.000000</td>\n",
       "      <td>1139.000000</td>\n",
       "      <td>1139.000000</td>\n",
       "      <td>1139.000000</td>\n",
       "      <td>1139.000000</td>\n",
       "      <td>1139.000000</td>\n",
       "      <td>1139.000000</td>\n",
       "    </tr>\n",
       "    <tr>\n",
       "      <th>mean</th>\n",
       "      <td>0.015665</td>\n",
       "      <td>0.343970</td>\n",
       "      <td>0.363538</td>\n",
       "      <td>0.387613</td>\n",
       "      <td>0.398507</td>\n",
       "      <td>0.413384</td>\n",
       "      <td>0.467907</td>\n",
       "      <td>0.498276</td>\n",
       "      <td>0.504065</td>\n",
       "      <td>0.507939</td>\n",
       "      <td>...</td>\n",
       "      <td>0.784472</td>\n",
       "      <td>0.784820</td>\n",
       "      <td>0.785090</td>\n",
       "      <td>0.785575</td>\n",
       "      <td>0.786399</td>\n",
       "      <td>0.788054</td>\n",
       "      <td>0.790278</td>\n",
       "      <td>0.790857</td>\n",
       "      <td>0.792311</td>\n",
       "      <td>0.794083</td>\n",
       "    </tr>\n",
       "    <tr>\n",
       "      <th>std</th>\n",
       "      <td>0.031022</td>\n",
       "      <td>0.055841</td>\n",
       "      <td>0.049562</td>\n",
       "      <td>0.063795</td>\n",
       "      <td>0.049881</td>\n",
       "      <td>0.046365</td>\n",
       "      <td>0.056533</td>\n",
       "      <td>0.057990</td>\n",
       "      <td>0.054484</td>\n",
       "      <td>0.064758</td>\n",
       "      <td>...</td>\n",
       "      <td>0.073739</td>\n",
       "      <td>0.075120</td>\n",
       "      <td>0.071663</td>\n",
       "      <td>0.073360</td>\n",
       "      <td>0.072915</td>\n",
       "      <td>0.071670</td>\n",
       "      <td>0.074936</td>\n",
       "      <td>0.072042</td>\n",
       "      <td>0.072515</td>\n",
       "      <td>0.076816</td>\n",
       "    </tr>\n",
       "    <tr>\n",
       "      <th>min</th>\n",
       "      <td>0.000000</td>\n",
       "      <td>0.000000</td>\n",
       "      <td>0.000000</td>\n",
       "      <td>0.000000</td>\n",
       "      <td>0.078412</td>\n",
       "      <td>0.012040</td>\n",
       "      <td>0.000000</td>\n",
       "      <td>0.000000</td>\n",
       "      <td>0.001417</td>\n",
       "      <td>0.006800</td>\n",
       "      <td>...</td>\n",
       "      <td>0.010429</td>\n",
       "      <td>0.012270</td>\n",
       "      <td>0.009344</td>\n",
       "      <td>0.013114</td>\n",
       "      <td>0.011818</td>\n",
       "      <td>0.028747</td>\n",
       "      <td>0.008656</td>\n",
       "      <td>0.004457</td>\n",
       "      <td>0.009064</td>\n",
       "      <td>0.013454</td>\n",
       "    </tr>\n",
       "    <tr>\n",
       "      <th>25%</th>\n",
       "      <td>0.007948</td>\n",
       "      <td>0.308918</td>\n",
       "      <td>0.336383</td>\n",
       "      <td>0.346474</td>\n",
       "      <td>0.374475</td>\n",
       "      <td>0.392112</td>\n",
       "      <td>0.437314</td>\n",
       "      <td>0.470894</td>\n",
       "      <td>0.477831</td>\n",
       "      <td>0.473892</td>\n",
       "      <td>...</td>\n",
       "      <td>0.753869</td>\n",
       "      <td>0.750656</td>\n",
       "      <td>0.754850</td>\n",
       "      <td>0.754363</td>\n",
       "      <td>0.757840</td>\n",
       "      <td>0.759076</td>\n",
       "      <td>0.757513</td>\n",
       "      <td>0.761268</td>\n",
       "      <td>0.761715</td>\n",
       "      <td>0.758362</td>\n",
       "    </tr>\n",
       "    <tr>\n",
       "      <th>50%</th>\n",
       "      <td>0.012213</td>\n",
       "      <td>0.348828</td>\n",
       "      <td>0.366497</td>\n",
       "      <td>0.393110</td>\n",
       "      <td>0.403393</td>\n",
       "      <td>0.417438</td>\n",
       "      <td>0.474769</td>\n",
       "      <td>0.505651</td>\n",
       "      <td>0.511963</td>\n",
       "      <td>0.515634</td>\n",
       "      <td>...</td>\n",
       "      <td>0.797340</td>\n",
       "      <td>0.796991</td>\n",
       "      <td>0.799000</td>\n",
       "      <td>0.799318</td>\n",
       "      <td>0.800262</td>\n",
       "      <td>0.800568</td>\n",
       "      <td>0.804457</td>\n",
       "      <td>0.804153</td>\n",
       "      <td>0.807712</td>\n",
       "      <td>0.807217</td>\n",
       "    </tr>\n",
       "    <tr>\n",
       "      <th>75%</th>\n",
       "      <td>0.018851</td>\n",
       "      <td>0.380148</td>\n",
       "      <td>0.395242</td>\n",
       "      <td>0.431007</td>\n",
       "      <td>0.427896</td>\n",
       "      <td>0.440445</td>\n",
       "      <td>0.505662</td>\n",
       "      <td>0.533910</td>\n",
       "      <td>0.538413</td>\n",
       "      <td>0.547585</td>\n",
       "      <td>...</td>\n",
       "      <td>0.832961</td>\n",
       "      <td>0.835780</td>\n",
       "      <td>0.829705</td>\n",
       "      <td>0.835227</td>\n",
       "      <td>0.834141</td>\n",
       "      <td>0.835196</td>\n",
       "      <td>0.839709</td>\n",
       "      <td>0.837510</td>\n",
       "      <td>0.840218</td>\n",
       "      <td>0.846748</td>\n",
       "    </tr>\n",
       "    <tr>\n",
       "      <th>max</th>\n",
       "      <td>1.000000</td>\n",
       "      <td>1.000000</td>\n",
       "      <td>1.000000</td>\n",
       "      <td>1.000000</td>\n",
       "      <td>1.000000</td>\n",
       "      <td>1.000000</td>\n",
       "      <td>1.000000</td>\n",
       "      <td>1.000000</td>\n",
       "      <td>1.000000</td>\n",
       "      <td>1.000000</td>\n",
       "      <td>...</td>\n",
       "      <td>1.000000</td>\n",
       "      <td>1.000000</td>\n",
       "      <td>1.000000</td>\n",
       "      <td>1.000000</td>\n",
       "      <td>1.000000</td>\n",
       "      <td>1.000000</td>\n",
       "      <td>1.000000</td>\n",
       "      <td>1.000000</td>\n",
       "      <td>1.000000</td>\n",
       "      <td>1.000000</td>\n",
       "    </tr>\n",
       "  </tbody>\n",
       "</table>\n",
       "<p>8 rows × 1139 columns</p>\n",
       "</div>"
      ],
      "text/plain": [
       "             84570        84681        84882        84903        84899  \\\n",
       "count  1139.000000  1139.000000  1139.000000  1139.000000  1139.000000   \n",
       "mean      0.015665     0.343970     0.363538     0.387613     0.398507   \n",
       "std       0.031022     0.055841     0.049562     0.063795     0.049881   \n",
       "min       0.000000     0.000000     0.000000     0.000000     0.078412   \n",
       "25%       0.007948     0.308918     0.336383     0.346474     0.374475   \n",
       "50%       0.012213     0.348828     0.366497     0.393110     0.403393   \n",
       "75%       0.018851     0.380148     0.395242     0.431007     0.427896   \n",
       "max       1.000000     1.000000     1.000000     1.000000     1.000000   \n",
       "\n",
       "             84751        20727        20673        84886        84931  ...  \\\n",
       "count  1139.000000  1139.000000  1139.000000  1139.000000  1139.000000  ...   \n",
       "mean      0.413384     0.467907     0.498276     0.504065     0.507939  ...   \n",
       "std       0.046365     0.056533     0.057990     0.054484     0.064758  ...   \n",
       "min       0.012040     0.000000     0.000000     0.001417     0.006800  ...   \n",
       "25%       0.392112     0.437314     0.470894     0.477831     0.473892  ...   \n",
       "50%       0.417438     0.474769     0.505651     0.511963     0.515634  ...   \n",
       "75%       0.440445     0.505662     0.533910     0.538413     0.547585  ...   \n",
       "max       1.000000     1.000000     1.000000     1.000000     1.000000  ...   \n",
       "\n",
       "             23402        23373        20547        23400        25801  \\\n",
       "count  1139.000000  1139.000000  1139.000000  1139.000000  1139.000000   \n",
       "mean      0.784472     0.784820     0.785090     0.785575     0.786399   \n",
       "std       0.073739     0.075120     0.071663     0.073360     0.072915   \n",
       "min       0.010429     0.012270     0.009344     0.013114     0.011818   \n",
       "25%       0.753869     0.750656     0.754850     0.754363     0.757840   \n",
       "50%       0.797340     0.796991     0.799000     0.799318     0.800262   \n",
       "75%       0.832961     0.835780     0.829705     0.835227     0.834141   \n",
       "max       1.000000     1.000000     1.000000     1.000000     1.000000   \n",
       "\n",
       "             20732        20510        25804        20485        20643  \n",
       "count  1139.000000  1139.000000  1139.000000  1139.000000  1139.000000  \n",
       "mean      0.788054     0.790278     0.790857     0.792311     0.794083  \n",
       "std       0.071670     0.074936     0.072042     0.072515     0.076816  \n",
       "min       0.028747     0.008656     0.004457     0.009064     0.013454  \n",
       "25%       0.759076     0.757513     0.761268     0.761715     0.758362  \n",
       "50%       0.800568     0.804457     0.804153     0.807712     0.807217  \n",
       "75%       0.835196     0.839709     0.837510     0.840218     0.846748  \n",
       "max       1.000000     1.000000     1.000000     1.000000     1.000000  \n",
       "\n",
       "[8 rows x 1139 columns]"
      ]
     },
     "execution_count": 31,
     "metadata": {},
     "output_type": "execute_result"
    }
   ],
   "source": [
    "matrix_similarity.describe().sort_values(by=\"mean\", axis=1)"
   ]
  },
  {
   "cell_type": "code",
   "execution_count": 32,
   "metadata": {},
   "outputs": [
    {
     "data": {
      "text/html": [
       "<div>\n",
       "<style scoped>\n",
       "    .dataframe tbody tr th:only-of-type {\n",
       "        vertical-align: middle;\n",
       "    }\n",
       "\n",
       "    .dataframe tbody tr th {\n",
       "        vertical-align: top;\n",
       "    }\n",
       "\n",
       "    .dataframe thead th {\n",
       "        text-align: right;\n",
       "    }\n",
       "</style>\n",
       "<table border=\"1\" class=\"dataframe\">\n",
       "  <thead>\n",
       "    <tr style=\"text-align: right;\">\n",
       "      <th></th>\n",
       "      <th>20643</th>\n",
       "      <th>20485</th>\n",
       "      <th>25804</th>\n",
       "      <th>20510</th>\n",
       "      <th>20732</th>\n",
       "      <th>25801</th>\n",
       "      <th>23400</th>\n",
       "      <th>20547</th>\n",
       "      <th>23373</th>\n",
       "      <th>23402</th>\n",
       "      <th>...</th>\n",
       "      <th>84931</th>\n",
       "      <th>84886</th>\n",
       "      <th>20673</th>\n",
       "      <th>20727</th>\n",
       "      <th>84751</th>\n",
       "      <th>84899</th>\n",
       "      <th>84903</th>\n",
       "      <th>84882</th>\n",
       "      <th>84681</th>\n",
       "      <th>84570</th>\n",
       "    </tr>\n",
       "  </thead>\n",
       "  <tbody>\n",
       "    <tr>\n",
       "      <th>count</th>\n",
       "      <td>1139.000000</td>\n",
       "      <td>1139.000000</td>\n",
       "      <td>1139.000000</td>\n",
       "      <td>1139.000000</td>\n",
       "      <td>1139.000000</td>\n",
       "      <td>1139.000000</td>\n",
       "      <td>1139.000000</td>\n",
       "      <td>1139.000000</td>\n",
       "      <td>1139.000000</td>\n",
       "      <td>1139.000000</td>\n",
       "      <td>...</td>\n",
       "      <td>1139.000000</td>\n",
       "      <td>1139.000000</td>\n",
       "      <td>1139.000000</td>\n",
       "      <td>1139.000000</td>\n",
       "      <td>1139.000000</td>\n",
       "      <td>1139.000000</td>\n",
       "      <td>1139.000000</td>\n",
       "      <td>1139.000000</td>\n",
       "      <td>1139.000000</td>\n",
       "      <td>1139.000000</td>\n",
       "    </tr>\n",
       "    <tr>\n",
       "      <th>mean</th>\n",
       "      <td>0.794083</td>\n",
       "      <td>0.792311</td>\n",
       "      <td>0.790857</td>\n",
       "      <td>0.790278</td>\n",
       "      <td>0.788054</td>\n",
       "      <td>0.786399</td>\n",
       "      <td>0.785575</td>\n",
       "      <td>0.785090</td>\n",
       "      <td>0.784820</td>\n",
       "      <td>0.784472</td>\n",
       "      <td>...</td>\n",
       "      <td>0.507939</td>\n",
       "      <td>0.504065</td>\n",
       "      <td>0.498276</td>\n",
       "      <td>0.467907</td>\n",
       "      <td>0.413384</td>\n",
       "      <td>0.398507</td>\n",
       "      <td>0.387613</td>\n",
       "      <td>0.363538</td>\n",
       "      <td>0.343970</td>\n",
       "      <td>0.015665</td>\n",
       "    </tr>\n",
       "    <tr>\n",
       "      <th>std</th>\n",
       "      <td>0.076816</td>\n",
       "      <td>0.072515</td>\n",
       "      <td>0.072042</td>\n",
       "      <td>0.074936</td>\n",
       "      <td>0.071670</td>\n",
       "      <td>0.072915</td>\n",
       "      <td>0.073360</td>\n",
       "      <td>0.071663</td>\n",
       "      <td>0.075120</td>\n",
       "      <td>0.073739</td>\n",
       "      <td>...</td>\n",
       "      <td>0.064758</td>\n",
       "      <td>0.054484</td>\n",
       "      <td>0.057990</td>\n",
       "      <td>0.056533</td>\n",
       "      <td>0.046365</td>\n",
       "      <td>0.049881</td>\n",
       "      <td>0.063795</td>\n",
       "      <td>0.049562</td>\n",
       "      <td>0.055841</td>\n",
       "      <td>0.031022</td>\n",
       "    </tr>\n",
       "    <tr>\n",
       "      <th>min</th>\n",
       "      <td>0.013454</td>\n",
       "      <td>0.009064</td>\n",
       "      <td>0.004457</td>\n",
       "      <td>0.008656</td>\n",
       "      <td>0.028747</td>\n",
       "      <td>0.011818</td>\n",
       "      <td>0.013114</td>\n",
       "      <td>0.009344</td>\n",
       "      <td>0.012270</td>\n",
       "      <td>0.010429</td>\n",
       "      <td>...</td>\n",
       "      <td>0.006800</td>\n",
       "      <td>0.001417</td>\n",
       "      <td>0.000000</td>\n",
       "      <td>0.000000</td>\n",
       "      <td>0.012040</td>\n",
       "      <td>0.078412</td>\n",
       "      <td>0.000000</td>\n",
       "      <td>0.000000</td>\n",
       "      <td>0.000000</td>\n",
       "      <td>0.000000</td>\n",
       "    </tr>\n",
       "    <tr>\n",
       "      <th>25%</th>\n",
       "      <td>0.758362</td>\n",
       "      <td>0.761715</td>\n",
       "      <td>0.761268</td>\n",
       "      <td>0.757513</td>\n",
       "      <td>0.759076</td>\n",
       "      <td>0.757840</td>\n",
       "      <td>0.754363</td>\n",
       "      <td>0.754850</td>\n",
       "      <td>0.750656</td>\n",
       "      <td>0.753869</td>\n",
       "      <td>...</td>\n",
       "      <td>0.473892</td>\n",
       "      <td>0.477831</td>\n",
       "      <td>0.470894</td>\n",
       "      <td>0.437314</td>\n",
       "      <td>0.392112</td>\n",
       "      <td>0.374475</td>\n",
       "      <td>0.346474</td>\n",
       "      <td>0.336383</td>\n",
       "      <td>0.308918</td>\n",
       "      <td>0.007948</td>\n",
       "    </tr>\n",
       "    <tr>\n",
       "      <th>50%</th>\n",
       "      <td>0.807217</td>\n",
       "      <td>0.807712</td>\n",
       "      <td>0.804153</td>\n",
       "      <td>0.804457</td>\n",
       "      <td>0.800568</td>\n",
       "      <td>0.800262</td>\n",
       "      <td>0.799318</td>\n",
       "      <td>0.799000</td>\n",
       "      <td>0.796991</td>\n",
       "      <td>0.797340</td>\n",
       "      <td>...</td>\n",
       "      <td>0.515634</td>\n",
       "      <td>0.511963</td>\n",
       "      <td>0.505651</td>\n",
       "      <td>0.474769</td>\n",
       "      <td>0.417438</td>\n",
       "      <td>0.403393</td>\n",
       "      <td>0.393110</td>\n",
       "      <td>0.366497</td>\n",
       "      <td>0.348828</td>\n",
       "      <td>0.012213</td>\n",
       "    </tr>\n",
       "    <tr>\n",
       "      <th>75%</th>\n",
       "      <td>0.846748</td>\n",
       "      <td>0.840218</td>\n",
       "      <td>0.837510</td>\n",
       "      <td>0.839709</td>\n",
       "      <td>0.835196</td>\n",
       "      <td>0.834141</td>\n",
       "      <td>0.835227</td>\n",
       "      <td>0.829705</td>\n",
       "      <td>0.835780</td>\n",
       "      <td>0.832961</td>\n",
       "      <td>...</td>\n",
       "      <td>0.547585</td>\n",
       "      <td>0.538413</td>\n",
       "      <td>0.533910</td>\n",
       "      <td>0.505662</td>\n",
       "      <td>0.440445</td>\n",
       "      <td>0.427896</td>\n",
       "      <td>0.431007</td>\n",
       "      <td>0.395242</td>\n",
       "      <td>0.380148</td>\n",
       "      <td>0.018851</td>\n",
       "    </tr>\n",
       "    <tr>\n",
       "      <th>max</th>\n",
       "      <td>1.000000</td>\n",
       "      <td>1.000000</td>\n",
       "      <td>1.000000</td>\n",
       "      <td>1.000000</td>\n",
       "      <td>1.000000</td>\n",
       "      <td>1.000000</td>\n",
       "      <td>1.000000</td>\n",
       "      <td>1.000000</td>\n",
       "      <td>1.000000</td>\n",
       "      <td>1.000000</td>\n",
       "      <td>...</td>\n",
       "      <td>1.000000</td>\n",
       "      <td>1.000000</td>\n",
       "      <td>1.000000</td>\n",
       "      <td>1.000000</td>\n",
       "      <td>1.000000</td>\n",
       "      <td>1.000000</td>\n",
       "      <td>1.000000</td>\n",
       "      <td>1.000000</td>\n",
       "      <td>1.000000</td>\n",
       "      <td>1.000000</td>\n",
       "    </tr>\n",
       "  </tbody>\n",
       "</table>\n",
       "<p>8 rows × 1139 columns</p>\n",
       "</div>"
      ],
      "text/plain": [
       "             20643        20485        25804        20510        20732  \\\n",
       "count  1139.000000  1139.000000  1139.000000  1139.000000  1139.000000   \n",
       "mean      0.794083     0.792311     0.790857     0.790278     0.788054   \n",
       "std       0.076816     0.072515     0.072042     0.074936     0.071670   \n",
       "min       0.013454     0.009064     0.004457     0.008656     0.028747   \n",
       "25%       0.758362     0.761715     0.761268     0.757513     0.759076   \n",
       "50%       0.807217     0.807712     0.804153     0.804457     0.800568   \n",
       "75%       0.846748     0.840218     0.837510     0.839709     0.835196   \n",
       "max       1.000000     1.000000     1.000000     1.000000     1.000000   \n",
       "\n",
       "             25801        23400        20547        23373        23402  ...  \\\n",
       "count  1139.000000  1139.000000  1139.000000  1139.000000  1139.000000  ...   \n",
       "mean      0.786399     0.785575     0.785090     0.784820     0.784472  ...   \n",
       "std       0.072915     0.073360     0.071663     0.075120     0.073739  ...   \n",
       "min       0.011818     0.013114     0.009344     0.012270     0.010429  ...   \n",
       "25%       0.757840     0.754363     0.754850     0.750656     0.753869  ...   \n",
       "50%       0.800262     0.799318     0.799000     0.796991     0.797340  ...   \n",
       "75%       0.834141     0.835227     0.829705     0.835780     0.832961  ...   \n",
       "max       1.000000     1.000000     1.000000     1.000000     1.000000  ...   \n",
       "\n",
       "             84931        84886        20673        20727        84751  \\\n",
       "count  1139.000000  1139.000000  1139.000000  1139.000000  1139.000000   \n",
       "mean      0.507939     0.504065     0.498276     0.467907     0.413384   \n",
       "std       0.064758     0.054484     0.057990     0.056533     0.046365   \n",
       "min       0.006800     0.001417     0.000000     0.000000     0.012040   \n",
       "25%       0.473892     0.477831     0.470894     0.437314     0.392112   \n",
       "50%       0.515634     0.511963     0.505651     0.474769     0.417438   \n",
       "75%       0.547585     0.538413     0.533910     0.505662     0.440445   \n",
       "max       1.000000     1.000000     1.000000     1.000000     1.000000   \n",
       "\n",
       "             84899        84903        84882        84681        84570  \n",
       "count  1139.000000  1139.000000  1139.000000  1139.000000  1139.000000  \n",
       "mean      0.398507     0.387613     0.363538     0.343970     0.015665  \n",
       "std       0.049881     0.063795     0.049562     0.055841     0.031022  \n",
       "min       0.078412     0.000000     0.000000     0.000000     0.000000  \n",
       "25%       0.374475     0.346474     0.336383     0.308918     0.007948  \n",
       "50%       0.403393     0.393110     0.366497     0.348828     0.012213  \n",
       "75%       0.427896     0.431007     0.395242     0.380148     0.018851  \n",
       "max       1.000000     1.000000     1.000000     1.000000     1.000000  \n",
       "\n",
       "[8 rows x 1139 columns]"
      ]
     },
     "execution_count": 32,
     "metadata": {},
     "output_type": "execute_result"
    }
   ],
   "source": [
    "matrix_similarity.describe().sort_values(by=\"mean\", axis=1, ascending=False)"
   ]
  },
  {
   "cell_type": "markdown",
   "metadata": {},
   "source": [
    "## My Solution\n",
    "\n",
    "From the dataframes above we can see that there quite a few documents that are close to many different documents, in the second dataframe we can see that documents 20643, 20485, 25804, 20510 (and probably more) are very very close to other documents since already they have a cosine similarity of 75% or more wit more than 75% of the documents. On the contrary, from the first dataframe of summary statistics, we can see that document 84570 is very far away from most other documents since it has an average cosine similarity of 1.5665% and the 75% highest cosine similarity with other document is 1.8851%, which tells us that it is far away from most other documents."
   ]
  },
  {
   "cell_type": "markdown",
   "metadata": {
    "button": false,
    "new_sheet": false,
    "run_control": {
     "read_only": false
    }
   },
   "source": [
    "### TEXT SOLUTION\n",
    "If we calculate the average cosine similarity between each document and how it relates to all other documents, we see that many have high average values (i.e., > 0.7). However, there is also an outlier (doc 84570) that is highly dissimilar from all other documents (i.e., 0.015 average cosine sim.)."
   ]
  },
  {
   "cell_type": "markdown",
   "metadata": {
    "button": false,
    "new_sheet": false,
    "run_control": {
     "read_only": false
    }
   },
   "source": [
    "<div class='q_pink'>\n",
    "4. Can you find a document whose $k=5$ closest recommendations don't make sense?\n",
    "</div>"
   ]
  },
  {
   "cell_type": "code",
   "execution_count": 33,
   "metadata": {
    "button": false,
    "new_sheet": false,
    "run_control": {
     "read_only": false
    }
   },
   "outputs": [
    {
     "name": "stdout",
     "output_type": "stream",
     "text": [
      "This is sorted_similarity_dict  {84570: 1.0000000000000002, 84899: 0.07841208353509484, 189620: 0.07500059598423084, 189450: 0.06787067954808844, 189730: 0.06632732389985732, 189623: 0.06154153587124326, 189653: 0.060639060474461985, 189679: 0.06060024283831565, 189706: 0.06055062624337072, 189320: 0.05976585440775372, 189425: 0.05958503488602902, 189639: 0.05855375697963844, 189565: 0.05580629045235695, 189427: 0.053797662305653554, 189716: 0.05315773799457127, 189657: 0.05281987504152739, 189568: 0.052645583316525364, 189711: 0.051651180286056246, 189717: 0.05140585653260072, 23359: 0.050442096816276094, 189550: 0.04830377495150673, 189668: 0.0475000414944878, 189424: 0.047477225362741654, 84815: 0.04625176226135221, 189707: 0.044313314432786036, 189404: 0.04427886714515124, 20474: 0.04415135665240457, 189476: 0.04404431192184146, 189645: 0.043827498968464516, 20590: 0.04345089620236705, 189395: 0.04329856411352706, 189396: 0.04309175344400497, 189341: 0.042884053405798206, 84675: 0.04273021829523148, 25756: 0.04250204285710929, 189763: 0.04236890994764999, 189737: 0.04089469794711459, 189387: 0.040814903193089516, 189752: 0.03997590091231413, 23367: 0.039692982340705125, 189674: 0.03915971703070932, 189452: 0.037877999550337375, 189778: 0.03766500113620106, 84611: 0.03734149388519785, 189702: 0.03729300141553053, 189589: 0.03715188083835686, 84674: 0.03702314392915663, 189764: 0.03697018739286269, 189569: 0.036800883867942016, 189596: 0.03634878208346676, 20688: 0.03634161781098861, 189349: 0.036187179461993096, 84782: 0.0359291173876464, 24947: 0.03568386290653131, 189580: 0.03567890751272063, 20442: 0.03566407947207465, 20592: 0.035282278869784765, 189638: 0.03524266528862106, 20496: 0.03468187963388299, 23418: 0.034626747862846405, 84849: 0.03442808676640699, 189678: 0.03431071119214906, 24913: 0.03413397558982117, 189661: 0.034058754821969364, 189619: 0.03404372584603306, 189633: 0.03358771055920652, 189769: 0.03335082389629379, 189324: 0.03327707834006173, 84697: 0.03303181258901863, 84798: 0.033009562602626094, 189735: 0.032846549087272504, 189542: 0.032819646158332286, 189760: 0.032813221609402095, 189340: 0.03254998030584259, 189612: 0.03232493856389836, 189313: 0.03231983766991046, 24957: 0.032134767104214305, 189482: 0.03200102404915463, 20767: 0.031763966297402295, 84947: 0.03126605300545426, 20611: 0.031259331415519905, 23316: 0.031174856563745565, 23304: 0.031047367356265582, 189708: 0.031037152867320422, 20695: 0.031000374275225846, 84669: 0.03096827428725386, 84704: 0.03091567079916493, 189650: 0.030775112153266275, 20652: 0.030772861251033543, 189649: 0.03068872005921154, 23352: 0.03065308582493466, 189748: 0.030192542028474243, 189360: 0.030121913496074598, 189511: 0.030000960046082457, 23289: 0.02988785744807701, 20519: 0.02963260802660591, 189540: 0.029622709089097376, 20667: 0.029594274955946808, 23257: 0.029590958640144473, 20716: 0.029507730761493683, 84573: 0.029329190372313043, 84912: 0.029316578378450024, 189610: 0.02908114610866905, 84737: 0.028879871787236222, 20732: 0.02874664938545648, 189437: 0.028619098061639762, 20475: 0.028351509612839748, 189365: 0.02831135720172352, 84698: 0.028212896589491342, 24936: 0.028125956404815154, 189394: 0.027977262749675397, 23296: 0.027893190084512635, 84538: 0.027880184331797234, 189454: 0.027459489153095158, 189659: 0.027434898539982988, 20521: 0.027013019816809036, 23387: 0.026951741472801518, 189567: 0.026946142392158774, 20486: 0.026802251456114038, 23335: 0.02676112205623831, 189531: 0.026742122232964953, 26193: 0.026705831808386333, 189746: 0.02670479845713428, 189643: 0.026564987804558078, 189732: 0.02649992878270447, 20528: 0.02647338723555781, 189734: 0.026424604776894928, 23244: 0.026399610815564557, 189524: 0.02633102414498558, 189762: 0.026326230313136235, 189677: 0.026208109170594015, 189658: 0.02604151704562493, 189521: 0.026019641977700295, 24904: 0.02599956558338781, 189441: 0.025871753843546653, 189537: 0.025811819468109707, 20490: 0.02575917660628445, 20451: 0.02541465715085849, 26515: 0.025388771611636683, 189548: 0.025316260068332905, 189347: 0.025315061747941046, 26211: 0.02530945660915417, 84714: 0.025009196701956053, 189684: 0.024991934800845456, 189768: 0.024896484180787867, 23416: 0.02471849003076952, 26209: 0.024634683810425852, 189337: 0.024608604969594158, 189353: 0.024522712310730745, 20456: 0.02448268212821176, 20701: 0.024429583289350607, 189448: 0.024409692790961834, 23333: 0.02440454245984272, 84825: 0.024388357844492906, 23271: 0.024299582102577405, 25778: 0.024267573150630096, 189397: 0.024241524916161182, 189545: 0.024184957259493194, 84743: 0.02412999981198898, 24956: 0.02411437015463501, 84871: 0.02385364476846038, 189660: 0.023764470177172075, 24942: 0.023674710234723582, 84571: 0.02356024919962606, 20740: 0.023412583375239257, 20748: 0.023392094340180955, 23357: 0.023368553274245318, 189562: 0.02325618172563031, 189415: 0.023122794079274363, 84624: 0.023117735949336513, 84725: 0.023063441148937665, 189310: 0.022841321206251434, 20480: 0.022841106986240433, 84919: 0.02281606684134683, 84878: 0.022787927659690344, 189584: 0.022722204389117765, 84761: 0.022676734572169528, 84547: 0.02265748748419441, 20288: 0.0226258970601717, 189672: 0.022603962777973986, 189461: 0.02254043026710977, 189576: 0.022474807699445053, 20468: 0.02246687559236438, 189709: 0.022446876410559556, 189563: 0.022445803402481604, 84763: 0.022433778049956294, 189389: 0.022424290302418413, 20661: 0.022331899501810863, 189519: 0.022278863246163176, 189591: 0.02227331697120231, 189738: 0.022194950709613054, 20433: 0.022119070574148643, 84801: 0.02206178283483876, 189557: 0.022059264566262702, 24981: 0.02203064908775929, 189529: 0.02201821003341545, 189767: 0.021931307435047044, 189495: 0.021873220208106607, 26197: 0.021806629359917718, 20639: 0.021806589224410977, 23322: 0.02179242954385748, 24964: 0.021778275941372452, 20735: 0.02171505385181086, 20633: 0.021654388988392597, 23294: 0.021623734708125147, 20683: 0.021609007953250065, 189355: 0.021549425910712686, 189356: 0.02152032273722934, 189544: 0.02145274895005168, 84874: 0.021423986360092535, 20447: 0.021422158008170714, 23239: 0.021420241178460524, 84781: 0.021350324744721656, 23253: 0.021349365738815636, 23286: 0.02126120769747028, 189426: 0.021257337372599733, 84819: 0.021237613621440648, 84799: 0.021222255243779884, 84872: 0.021185763608577976, 189490: 0.021159636568931706, 84877: 0.021096774109161293, 20649: 0.021072176757289337, 20657: 0.021062273585530807, 189651: 0.02105496466828561, 20423: 0.021038362874528465, 189309: 0.021034104571875784, 84569: 0.020985885180843857, 23413: 0.020917206848287764, 20609: 0.02088642663329515, 20753: 0.02087049841637856, 20420: 0.020854649573905697, 20541: 0.020782723402695123, 84921: 0.020746373862605114, 189423: 0.020704261464072532, 189559: 0.020629639968316026, 189666: 0.020628303899394067, 189460: 0.02057243661736695, 24960: 0.020542948222338236, 189602: 0.020510575372217867, 189505: 0.020506603512143253, 84890: 0.0204741740104979, 84932: 0.020469487509159202, 84647: 0.020429045593017735, 20428: 0.02040526800992724, 84643: 0.020384440490980153, 84563: 0.020343642427656225, 20718: 0.020291854060438562, 189398: 0.020189652652112384, 189431: 0.020116746935105793, 20570: 0.019980535673638458, 23313: 0.019828519318767387, 84736: 0.019827959085328944, 189342: 0.01982768933718368, 84821: 0.01981675048640084, 84548: 0.01979528946241957, 84747: 0.01972456811238607, 20591: 0.019626931291822903, 189392: 0.01950250770253351, 189462: 0.019498640075782038, 84811: 0.019495090890056677, 189771: 0.01946889884235487, 189775: 0.019463889930290065, 189483: 0.019446590146573604, 25800: 0.019427287978395123, 84679: 0.019396731123616572, 20678: 0.019375135026015337, 84588: 0.019330307852278968, 84934: 0.019316485271130175, 84685: 0.01928286151684182, 23240: 0.019225230637113812, 189662: 0.019191711540329382, 189680: 0.019161646784342685, 84753: 0.01915677787252175, 20624: 0.019150020018235014, 24923: 0.019123917074798193, 189443: 0.01911079940152037, 84596: 0.019102447508257056, 189484: 0.0190984999824218, 23266: 0.018981835794602785, 24943: 0.018971332898928703, 23297: 0.018958691293422397, 23336: 0.01895315215121571, 20449: 0.018929781253667323, 84757: 0.01888952907741568, 84875: 0.018871607787141722, 189366: 0.01883080719841695, 20443: 0.018788424035347927, 84887: 0.018727241481473107, 84574: 0.018726423892486996, 84543: 0.018711320741488003, 84584: 0.01870865104933719, 23265: 0.01865462909616969, 189592: 0.018642195169427583, 189673: 0.018641470851518217, 84726: 0.018613262905145873, 189383: 0.018521979301390264, 84864: 0.018404695949243762, 189741: 0.01834707226088328, 20425: 0.0183168921861669, 189640: 0.018275258113178542, 84610: 0.018261384925052172, 84585: 0.01824791693384639, 84734: 0.018239233651444735, 189486: 0.018217369455566904, 20729: 0.01811018681481182, 20435: 0.01806778074096245, 189351: 0.017951471424206274, 189622: 0.017935138299967478, 20438: 0.01791151913581868, 20439: 0.01790485910283229, 23285: 0.017872324151703454, 24909: 0.017780781042608815, 20522: 0.01777028068837342, 20513: 0.01776991669603079, 189378: 0.0177554505404076, 84904: 0.01773460642819324, 26404: 0.017725680905668298, 23267: 0.017701568766950664, 189699: 0.01769859350781957, 189621: 0.017660507629810196, 189457: 0.017644183029313924, 84612: 0.01763776350946948, 189777: 0.01757530404341097, 20710: 0.017572139473585713, 20761: 0.017486836826203157, 24958: 0.01743844182003368, 84906: 0.017432244523153843, 20153: 0.017415613371676825, 84843: 0.017367227853750573, 189761: 0.017367061026034743, 84600: 0.01735655454786886, 20430: 0.01732840483601871, 23405: 0.01732557677392717, 23340: 0.01724381935485549, 189756: 0.0172365524868019, 189385: 0.017186219828996104, 189285: 0.017183746872446736, 189692: 0.017154286026847765, 20559: 0.017098087442229654, 84583: 0.017095356979666458, 23225: 0.017045435122523506, 189500: 0.017026849250360895, 84599: 0.017016008243135938, 189393: 0.017012681670995032, 84720: 0.01700663532760517, 189446: 0.017003202282463825, 189628: 0.01698823971458752, 189718: 0.01696389269278887, 20418: 0.016960854931706404, 189634: 0.0169568354100711, 84841: 0.016956292106783958, 84708: 0.01694342900278837, 20719: 0.016910706636380824, 189670: 0.016892330598875648, 189442: 0.0168644165972677, 189691: 0.01683092953826381, 189554: 0.0168079521579029, 84589: 0.016801885564473172, 189364: 0.01679776843682039, 189381: 0.01679201159827227, 20509: 0.01673362584806485, 20759: 0.016732075114634763, 84593: 0.016719520584144727, 20758: 0.016713642920685803, 20663: 0.016700765456992103, 84659: 0.0166795553862781, 189555: 0.016651281817191076, 20421: 0.016572294429604683, 84860: 0.01656091100102466, 189533: 0.016532962905729195, 84713: 0.016528114718632744, 189323: 0.01651273611303757, 84579: 0.016511009466361044, 189553: 0.016505599433773752, 84916: 0.01643604915206492, 189772: 0.016332749385331972, 189671: 0.016309924257535222, 189491: 0.0162824634677636, 24931: 0.01627613904431844, 20681: 0.016262896119710036, 189615: 0.016262890024277252, 189538: 0.016204905055376598, 189439: 0.016175627158694975, 84925: 0.01613253362188696, 189614: 0.016087883435909826, 25766: 0.016035830624186363, 189451: 0.015993427412597083, 23412: 0.015982625604567126, 20491: 0.01597674319114392, 24908: 0.015969799510538146, 23393: 0.015944220845810524, 189611: 0.01592117690324461, 24987: 0.01587601153725501, 20558: 0.01583437236154613, 189685: 0.01578848425350503, 84883: 0.01572580985487891, 189308: 0.015674644550677738, 23230: 0.01567101122144454, 84779: 0.01562233081925261, 23241: 0.015609050203538347, 189689: 0.015590905107655255, 20283: 0.015567405028901393, 25773: 0.015567290971699038, 84826: 0.015558964758247026, 84805: 0.015550416031452494, 20564: 0.015539699086514619, 84741: 0.015518394691689159, 189632: 0.015499782512822895, 25758: 0.01549491951164302, 24938: 0.015437201591773399, 84557: 0.01529929707720935, 84608: 0.015293255035316379, 189710: 0.015279003564057895, 20497: 0.01526724494501973, 189558: 0.015260658780819763, 84914: 0.015236272570810828, 189408: 0.015226293700807442, 23394: 0.015131174031184622, 20668: 0.015124580385948525, 84630: 0.015100750093004336, 84695: 0.01508732817247557, 189314: 0.015060097543902709, 25771: 0.015058772899120347, 84917: 0.015040976824311386, 189551: 0.015026494536444246, 189513: 0.014999559860094836, 189380: 0.014976223018605118, 84870: 0.014966217682452324, 84717: 0.014963593704482933, 24977: 0.014963163265592562, 189496: 0.01496151039485472, 189616: 0.014956046476951961, 84897: 0.014936948564642243, 20640: 0.014881803348164128, 20596: 0.014853781797992122, 189436: 0.014849902151181074, 189421: 0.014834623297511233, 24989: 0.01482113010059132, 189298: 0.014813473173629578, 24983: 0.01479469949434496, 20489: 0.01478081028625551, 84601: 0.014771888759597486, 20692: 0.014736021805447308, 20500: 0.014709226876751958, 23328: 0.014701469367862914, 24929: 0.0146200731587654, 189590: 0.014603303380668165, 20651: 0.014523009235699425, 84567: 0.014508876406758, 24933: 0.014504120528833658, 189334: 0.014502060427858433, 24953: 0.014489311998703675, 25765: 0.014474791126464586, 189603: 0.014471528689330998, 189782: 0.014427845827475038, 84613: 0.01442245262778241, 84536: 0.014400567905860268, 84796: 0.01438487605884021, 26204: 0.014383622474161074, 189712: 0.014376629705188326, 24965: 0.014365497079890686, 189560: 0.01430440920613624, 20574: 0.014267714851115287, 189652: 0.014263119385876384, 20665: 0.014223591441951108, 189498: 0.014209170756461394, 20399: 0.014201742736698855, 189503: 0.014195477256385923, 20765: 0.01418070727262635, 23269: 0.014166291381510966, 84731: 0.014126705579448326, 84924: 0.014118574757285837, 84724: 0.014102577969046275, 84885: 0.014049575441035451, 24993: 0.014024588976204348, 189535: 0.014006136467795747, 23332: 0.014004407432057903, 84808: 0.013979199647513233, 23252: 0.013972355099034647, 84828: 0.01393998123610711, 23351: 0.01391588406997575, 189447: 0.013897323586082843, 84791: 0.013888896424099496, 189754: 0.013846149397618211, 23283: 0.01381660218747192, 189499: 0.013810711424206463, 189328: 0.013783970572122127, 23383: 0.01378028007777542, 84575: 0.013766527957255852, 84848: 0.013758403149531355, 23317: 0.01375262773563775, 20457: 0.013751275004334687, 189543: 0.01371932721500269, 26217: 0.01371147118844183, 26408: 0.013710295110627142, 20698: 0.013710021423569647, 23276: 0.013691023882579072, 23362: 0.013690806408365338, 189667: 0.013624990465515205, 84559: 0.013613118344238905, 23392: 0.013575628082701994, 84581: 0.01354826038391008, 189758: 0.013520304999888504, 189534: 0.013514079280703485, 189641: 0.013497960353550073, 23300: 0.013489211838161924, 189655: 0.013486469075937615, 25741: 0.01348042369141693, 20686: 0.013478250817891618, 84623: 0.013466490531822492, 20643: 0.013453578782290195, 189747: 0.01344543080456221, 189512: 0.01343863840163003, 23258: 0.013435872587984284, 189354: 0.01339832872998319, 20479: 0.013344835289539095, 20656: 0.01334165063314105, 20494: 0.013323619943122192, 189720: 0.013305032431826878, 20645: 0.013287962302108252, 20501: 0.013238740337408952, 23282: 0.013237087320066973, 189757: 0.013224977451494294, 23262: 0.013178429190666264, 84790: 0.013157387161955247, 25775: 0.013145548095493103, 189723: 0.013142126364230868, 24902: 0.013116998290162142, 23400: 0.013113738198070993, 84900: 0.013097292213219485, 26411: 0.013085282719077515, 24892: 0.013058159807890195, 84852: 0.013041859552816065, 24939: 0.013029593694543437, 25779: 0.012998785097561512, 26406: 0.012989054951313573, 84641: 0.012934793195818708, 84540: 0.01288322297802268, 20575: 0.012883125947635217, 23327: 0.01287845390580883, 20389: 0.01285752999861714, 84929: 0.01282117951816024, 84777: 0.012815775273553867, 20337: 0.012762559296217257, 23320: 0.012750408098995573, 20424: 0.012731903014558902, 24919: 0.012650460095058397, 84768: 0.012643221439547042, 189697: 0.012632333733048298, 189401: 0.012627092430578857, 84818: 0.01260046510571733, 23371: 0.012597509061886293, 20448: 0.012587945053401104, 23341: 0.012545704140055475, 84683: 0.012532843837862908, 189664: 0.012488434568336136, 189464: 0.012429957822478141, 84856: 0.012424506323419049, 24927: 0.012418246732103842, 20709: 0.012372446695045706, 23395: 0.01236424415881093, 23389: 0.012355172211954568, 24903: 0.012305201314023049, 25768: 0.01230272685204243, 23308: 0.012294182362346444, 84665: 0.012283155285709668, 23373: 0.012269805099035153, 25786: 0.012252229057124385, 189753: 0.012241466546752346, 84631: 0.01221319078004483, 84639: 0.012183394298971162, 20646: 0.012165140905959144, 84677: 0.012112041449328688, 20682: 0.012099669815027823, 84590: 0.012090216609614691, 84562: 0.012088247516929081, 20738: 0.01208824732968765, 84640: 0.012085690508724985, 84786: 0.01206747690426661, 189390: 0.012057039597177962, 84751: 0.012039800567171273, 84803: 0.01203949576469566, 23361: 0.012009618641262541, 84869: 0.011962825499226476, 84595: 0.011946515291182878, 24915: 0.011915783501790993, 189419: 0.011909174809670893, 20436: 0.011899560187600555, 23226: 0.011899530431983423, 23364: 0.011886381742192666, 84758: 0.011869051751606864, 84632: 0.011828367703589825, 20505: 0.011824145978844762, 84629: 0.011822990624716118, 25801: 0.011818485982891418, 20542: 0.011816084474386599, 20511: 0.011748676157209086, 20660: 0.011727332929123417, 20455: 0.01172196732391874, 23290: 0.011677877781599856, 84606: 0.011667339831339366, 189318: 0.011658166489100017, 23368: 0.011651759523051855, 84749: 0.011650967532064942, 189330: 0.011646525780766146, 23409: 0.011621991893465666, 189361: 0.011569480167364449, 84663: 0.011537281890836021, 20493: 0.011536197021403877, 26206: 0.011513505862330253, 20641: 0.011511302261595645, 25772: 0.011493253291979576, 20724: 0.011488475187599875, 20597: 0.01146984872798632, 20587: 0.011457486542491152, 84824: 0.01141416390693617, 84733: 0.011396121861707426, 23193: 0.011373074478488912, 20666: 0.011345945242082198, 84832: 0.011214706883816894, 24924: 0.011205583306895639, 84778: 0.011197005105277014, 84880: 0.01119338560141668, 24991: 0.011184325235331378, 84807: 0.011179085162639872, 23243: 0.011159999537906279, 23245: 0.011153471091558884, 189414: 0.011147376899078631, 20679: 0.01114203274186125, 189703: 0.01113069951803132, 24880: 0.011123269485742097, 189731: 0.011109348122706903, 20417: 0.011105085221485306, 84908: 0.01108038733760195, 84930: 0.011070070085789627, 20419: 0.011056584591193162, 84926: 0.01104414174221711, 20445: 0.011043160457029782, 84554: 0.011027189864623619, 20481: 0.011018864314275057, 20429: 0.011007120951935514, 23218: 0.010994982690783094, 26210: 0.01098273380958597, 23370: 0.010964725470335487, 84650: 0.010944459558029683, 84604: 0.010922706523962608, 84845: 0.010898989974185258, 189676: 0.010893924638562324, 25805: 0.010881499120658673, 84851: 0.010880686734211668, 84552: 0.010839987665430074, 84923: 0.010822065256575846, 84865: 0.010804019642416165, 84806: 0.010780724235396999, 25797: 0.010763204251008247, 84549: 0.010747676706570196, 26414: 0.010744594948106083, 189416: 0.010714515204905363, 20550: 0.010710118111932286, 189714: 0.010708775882127161, 189715: 0.010645288090908216, 84535: 0.010644936085775733, 20482: 0.010642401275384808, 23399: 0.01064127527408288, 23287: 0.010611007692903266, 24963: 0.010563710308424295, 26192: 0.0105490621602627, 189541: 0.010517064688789787, 23408: 0.010500694932734127, 23293: 0.010462602670090125, 189417: 0.0104575521901169, 84616: 0.010444238114899454, 23402: 0.010428655639214444, 24979: 0.010413935451163292, 84837: 0.01041128954478689, 189637: 0.01040428129794881, 20495: 0.010396548889811627, 189456: 0.010326278033758875, 20553: 0.010308060994881109, 25794: 0.010307646769238132, 189494: 0.010284385679369203, 84844: 0.010283588268418567, 23250: 0.010280856863730233, 84787: 0.010280042538107055, 84830: 0.010263562379719907, 84858: 0.01024443558557486, 84829: 0.01022137892325265, 23270: 0.010211177504152291, 20437: 0.010201559863637468, 23255: 0.010183234000311035, 20588: 0.010178389490429787, 20453: 0.010157514156007555, 26517: 0.010118675743392267, 84602: 0.010100193750622802, 84682: 0.010088131452764264, 26410: 0.01008597485788675, 24967: 0.01008430507863085, 84564: 0.010075903071509221, 20572: 0.010011216470513243, 20687: 0.010007512106914028, 189743: 0.009980552188714999, 23345: 0.009974127886782208, 23329: 0.009956231209070025, 25787: 0.00994380745403043, 20524: 0.009939190894375003, 84820: 0.009932847050067469, 84572: 0.009923628268189823, 84935: 0.009915483831305808, 84645: 0.009914971047441825, 84722: 0.009901996956930262, 20565: 0.009889637065001535, 189742: 0.009882318566839235, 189585: 0.009881938640415318, 84810: 0.009864871303206157, 189509: 0.009862475221974086, 84635: 0.009854960432279099, 189547: 0.00982237129851176, 84592: 0.009780508987209236, 24907: 0.009772198446225405, 23348: 0.009733899256927758, 84756: 0.00966967915494153, 84637: 0.009667415911587839, 26199: 0.009666190953218528, 20465: 0.009645681008268143, 84661: 0.009631418788910861, 84705: 0.009629359150848036, 20483: 0.009620378513970221, 189377: 0.00959136470587985, 84766: 0.009575983959549242, 84702: 0.009566009157931965, 23295: 0.009558205834407042, 26200: 0.009549306586703834, 26520: 0.009528876808438355, 84716: 0.009515931238885788, 84730: 0.009495127843077298, 84853: 0.009485324472474453, 24917: 0.009472558752836712, 189465: 0.009463342857973789, 23379: 0.009447190271310083, 189750: 0.009424937211356187, 189525: 0.009395601973239026, 189528: 0.009391106738498979, 20670: 0.009378776249368195, 84797: 0.00937790704213048, 84789: 0.009359796475928417, 20547: 0.009344212008239193, 26400: 0.009335147860285168, 23299: 0.009328061158494024, 84862: 0.009321031019352369, 84541: 0.009320329039462354, 189727: 0.009309618881846978, 20685: 0.009308629191713758, 20454: 0.009295030338791038, 189617: 0.009274934831294693, 20632: 0.009274014653224935, 24959: 0.00926248949753861, 84834: 0.00925201221498336, 189444: 0.009250974557644896, 20601: 0.009232198279803918, 23268: 0.00921610901709911, 24962: 0.009192486904541313, 20473: 0.00918710718135446, 23306: 0.009150488794110246, 20647: 0.00914418839435628, 20733: 0.00913273690624121, 24971: 0.009131934273519224, 84891: 0.0091214321042922, 84709: 0.009078090201700834, 20485: 0.009064404312531967, 84746: 0.009056289114110922, 24918: 0.009014748552228965, 23349: 0.0089981153381394, 189470: 0.008992308326101256, 20573: 0.00897955113069203, 25770: 0.008979521352859354, 84653: 0.008936740855453108, 20567: 0.008929630325692831, 84888: 0.008919910651143842, 20600: 0.008905268436866662, 24984: 0.008848480095467756, 20608: 0.008848434644382562, 84568: 0.008848207499647327, 20529: 0.008848111159832235, 20537: 0.008845231472189338, 25781: 0.008820319578426728, 20630: 0.008806528913832786, 23272: 0.008801226610445429, 20507: 0.008794873188798649, 189704: 0.008766296274185488, 84836: 0.008765052608538736, 26207: 0.008759552027720217, 84566: 0.008759196386466776, 23275: 0.008743299939759485, 189594: 0.008711792564767928, 20506: 0.008704926886447409, 20563: 0.00870359285946731, 25774: 0.008701297821561543, 189508: 0.008699526374614196, 24978: 0.008691370927583585, 84827: 0.00866902828842105, 20510: 0.008656336509482648, 23112: 0.008628938153930461, 189514: 0.008621330384271755, 189449: 0.008610165263613672, 189713: 0.008602334279489067, 20708: 0.008599736230997667, 189506: 0.008598548091169762, 20722: 0.008575138461607448, 84866: 0.00854860081446606, 26201: 0.00854411793634203, 24949: 0.008508201159012818, 20620: 0.008500585350653591, 20621: 0.008487881228790505, 84859: 0.008482655324699393, 189675: 0.008467534133537333, 84666: 0.008466407889840032, 84553: 0.008460034287237477, 23376: 0.008442471398693209, 24911: 0.008437111355323578, 20764: 0.008384897309112153, 84831: 0.008375527511895145, 20636: 0.008365177137662792, 24968: 0.008361751955265725, 84676: 0.008350789627086939, 189582: 0.008341924984004757, 20560: 0.008340355527596476, 24914: 0.00830241318665329, 23353: 0.008261967144690257, 20554: 0.008244372045378612, 84911: 0.008235219251782982, 84817: 0.008229472984272861, 20662: 0.008226619360117975, 84603: 0.008226177066376284, 20566: 0.008224049296252174, 20569: 0.008214636554728972, 84692: 0.008201805775550032, 26412: 0.008196229255637079, 20189: 0.008191042014466259, 20677: 0.008189839217737449, 23403: 0.008184474881328547, 84915: 0.008181320434100364, 20674: 0.008142641843451702, 84863: 0.008136586517156569, 189721: 0.008123570582816627, 23358: 0.008107270655980733, 20398: 0.008095829163599773, 84892: 0.008077733701399794, 84587: 0.008056666986700932, 20492: 0.008027597082100298, 84788: 0.008027585639626841, 23414: 0.00802742856666662, 84648: 0.008014290701025361, 189745: 0.007977223736395575, 84855: 0.007948603248730857, 24941: 0.007947190394550325, 20736: 0.007936397302882578, 23247: 0.007934581696928863, 84809: 0.007921466179271214, 189749: 0.007920154156563015, 20551: 0.007899865702356089, 20530: 0.00787631032915417, 84638: 0.007865611336531866, 20638: 0.007846131705370836, 20707: 0.00783684613664348, 20653: 0.0078055308623625605, 189369: 0.007791769523415854, 84835: 0.007789685468580438, 189469: 0.007772796454744002, 84651: 0.007769644830211245, 189729: 0.007765388829031374, 84920: 0.007748136474439701, 84556: 0.00774282042820533, 189595: 0.0077426380735424695, 23279: 0.007738047653551095, 20444: 0.007730899219551977, 84840: 0.007707029564502266, 20517: 0.0076976594779962285, 84667: 0.007669275778059513, 25790: 0.007639016943699159, 24948: 0.00761819166614561, 23384: 0.0076053092342788925, 84823: 0.007593249805832526, 84636: 0.007580708595171035, 189609: 0.007549987082760707, 84576: 0.007539733621045018, 84910: 0.007526913896697955, 20512: 0.007469483659267883, 84785: 0.0074472598442733495, 20713: 0.00742834834058935, 20458: 0.007421096684938253, 20441: 0.0074165123869935285, 23396: 0.00741074713143531, 20538: 0.0073877979159800225, 84703: 0.007364359616786669, 189770: 0.007353015387925084, 84598: 0.007352837546775409, 23325: 0.00735055527312507, 25789: 0.00734851932702531, 189319: 0.007343616700940829, 20531: 0.007338692477379017, 84706: 0.007337698593660708, 23347: 0.0073343747859203135, 84780: 0.007300042486414001, 20684: 0.007265958309910151, 189648: 0.00724754024528838, 84656: 0.007225677996257008, 84718: 0.0072047317974638, 20672: 0.00718124923914017, 23278: 0.007159830362663226, 20488: 0.007144545648854702, 84896: 0.007122202323821797, 84684: 0.007115246567773282, 189593: 0.007107471177888955, 84846: 0.007105781493296738, 20446: 0.00708768769601311, 84752: 0.007069299752199322, 84729: 0.007046807389487236, 84744: 0.00700141311270056, 84607: 0.006984387646951432, 84622: 0.00697326622086153, 189384: 0.0069563111765082765, 20629: 0.006954085777189629, 189501: 0.006928959605994283, 25791: 0.0069064450773299296, 189344: 0.006862835489150219, 84905: 0.0068515386329495685, 189497: 0.006849812095481439, 84784: 0.006833783903356283, 84739: 0.006832248935282494, 84931: 0.006800476222361236, 84759: 0.006794585282118533, 23311: 0.0067870927094540075, 189773: 0.006771525246717853, 189338: 0.006770440391175012, 26409: 0.006757235228752992, 84701: 0.006744395350862988, 84560: 0.006737059353422564, 20498: 0.006730845560739369, 20387: 0.006668175849218236, 23369: 0.006659397629183642, 26198: 0.0066361600572974605, 84861: 0.006600726728462876, 20526: 0.006574550731555407, 84686: 0.006515045250518309, 84660: 0.006498711893158624, 23305: 0.0064791900444613445, 25780: 0.006468493830677871, 20478: 0.006466456028365136, 84794: 0.0064526795499890224, 84792: 0.006427444149397756, 23319: 0.006399072538945156, 84615: 0.006379120569626188, 84577: 0.006376674645680051, 84605: 0.006361669823541393, 84913: 0.006348361277130372, 84742: 0.006343878293205912, 84764: 0.006309124624052518, 23324: 0.006277499740072282, 23204: 0.006266583917505455, 84771: 0.006250191913682939, 23254: 0.006230658330284301, 24944: 0.006226224561059319, 189647: 0.006195967765267176, 20571: 0.00616709483789881, 84633: 0.006166609809377843, 26205: 0.006162024247970461, 23274: 0.00611742018073455, 189606: 0.0061139902085333145, 26194: 0.0060764531464815134, 84800: 0.006065049876907366, 25784: 0.006047972211051456, 84594: 0.006046219422658799, 84783: 0.006044140436303139, 189445: 0.006016523115342583, 189332: 0.006014331365442916, 84854: 0.005993645507269262, 20642: 0.005984851420744668, 84833: 0.005975862382211626, 24920: 0.005971799186388064, 24952: 0.005926039467242856, 25785: 0.005916538332589873, 84795: 0.0059077518935550955, 84655: 0.005897295687317401, 189315: 0.005893746059379738, 84881: 0.005886520527703817, 20714: 0.0058651026392961885, 23237: 0.005864564136550775, 84621: 0.005861499570444416, 23281: 0.005855868925945555, 20637: 0.005837599075598247, 84804: 0.005836145392250416, 189539: 0.00583019386345016, 84634: 0.005803757636385769, 20577: 0.005792699929490839, 20614: 0.005759955449847768, 84816: 0.005723316146097119, 84657: 0.005702749065292484, 84551: 0.005682426425551421, 84565: 0.005619877763177349, 20675: 0.005580671139427689, 26203: 0.005549971141748548, 20527: 0.005532694596997129, 20476: 0.005490760739361942, 23326: 0.005442515906072112, 20285: 0.0054272273144198215, 84712: 0.005415435481714912, 20598: 0.005409060159309256, 20612: 0.005407383638052927, 189624: 0.005383287022073707, 84664: 0.0052929848654346264, 24980: 0.0052898068496179855, 84876: 0.0052762457037232174, 189613: 0.005262302367304024, 84813: 0.005255408592754689, 20525: 0.0051686350496445484, 189406: 0.005167527930437066, 189683: 0.005166930051441365, 20584: 0.00515696593490858, 84745: 0.005138653974712176, 84670: 0.0051087841798842775, 20518: 0.005089482630932373, 84907: 0.005082374018391502, 189343: 0.004998138385877525, 20452: 0.004924987725232362, 23318: 0.004896509494347793, 20605: 0.004869458260265804, 20594: 0.0048479990324764525, 20520: 0.004818579271811879, 20712: 0.004804633131473228, 84767: 0.004801133530545058, 24921: 0.004796700436456954, 84672: 0.00475120645260445, 24946: 0.004703121598063464, 20749: 0.004685338307454588, 84901: 0.0046642338738367055, 84711: 0.004659518752545909, 84769: 0.004656483658819702, 84802: 0.00465058703986936, 84721: 0.00464974969317158, 23360: 0.004640364852337079, 84694: 0.004621449259018118, 23307: 0.004595177474375405, 20622: 0.0045403393277233155, 84693: 0.00450994185000871, 25804: 0.004457022913444416, 84715: 0.004435186539276066, 84558: 0.004353952953910738, 84945: 0.00434689540863427, 20546: 0.004337642465844133, 26407: 0.0043197465211316085, 20731: 0.0043067739467306495, 84620: 0.00429481242768989, 84775: 0.004286546798636855, 84671: 0.004181959506788157, 84732: 0.0041804355615786895, 189586: 0.0041294604227183505, 20763: 0.004088073761813038, 23397: 0.004084662728370221, 84696: 0.004081505301618996, 189422: 0.004069436317787276, 84642: 0.004045448345294275, 84619: 0.004044241027232248, 25760: 0.004036737757771735, 24928: 0.003994985445445601, 84750: 0.003977422617148375, 23291: 0.0038784292603973544, 84728: 0.00387838686634176, 189635: 0.0038547797992959953, 84533: 0.003827365433619839, 20240: 0.003763233045334181, 84625: 0.003683105642084306, 84893: 0.0036694818967200815, 20355: 0.003651352596847051, 84618: 0.003591008955383763, 84902: 0.0034272126573083503, 84628: 0.0034255393604875157, 84658: 0.003368918286833498, 84561: 0.003367707181356154, 25788: 0.003362861575447427, 84928: 0.003301278024867524, 84723: 0.0032235047699415986, 20514: 0.0032022084284437946, 84539: 0.0031546437863166515, 84814: 0.003151173951959249, 84927: 0.0031388040150700154, 84868: 0.0031086567746372133, 84700: 0.0030910363734585706, 84578: 0.003077544225362884, 84586: 0.0030058346572671493, 189626: 0.0029998324604025854, 20556: 0.0029965215591417705, 84839: 0.0029925074628198026, 84889: 0.00298982882283962, 23312: 0.0029781891631492593, 189371: 0.0029432974861512418, 189663: 0.002877563063586054, 84850: 0.002871807779935636, 25769: 0.002851160634102552, 84754: 0.0028346759687983667, 84847: 0.0027931831150301723, 84644: 0.0027923501126790717, 24912: 0.002764603072994611, 84627: 0.002733285631407495, 84895: 0.0027021351399880837, 189350: 0.0026669955497650184, 84727: 0.0026326121809891008, 84689: 0.002621406630232262, 84740: 0.0024695451688740416, 20502: 0.0024545629567719364, 84894: 0.0024157715852378935, 20516: 0.0023784551604203695, 23375: 0.002356244797543458, 84707: 0.0022939895285431534, 20615: 0.0022218585806865654, 84884: 0.0021457745330249658, 84898: 0.00211642077980698, 84933: 0.002098709834297921, 84617: 0.0020640625627371062, 84545: 0.002007743598584629, 20477: 0.0019296734473371938, 84755: 0.0018300278352618563, 84614: 0.0017952837777368113, 20472: 0.0017588200486762424, 84710: 0.001692127195016829, 84954: 0.0015128633725933363, 84654: 0.00148923034032936, 84886: 0.0014173379843991833, 23284: 0.001392707028379296, 84760: 0.001363152023755672, 20734: 0.0011354057577386122, 20673: 0.0, 20727: 0.0, 84580: 0.0, 84681: 0.0, 84687: 0.0, 84776: 0.0, 84882: 0.0, 84903: 0.0, 189477: 0.0}\n"
     ]
    }
   ],
   "source": [
    "print(\"This is sorted_similarity_dict \", most_similar_docs(84570, full_bow))"
   ]
  },
  {
   "cell_type": "markdown",
   "metadata": {},
   "source": [
    "From the dictionary above we can see that the document 84570 with title \"Muhammad Ali's boixng record: 56 wins, 5 losses, 37 knowckouts\" is the document where the 5 closest recommendations don't make sense."
   ]
  },
  {
   "cell_type": "markdown",
   "metadata": {
    "button": false,
    "new_sheet": false,
    "run_control": {
     "read_only": false
    }
   },
   "source": [
    "<div class='q_pink'>\n",
    "4 (continued). Why do you think that's the case (i.e., that a document has non-sensical closest-document pairs, or that it's hard to find such an outlier document). Please limit your response to 2-3 sentences.\n",
    "</div>"
   ]
  },
  {
   "cell_type": "markdown",
   "metadata": {
    "button": false,
    "new_sheet": false,
    "run_control": {
     "read_only": false
    }
   },
   "source": [
    "### My answer\n",
    "\n",
    "I think the document has non-sensical closest-document pairs because this document contains basically names of people, cities and numbers refering to dates and boxing scores, one of the names that repeats the most is New York. Thus, since the first document is just a collection of these words, any other document that is actually a news story will not have any sense in relation to document 84570 but could have some >0 cosine similarity if one of the name of the cities appears in the document. For instance, the documents with the highest cosine similarity w.r.t document 84570 all are related to some story happening in New York. "
   ]
  },
  {
   "cell_type": "markdown",
   "metadata": {
    "button": false,
    "new_sheet": false,
    "run_control": {
     "read_only": false
    }
   },
   "source": [
    "<div class='q_pink'><b>2.3 TF-IDF [9 points total]</b></div>"
   ]
  },
  {
   "cell_type": "markdown",
   "metadata": {
    "button": false,
    "new_sheet": false,
    "run_control": {
     "read_only": false
    }
   },
   "source": [
    "<div class='q_pink'>\n",
    "    \n",
    "**2.3a Create TF-IDF vectors [3 points]**\n",
    "\n",
    "\n",
    "Instead of using BoW vectors with raw counts, let's try using term frequency-inverse document frequency (TF-IDF) vectors. Implement the `create_TFIDF()` function below. Its inputs and outputs are identical to `create_BoW()`:\n",
    "- accept two inputs: the output from `load_corpus()` (e.g., `samp_tokenized` or `full_tokenized`) and the output from `create_vocab()` (e.g., `samp_vocab` or `full_vocab`)\n",
    "- it creates TF-IDF representations for each document (not the titles) and returns it. **NOTE:** You don't need to perform any smoothing or additional, vector normalization of each TF-IDF vector across dimensions on a per-doc basis, but if you wish to, you can. \n",
    "- specifically, the output needs to be a dictionary mapping each document id to a NumPy array $\\vec x \\in \\mathbb{R}^V$, where $x_i$ is the TF-IDF for the word whose index into the vocabulary is $i$."
   ]
  },
  {
   "cell_type": "code",
   "execution_count": 34,
   "metadata": {
    "button": false,
    "new_sheet": false,
    "run_control": {
     "read_only": false
    }
   },
   "outputs": [],
   "source": [
    "\n",
    "def create_TFIDF(tokenized_texts: Dict[int, List[str]], vocab: Dict[str, int]) -> Dict[int, np.ndarray]:\n",
    "    bow_dict: Dict[int, np.array] = {}\n",
    "    num_docs = len(tokenized_texts.keys())\n",
    "    \n",
    "    count_docs_with_token = {}\n",
    "    # In this for loop we count number of documents that have a certain term (for IDF)\n",
    "    for idx, term in enumerate(vocab):\n",
    "        curr_count = 0\n",
    "        for doc_id, tokens in tokenized_texts.items():\n",
    "            if term in tokens:\n",
    "                curr_count += 1\n",
    "        count_docs_with_token[term] = curr_count\n",
    "\n",
    "    for doc_id, tokens in tokenized_texts.items():\n",
    "        doc_list = [0] * len(vocab)\n",
    "        for idx, term in enumerate(vocab):\n",
    "            term_freq = tokens.count(term)#/len(tokens) # This is computing TF, for each set of words in a document, count the appearances of a term\n",
    "            # Ask how we can improve this line of code\n",
    "            num_docs_with_term = count_docs_with_token[term] \n",
    "            inv_doc_freq = np.log(num_docs/num_docs_with_term) # Here we are computing IDF\n",
    "            doc_list[idx] = term_freq * inv_doc_freq\n",
    "        bow_dict[doc_id] = doc_list\n",
    "    return bow_dict\n",
    "\n",
    "# Ask about data type in output."
   ]
  },
  {
   "cell_type": "markdown",
   "metadata": {
    "button": false,
    "new_sheet": false,
    "run_control": {
     "read_only": false
    }
   },
   "source": [
    "In the sanity check cell below, we encourage you to run your `create_TFIDF()` on the sample data. In our solutions, we did not implement smoothing or any post- normalization (you can if you want), and our output for the cell below yielded `[0, 0, 0, 0, 0, 0, 0, 0, 0, 23.07085806, 6.08197662, 0]`."
   ]
  },
  {
   "cell_type": "code",
   "execution_count": 35,
   "metadata": {
    "button": false,
    "new_sheet": false,
    "run_control": {
     "read_only": false
    }
   },
   "outputs": [
    {
     "name": "stdout",
     "output_type": "stream",
     "text": [
      "[0.0, 0.0, 0.0, 0.0, 0.0, 0.0, 0.0, 0.0, 0.0, 23.070858062030304, 6.0819766216224656, 0.0]\n"
     ]
    }
   ],
   "source": [
    "# sanity check cell\n",
    "samp_tfidf = create_TFIDF(samp_tokenized, samp_vocab)\n",
    "print(samp_tfidf[20621][:12])"
   ]
  },
  {
   "cell_type": "markdown",
   "metadata": {
    "button": false,
    "new_sheet": false,
    "run_control": {
     "read_only": false
    }
   },
   "source": [
    "Once you are convinced that your code is correct, simply run (i.e., **DO NOT EDIT**) the cell below to create TF-IDF representations for the full corpus."
   ]
  },
  {
   "cell_type": "code",
   "execution_count": 36,
   "metadata": {
    "button": false,
    "new_sheet": false,
    "run_control": {
     "read_only": false
    }
   },
   "outputs": [
    {
     "name": "stdout",
     "output_type": "stream",
     "text": [
      "<class 'dict'>\n",
      "# keys: 1139\n",
      "first 5 sorted keys: [20153, 20189, 20240, 20283, 20285]\n",
      "last 5 sorted keys: [189773, 189775, 189777, 189778, 189782]\n",
      "vocab size: 35599\n",
      "sample 1: [0.04918753061073368, 0.119613140077087, 0.17957788225197593, 0.15845107257527288, 0.190309157938663]\n",
      "sample 2: [0.04655248432801581, 0.049252469443506405, 0.13732426289856983, 0.11091575080269102, 0.12687277195910865]\n",
      "sample 3: [7.518334016333337, 0.7064041135534911, 1.9575655357307706, 0.0, 1.5835983959312387]\n"
     ]
    }
   ],
   "source": [
    "full_tfidf = create_TFIDF(full_tokenized, full_vocab)\n",
    "print(type(full_tfidf))\n",
    "print(\"# keys:\", len(full_tfidf.keys()))\n",
    "print(\"first 5 sorted keys:\", sorted(full_tfidf.keys())[:5])\n",
    "print(\"last 5 sorted keys:\", sorted(full_tfidf.keys())[-5:])\n",
    "print(\"vocab size:\", len(full_tfidf[20337]))\n",
    "print(\"sample 1:\", full_tfidf[20337][:5])\n",
    "print(\"sample 2:\",full_tfidf[20442][:5])\n",
    "print(\"sample 3:\",full_tfidf[20355][100:105])"
   ]
  },
  {
   "cell_type": "markdown",
   "metadata": {
    "button": false,
    "new_sheet": false,
    "run_control": {
     "read_only": false
    }
   },
   "source": [
    "<div class='q_pink'>\n",
    "    \n",
    "**2.3b TF-IDF vs BoW [3 points]**\n",
    "\n",
    "Let's continue to use the full dataset, `CS287_news_full.csv`\n",
    "\n",
    "Please write code in the cell below that allows you complete the following exercise:\n",
    "1. Find three documents $d$ that satisfy the following property: Using document $d$ as a query, let $\\mathcal{S}$ denote the set of $k = 5$ closest documents when using BoW representations.  Let $\\mathcal{T}$ denote the set of $k = 5$ closest documents when using TF-IDF representations. We want $|\\mathcal{S} \\cap \\mathcal{T}| \\leq 1$ (i.e. $\\mathcal{S}$ and $\\mathcal{T}$ have at most 1 common overlap). \n",
    "2. For each $d$, display the titles of $\\mathcal{S}$ and $\\mathcal{T}$. Based on the titles, does $\\mathcal{S}$ or $\\mathcal{T}$ comprise better recommendations for $d$?  Please justify your answer.\n",
    "3. Based on what you know about BoW and TF-IDF, why do you think $\\mathcal{S}$ and $\\mathcal{T}$ ended up with different recommmendations?\n",
    "\n",
    "For clarity, we will explicitly ask you each of these questions in separate prompts below."
   ]
  },
  {
   "cell_type": "code",
   "execution_count": 37,
   "metadata": {
    "button": false,
    "new_sheet": false,
    "run_control": {
     "read_only": false
    }
   },
   "outputs": [],
   "source": [
    "# TODO: you may use this cell to set up any code to help answer this question\n",
    "def most_similar_docs(doc1, curr_bow, as_dict=True, limit=5):\n",
    "    doc1_bow = curr_bow[doc1]\n",
    "    doc1_sim_dict: Dict[int, float] = {}\n",
    "    for doc in curr_bow.keys():\n",
    "        doc1_sim_dict[doc] = cosine_similarity(curr_bow[doc1], curr_bow[doc])\n",
    "    if as_dict:\n",
    "        sorted_vocab_dict = {k: v for k,v in sorted(doc1_sim_dict.items(), key=lambda item: item[1], reverse=True)}\n",
    "        return list(sorted_vocab_dict)[1:limit+1]\n",
    "    else:\n",
    "        return doc_1_sim_dict\n",
    "    \n",
    "d1 = 20444 \n",
    "d2 = 84570\n",
    "d3 = 20480"
   ]
  },
  {
   "cell_type": "markdown",
   "metadata": {
    "button": false,
    "new_sheet": false,
    "run_control": {
     "read_only": false
    }
   },
   "source": [
    "<div class='q_pink'>\n",
    "1. Find three documents $d$ that satisfy the following property: using document $d$ as a query, let $\\mathcal{S}$ denote the set of $k = 5$ closest documents when using BoW representations. Let $\\mathcal{T}$ denote the set of $k = 5$ closest documents when using TF-IDF representations. We want $|\\mathcal{S} \\cap \\mathcal{T}| \\leq 1$ (i.e. $\\mathcal{S}$ and $\\mathcal{T}$ have at most 1 common overlap). Your cell below should output your answer (i.e., three document ids)\n",
    "</div>"
   ]
  },
  {
   "cell_type": "code",
   "execution_count": 38,
   "metadata": {
    "button": false,
    "new_sheet": false,
    "run_control": {
     "read_only": false
    }
   },
   "outputs": [],
   "source": [
    "sim_docs_bow_d1 = most_similar_docs(d1, full_bow)\n",
    "sim_docs_tfidf_d1 = most_similar_docs(d1, full_tfidf)"
   ]
  },
  {
   "cell_type": "code",
   "execution_count": 39,
   "metadata": {},
   "outputs": [
    {
     "name": "stdout",
     "output_type": "stream",
     "text": [
      "Similar documents to 20444 using BoW\n",
      "[84545, 26197, 20646, 20458, 25804]\n",
      "Similar documents to 20444 using TFIDF\n",
      "[84545, 84583, 84547, 84581, 84554]\n"
     ]
    }
   ],
   "source": [
    "print(f\"Similar documents to {d1} using BoW\")\n",
    "print(sim_docs_bow_d1)\n",
    "print(f\"Similar documents to {d1} using TFIDF\")\n",
    "print(sim_docs_tfidf_d1)"
   ]
  },
  {
   "cell_type": "code",
   "execution_count": 40,
   "metadata": {},
   "outputs": [],
   "source": [
    "sim_docs_bow_d2 = most_similar_docs(d2, full_bow)\n",
    "sim_docs_tfidf_d2 = most_similar_docs(d2, full_tfidf)"
   ]
  },
  {
   "cell_type": "code",
   "execution_count": 41,
   "metadata": {},
   "outputs": [
    {
     "name": "stdout",
     "output_type": "stream",
     "text": [
      "Similar documents to 84570 using BoW\n",
      "[84899, 189620, 189450, 189730, 189623]\n",
      "Similar documents to 84570 using TFIDF\n",
      "[84573, 20474, 189341, 189387, 20639]\n"
     ]
    }
   ],
   "source": [
    "print(f\"Similar documents to {d2} using BoW\")\n",
    "print(sim_docs_bow_d2)\n",
    "print(f\"Similar documents to {d2} using TFIDF\")\n",
    "print(sim_docs_tfidf_d2)"
   ]
  },
  {
   "cell_type": "code",
   "execution_count": 42,
   "metadata": {},
   "outputs": [],
   "source": [
    "sim_docs_bow_d3 = most_similar_docs(d3, full_bow)\n",
    "sim_docs_tfidf_d3 = most_similar_docs(d3, full_tfidf)"
   ]
  },
  {
   "cell_type": "code",
   "execution_count": 43,
   "metadata": {},
   "outputs": [
    {
     "name": "stdout",
     "output_type": "stream",
     "text": [
      "Similar documents to 20480 using BoW\n",
      "[20479, 23400, 23306, 20646, 20608]\n",
      "Similar documents to 20480 using TFIDF\n",
      "[20429, 20550, 20565, 20663, 84633]\n"
     ]
    }
   ],
   "source": [
    "print(f\"Similar documents to {d3} using BoW\")\n",
    "print(sim_docs_bow_d3)\n",
    "print(f\"Similar documents to {d3} using TFIDF\")\n",
    "print(sim_docs_tfidf_d3)"
   ]
  },
  {
   "cell_type": "markdown",
   "metadata": {},
   "source": [
    "From the experiments above, we found that the documents 20444, 84570, 20480 all have less than 1 document at the intersection of the proposed 5 closest documents in the TFIDF embeddings and the BoW embeddings."
   ]
  },
  {
   "cell_type": "markdown",
   "metadata": {
    "button": false,
    "new_sheet": false,
    "run_control": {
     "read_only": false
    }
   },
   "source": [
    "<div class='q_pink'>\n",
    "2. For each $d$, display the titles of $\\mathcal{S}$ and $\\mathcal{T}$.\n",
    "</div>"
   ]
  },
  {
   "cell_type": "markdown",
   "metadata": {
    "button": false,
    "new_sheet": false,
    "run_control": {
     "read_only": false
    }
   },
   "source": [
    "## My results:\n",
    "1) For document d1 = 20444 (title: \"5 fort Hood Soldiers Dead and 4 Missing in Texas Floods\")\n",
    "* Using BoW the closest 5 documents are:\n",
    "    * Doc 84545, title: \"3 dead, 6 missing after Army tactical vehicle swept away in floodwaters near Fort Hood\"\n",
    "    * Doc 26197, title: \"Your Monday Evening Briefing: Hillary Clinton, Cleveland Cavaliers, Kanye West\"\n",
    "    * Doc 20646, title: \"Is thisheaven? No, It's Cleveland\"\n",
    "    * Doc 20458, title: \"3 Somali-Americans Found Guilty of trying to join Islamic State\"\n",
    "    * Doc 25804, title: \"Victims in Istanbul Airport Attack Reflect City's International Character\"\n",
    "* Using TFIDF, the closest 5 documents are:\n",
    "    * Doc 84545, title: \"3 dead, 6 missing after Army tactical vehicle swept away in floodwaters near Fort Hood\"\n",
    "    * Doc 84583, title: \"Rains slow, but flooding still threatens part of Texas\"\n",
    "    * Doc 84547, title: \"Warning and advisories issued across Central Texas amid new flooding concerns\"\n",
    "    * Doc 84581, title: \"East Coast onalert as Tropical Storm Colin forms, sever storm front moves through\"\n",
    "    * Doc 84554, title: \"Fort Carson soldiers evacuated from Colorado peak by helicopter\"\n",
    "    \n",
    "2) For document d1 = 84570 (title: \"Muhammad Ali's boxing record: 56 wins, 5 losses, 37 knockouts\")\n",
    "* Using BoW the closest 5 documents are:\n",
    "    * Doc 84899, title: \"New York airport security incrased after Istanbul attack\"\n",
    "    * Doc 189620, title: \"New York bill would ban Airbnb listings for some short-term rentals\"\n",
    "    * Doc 189450, title: \"Within sight of a record, Wall Street runs into a wall\"\n",
    "    * Doc 189730, title: \"Wall street sings Brexit blues with brutal two-day slide\"\n",
    "    * Doc 189623, title: \"Wall Street ends higher as Britain seen staying in EU\"\n",
    "* Using TFIDF, the closest 5 documents are:\n",
    "    * Doc 84573, title: \"Juan Williams: Muhammad Ali was my hero who brought me to tears\"\n",
    "    * Doc 20474, title: \"Ali's least Memorabl fight\"\n",
    "    * Doc 189341, title: \"Muhammad Ali, 'the greates', remembered as boxer who transcended sports\"\n",
    "    * Doc 189387, title: \"Commentary: What made Muhammad Ali 'unforgivably' black\"\n",
    "    * Doc 20639, title: \"Man Arrested at Rally Tells Authorities he wanted to kill donald trump\"\n",
    "    \n",
    "3) For document d1 = 20480 (title: \"'Silicon Valley' season 3, Episode7: Stop, Beta Time\")\n",
    "* Using BoW the closest 5 documents are:\n",
    "    * Doc 20479, title: \"'Game of Thrones' Seasno 6, Episode 7: Never Too Late\"\n",
    "    * Doc 23400, title: \"'Game of Thrones' Season 6 Finale: Setting up the endgame\"\n",
    "    * Doc 23306, title: \"What if PTSD is more physical than psychological\"\n",
    "    * Doc 20646, title: \"Is this Heaven?No, It's Cleveland\"\n",
    "    * Doc 20608, title: \"Defining and Proclaiming, a new black power\"\n",
    "* Using TFIDF, the closest 5 documents are:\n",
    "    * Doc 20429, title: \"Sillicon Valley Finds Trump's Disruption Unwelcome\"\n",
    "    * Doc 20550, title: \"Orlando Shooting: What we know and don't know\"\n",
    "    * Doc 20565, title: \"Donald Trump and Hillary Clinton's Speeches: What you missed\"\n",
    "    * Doc 20663, title: \"Donald Trump's Speech: What you missed and our fact checks\"\n",
    "    * Doc 84633, title: \"GOP asks for public's help crafting 2016 platform, launches interactive website\"\n",
    "    \n"
   ]
  },
  {
   "cell_type": "markdown",
   "metadata": {
    "button": false,
    "new_sheet": false,
    "run_control": {
     "read_only": false
    }
   },
   "source": [
    "<div class='q_pink'>\n",
    "2 (continued). Based on the titles, does $\\mathcal{S}$ or $\\mathcal{T}$ comprise better recommendations for $d$? Please justify your answer in ~2 sentences.\n",
    "</div>"
   ]
  },
  {
   "cell_type": "markdown",
   "metadata": {
    "button": false,
    "new_sheet": false,
    "run_control": {
     "read_only": false
    }
   },
   "source": [
    "## My answer\n",
    "\n",
    "From the titles in our results above, we conclude that $\\mathcal{T}$ (the recommendations using TFIDF) are better than the recommendations using BoW. I say this because in the recommendations for document 1 and 2, the recommendations of TFIDF are much more related in terms of topic to the queried document than the BoW recommendations. In the first query,  the TFIDF recommendations are all related to texas (or forts) in some way whereas the BoW recommendations  are not related to texas in any way. For the recommendations in the 2nd query, the queried document is about Muhammad Ali and the TFIDF recommendations are mostly all about Muhammad Ali whereas the BoW recommendations are not related to this topic at all. Finally, the recommendations in the third query are both equally bad.  "
   ]
  },
  {
   "cell_type": "markdown",
   "metadata": {
    "button": false,
    "new_sheet": false,
    "run_control": {
     "read_only": false
    }
   },
   "source": [
    "<div class='q_pink'>\n",
    "3. Based on what you know about BoW and TF-IDF, why do you think $\\mathcal{S}$ and $\\mathcal{T}$ ended up with different recommendations? (2-3 sentences).\n",
    "</div>"
   ]
  },
  {
   "cell_type": "markdown",
   "metadata": {
    "button": false,
    "new_sheet": false,
    "run_control": {
     "read_only": false
    }
   },
   "source": [
    "## My answer\n",
    "\n",
    "The TF-IDF and BoW recommendations are different because of the way the embedding are built. The BoW recommendations ($\\mathcal{S}$) are based on the BoW embeddings which are formed mostly on how many times a word appears in a document. Thus, computing the cosine similarity metric between BoW embeddings mostly considers documents to be similar if they have similar words and in the same account within it. In comparison, the TFIDF recommendations ($\\mathcal{T}$) are based on the TFIDF embedding which are obtained by multiplying the word frequency in a document by the Inverse Document Frequency (roughly a measure of in how many documents the word appears). With these TFIDF embeddings, the embeddings somehow incorporate information of in how many documents a word appears, thus we are adding also some global information of the words with respect to the documents in the corpus. Thus adding this additional information of the words (w.r.t to the corpus) the TFIDF embeddings encompass different embeddings that in the end generate different cosine similarity compared to the BoW embeddings."
   ]
  },
  {
   "cell_type": "markdown",
   "metadata": {
    "button": false,
    "new_sheet": false,
    "run_control": {
     "read_only": false
    }
   },
   "source": [
    "<div class='q_pink'>\n",
    "    \n",
    "**2.3c PCA-based visualization of the TF-IDF represented dataset [3 points]**\n",
    "\n",
    "Let's continue to explore our full dataset (i.e., `CS287_news_full.csv`) some more. Recall that there are three natural divisions in our dataset, based on news source (i.e. New York Times, Reuters, Fox News). Can TF-IDF encode the political differences between these news sources? To answer this question, in the cell below: use the [Sci-Kit Learn](https://scikit-learn.org/stable/modules/generated/sklearn.decomposition.PCA.html) library to run a **principal components analysis** (PCA), and extract the two directions of maximum variation among the TF-IDF vectors. Plot each document in a 2D grid based on its PCA components and color the document in the plot based on its news source (i.e., your documents should encompass three distinct colors, one for each news source).\n",
    "    \n",
    "**Before running PCA, please scale the TF-IDF vector for each document so that it has unit norm.  This will put each document on the same scale, so that PCA can better highlight the different word distributions between documents.**\n",
    "\n",
    "Briefly explain what you see and justify why it makes sense."
   ]
  },
  {
   "cell_type": "code",
   "execution_count": 44,
   "metadata": {},
   "outputs": [
    {
     "data": {
      "text/plain": [
       "array([[0.        , 0.        , 0.        , ..., 0.        , 0.        ,\n",
       "        0.        ],\n",
       "       [0.        , 0.        , 0.        , ..., 0.        , 0.        ,\n",
       "        0.        ],\n",
       "       [0.        , 0.        , 0.        , ..., 1.09861229, 1.09861229,\n",
       "        1.09861229]])"
      ]
     },
     "execution_count": 44,
     "metadata": {},
     "output_type": "execute_result"
    }
   ],
   "source": [
    "np.array(list(samp_tfidf.values()))"
   ]
  },
  {
   "cell_type": "code",
   "execution_count": 45,
   "metadata": {
    "button": false,
    "new_sheet": false,
    "run_control": {
     "read_only": false
    }
   },
   "outputs": [
    {
     "data": {
      "text/plain": [
       "Text(0.5, 1.0, 'PCA of TFIDF vectors')"
      ]
     },
     "execution_count": 45,
     "metadata": {},
     "output_type": "execute_result"
    },
    {
     "data": {
      "image/png": "[encoded data removed]",
      "text/plain": [
       "<Figure size 432x288 with 1 Axes>"
      ]
     },
     "metadata": {
      "needs_background": "light"
     },
     "output_type": "display_data"
    }
   ],
   "source": [
    "# TODO: answer the above. Remember to include a plot\n",
    "from sklearn.decomposition import PCA\n",
    "from sklearn.preprocessing import normalize\n",
    "import matplotlib.pyplot as plt\n",
    "\n",
    "def helper_source_code(source):\n",
    "    if source == 'New York Times':\n",
    "        return 0\n",
    "    elif source == 'Fox News':\n",
    "        return 1\n",
    "    else:\n",
    "        return 2\n",
    "\n",
    "tfidf_array = np.array(list(full_tfidf.values()))\n",
    "normalized_array = normalize(tfidf_array)\n",
    "pca = PCA(n_components=2)\n",
    "pca.fit(normalized_array)\n",
    "X_r = pca.transform(normalized_array)\n",
    "\n",
    "# Getting document sources\n",
    "id_source = full_data_df[['id', 'publication']]\n",
    "id_source_coded = np.array([helper_source_code(source) for source in id_source['publication'].tolist()])\n",
    "source_list = id_source['publication'].unique()\n",
    "\n",
    "plt.figure()\n",
    "colors = ['navy', 'turquoise', 'darkorange']\n",
    "lw = 2\n",
    "\n",
    "for color, i, target_name in zip(colors, [0, 1, 2], source_list):\n",
    "    idx_to_consider = np.where(id_source_coded == i) \n",
    "    plt.scatter(X_r[idx_to_consider, 0], X_r[idx_to_consider, 1], color=color, alpha=.8, lw=lw,\n",
    "                label=target_name)\n",
    "plt.legend(loc='best', shadow=False, scatterpoints=1)\n",
    "plt.title('PCA of TFIDF vectors')"
   ]
  },
  {
   "cell_type": "markdown",
   "metadata": {
    "button": false,
    "new_sheet": false,
    "run_control": {
     "read_only": false
    }
   },
   "source": [
    "<div class='q_pink'>\n",
    "    \n",
    "**2.3c (continued)** Briefly explain your plot above and justify why it makes sense (2-3 sentences)."
   ]
  },
  {
   "cell_type": "markdown",
   "metadata": {
    "button": false,
    "new_sheet": false,
    "run_control": {
     "read_only": false
    }
   },
   "source": [
    "## My answer\n",
    "\n",
    "In the plot above we are plotting the TF-IDF embedding vectors for each document and color them based on the newspaper they were published in. From the distribution of the plots, we can see that there is some overlap between Reuters news and Fox News and New York Times. However, ther are significantly more NYT articles spread on the x-axis than Reuters news or Fox News. Additionally, even though there is quite a number of spread articles from Fox across they axis,it seems the majority of them are on the y-axis and the same with Reuters. This shows that there is some distinction in the embeddings of the documents depending on their source but there is no clear distinction between them. This makes sense since no matter if the newspaper is considered to be left, right or center in the political spectrum, they are still reporting the same stories (or at least of the same facts) and so there is bound to be some similarity between the vector embeddings, up to a certain degree, and thats why we see the embeddings clumped together and not cleanly separated."
   ]
  },
  {
   "cell_type": "markdown",
   "metadata": {
    "button": false,
    "new_sheet": false,
    "run_control": {
     "read_only": false
    }
   },
   "source": [
    "<div class='q_pink'><b>2.4 Word2Vec from Scratch [45 points total]</b></div>"
   ]
  },
  {
   "cell_type": "markdown",
   "metadata": {
    "button": false,
    "new_sheet": false,
    "run_control": {
     "read_only": false
    }
   },
   "source": [
    "### Word Representations\n",
    "So far, we have only considered how vectors can encode similarity at the document level. However, for decades, researchers have aspired to have useful, meaningful _word-level_ representations, too. After all, much of human language is built on piecing together words that have individual, semantic meaning. Thus, it makes sense for models to also try to capture this phenomenon. In 2013, `word2vec` was created, and not only did it yield the most compelling word-level representations to date, but it was the first, main deep learning architecture in NLP that had undeniably strong results.\n",
    "\n",
    "### PyTorch\n",
    "Back in 2013, deep learning frameworks (e.g., Theono, Caffe, Torch) existed, but they were difficult to use and had orders of magnitude fewer users/contributors than today. With the power of modern-day PyTorch, we will train word-level representations from scratch on our full news corpus. As we will see, even though we are using a relatively small dataset, we will still be able to do some useful reasoning with the word vectors we obtain.  Part of the purpose of this problem is to introduce you to PyTorch's excellent abstractions (e.g. `Dataset`, `DataLoader`, `Module`, `Optimizer`, etc.). Thus, even though the `word2vec` model that we consider here is a simpler version than the ones provided in third-party libraries, our comprehensive, from-scratch approach is more scalable to future problem sets that involve more complex models (e.g. large language models, neural translation models) -- especially when GPUs are involved.\n",
    "\n",
    "PyTorch is heavily object-oriented, which means that we will need to create our own versions of its classes in order to solve our specific problems.  You can find a refresher on object-oriented programming in Python [here](https://realpython.com/python3-object-oriented-programming/).   "
   ]
  },
  {
   "cell_type": "markdown",
   "metadata": {
    "button": false,
    "new_sheet": false,
    "run_control": {
     "read_only": false
    }
   },
   "source": [
    "<div class='q_pink'><b>2.4a Dataset Class [9 points]</b>\n",
    "\n",
    "Let's start by defining a custom PyTorch dataset class for our news corpus. We will call it the `MooogleDataset`.  Notice in the cell below that it extends the base PyTorch `Dataset`. As a subclass of `Dataset`, `MooogleDataset` is required by contract to implement three methods (you can read more about this [here](https://pytorch.org/tutorials/beginner/basics/data_tutorial.html)):\n",
    "- A `__init__` method that inputs and stores all the instance variables needed for creating a particular `MooogleDataset` object. As an example, we have implemented this function for you below to take in three arguments:\n",
    "    - the dictionary `tokenized_texts`\n",
    "    - the dictionary `vocab`,\n",
    "    - and an integer `vocab_size`. This will limit the number of unique words that our model is exposed to by only considering the `vocab_size`-most frequent words. Having such a cutoff is standard in deep learning, so that models do not become too large. We will use `vocab_size = 5000`.  Feel free to modify/extend the code in `__init__` if you think that will make implementing the next two functions easier. **Pro tip:** whenever you start to write _any_ code, it's good practice to start small just to ensure everything interacts and behaves correctly -- only once you're sure of such is it worth scaling up and validating the quality of your code. \n",
    "- A `__len__` method that tells us how large the dataset is. In our case, this should be the number of documents in the corpus. You need to implement this method.\n",
    "- A `__getitem__` method that gets a particular item in the dataset. You need to implement this method. The input is `idx`, which is an integer between 0 (inclusive) and the length of the dataset determined by `__len__` (exclusive).  Given `idx`, we want `__getitem__` to (a) find the `idx`-th document (when the documents are sorted in order by id) and (b) return the *integer representation* of that document wrapped in a PyTorch [`Tensor`](https://pytorch.org/docs/stable/tensors.html).  Words with vocabulary indices greater than `vocab_size - 1` are ignored. For example consider the document `[\"the\", \"cat\", \"ate\", \"the\", \"yummy\", \"fish\"]` with vocabulary `{\"the\": 0, \"ate\": 1, \"cat\": 2, \"fish\": 3, \"yummy\": 4}` and `vocab_size = 4`.  Then, the *integer representation* of the document is `[0, 2, 1, 0, 3]`, since \"the\"=0, \"cat\"=2, \"ate\"=1, \"the\"=0, \"yummy\"=3, and \"fish\"=2, but \"yummy\" is ignored (i.e., dropped) since its vocabulary index exceeds `vocab_size - 1`.\n",
    "\n",
    "</div>"
   ]
  },
  {
   "cell_type": "code",
   "execution_count": 46,
   "metadata": {
    "button": false,
    "new_sheet": false,
    "run_control": {
     "read_only": false
    }
   },
   "outputs": [],
   "source": [
    "from torch.utils.data import Dataset\n",
    "from torch import Tensor\n",
    "import torch\n",
    "\n",
    "class MooogleDataset(Dataset):\n",
    "    \n",
    "    def __init__(self, tokenized_texts: Dict[int, List[str]], vocab: Dict[str, int], vocab_size: int):\n",
    "        self.tokenized_texts = tokenized_texts\n",
    "        self.vocab = vocab\n",
    "        self.vocab_size = vocab_size\n",
    "        \n",
    "    def __len__(self) -> int:\n",
    "        return len(self.tokenized_texts.keys())\n",
    "        \n",
    "    def __getitem__(self, idx: int) -> Tensor:\n",
    "        doc_id = list(self.tokenized_texts.keys())[idx]\n",
    "        curr_doc_text = self.tokenized_texts[doc_id]\n",
    "        int_rep = []\n",
    "        for token in curr_doc_text:\n",
    "            if self.vocab[token] <= self.vocab_size - 1:\n",
    "                int_rep.append(self.vocab[token])\n",
    "            else:\n",
    "                int_rep.append(0)\n",
    "        return torch.tensor(np.array(int_rep))"
   ]
  },
  {
   "cell_type": "markdown",
   "metadata": {
    "button": false,
    "new_sheet": false,
    "run_control": {
     "read_only": false
    }
   },
   "source": [
    "As a sanity check, run the test cell below."
   ]
  },
  {
   "cell_type": "code",
   "execution_count": 47,
   "metadata": {
    "button": false,
    "new_sheet": false,
    "run_control": {
     "read_only": false
    }
   },
   "outputs": [
    {
     "name": "stdout",
     "output_type": "stream",
     "text": [
      "3\n",
      "tensor([ 91, 793, 794,  25,  16,  96,  24,  30, 146,   6, 795,  92, 291, 171,\n",
      "        276,  32,  21, 172,  46, 292,  16, 796,   2,  21,  93,  25, 109,   0,\n",
      "        172,   4,   5, 797,   6,   0, 798, 799,   0, 800, 801, 802,   3,  56,\n",
      "        119,  66,  46, 173, 803, 174,  47, 173,   6, 804,  41, 293, 805, 294,\n",
      "         24,  62,  77, 295,   0,  91, 806, 120,  35, 296, 807, 175,  90,   6,\n",
      "         32, 808, 297, 809, 121,  80,  58,  15,  25,  30, 298,   0, 299,  92,\n",
      "        171,  25,  39, 300, 810, 811,   5, 812,  93,  58, 813,  24,  30, 146,\n",
      "          6,   0, 814, 815,  57,  61,  32,  39, 816,   2, 301,   0, 817,   1,\n",
      "        818, 284,   2, 819,   0,  92, 820,   3, 149,   1,  46, 821, 822,  39,\n",
      "        823,  74, 824, 302,  25,  12,  96, 825,   2, 826, 176,   1,   0,  93,\n",
      "         46, 292, 827,   7,  24,  23,   4, 828, 829, 830,  32, 177,  15, 303,\n",
      "        304, 305, 122, 306,   2, 307,  11,  21,  93, 175, 831, 832, 833, 834,\n",
      "        178, 119, 177,  15, 303, 304, 305, 122, 306,   2, 307,  11,  21,  93,\n",
      "         25, 179,   7, 308,  24,  39,  27,  32,  12, 835, 309, 123,  80,   5,\n",
      "        165,  32,  30,  77, 310,   0,  91, 836, 120, 233, 837,  46,  90,   0,\n",
      "        132, 838,  12,   0, 839, 286,  18,   0, 840, 841,   4,  67, 288, 132,\n",
      "        842, 843,  82, 844, 308, 124, 122, 294,  24,  30,  77, 845, 295,   0,\n",
      "        159,   4,  41, 120,  35, 296,   2,  77, 281, 846, 290,  25, 179, 847,\n",
      "        848, 174,  47, 173,   6, 849,  41, 293,   0, 850, 851, 852,   7,  24,\n",
      "          3,  32,  20,  84,  43, 853,   4,   0, 138, 854, 180, 855,   7,  24,\n",
      "          3, 124,  20, 311, 243,  25, 179, 124, 856, 857, 858,   3,  97, 124,\n",
      "        122,   0, 277,   2, 174, 218,   2, 859, 860, 861,  13,   0, 862,   8,\n",
      "         12,   0, 309,   7, 863, 280, 311, 120,  28,  20,  45, 237, 864,  59,\n",
      "        865,  25,  39, 866,  32,  87,   0, 105,  12,   5, 867,   1, 868, 109,\n",
      "         22,   0,  71, 869, 870, 123,   5, 871, 872,  12, 873, 874,   0,  44,\n",
      "         63,   0, 875,  76, 300,   5, 876, 877,   4, 194,   4, 878,  13,  25,\n",
      "        879, 176,   1, 880,  32,  61,   0, 881,  13, 175,  90,   6,  32,  23,\n",
      "        882, 312, 313,  23, 883, 314, 188,   0, 313, 884,  14,  25, 885, 886,\n",
      "         66,   5, 887,   1,  95,  83, 315,  87,   0, 888, 889, 314, 890,   1,\n",
      "         55,  19, 891,   2,  47,  98,   4,   0, 892, 316,  25, 109,  46, 172,\n",
      "        161,  14, 299, 893, 291, 171, 317, 318,  23, 121,   2, 894,   5, 895,\n",
      "         83, 169,  13, 178,  16,   0, 896,  23, 897, 898,   3, 180, 206,   5,\n",
      "        899, 900,  11, 901, 902,   2,   5, 317, 318, 169, 178, 119, 164,  11,\n",
      "         58,  15,  28, 319, 320, 903, 904,   7, 905,  21, 906,   2,  25, 119,\n",
      "          7,   5, 907,  30,  47, 908,   1,  25, 909, 121,  46,  90,   6,  32,\n",
      "        312, 910, 911, 912, 913,   2,  41, 321])\n"
     ]
    }
   ],
   "source": [
    "# sanity check cell\n",
    "samp_dataset = MooogleDataset(samp_tokenized, samp_vocab, vocab_size=5000)\n",
    "\n",
    "# Alias for samp_dataset.__len__()\n",
    "print(len(samp_dataset)) # should output 3\n",
    "\n",
    "# Alias for samp_dataset.__getitem__(1)\n",
    "# should output a tensor that starts with tensor([ 91, 793, 794,  25,  16,  96,  24,  30, 146 ...\n",
    "print(samp_dataset[1]) "
   ]
  },
  {
   "cell_type": "markdown",
   "metadata": {
    "button": false,
    "new_sheet": false,
    "run_control": {
     "read_only": false
    }
   },
   "source": [
    "Once you are convinced that your code is correct, simply run (i.e., **DO NOT EDIT**) the cell below to parse the full corpus and output particular samples from it."
   ]
  },
  {
   "cell_type": "code",
   "execution_count": 48,
   "metadata": {
    "button": false,
    "new_sheet": false,
    "run_control": {
     "read_only": false
    }
   },
   "outputs": [
    {
     "name": "stdout",
     "output_type": "stream",
     "text": [
      "1139\n",
      "torch.Size([984])\n",
      "torch.Size([1083])\n"
     ]
    }
   ],
   "source": [
    "# evaluation cell\n",
    "full_dataset = MooogleDataset(full_tokenized, full_vocab, vocab_size=5000)\n",
    "print(len(full_dataset)) \n",
    "print(full_dataset[12].size())\n",
    "print(full_dataset[34].size())"
   ]
  },
  {
   "cell_type": "markdown",
   "metadata": {
    "button": false,
    "new_sheet": false,
    "run_control": {
     "read_only": false
    }
   },
   "source": [
    "The reason why we went through the trouble of extending PyTorch's `Dataset` class is that we can now use PyTorch's other classes (which are designed to work with `Dataset`) for free! One such class is `DataLoader`. A key concept in deep learning is the idea of \"batch\" training (i.e., batch gradient descent). For efficiency's sake, we don't want to just have our model train on one document at time (i.e., stochastic gradient descent); we want it to be able to process an entire \"batch\" of documents in parallel at once. The `DataLoader` implements this idea of generating random batches for us."
   ]
  },
  {
   "cell_type": "markdown",
   "metadata": {
    "button": false,
    "new_sheet": false,
    "run_control": {
     "read_only": false
    }
   },
   "source": [
    "<div class='q_pink'><b>2.4b DataLoader Class [3 points]</b>\n",
    "\n",
    "Carefully read the documentation for `DataLoader` [here](https://pytorch.org/docs/stable/data.html#torch.utils.data.DataLoader). Then, please complete the following tasks:\n",
    "1. Use the documentation to determine appropriate arguments for instantiating `DataLoader` for our `MooogleDataset` (containing the full document collection) in the code cell below.  We want to make sure that (a) there are 32 documents per batch, (b) the documents used to form the batch are randomly selected each time, and (c) there is never less than 32 documents per batch -- even for the final batch of the dataloader. \n",
    "2. One argument that our `DataLoader` definitely needs is `collate_fn`, which we have provided for you in the cell below. As you can see, our `collate_fn` is built on a PyTorch utility function called `pad_sequence`. Read the documentation for `pad_sequence` [here](https://pytorch.org/docs/stable/generated/torch.nn.utils.rnn.pad_sequence.html), and briefly explain in the markdown cell below: (a) what our specific `collate_fn` below is doing; and, (b) why it is necessary when working with NLP data in particular.\n",
    "</div>"
   ]
  },
  {
   "cell_type": "code",
   "execution_count": 49,
   "metadata": {
    "button": false,
    "new_sheet": false,
    "run_control": {
     "read_only": false
    }
   },
   "outputs": [],
   "source": [
    "from torch.utils.data import DataLoader\n",
    "from torch.nn.utils.rnn import pad_sequence\n",
    "\n",
    "PADDING_IDX = -1\n",
    "collate_fn = lambda x: pad_sequence(x, batch_first=True, padding_value=PADDING_IDX)\n",
    "\n",
    "### ASK ABOUT drop_last\n",
    "\n",
    "# for this code cell, you only need to pass the appropriate arguments into the DataLoader() below\n",
    "full_dataloader = DataLoader(full_dataset, batch_size=32, shuffle=True, drop_last=True, collate_fn=collate_fn) # TODO: add the correct arguments "
   ]
  },
  {
   "cell_type": "markdown",
   "metadata": {
    "button": false,
    "new_sheet": false,
    "run_control": {
     "read_only": false
    }
   },
   "source": [
    "## My answer for part 2\n",
    "\n",
    "\n",
    "The specific `collate_fn` is taking the current batch and padding every Tensor corresponding to a document with values -1 so that all the tensors have the same length (the length of the longest Tensor in our batch). We need to do this because in our neural architecture, we want all the inputs to the model to have the same dimensions and so we need all the input tensors to be of the same size. "
   ]
  },
  {
   "cell_type": "markdown",
   "metadata": {
    "button": false,
    "new_sheet": false,
    "run_control": {
     "read_only": false
    }
   },
   "source": [
    "Once you are confident that both `Dataset` and `DataLoader` were implemented correctly, run the evaluation cell below, which  should run without error and return a PyTorch **Tensor**.  This **Tensor** is the first batch of data in our data loader."
   ]
  },
  {
   "cell_type": "code",
   "execution_count": 50,
   "metadata": {
    "button": false,
    "new_sheet": false,
    "run_control": {
     "read_only": false
    }
   },
   "outputs": [
    {
     "name": "stdout",
     "output_type": "stream",
     "text": [
      "torch.Size([32, 2615])\n"
     ]
    }
   ],
   "source": [
    "# evaluation cell\n",
    "batch = next(iter(full_dataloader))\n",
    "print(batch.size())"
   ]
  },
  {
   "cell_type": "markdown",
   "metadata": {
    "button": false,
    "new_sheet": false,
    "run_control": {
     "read_only": false
    }
   },
   "source": [
    "<div class='q_pink'><b>2.4c Understanding the Batch [2 points]</b>\n",
    "    \n",
    "What are the dimensions of the `batch` Tensor from the evaluation cell above? What do they represent? Please limit your response to 3-4 sentences.\n",
    "</div>"
   ]
  },
  {
   "cell_type": "code",
   "execution_count": 51,
   "metadata": {
    "button": false,
    "new_sheet": false,
    "run_control": {
     "read_only": false
    }
   },
   "outputs": [
    {
     "name": "stdout",
     "output_type": "stream",
     "text": [
      "torch.Size([32, 2615])\n"
     ]
    },
    {
     "data": {
      "text/plain": [
       "torch.Size([2615])"
      ]
     },
     "execution_count": 51,
     "metadata": {},
     "output_type": "execute_result"
    }
   ],
   "source": [
    "# TODO: what are the dimensions of \"batch\"?\n",
    "batch_dim = batch.size()\n",
    "print(batch_dim)\n",
    "batch[0].shape"
   ]
  },
  {
   "cell_type": "markdown",
   "metadata": {
    "button": false,
    "new_sheet": false,
    "run_control": {
     "read_only": false
    }
   },
   "source": [
    "### Answer 2.4c\n",
    "\n",
    "The dimensions from the batch Tensor from the cells above are `32 x P` where P is the length of the largest list of tokens in the collection of documents in that batch. This means that we have a batch of 32 Tensors (or vectors since we are talking of Tensors of dimension 1 by n) where the largest Tensor is of Dimension 1 by P. This means that all the other Tensors that have a smaller size (1 by m, where m is less than 1558 because the tokens in those documents were not as many as in the largets) were padded with -1 values in order to reach the dimension 1 by P.\n"
   ]
  },
  {
   "cell_type": "markdown",
   "metadata": {
    "button": false,
    "new_sheet": false,
    "run_control": {
     "read_only": false
    }
   },
   "source": [
    "Congrats on making it this far! Now comes the most fun part yet: **implementing the Word2Vec model**. Recall that in the [original Word2Vec paper](https://arxiv.org/pdf/1301.3781.pdf), there were two ways that Word2Vec vectors could be trained (CBOW and skip-gram). We will be implementing the first method, called **Continuous Bag-of-Words** (CBOW). You can find a diagram of CBOW below.\n",
    "\n",
    "**CBOW Training Algorithm:** We will train a vector (also called an \"embedding\") $x_i \\in \\mathbb{R}^D$ for each word $i$ in our vocabulary of size $V$, where $D = 100$ is the size of the vector. To train the embeddings, we will use the documents from our news corpus. Here's the overall process of what we will do:\n",
    "1. Assume we have a document $d$ of length $T$ represented by a sequence of words $w_1, w_2, \\ldots, w_T$.  For each word $w_t$ in this document, we will try to predict $w_t$ based on its surrounding words (also known as its \"context\") $\\mathcal{C}_t = \\{w_{t - N}, \\ldots, w_{t - 1}, w_{t +1} \\ldots, w_{t + N}\\}$, where $N = 5$ denotes the context length (meaning the full context will include the 5 words that preceed our given word, and the 5 words that follow it).\n",
    "2. Compute the \"context embedding\" $x = \\frac{1}{2N} \\sum_{w \\in \\mathcal{C}_t} x_w$ by averaging the word embeddings of all words in the context.  Note that this averaging is done for each dimension of the embedding, so $x \\in \\mathbb{R}^D$.  Also note that this averaging will eliminate any notion of word order among words in the context, hence \"continuous bag-of-words\".   \n",
    "3. Use $x$ as the feature vector in a multi-class logistic regression (softmax) problem to predict the missing word $w_t$ out of $V$ possible words in our vocabulary. \n",
    "4. Optimize the word embeddings to minimize the logistic regression loss with batch gradient descent.\n",
    "\n",
    "![CBOW](cbow.png)\n"
   ]
  },
  {
   "cell_type": "markdown",
   "metadata": {
    "button": false,
    "new_sheet": false,
    "run_control": {
     "read_only": false
    }
   },
   "source": [
    "To implement CBOW in PyTorch, we will extend the ``Module`` class (see below).  If you are new to PyTorch, it is expected that this part will be challenging, so don't worry if it takes you a lot of time to get a working implementation.  Definitely check out the excellent PyTorch tutorial on ``Module`` [here](https://pytorch.org/tutorials/beginner/basics/buildmodel_tutorial.html). \n",
    "\n",
    "<div class='q_pink'><b>2.4d The CBOW Module [20 points]</b>\n",
    "    \n",
    "All models in PyTorch are implemented through the ``Module`` class.  Below, write a custom ``Module`` called ``CBOW`` that accomplishes the CBOW algorithm we outlined above. Note, every ``Module`` needs to implement the following two methods:\n",
    "1. An ``__init__()`` method that initializes the ``Module`` object.  This ``__init__()`` method typically involves three things: (a) Inputing and saving instance variables (similar to what we did in ``MooogleDataset`` above), (b) Defining the layers/architecture of the network based on these instance variables, and (c) Initializing the layers of the network. \n",
    "    - For ``CBOW``, we have supplied the signature of the ``__init__()`` method, which includes the instance variables you'll need (e.g. ``context_size``, ``vocab_size``, etc.); your job is to accomplish (a), (b), and (c).  For step (b), you can find a list of PyTorch layers [here](https://pytorch.org/docs/stable/nn.html) [hint: check out ``Embedding`` and ``Linear`` in particular].  For step (c), you can find PyTorch functions for initializing tensors [here](https://pytorch.org/docs/stable/nn.init.html).  **We highly recommend initializing all word vectors as zero vectors and the logistic regression weights uniformly between -1 and +1.**    \n",
    "   \n",
    "   \n",
    "2. A ``forward()`` method that takes a `batch` of data from the `DataLoader` and returns a tuple of two tensors: (a) a tensor of predictions `preds` and (b) tensor of targets `targets`.  \n",
    "    - For ``CBOW``, the input `batch` is a 2D `LongTensor` (i.e. tensor of integers).  It has dimensions $B \\times T$, where $B$ is the batch size and $T$ is the sequence length (i.e. number of words).  Keep in mind that many rows in `batch` will end with a string of -1's to indicate padding.  \n",
    "    - The first output `preds` is expected to be a 2D `FloatTensor` (i.e. tensor of decimals) with dimensions $M \\times V$, where $M$ is the number of (non-pad) words in the batch and $V$ is the size of the vocabulary.  The $(i, j)$-th entry of `preds` will contain CBOW's predicted *log probability* of the $i$-th word in the batch being equal to the $j$-th word in the vocabulary.  \n",
    "    - The second output `targets` is expected to be a 1D `LongTensor` with length $M$.  The $i$-th entry of `targets` will contain the true identity (i.e. \"target\") of the $i$-th word in the batch.\n",
    "    - Writing a `forward()` method that goes directly from `batch` to (`preds`, `targets`) may be quite a challenging task, so we have broken down the problem into subproblems that may be easier to think about.  Each subproblem will involve implementing a different *helper function* (see cell below) that can be used to implement by full `forward()` method.  We encourage you to test your helper functions with sample inputs as you implement them [hint: recall that you can get a sample batch from any `DataLoader` object `dataloader` by running `batch = next(iter(dataloader))`].\n",
    "        - *Subproblem 1*: Following the **CBOW Training Algorithm** above, the first step is to take the batch of documents ``batch`` along with some integer ``context_size`` and extract a ``contexts`` tensor and a ``targets`` tensor.  This logic will be implemented in the ``split_data()`` helper function below [hint: you may want to make use of [this PyTorch function](https://pytorch.org/docs/stable/generated/torch.Tensor.unfold.html) in your implementation].  Since each batch has multiple documents, each document has multiple contexts, and each context is comprised of multiple words, ``contexts`` will be a 3D tensor with dimensions $B \\times C \\times N$, where $C$ is the number of contexts [hint: $C$ is a function of $T$ and $N$].  The `targets` tensor will be a 2D tensor with dimensions $B \\times C$, since each context has one target word to predict.  In future steps, we will be using the ``contexts`` to predict the ``targets`` (think of ``contexts`` as the \"X-variable\" and ``targets`` as the \"y-variable\" in logistic regression).  \n",
    "        - *Subproblem 2*: The next step has more to do with tensor organization than the actual CBOW algorithm.  If you look inside your ``contexts`` and ``targets`` tensors from the previous subproblem, you'll notice that some of these contain $-1$, which corresponds to padding.  These exist because we needed to pad some of the documents in order to process them as a batch with common sequence length $T$.  However, we don't actually want to train our model on any contexts or targets that contain padding; padding has nothing to do with the CBOW algorithm.  Thus, to filter out the pads, you will flatten the 3D `contexts` tensor and 2D `targets` tensor by implementing the `flatten_tensors()` helper function below.  The outputs should be a flattened 2D `contexts` tensor with dimensions $M \\times N$ and a flattened 1D `targets` tensor with dimension $M$, where $M$ is the total number of real (i.e. non-pad) words in the batch [hint: to check your understanding, think about why it must be the case that $M < B \\cdot C$].\n",
    "        - *Subproblem 3*: Assuming that you have implemented both `split_data()` and `flatten_tensors()` correctly, you are now ready to write the `CBOW.forward` method, which will call both of these helpers.  The output of `flatten_tensors()` will yield `contexts` and `targets`.  Following the description of the **CBOW Training Algorithm** above, figure out how to pass `contexts` through the layers you defined in ``CBOW.__init__`` to yield ``preds``, the log probabilities tensor of size $M \\times V$.  Then, return ``preds`` and ``targets`` to finish the function.\n",
    "</div>"
   ]
  },
  {
   "cell_type": "code",
   "execution_count": 58,
   "metadata": {
    "button": false,
    "new_sheet": false,
    "run_control": {
     "read_only": false
    }
   },
   "outputs": [],
   "source": [
    "from typing import Tuple\n",
    "\n",
    "from torch.nn import Module, Embedding, Linear, init, ReLU\n",
    "from torch import LongTensor, BoolTensor, FloatTensor\n",
    "\n",
    "# Helper function \n",
    "def split_data(batch: LongTensor, context_size: int) -> Tuple[LongTensor, LongTensor]:\n",
    "    contexts = batch.unfold(1, context_size*2 + 1, 1)\n",
    "    targets = contexts[:,:,context_size]\n",
    "    contexts = torch.cat((contexts[:,:,:context_size], contexts[:,:,context_size + 1:]),2)\n",
    "    return contexts, targets\n",
    "    \n",
    "# Helper function \n",
    "def flatten_tensors(context: LongTensor, target: LongTensor, padding_idx: int) -> Tuple[LongTensor, LongTensor]:\n",
    "    trimmed_contexts = []\n",
    "    trimmed_targets = []\n",
    "    for pair in zip(context, target):\n",
    "        curr_context = pair[0]\n",
    "        curr_target = pair[1]\n",
    "        ctxt_boolean_mask = ((curr_context == padding_idx).nonzero(as_tuple=True)[0])\n",
    "        targ_boolean_mask = ((curr_target == padding_idx).nonzero(as_tuple=True)[0])\n",
    "        if ctxt_boolean_mask.numel() > 0 and targ_boolean_mask.numel() > 0:\n",
    "            first_pad_idx_ctxt = ctxt_boolean_mask.min(dim=0).values.item()\n",
    "            first_pad_idx_targ = targ_boolean_mask.min(dim=0).values.item()\n",
    "        else:\n",
    "            first_pad_idx_ctxt = curr_context.shape[1]\n",
    "            first_pad_idx_targ = len(curr_target)\n",
    "        cutting_idx = min(first_pad_idx_ctxt, first_pad_idx_targ)\n",
    "        trimmed_contexts.append(curr_context[:cutting_idx, :])\n",
    "        trimmed_targets.append(curr_target[:cutting_idx])\n",
    "    target = torch.cat(trimmed_targets, dim=0)\n",
    "    context = torch.cat(trimmed_contexts, dim=0)\n",
    "    return context, target\n",
    "\n",
    "class CBOW(Module):\n",
    "    \n",
    "    def __init__(self, context_size: int, vocab_size: int, vector_size: int, padding_idx: int):\n",
    "        super().__init__()\n",
    "        self.context_size = context_size\n",
    "        self.vocab_size = vocab_size\n",
    "        self.vector_size = vector_size\n",
    "        self.padding_idx = padding_idx\n",
    "        \n",
    "        self.embeddings = Embedding(self.vocab_size, self.vector_size)\n",
    "        torch.nn.init.zeros_(self.embeddings.weight)\n",
    "        self.linear1 = Linear(self.vector_size, self.vocab_size)\n",
    "        torch.nn.init.uniform_(self.linear1.weight, a=-1, b=1)\n",
    "        \n",
    "    \n",
    "    def forward(self, batch: LongTensor) -> Tuple[FloatTensor, LongTensor]:\n",
    "        contexts, targets = split_data(batch, self.context_size)\n",
    "        contexts, targets = flatten_tensors(contexts, targets, self.padding_idx)\n",
    "        \n",
    "        embeds = self.embeddings(contexts)\n",
    "        avg_embeds = torch.mean(embeds, dim=1)\n",
    "        out = self.linear1(avg_embeds)\n",
    "        log_probs_2 = torch.nn.functional.log_softmax(out, dim=1)\n",
    "        return log_probs_2, targets\n",
    "        "
   ]
  },
  {
   "cell_type": "markdown",
   "metadata": {
    "button": false,
    "new_sheet": false,
    "run_control": {
     "read_only": false
    }
   },
   "source": [
    "Once you are confident with your `CBOW` implementation, run the following cell to test (a) the initialization of the model and (b) the `forward` function on a random batch from the dataloader.  It should run without error if you have implemented everything correctly."
   ]
  },
  {
   "cell_type": "code",
   "execution_count": 59,
   "metadata": {
    "scrolled": true
   },
   "outputs": [
    {
     "name": "stdout",
     "output_type": "stream",
     "text": [
      "torch.Size([20282, 10]) torch.Size([20282])\n"
     ]
    }
   ],
   "source": [
    "batch = next(iter(full_dataloader))\n",
    "contexts, targets = split_data(batch, 5)\n",
    "contexts, targets = flatten_tensors(contexts, targets, -1)\n",
    "print(contexts.shape, targets.shape)"
   ]
  },
  {
   "cell_type": "code",
   "execution_count": 60,
   "metadata": {},
   "outputs": [
    {
     "name": "stdout",
     "output_type": "stream",
     "text": [
      "torch.Size([27095, 5000]) torch.Size([27095])\n",
      "tensor([[-8.5708, -8.6026, -8.6035,  ..., -8.6127, -8.5277, -8.4472],\n",
      "        [-8.5708, -8.6026, -8.6035,  ..., -8.6127, -8.5277, -8.4472],\n",
      "        [-8.5708, -8.6026, -8.6035,  ..., -8.6127, -8.5277, -8.4472],\n",
      "        ...,\n",
      "        [-8.5708, -8.6026, -8.6035,  ..., -8.6127, -8.5277, -8.4472],\n",
      "        [-8.5708, -8.6026, -8.6035,  ..., -8.6127, -8.5277, -8.4472],\n",
      "        [-8.5708, -8.6026, -8.6035,  ..., -8.6127, -8.5277, -8.4472]],\n",
      "       grad_fn=<LogSoftmaxBackward>) tensor([ 138,    0,  228,  ..., 2597, 3563, 1076])\n"
     ]
    }
   ],
   "source": [
    "# evaluation cell\n",
    "batch = next(iter(full_dataloader))\n",
    "model = CBOW(context_size=5, vocab_size=5000, vector_size=100, padding_idx=PADDING_IDX)\n",
    "preds, targets = model(batch) # Alias for model.forward(batch)\n",
    "print(preds.shape, targets.shape)\n",
    "print(preds, targets)"
   ]
  },
  {
   "cell_type": "markdown",
   "metadata": {
    "button": false,
    "new_sheet": false,
    "run_control": {
     "read_only": false
    }
   },
   "source": [
    "<div class='q_pink'><b>2.4e Training the Model [9 points]</b>\n",
    "    \n",
    "Great! Now that we have a Dataset, a DataLoader, and a model, we can start training the model! Please read steps 3 and 4 of [this tutorial](https://pytorch.org/tutorials/beginner/blitz/cifar10_tutorial.html). In the tutorial, you'll notice that training will require three steps:\n",
    "- Choosing an [optimizer](https://pytorch.org/docs/stable/optim.html) (we recommend [Adam](https://pytorch.org/docs/stable/generated/torch.optim.Adam.html#torch.optim.Adam) with learning rate 0.001, but feel free to experiment)\n",
    "- Choosing a [loss function](https://pytorch.org/docs/stable/nn.html#loss-functions)\n",
    "- Writing a training loop (i.e. step 4 in the tutorial).  In the training loop, you'll have to set how many times to iterate through the dataloader; this is also called the *number of epochs*.  For starters, 1-2 epochs should be enough to see some decent results in the next section, but feel free to train for more epochs to see if you can get even better word vectors. **In your training loop, please print out your loss every 10 batches.** This is insightful to the user (and grader).\n",
    "\n",
    "For reference, our solution runs 3 epochs in 2 minutes 45 seconds (on a 2019 Macbook Pro w/ a 2.6 GHz CPU and no GPU).\n",
    "\n",
    "In the cell below, write and run code to train your model.\n",
    "</div>"
   ]
  },
  {
   "cell_type": "code",
   "execution_count": 61,
   "metadata": {
    "button": false,
    "new_sheet": false,
    "run_control": {
     "read_only": false
    }
   },
   "outputs": [
    {
     "name": "stdout",
     "output_type": "stream",
     "text": [
      "Epoch 1, iteration    11, loss: 9.380\n",
      "Epoch 1, iteration    21, loss: 8.517\n",
      "Epoch 1, iteration    31, loss: 8.508\n",
      "Epoch 2, iteration    11, loss: 9.343\n",
      "Epoch 2, iteration    21, loss: 8.483\n",
      "Epoch 2, iteration    31, loss: 8.472\n",
      "Epoch 3, iteration    11, loss: 9.302\n",
      "Epoch 3, iteration    21, loss: 8.445\n",
      "Epoch 3, iteration    31, loss: 8.433\n",
      "Epoch 4, iteration    11, loss: 9.257\n",
      "Epoch 4, iteration    21, loss: 8.404\n",
      "Epoch 4, iteration    31, loss: 8.391\n",
      "Epoch 5, iteration    11, loss: 9.207\n",
      "Epoch 5, iteration    21, loss: 8.358\n",
      "Epoch 5, iteration    31, loss: 8.344\n",
      "Finished Training\n",
      "tensor([[-7.7839, -8.4109, -8.4598,  ..., -8.6347, -8.5032, -8.4832],\n",
      "        [-7.8120, -8.4194, -8.4595,  ..., -8.6307, -8.5091, -8.4837],\n",
      "        [-7.7867, -8.4071, -8.4596,  ..., -8.6292, -8.5116, -8.4879],\n",
      "        ...,\n",
      "        [-7.8819, -8.4074, -8.4111,  ..., -8.6501, -8.5301, -8.4915],\n",
      "        [-7.8402, -8.3997, -8.4012,  ..., -8.6420, -8.5292, -8.5025],\n",
      "        [-7.8268, -8.4080, -8.4304,  ..., -8.6369, -8.5232, -8.4972]],\n",
      "       grad_fn=<LogSoftmaxBackward>) tensor([1443,  433,    2,  ...,    5,    2,  297])\n",
      "torch.Size([20887, 5000]) torch.Size([20887])\n",
      "CPU times: user 7min 41s, sys: 1min 55s, total: 9min 37s\n",
      "Wall time: 2min 53s\n"
     ]
    }
   ],
   "source": [
    "%%time\n",
    "\n",
    "from torch.optim import Adam\n",
    "from torch.nn import NLLLoss\n",
    "\n",
    "# TODO: train the model!\n",
    "loss_function = NLLLoss()\n",
    "optimizer =  Adam(model.parameters(), lr=0.0001)\n",
    "epochs = 5\n",
    "\n",
    "for epoch in range(epochs):\n",
    "    running_loss = 0.0\n",
    "    for i, batch in enumerate(full_dataloader):\n",
    "        \n",
    "        preds, targets = model(batch)\n",
    "        loss = loss_function(preds, targets)\n",
    "        optimizer.zero_grad()\n",
    "        loss.backward()\n",
    "        optimizer.step()\n",
    "        \n",
    "        running_loss += loss.item()\n",
    "        if i % 10 == 0 and i > 0:\n",
    "            print('Epoch %d, iteration %5d, loss: %.3f' %\n",
    "                  (epoch + 1, i + 1, running_loss/10))\n",
    "            running_loss = 0.0\n",
    "    \n",
    "print(\"Finished Training\")\n",
    "\n",
    "print(preds, targets)\n",
    "print(preds.shape, targets.shape)"
   ]
  },
  {
   "cell_type": "markdown",
   "metadata": {
    "button": false,
    "new_sheet": false,
    "run_control": {
     "read_only": false
    }
   },
   "source": [
    "Great job on writing Word2Vec from scratch!  Hopefully you learned a lot about the inner workings of PyTorch.  This will go a long way in preparing us for training more complicated models in the future."
   ]
  },
  {
   "cell_type": "markdown",
   "metadata": {
    "button": false,
    "new_sheet": false,
    "run_control": {
     "read_only": false
    }
   },
   "source": [
    "<div class='q_pink'><b>2.4f Evaluate the word2vec embeddings [4 points]</b>\n",
    "\n",
    "Now, let's see if the Word2Vec vectors we trained were any good.  Complete the following exercise:\n",
    "1. Extract the Word2Vec embeddings for each word from your model and print the shape of this data structure.\n",
    "2. For each word $w$ in the list [\"man\", \"thursday\", \"senate\", \"jersey\", \"injured\", \"republican\"], find and display the five other words whose vectors have the highest **cosine similarity** with the vector for $w$.  Also, display their cosine similarities.  Are the results in-line with what you would expect?  Why or why not?\n",
    "3. Explore the embeddings yourself and find one word with not-so-sensible neighbors.  Why might this be the case?\n",
    "\n",
    "For clarity, we will explicitly ask you each of these questions in separate prompts below.\n",
    "</div>"
   ]
  },
  {
   "cell_type": "markdown",
   "metadata": {
    "button": false,
    "new_sheet": false,
    "run_control": {
     "read_only": false
    }
   },
   "source": [
    "<div class='q_pink'>\n",
    "\n",
    "**1.** Extract the Word2Vec embeddings for each word from your model and print the shape of this data structure.\n",
    "</div>"
   ]
  },
  {
   "cell_type": "code",
   "execution_count": 62,
   "metadata": {
    "button": false,
    "new_sheet": false,
    "run_control": {
     "read_only": false
    }
   },
   "outputs": [
    {
     "name": "stdout",
     "output_type": "stream",
     "text": [
      "The shape of the embeddings for each word is  torch.Size([5000, 100])\n"
     ]
    }
   ],
   "source": [
    "# TODO: answer the above\n",
    "\n",
    "## Ask if just extracting the weights is enough for this part.\n",
    "embedding_weights = model.embeddings.weight\n",
    "print(\"The shape of the embeddings for each word is \", embedding_weights.shape)"
   ]
  },
  {
   "cell_type": "markdown",
   "metadata": {},
   "source": [
    "## Shape of embeddings\n",
    "\n",
    "The shape of the embeddings is 5000 by 100."
   ]
  },
  {
   "cell_type": "markdown",
   "metadata": {
    "button": false,
    "new_sheet": false,
    "run_control": {
     "read_only": false
    }
   },
   "source": [
    "<div class='q_pink'>\n",
    " \n",
    "**2.** For each word  𝑤  in the list [\"man\", \"thursday\", \"senate\", \"jersey\", \"injured\", \"republican\"], find and display the five other words whose vectors have the highest cosine similarity with the vector for  𝑤 . Also, display their cosine similarities.\n",
    "</div>"
   ]
  },
  {
   "cell_type": "code",
   "execution_count": 63,
   "metadata": {
    "button": false,
    "new_sheet": false,
    "run_control": {
     "read_only": false
    }
   },
   "outputs": [
    {
     "name": "stdout",
     "output_type": "stream",
     "text": [
      "For word 'man' the five words with closest vectors are: \n",
      "'worked' with similarity 0.9776332974433899\n",
      "'person' with similarity 0.9764465093612671\n",
      "'prosecutor' with similarity 0.9758427739143372\n",
      "'later' with similarity 0.974678099155426\n",
      "'woman' with similarity 0.9728676080703735\n",
      "\n",
      "\n"
     ]
    },
    {
     "name": "stderr",
     "output_type": "stream",
     "text": [
      "<ipython-input-63-569aacd3474f>:3: RuntimeWarning: invalid value encountered in float_scalars\n",
      "  result = np.dot(vec_a, vec_b)/(np.linalg.norm(vec_a)*np.linalg.norm(vec_b))\n"
     ]
    },
    {
     "name": "stdout",
     "output_type": "stream",
     "text": [
      "For word 'thursday' the five words with closest vectors are: \n",
      "'tuesday' with similarity 0.9904566407203674\n",
      "'monday' with similarity 0.9874411821365356\n",
      "'friday' with similarity 0.9867036938667297\n",
      "'saturday' with similarity 0.985265851020813\n",
      "'sunday' with similarity 0.9826511740684509\n",
      "\n",
      "\n",
      "For word 'senate' the five words with closest vectors are: \n",
      "'authorities' with similarity 0.9828258156776428\n",
      "'helped' with similarity 0.9827529191970825\n",
      "'inside' with similarity 0.982289731502533\n",
      "'during' with similarity 0.981846272945404\n",
      "'before' with similarity 0.9816762208938599\n",
      "\n",
      "\n",
      "For word 'jersey' the five words with closest vectors are: \n",
      "'york' with similarity 0.9545624256134033\n",
      "'hampshire' with similarity 0.9491590857505798\n",
      "'lows' with similarity 0.9037734270095825\n",
      "'mexico' with similarity 0.8859582543373108\n",
      "'recorded' with similarity 0.8768290877342224\n",
      "\n",
      "\n",
      "For word 'injured' the five words with closest vectors are: \n",
      "'killed' with similarity 0.9667063355445862\n",
      "'shot' with similarity 0.9612376689910889\n",
      "'child' with similarity 0.9531593322753906\n",
      "'serious' with similarity 0.9512698650360107\n",
      "'training' with similarity 0.9512141942977905\n",
      "\n",
      "\n",
      "For word 'republican' the five words with closest vectors are: \n",
      "'leaders' with similarity 0.9776110053062439\n",
      "'both' with similarity 0.9774166345596313\n",
      "'committee' with similarity 0.9764251112937927\n",
      "'democratic' with similarity 0.9733800292015076\n",
      "'president' with similarity 0.972697913646698\n",
      "\n",
      "\n"
     ]
    }
   ],
   "source": [
    "## HElper functions\n",
    "def cosine_similarity(vec_a, vec_b):\n",
    "    result = np.dot(vec_a, vec_b)/(np.linalg.norm(vec_a)*np.linalg.norm(vec_b))\n",
    "    return result\n",
    "\n",
    "def most_similar_embs(word1_idx, embeddings, limit=5):\n",
    "    word1_emb = embeddings[word1_idx]\n",
    "    word1_emb_dict: Dict[int, float] = {}\n",
    "    for word_idx, embs in enumerate(embeddings):\n",
    "        word1_emb_dict[word_idx] = cosine_similarity(word1_emb.detach().numpy(), embs.detach().numpy())\n",
    "    sorted_vocab_dict = {k: v for k,v in sorted(word1_emb_dict.items(), key=lambda item: item[1], reverse=True)}\n",
    "    return list(sorted_vocab_dict.items())[:limit]\n",
    "    \n",
    "\n",
    "# TODO: answer the above\n",
    "idx_per_word = [full_vocab[word] for word in ['man', 'thursday', 'senate', 'jersey', 'injured', 'republican']]\n",
    "rev_full_vocab = {idx: word for word, idx in full_vocab.items()}\n",
    "\n",
    "for idx in idx_per_word:\n",
    "    sorted_vocab_dict = most_similar_embs(idx, embedding_weights, limit=6)\n",
    "    #print(sorted_vocab_dict)\n",
    "    print(f\"For word \\'{rev_full_vocab[idx]}\\' the five words with closest vectors are: \")\n",
    "    for sorted_itms in sorted_vocab_dict[1:]:\n",
    "        print(f\"\\'{rev_full_vocab[sorted_itms[0]]}\\' with similarity {sorted_itms[1]}\")\n",
    "    print(\"\\n\")"
   ]
  },
  {
   "cell_type": "markdown",
   "metadata": {
    "button": false,
    "new_sheet": false,
    "run_control": {
     "read_only": false
    }
   },
   "source": [
    "<div class='q_pink'>\n",
    "    \n",
    "**2 (continued).** Are the results in-line with what you would expect? Why or why not? (2-3 sentences).\n",
    "</div>"
   ]
  },
  {
   "cell_type": "markdown",
   "metadata": {
    "button": false,
    "new_sheet": false,
    "run_control": {
     "read_only": false
    }
   },
   "source": [
    "## MY answer\n",
    "\n",
    "This results are in-line with what I expect. We only trained the network for 3 epochs and so we expect results that make sense, but definitely not the best. In particular, we can see that for the words 'man', 'thursday', 'senate', 'jersey', 'injured', 'republican' there are at least 2 (sometimes 3) words that are clearly related to them. The words related with each of the previous ones change after each iteration, but in general, we can see that for the word \"thursday\" we see at least 4 very related words (days of theweek), for \"man\" we usually see \"woman\" or \"boy\", for \"jersey\" we tend to see at least 2 names of cities/countries and same for \"injured\", we see words related to accidents. We expected these results since our network show a loss that was decreasing and after inspecting the inputs in our network, every piece was moving as expected. "
   ]
  },
  {
   "cell_type": "markdown",
   "metadata": {
    "button": false,
    "new_sheet": false,
    "run_control": {
     "read_only": false
    }
   },
   "source": [
    "<div class='q_pink'>\n",
    "\n",
    "**3.** Explore the embeddings yourself and find one word with not-so-sensible neighbors.\n",
    "</div>"
   ]
  },
  {
   "cell_type": "code",
   "execution_count": 64,
   "metadata": {
    "button": false,
    "new_sheet": false,
    "run_control": {
     "read_only": false
    }
   },
   "outputs": [
    {
     "name": "stdout",
     "output_type": "stream",
     "text": [
      "For word 'people' the five words with closest vectors are: \n",
      "'those' with similarity 0.989790678024292\n",
      "'all' with similarity 0.9872409105300903\n",
      "'some' with similarity 0.9871735572814941\n",
      "'many' with similarity 0.9871664047241211\n",
      "'out' with similarity 0.9852626323699951\n",
      "\n",
      "\n"
     ]
    },
    {
     "name": "stderr",
     "output_type": "stream",
     "text": [
      "<ipython-input-63-569aacd3474f>:3: RuntimeWarning: invalid value encountered in float_scalars\n",
      "  result = np.dot(vec_a, vec_b)/(np.linalg.norm(vec_a)*np.linalg.norm(vec_b))\n"
     ]
    }
   ],
   "source": [
    "idx_per_word = [full_vocab[word] for word in ['people']]\n",
    "rev_full_vocab = {idx: word for word, idx in full_vocab.items()}\n",
    "\n",
    "for idx in idx_per_word:\n",
    "    sorted_vocab_dict = most_similar_embs(idx, embedding_weights, limit=6)\n",
    "    #print(sorted_vocab_dict)\n",
    "    print(f\"For word \\'{rev_full_vocab[idx]}\\' the five words with closest vectors are: \")\n",
    "    for sorted_itms in sorted_vocab_dict[1:]:\n",
    "        print(f\"\\'{rev_full_vocab[sorted_itms[0]]}\\' with similarity {sorted_itms[1]}\")\n",
    "    print(\"\\n\")"
   ]
  },
  {
   "cell_type": "markdown",
   "metadata": {},
   "source": [
    "From  the exploration, we found that the word \"people\" has not-so-sensible neighbors."
   ]
  },
  {
   "cell_type": "markdown",
   "metadata": {
    "button": false,
    "new_sheet": false,
    "run_control": {
     "read_only": false
    }
   },
   "source": [
    "<div class='q_pink'>\n",
    "    \n",
    "**3 (continued).** Why might this be the case? (1-2 sentences)\n",
    "</div>"
   ]
  },
  {
   "cell_type": "markdown",
   "metadata": {
    "button": false,
    "new_sheet": false,
    "run_control": {
     "read_only": false
    }
   },
   "source": [
    "## My answer\n",
    "\n",
    "This happens because \"people\" is a very general word and througout the training contexts, it might appear close to many different words. Thus, when we train the embeddings, we might find that several random words are ranked to be close to the word \"people\" and so these have the high similarity with the word \"people\""
   ]
  },
  {
   "cell_type": "markdown",
   "metadata": {
    "button": false,
    "new_sheet": false,
    "run_control": {
     "read_only": false
    }
   },
   "source": [
    "<div class='q_pink'><b>2.5 From Word2Vec to Doc2Vec [4 points total]</b></div>"
   ]
  },
  {
   "cell_type": "markdown",
   "metadata": {
    "button": false,
    "new_sheet": false,
    "run_control": {
     "read_only": false
    }
   },
   "source": [
    "OK, time to get back to Mooogle. The cows appear to be growing restless. Hopefully you've seen how training Word2Vec gives us nice word vectors that capture some knowledge about usage and meaning. However, what we ultimately care about in this information retrieval problem is recommending good _documents_. Thus, we will try to use Word2Vec to do document recommendation for Mooogle.\n",
    "\n",
    "Word2Vec provides a vector *for each word*, yet Mooogle requires a vector *for each document*. How do we go from word vectors to document vectors? One very simple way is to define the document vector as the average of word vectors for all the words in the document.  \n",
    "\n",
    "Unfortunately, our in-house Word2Vec vectors from the previous section were not trained on enough data.  Thus, they will not lead to good document vectors. However, we can import some pretrained Word2Vec vectors that were trained on many documents from Google News using the awesome [gensim library](https://radimrehurek.com/gensim/index.html). Run the following code to download these vectors. **WARNING:** This will use 1.6 gb of hard drive space and will thus take some time to download."
   ]
  },
  {
   "cell_type": "code",
   "execution_count": 65,
   "metadata": {},
   "outputs": [
    {
     "name": "stdout",
     "output_type": "stream",
     "text": [
      "Requirement already satisfied: gensim in /home/julsoles/anaconda3/lib/python3.8/site-packages (4.1.2)\n",
      "Requirement already satisfied: smart-open>=1.8.1 in /home/julsoles/anaconda3/lib/python3.8/site-packages (from gensim) (5.2.1)\n",
      "Requirement already satisfied: scipy>=0.18.1 in /home/julsoles/anaconda3/lib/python3.8/site-packages (from gensim) (1.6.2)\n",
      "Requirement already satisfied: numpy>=1.17.0 in /home/julsoles/anaconda3/lib/python3.8/site-packages (from gensim) (1.19.5)\n"
     ]
    }
   ],
   "source": [
    "# Run if 'gensim' is not installed\n",
    "!pip install gensim"
   ]
  },
  {
   "cell_type": "code",
   "execution_count": null,
   "metadata": {
    "button": false,
    "jupyter": {
     "outputs_hidden": true
    },
    "new_sheet": false,
    "run_control": {
     "read_only": false
    }
   },
   "outputs": [],
   "source": [
    "import gensim.downloader\n",
    "\n",
    "gnews = gensim.downloader.load('word2vec-google-news-300')\n",
    "gnews_vecs = gnews.vectors\n",
    "gnews_vocab = gnews.key_to_index"
   ]
  },
  {
   "cell_type": "markdown",
   "metadata": {
    "button": false,
    "new_sheet": false,
    "run_control": {
     "read_only": false
    }
   },
   "source": [
    "<div class='q_pink'><b>2.5a doc2vec [0 points]</b>\n",
    "    \n",
    "**Note:** This section has already been implemented for you. Your job is to read the code and make sure you understand what's happening.\n",
    "    \n",
    "As the cell above suggests, Google News has its own vectors and vocabulary. Below, we use these objects, along with your `tokenized_texts` to implement the following function `run_doc2vec()`, which assigns a vector to every document based on the Word2Vec word vectors. If a word in the corpus happens to be missing from the Google News vocabulary, we skip it when computing document vectors [note: the denominator in the average is adjusted accordingly].\n",
    "\n",
    "The function accepts as inputs:\n",
    "- the output from `load_corpus()` (e.g., `samp_tokenized`)\n",
    "- `gnews_vocab`\n",
    "- `gnews_vecs`\n",
    "\n",
    "It return a dictionary, just like `create_TFIDF()`, whereby the keys are the doc ids and the values are the corresponding vectors.\n",
    "</div>"
   ]
  },
  {
   "cell_type": "code",
   "execution_count": null,
   "metadata": {
    "button": false,
    "new_sheet": false,
    "run_control": {
     "read_only": false
    }
   },
   "outputs": [],
   "source": [
    "def run_doc2vec(tokenized_texts: Dict[int, List[str]], vocab: Dict[str, int], vecs: np.ndarray) -> Dict[int, np.ndarray]:\n",
    "    doc_vecs = {}\n",
    "    for doc_id, doc in tokenized_texts.items():\n",
    "        doc_vecs[doc_id] = np.mean([vecs[vocab[word]] for word in doc if word in vocab], axis=0)\n",
    "    return doc_vecs"
   ]
  },
  {
   "cell_type": "markdown",
   "metadata": {
    "button": false,
    "new_sheet": false,
    "run_control": {
     "read_only": false
    }
   },
   "source": [
    "Execute the following cells to make sure that `run_doc2vec` is working correctly."
   ]
  },
  {
   "cell_type": "code",
   "execution_count": null,
   "metadata": {
    "button": false,
    "new_sheet": false,
    "run_control": {
     "read_only": false
    }
   },
   "outputs": [],
   "source": [
    "# sanity check cell\n",
    "samp_doc2vec = run_doc2vec(samp_tokenized, gnews_vocab, gnews_vecs)"
   ]
  },
  {
   "cell_type": "markdown",
   "metadata": {
    "button": false,
    "new_sheet": false,
    "run_control": {
     "read_only": false
    }
   },
   "source": [
    "Once you are convinced that the code is correct, simply run (i.e., **DO NOT EDIT**) the cell below to convert the dataset to doc2vec format."
   ]
  },
  {
   "cell_type": "code",
   "execution_count": null,
   "metadata": {
    "button": false,
    "new_sheet": false,
    "run_control": {
     "read_only": false
    }
   },
   "outputs": [],
   "source": [
    "full_doc2vec = run_doc2vec(full_tokenized, gnews_vocab, gnews_vecs)\n",
    "print(len(full_doc2vec[20679]))\n",
    "print(full_doc2vec[189708])"
   ]
  },
  {
   "cell_type": "markdown",
   "metadata": {
    "button": false,
    "new_sheet": false,
    "run_control": {
     "read_only": false
    }
   },
   "source": [
    "<div class='q_pink'><b>2.5b Run Moogle [4 points]</b>\n",
    "    \n",
    "We now produce recommendations based onthe Doc2Vec embeddings, and compare them to those produced by TF-IDF. **You do not need to write any code in the cell below. Simply answer the subsequent question.**\n",
    "</div>"
   ]
  },
  {
   "cell_type": "code",
   "execution_count": null,
   "metadata": {
    "button": false,
    "new_sheet": false,
    "run_control": {
     "read_only": false
    }
   },
   "outputs": [],
   "source": [
    "doc2vec_df = pd.DataFrame(full_doc2vec).T\n",
    "doc2vec_norms = np.sqrt((doc2vec_df ** 2).sum(axis=1))\n",
    "doc2vec_cosines = doc2vec_df @ doc2vec_df.T / doc2vec_norms.values / doc2vec_norms.values.reshape(-1, 1)\n",
    "doc2vec_cosines\n",
    "\n",
    "# Get top 5 recommendations for doc2vec\n",
    "doc2vec_recs = doc2vec_cosines.apply(lambda x: pd.Series(x.nlargest(6).index[1:])).T\n",
    "# Display titles of recommendations\n",
    "for doc_id in [189496, 20398, 20516, 189657]:\n",
    "    print('**** Query ****')\n",
    "    print(titles.loc[doc_id])\n",
    "    print('**** Doc2Vec Recommendations ****')\n",
    "    for rec_id in doc2vec_recs.loc[doc_id]:\n",
    "        print(titles.loc[rec_id])\n",
    "    print('**** TF-IDF Recommendations ****')\n",
    "    for rec_id in tfidf_recs.loc[doc_id]:\n",
    "        print(titles.loc[rec_id])\n",
    "    print('\\n')"
   ]
  },
  {
   "attachments": {
    "image.png": {
     "image/png": "[encoded data removed]"
    }
   },
   "cell_type": "markdown",
   "metadata": {},
   "source": [
    "![image.png](attachment:image.png)"
   ]
  },
  {
   "cell_type": "markdown",
   "metadata": {
    "button": false,
    "new_sheet": false,
    "run_control": {
     "read_only": false
    }
   },
   "source": [
    "<div class='q_pink'> How do our Doc2Vec recommendations compare to TF-IDF's? Why? Are Doc2Vec recommendations good overall? What are some alternative ways to adapt word2vec for documents? (At least 2-3 sentences.)\n",
    "</div>"
   ]
  },
  {
   "cell_type": "markdown",
   "metadata": {
    "button": false,
    "new_sheet": false,
    "run_control": {
     "read_only": false
    }
   },
   "source": [
    "## My answer\n",
    "\n",
    "For the results above we see that overall the TF-IDF recommendations are in general better than the Doc2Vec (D2V) recommendations. I say this because for the first query, the D2V recommendations all are related to a gunman and shooter in Florida but the recommendations miss the part that the in the query the shooter showed support from Islamist groups and so none of the recommendations were related to this religion. In the case of the 2nd and 3rd query, the recommendations from D2V are pretty mcuh not related to the query at all. In comparison,k The TF-IDF recommendation sin the first and third query are somewhat related to the query. In particular, in the first query, all the TF-IDF recommendations ar related to a Flroida/orlando gunman and top ofthat there is a recommendation of a storie showing some relation between the shooter and ISIS and Isamic extremism. This shows, that at least for the first query, the TF-IDF recommendations are superior to the D2V recommendations. For the third query, the TF-IDF recommendations are somewhat related to the query, ther are recommendations on a story about Kenya, about hunting, about gorillas, about blackouts and even Obama's family (which is frmo Kenya I believe). This is far superior to the recommendations from the Doc2Vec. In the second query, both recommendations are equally bad. This leads us to conclude that the TF-IDF recommendations are better than the Doc2Vec. In general, I believe TF-IDF embeddings are better because these embeddings are in some sense considering the frequency of words in a document and relates these frequencies to how much a word appears in all the documents. Thus, in some sense, we have an embedding where the entries quantitify a measure of how frequently a word appears in the document (weighted by a measure of much that word appears in all the documents), which intuitively seems more useful to find related documents since intuitivelythe embeddings of related documents might have similar words with similar high measures appearing in the embeddings. In comparison, the D2V embeddings are averages of the word embeddings that appear in that document. By taking the average of the word embeddings, we might be washing off the signal that specific words might be given in that document and so when we want to relate different D2V embeddings we are basically trying to relate random numbers obtained from the average of the embedddings. Because of this reasoning and the results from the query above,we can say that the D2V recommendations were not very good.\n",
    "\n",
    "Alternatively to just the average of the Word2Vec embeddings, to obtain an embedding for the documents we can consider stacking all the words embeddings in a matrix for each document and perhaps we could measure the distance between matrices using matrix norms. This might give better results in terms of similarities of docs but might have an additional computational burden.\n",
    "\n"
   ]
  },
  {
   "cell_type": "markdown",
   "metadata": {
    "button": false,
    "new_sheet": false,
    "run_control": {
     "read_only": false
    }
   },
   "source": [
    "<div class='header_green'>\n",
    "    \n",
    "# 3. RESEARCH [20 points]\n",
    "\n",
    "</div>"
   ]
  },
  {
   "cell_type": "markdown",
   "metadata": {
    "button": false,
    "new_sheet": false,
    "run_control": {
     "read_only": false
    }
   },
   "source": [
    "As we build a foundation in NLP, it's also important to also see what the latest, cutting-edge work (research) looks like. It's incredibly worthwhile to learn about the types of problems people work on, their methodology and approach to the problem, the datasets they work on, the issues they raise, and the solutions they posit. The field moves incredibly fast, but the __approach__ to ML/NLP research is relatively stable -- different types of papers are accepted as the years progress, but that's a different story.\n",
    "\n",
    "We want to help you get practice reading research papers, which mostly entails thinking critically about the work, being able to discern the main takeaways/conclusions, and to reflect on the work in a meaningful way."
   ]
  },
  {
   "cell_type": "markdown",
   "metadata": {
    "button": false,
    "new_sheet": false,
    "run_control": {
     "read_only": false
    }
   },
   "source": [
    "<div class='q_green'><b>3.1: Read an NLP research paper [0 points]</b>\n",
    "    \n",
    "Select and read a paper that was published in ACL, NAACL, EMNLP, or COLING in 2020 or 2021. You can find a list of such published papers by searching Google (Mooogle can't help you here), a la \"ACL 2020 accepted papers\". For this assignment, you are allowed to pick either a short paper (4-5 pages) or long paper (8-9 pages), **but you must not select a workshop paper**. List below the name of the paper, authors, venue, and year published.\n",
    "\n",
    "While I highly encourage you to look at the aforementioned venues to find a paper that interests you, alternatively, you could select one of the follow three papers:\n",
    "\n",
    "- Famous alternative, follow-up to word2vec:\n",
    "> GloVe: Global vectors for word representation. Jeffrey Pennington, Richard Socher, and Christopher Manning. EMNLP 2014.\n",
    "\n",
    "- Influential paper on probing, and the title is a reference to a famous quote \"You can't cram the meaning of a whole sentence into a %&!$# vector\\\":\n",
    "> What you can cram into a single vector: Probing sentence embeddings for linguistic properties. A Conneau, G Kruszewski, G Lample, L Barrault, M Baroni. ACL 2018.\n",
    "\n",
    "- Not as famous, but a solid approach to an important and interesting problem:\n",
    "> Improving Vector Space Word Representations Using Multilingual Correlation. Manaal Faruqui and Chris Dyer. EACL 2014.\n",
    "\n",
    "</div>"
   ]
  },
  {
   "cell_type": "markdown",
   "metadata": {
    "button": false,
    "new_sheet": false,
    "run_control": {
     "read_only": false
    }
   },
   "source": [
    "1st paper: Title: \"Prevent the Language Model from being Overconfident in Neural Machine Translation\", Authors: Mengqi Miao, Fandong Meng, Yijin Liu, Xiao-hua Zhou, Jie Zhou, Venue: ACL 2021, Year: 2021"
   ]
  },
  {
   "cell_type": "markdown",
   "metadata": {
    "button": false,
    "new_sheet": false,
    "run_control": {
     "read_only": false
    }
   },
   "source": [
    "<div class='q_green'><b>3.2: Problem? [2 point]</b> What is the problem that it is trying to address? In other words, what is it trying to solve? (2-3 sentences)\n",
    "</div>"
   ]
  },
  {
   "cell_type": "markdown",
   "metadata": {
    "button": false,
    "new_sheet": false,
    "run_control": {
     "read_only": false
    }
   },
   "source": [
    "This paper is proposing a solution to solve the hallucination problem in Neural Machine Translation (NMT), basically the problem that NMT generates fluent but inadqueate translations (w.r.t to the source). In more detail, the paper is trying to address the problem that the NMT models puts too much weight on the fluency of the partial translation and neglects certain segments of the source mateiral (this is the overconfidence of the Language Model (LM).  "
   ]
  },
  {
   "cell_type": "markdown",
   "metadata": {
    "button": false,
    "new_sheet": false,
    "run_control": {
     "read_only": false
    }
   },
   "source": [
    "<div class='q_green'><b>3.3: Solution? [2 point]</b> At a very high-level, what was their solution? (2-3 sentences). Here, you don't have room to go into the small details (e.g., about the model), so you'll need to summarize the most important elements that comprised the solution.\n",
    "</div>"
   ]
  },
  {
   "cell_type": "markdown",
   "metadata": {
    "button": false,
    "new_sheet": false,
    "run_control": {
     "read_only": false
    }
   },
   "source": [
    "To solve this problem, the authors defnie an indicator of the overconficdence of the LM, which is the *Margin between NMT and LM*. Based on this margin, they propose two distinct objectives, the first one is the Margin-based Token-level Objective (MTO) to maximize this Margin or the Margin-based Sentence-levelObjecive (MSO) which is used to get rid of harmful data (a mismatch between target sentencences and source sentences, they do not correspondo to each other)."
   ]
  },
  {
   "cell_type": "markdown",
   "metadata": {
    "button": false,
    "new_sheet": false,
    "run_control": {
     "read_only": false
    }
   },
   "source": [
    "<div class='q_green'><b>3.4: Data? [2 points]</b> What dataset(s) did they use? Are they freely available? What's the size of the data? (2-3 sentences)\n",
    "</div>"
   ]
  },
  {
   "cell_type": "markdown",
   "metadata": {
    "button": false,
    "new_sheet": false,
    "run_control": {
     "read_only": false
    }
   },
   "source": [
    "They use the datsets the WMT14 English-to-German (with 4.5 Millino sentence pairs) , WMT19 Chinese-to-English (20.2 Million sentence pairs) and the WMT14 English-to_french (36 Million sentence pairs) datasets which are public."
   ]
  },
  {
   "cell_type": "markdown",
   "metadata": {
    "button": false,
    "new_sheet": false,
    "run_control": {
     "read_only": false
    }
   },
   "source": [
    "<div class='q_green'><b>3.5: Model [2 points]</b> Very related to the 'solutions' question, describe here any models that they used, and what made it effective (2-3 sentences)\n",
    "</div>"
   ]
  },
  {
   "cell_type": "markdown",
   "metadata": {
    "button": false,
    "new_sheet": false,
    "run_control": {
     "read_only": false
    }
   },
   "source": [
    "The main changes in regular NMT models come in the development of new Loss functions and the deveopment of the Margin between NMT and LM. Thus they use a Transformer (based on Vaswani et.al. 2017), keeping the architecture close to the original one but replacing the decoder of the transformer with the LM architecture and ecluding some cross-attention layers. Furthermore, to reduce the number of parameters, they shared the embedding layer and pre-softmax linear transformation of the transformer with the NMT model. The authors used this model because this one of the benchmark models in NMT and so any improvements designed in this problem need to surpass the results obtain with the vanilla Transformer.|"
   ]
  },
  {
   "cell_type": "markdown",
   "metadata": {
    "button": false,
    "new_sheet": false,
    "run_control": {
     "read_only": false
    }
   },
   "source": [
    "<div class='q_green'><b>3.6: Results? [2 points]</b> What are their main results? (~2 sentences)\n",
    "</div>"
   ]
  },
  {
   "cell_type": "markdown",
   "metadata": {
    "button": false,
    "new_sheet": false,
    "run_control": {
     "read_only": false
    }
   },
   "source": [
    "On the English-German dataset, the NMT with MSO and MTO loss functions outperform the classical transformer architecture, MRT, Dual and Multi-taskarchitectures presented before.The model presented here achieved a 28.47% and 28.58% BLEU scores (improvements of 1.25 and 1.36 percentage points) respectively and with respect to the baseline which was the Transformer Model  by Vaswani. For the English-French and Chinese-English datasets there were also improvements with respect to the baseline (Transformer). In particular, with MTO and MSO the proposed approach had an improvement of 0.49 and 0.63 percentage points of BLEU score respectively in the English-French dataset. In the Chinese-English datset, with MTO and MSO, the proposed approach had an improvement of 1.19 and 1.50 percentage scores respectively.  "
   ]
  },
  {
   "cell_type": "markdown",
   "metadata": {
    "button": false,
    "new_sheet": false,
    "run_control": {
     "read_only": false
    }
   },
   "source": [
    "<div class='q_green'><b>3.7: Strengths? [2 points]</b> List 2-3 strengths of the paper\n",
    "</div>"
   ]
  },
  {
   "cell_type": "markdown",
   "metadata": {
    "button": false,
    "new_sheet": false,
    "run_control": {
     "read_only": false
    }
   },
   "source": [
    "    1) They provide a concise but solid background of the topic and problem to understand better their development.\n",
    "    2) The paper is very clear and mathematically clean when explaining how they are defining the new loss functions and how they define dthe MTO and MSO.\n",
    "    3) The paper is very thorough in exploring the analysis of its results and clearly identifies the reasons of the improvements to its proposed losses."
   ]
  },
  {
   "cell_type": "markdown",
   "metadata": {
    "button": false,
    "new_sheet": false,
    "run_control": {
     "read_only": false
    }
   },
   "source": [
    "<div class='q_green'><b>3.8: Weaknesses? [2 points]</b> Although you may be new to this problem and all of its content, try to list 2-3 weaknesses of the paper (anything that you think could strengthen the paper is sufficient).\n",
    "</div>"
   ]
  },
  {
   "cell_type": "markdown",
   "metadata": {
    "button": false,
    "new_sheet": false,
    "run_control": {
     "read_only": false
    }
   },
   "source": [
    "    1) I think a paper should always include future directions that readers of the paper could use to work on related problems, I think this paper could use some of that.\n",
    "    2) When defining the margin functions, the paper was very loose in that choice. I think there could have been more mention of why those choices or at least say there wasn't reason if there was none"
   ]
  },
  {
   "cell_type": "markdown",
   "metadata": {
    "button": false,
    "new_sheet": false,
    "run_control": {
     "read_only": false
    }
   },
   "source": [
    "<div class='q_green'><b>3.9: Evaluation [2 points]</b>\n",
    "    \n",
    "How would you evaluate this paper in terms of:\n",
    "- scientific contribution\n",
    "- effectiveness to solve the problem\n",
    "- how convincing it was.\n",
    "    \n",
    "Give each of these elements a score from 1-10 (10 is best). No word explanation necessary.\n",
    "</div>"
   ]
  },
  {
   "cell_type": "markdown",
   "metadata": {
    "button": false,
    "new_sheet": false,
    "run_control": {
     "read_only": false
    }
   },
   "source": [
    "    * Scientific Contribution: 8\n",
    "    * Efffectivenes to solve the problem: 8\n",
    "    * How convincing it was: 7"
   ]
  },
  {
   "cell_type": "markdown",
   "metadata": {
    "button": false,
    "new_sheet": false,
    "run_control": {
     "read_only": false
    }
   },
   "source": [
    "<div class='q_green'><b>3.10: Research Ideas [4 points]</b> Think of 1-2 research ideas that you have based on this paper. It doesn't have to be grand; most research is very incremental. Specifically, your research idea should have a concrete __question__ that you're aiming to answer. List it below. \n",
    "</div>"
   ]
  },
  {
   "cell_type": "markdown",
   "metadata": {
    "button": false,
    "new_sheet": false,
    "run_control": {
     "read_only": false
    }
   },
   "source": [
    "    1) This paper, and its proposals, were implemented on top of the vanilla Transformer architecture by Vaswani providing promising results. There are previous work (Incorporating BERT into Neural Machine Trnaslation, Zhu, Jinjua, et.al.) attempting to implement BERT into NMT. Could we rethink the ideas presented in this paper to work in a BERT-based NMT model? How would such a model fare in comparison to the Vaswani Transformer model and the results presented in this paper?\n",
    "    2) Within the paper, the authors defined three level of the margin between NMT and LM: big, medium and small. Is there a way to define these boundaries more formally? Do these boundaries depend on the data presented? Would it be possible to learn the threshold between these boundaries based on the training data?"
   ]
  },
  {
   "cell_type": "markdown",
   "metadata": {
    "button": false,
    "new_sheet": false,
    "run_control": {
     "read_only": false
    }
   },
   "source": [
    "<div class='q_green'><b>BONUS POINTS [5 points]</b> I mention the full details in the syllabus on the course website. However, in short, these bonus points cannot bring one's grade to exceed 100. That is, if someone received a 97 on this homework, doing this bonus could allow their grade to reach 100 points. If the person had an 83 on the homework, then the most they could achieve is an 88.\n",
    "    \n",
    "The task: read another research paper (allowed to be a Short Paper) and answer the same questions again. Please copy and paste all of the questions below.\n",
    "</div>"
   ]
  },
  {
   "cell_type": "markdown",
   "metadata": {
    "button": false,
    "new_sheet": false,
    "run_control": {
     "read_only": false
    }
   },
   "source": [
    "2nd paper: \"How effective is BERT without word ordering?Implications for lagnuage understanding and data privacy\", Hessel, Jack, Schofield Alexandra, ACL 2021, 2021\n",
    "\n",
    "## Problem? [2 point] What is the problem that it is trying to address? In other words, what is it trying to solve? (2-3 sentences)\n",
    "\n",
    "The paper is trying to answer the question of, quantifiably, how resilient are token representations and activation layers within BERT to shuffled input. Mainly the authors want to quantify the resiliency of BERT (or Bag of Words BERT, BoW-BERT) when the inputs order is shuffled and what could these resiliency to shuffled input be useful for other applications in the differential privacy space.\n",
    "\n",
    "\n",
    "## Solution? [2 point] At a very high-level, what was their solution? (2-3 sentences). Here, you don't have room to go into the small details (e.g., about the model), so you'll need to summarize the most important elements that comprised the solution.\n",
    "\n",
    "This was more of a survey paper, so the authors presented the results of their experiments as an answer to their question. In particular, the authors studied the performance of pre-trained MLM (like BERT or BoW-BERT) on a collection of English-language undertsanding benchmarks (GLUE). In particular, the researchers defined two new metrics to investigate the resiliency fo the MLM models to shuffle input: Token Idenfitifiability (which measures the similarity of BERT's represtnation of a word token in a sentence $x$ and the token in its shuffled counter part $x'$, and Self attention distanc which measures if BERT attends to similar tokens for each token in $x$ and its shuffled version $x'$ regardless of the order. Additionally, besides testing BERT on the GLUE tasks, the authors did a test of classification on sensitive texts using differential privacy models.\n",
    "\n",
    "## Data? [2 points] What dataset(s) did they use? Are they freely available? What's the size of the data? (2-3 sentences)\n",
    "\n",
    "The authors used 100 sentences for each training set of 8 GLUE tasks for a totalk of 800 sentences, additionally, the authors sample 32 random permutations per sentence. The GLUE tasks are freely available and the datasets within it all contain 422.7 sentences. \n",
    "\n",
    "## 3.5: Model [2 points] Very related to the 'solutions' question, describe here any models that they used, and what made it effective (2-3 sentences)\n",
    "\n",
    "To make their analysis, the authors used the BoW-BERT model since that was the model based on BERT that allowed th eresarchers tu ose bag-of-words representations for their experiments. Additionally, it has been shown that Bo-BERT ignorse syntax on the input, but it has never been tested how resistant this model could be to shuffled input.\n",
    "\n",
    "\n",
    "## 3.6: Results? [2 points] What are their main results? (~2 sentences)\n",
    "\n",
    "The authors conclude is that BoW-BERT is one of the strongest baselines for language understanding tasks (even when the input is shuffled) since the results from the GLUE tasks are at within  5% accuracy of the non-shuffled versions of BERT and areat least 2% than other bag-of-words methods (like CBOW GLoVe).Furthermore, the authors concluded that BoW-BERT  is a strong option option (stronger than CBOW, CBOW GloVE, Unigram TFIDF) for classifying sensitive documents when the the documents are short.\n",
    "\n",
    "## 3.7: Strengths? [2 points] List 2-3 strengths of the paper\n",
    "\n",
    "    1) Has suggestions for future work.\n",
    "    2) Did a fine job of explaining certain details of their choices, why use BoW-BERT instead of just BERT.\n",
    "\n",
    "## 3.8: Weaknesses? [2 points] Although you may be new to this problem and all of its content, try to list 2-3 weaknesses of the paper (anything that you think could strengthen the paper is sufficient).\n",
    "    \n",
    "    1) (Perhaps its just a me thing) I enjoy when papers have a previous work/background section, since that allows people not so familiar with the topic to have a common backgroun with the authors, maybe should include that.\n",
    "    2) I feel te experiments could have been explained a bit better, in particular how the results differ between a model with no shuffled input vs the same model with shuffled input.\n",
    "    3) The authors put some effort in explaining the metrics of Token identifiability and Self attention Distance but didn't mention the terms later on in the results of the analysis.\n",
    "\n",
    "## 3.9: Evaluation [2 points]\n",
    "\n",
    "    * Scientific Contribution: 6\n",
    "    * Efffectivenes to solve the problem: 7\n",
    "    * How convincing it was: 6\n",
    "\n",
    "\n",
    "## 3.10: Research Ideas [4 points] Think of 1-2 research ideas that you have based on this paper. It doesn't have to be grand; most research is very incremental. Specifically, your research idea should have a concrete __question__ that you're aiming to answer. List it below.\n",
    "\n",
    "\n",
    "    * This work was based on the English language where syntax and grammatical rules are different than in other languages. Should we expect similar results for a similar analysis using other languages? Perhaps with German, chinese or spanish?\n",
    "    * We now know that BoW-BERT is resilient to shuffled input, but can we go deeper. What are the layers/sections of the BoW-BERT architecture that are responsible for the model's resiliency to shuffled input? Can we use those layers to design stronger architectures that could prevent issues with security?\n",
    "\n",
    "\n",
    "\n"
   ]
  },
  {
   "cell_type": "markdown",
   "metadata": {
    "button": false,
    "new_sheet": false,
    "run_control": {
     "read_only": false
    }
   },
   "source": [
    "<div class='header_blue'>\n",
    "    \n",
    "# 4. SELF-REFLECTION [0 points]\n",
    "\n",
    "</div>"
   ]
  },
  {
   "cell_type": "markdown",
   "metadata": {
    "button": false,
    "new_sheet": false,
    "run_control": {
     "read_only": false
    }
   },
   "source": [
    "<div class='q_blue'><b>4.1: Self-reflection and Feedback [0 points]</b>\n",
    "\n",
    "Are you thriving in the course? Are there elements that are particularly confusing to you? I want everyone to be and feel fully supported. Toward this, I strongly urge you all to think critically about your own learning and efforts. Please provide us with feedback about how you're doing in the course and if there's anything further or different we can do to better assist your learning. I want everyone to give their earnest account, so the form is completely anonymous.\n",
    "\n",
    "</div>\n",
    "\n",
    "[Anonymous Self-Reflection and Feedback Form](https://forms.gle/3LT6UfhtCtqp2G7X9)"
   ]
  },
  {
   "cell_type": "code",
   "execution_count": null,
   "metadata": {
    "button": false,
    "collapsed": true,
    "jupyter": {
     "outputs_hidden": true
    },
    "new_sheet": false,
    "run_control": {
     "read_only": false
    }
   },
   "outputs": [],
   "source": []
  }
 ],
 "metadata": {
  "celltoolbar": "Edit Metadata",
  "kernel_loop": {
   "byte_size": "82791"
  },
  "kernelspec": {
   "display_name": "Python 3",
   "language": "python",
   "name": "python3"
  },
  "language_info": {
   "codemirror_mode": {
    "name": "ipython",
    "version": 3
   },
   "file_extension": ".py",
   "mimetype": "text/x-python",
   "name": "python",
   "nbconvert_exporter": "python",
   "pygments_lexer": "ipython3",
   "version": "3.8.8"
  }
 },
 "nbformat": 4,
 "nbformat_minor": 4
}
