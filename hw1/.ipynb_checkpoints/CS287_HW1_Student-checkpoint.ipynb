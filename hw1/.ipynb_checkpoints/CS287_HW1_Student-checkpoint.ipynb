{
 "cells": [
  {
   "cell_type": "code",
   "execution_count": 1,
   "metadata": {
    "button": false,
    "new_sheet": false,
    "run_control": {
     "read_only": false
    }
   },
   "outputs": [
    {
     "data": {
      "text/html": [
       "<style>\n",
       "blockquote { background: #AEDE94; }\n",
       "\n",
       "hr {\n",
       "    height: 1px;\n",
       "    background-color: black;\n",
       "    border: none;\n",
       "}\n",
       "\n",
       "div.quote {\n",
       "\tpadding: 0.5em;\n",
       "\tfont-size: 12px;\n",
       "\talign-items: center;\n",
       "\tmax-width: 80%;\n",
       "\ttext-align: center;\n",
       "}\n",
       "\n",
       "div.header_purple {\n",
       "\tbackground-color: #D0C7FF; \n",
       "\twidth: 100%;\n",
       "\tbox-shadow: 5px 5px 10px 2px #888;\n",
       "\tfont-size: 15px;\n",
       "\tpadding-top: 8px;\n",
       "\tpadding-left: 20px;\n",
       "\tpadding-right: 20px; \n",
       "\tpadding-bottom: 20px;\n",
       "}\n",
       "\n",
       "div.q_purple {\n",
       "\tbackground-color: #9183D9;\n",
       "\tborder-color: #FF8484;\n",
       "\tborder-left: 5px solid #FF8484; \n",
       "\tpadding: 0.5em;\n",
       "}\n",
       "\n",
       "div.header_pink {\n",
       "\tbackground-color: #FFC8C8;\n",
       "\twidth: 100%;\n",
       "\tbox-shadow: 5px 5px 10px 2px #888;\n",
       "\tfont-size: 15px;\n",
       "\tpadding-top: 8px;\n",
       "\tpadding-left: 20px;\n",
       "\tpadding-right: 20px; \n",
       "\tpadding-bottom: 20px;\n",
       "}\n",
       "\n",
       "div.q_pink {\n",
       "\tbackground-color: #FFC8C8;\n",
       "\tborder-color: #FF8484;\n",
       "\tborder-left: 5px solid #FF8484; \n",
       "\tpadding: 0.5em;\n",
       "}\n",
       "\n",
       "div.header_yellow {\n",
       "\tbackground-color: #FDFFB6; \n",
       "\twidth: 100%;\n",
       "\tbox-shadow: 5px 5px 10px 2px #888;\n",
       "\tfont-size: 15px;\n",
       "\tpadding-top: 8px;\n",
       "\tpadding-left: 20px;\n",
       "\tpadding-right: 20px; \n",
       "\tpadding-bottom: 20px;\n",
       "}\n",
       "\n",
       "div.q_yellow {\n",
       "\tbackground-color: #FDFFD0;\n",
       "\tborder-color: #FFD6A5;\n",
       "\tborder-left: 5px solid #FFD6A5; \n",
       "\tpadding: 0.5em;\n",
       "}\n",
       "\n",
       "div.header_orange {\n",
       "\tbackground-color: #FFD6A5; \n",
       "\twidth: 100%;\n",
       "\tbox-shadow: 5px 5px 10px 2px #888;\n",
       "\tfont-size: 15px;\n",
       "\tpadding-top: 8px;\n",
       "\tpadding-left: 20px;\n",
       "\tpadding-right: 20px; \n",
       "\tpadding-bottom: 20px;\n",
       "}\n",
       "\n",
       "div.q_orange {\n",
       "\tbackground-color: #FFD6A5;\n",
       "\tborder-color: #D6562C;\n",
       "\tborder-left: 5px solid #D6562C; \n",
       "\tpadding: 0.5em;\n",
       "}\n",
       "\n",
       "div.header_green {\n",
       "\tbackground-color: #CAFFBF; \n",
       "\twidth: 100%;\n",
       "\tbox-shadow: 5px 5px 10px 2px #888;\n",
       "\tfont-size: 15px;\n",
       "\tpadding-top: 8px;\n",
       "\tpadding-left: 20px;\n",
       "\tpadding-right: 20px; \n",
       "\tpadding-bottom: 20px;\n",
       "}\n",
       "\n",
       "div.q_green {\n",
       "\tbackground-color: #CAFFBF;\n",
       "\tborder-color: #98C98E;\n",
       "\tborder-left: 5px solid #98C98E; \n",
       "\tpadding: 0.5em;\n",
       "}\n",
       "\n",
       "\n",
       "div.header_blue {\n",
       "\tbackground-color: #C9FAFF; \n",
       "\twidth: 100%;\n",
       "\tbox-shadow: 5px 5px 10px 2px #888;\n",
       "\tfont-size: 15px;\n",
       "\tpadding-top: 8px;\n",
       "\tpadding-left: 20px;\n",
       "\tpadding-right: 20px; \n",
       "\tpadding-bottom: 20px;\n",
       "}\n",
       "\n",
       "div.q_blue {\n",
       "\tbackground-color: #C9FAFF;\n",
       "\tborder-color: #A0C4FF;\n",
       "\tborder-left: 5px solid #A0C4FF; \n",
       "\tpadding: 0.5em;\n",
       "}\n",
       "\n",
       "\n",
       "h1 {\n",
       "    text-align: left; \n",
       "    color: black;\n",
       "}\n",
       "\n",
       "h2 { \n",
       "    text-align: left; \n",
       "    color: black;\n",
       "}\n",
       "\n",
       "</style>\n"
      ],
      "text/plain": [
       "<IPython.core.display.HTML object>"
      ]
     },
     "execution_count": 1,
     "metadata": {},
     "output_type": "execute_result"
    }
   ],
   "source": [
    "################################\n",
    "#        RUN THIS CELL\n",
    "################################\n",
    "from IPython.core.display import HTML\n",
    "HTML(\"style.css\")"
   ]
  },
  {
   "cell_type": "markdown",
   "metadata": {
    "button": false,
    "new_sheet": false,
    "run_control": {
     "read_only": false
    }
   },
   "source": [
    "\n",
    "<div class='header_orange'>\n",
    "\n",
    "# <img style=\"float: left; padding-right: 10px; width: 60px\" src=\"https://raw.githubusercontent.com/Harvard-IACS/2018-CS109A/master/content/styles/iacs.png\"> AC295/CS287/E-115B: Deep Learning for NLP\n",
    "\n",
    "<br/>\n",
    "<hr color=black>\n",
    "\n",
    "## Homework 1: Language Representations and Modelling\n",
    "### THE ORANGE BOOK\n",
    "\n",
    "**Harvard University**<br/>\n",
    "**Fall 2021**<br/>\n",
    "**Instructor**: Chris Tanner<br/>\n",
    "**Release Date**: September 7 (Tues)<br/>\n",
    "<font color=\"red\">**Due Date**: Sept 20 (Mon) @ 11:59pm (EST)</font>\n",
    "\n",
    "<hr color=black>\n",
    "<center>\n",
    "<div class='quote'>\n",
    "\n",
    "_\"A couple of years ago, on Headland and Delowe, was the start of something good.\"_\n",
    "\n",
    "    André Benjamin (July 9, 1996)\n",
    "</div>\n",
    "</center>\n",
    "</div>"
   ]
  },
  {
   "cell_type": "markdown",
   "metadata": {
    "button": false,
    "new_sheet": false,
    "run_control": {
     "read_only": false
    }
   },
   "source": [
    "<div class='header_orange'>\n",
    "    \n",
    "# OVERVIEW\n",
    "\n",
    "</div>\n",
    "<br/>\n",
    "This assignment spans the content covered in the following lectures:\n",
    "\n",
    "- **Lecture 1:** Course Overview + Intro to NLP\n",
    "- **Lecture 2:** Representations: BoW and TF-IDF \n",
    "- **Lecture 3:** Language Models: n-grams\n",
    "- **Lecture 4:** word2vec\n",
    "\n",
    "You will gain experience with some of the simple yet highly powerful, foundational techniques that dominated NLP before the recent Deep Learning revolution. All of the core concepts behind these earlier approaches (e.g., `BoW`, `TF-IDF`, and `n-grams`) are still relevant and strongly intertwined within the modern, deep learning advances. For example, learning how to (a) _represent_ language on a fine-grain scale (e.g., words) and coarse-grain (e.g., documents); and (b) _model_ language are still the crux of all NLP systems -- but using deep neural networks to do so currently yield the best results to date. This material serves as the backbone for all future work in the course. Moreover, `word2vec` (2013) provides a segue to deep learning, as it was the first, revolutionary neural model in NLP that yielded profound results. It was the catalyst for the deep learning era, and it opened everyone's eyes to the incredible potential of using neural networks for language... again.\n",
    "\n",
    "**Disclaimer:** The dataset that we use for this assignment is a random subset of news articles. These articles may include content that is offensive, disturbing, or insensitive. We apologize if the nature of any of these documents is unsettling to you. Our intent is purely to use real-world data for pedagogical purposes."
   ]
  },
  {
   "cell_type": "markdown",
   "metadata": {
    "button": false,
    "new_sheet": false,
    "run_control": {
     "read_only": false
    }
   },
   "source": [
    "<div class='header_orange'>\n",
    "    \n",
    "# LEARNING OBJECTIVES\n",
    "\n",
    "</div>\n",
    "<br/>\n",
    "\n",
    "The purpose of this homework is to help you:\n",
    "\n",
    "- understand how language can be represented (on a coarse-grained document level and fine-grained word level)\n",
    "- understand the strengths and weaknesses of bag-of-words representations\n",
    "- develop a strong foundation in language _modelling,_ via `n-grams`\n",
    "- discover the profound power of distributed, contextualized word representations (i.e., word embeddings)\n",
    "- deeply understand the previous point by writing from scratch the revolutionary `word2vec` model\n",
    "- gain some initial experience with NLP research by critically reading and summarizing a recent research paper from a top NLP conference.\n",
    "\n",
    "To assist you reach these learning objectives, this homework is structured into three parts:\n",
    "- <span style=\"background-color: #FDFFB6\"><b>Foundation (concepts):</b></span> demonstrate an understanding of the core concepts taught in lectures\n",
    "- <span style=\"background-color: #FFC8C8\"><b>Application (programming):</b></span> gain experience putting that knowledge into practice \n",
    "- <span style=\"background-color: #CAFFBF\"><b>Research (creating new knowledge):</b></span> use your current NLP knowledge and skills to go beyond the course material, to grasp cutting-edge results and to critically accept or challenge that information. This serves as practice for you to research your own NLP interests and to be well-equipped to continuously learn the latest, greatest NLP work."
   ]
  },
  {
   "cell_type": "markdown",
   "metadata": {
    "button": false,
    "new_sheet": false,
    "run_control": {
     "read_only": false
    }
   },
   "source": [
    "<div class='header_orange'>\n",
    "    \n",
    "## SUPPORT\n",
    "\n",
    "</div>\n",
    "\n",
    "- **Supplemental Resources:** See the list of [supplemental resources](https://harvard-iacs.github.io/CS287/supplemental) for a wealth of rich information concerning Machine Learning, NLP, and Math. Some of the courses listed concern the exact topics covered in this homework and lectures.\n",
    "- **Sanity Check cells:** We provide several 'sanity check' cells which allow you to see our expected outputs. You should ensure your code produces the same. <span style=\"background-color: #FDFFB6\"><b>**NOTE:** We are not claiming that passing the sanity check cells indicates that you have _fully_ implemented everything correctly; rather, they provide simple checks to help inform you if you are on the right track.</span>\n",
    "- **Ed**: If you are stuck on anything conceptual (not code) about the content from lectures, please post a question on Ed. This is your community, and please contribute and help each other out. If your questions concern the homework, you can post these on Ed, too, but make sure you are not posting any of your code or solutions in general. If you think you've spotted a bug in our homework questions, or something that needs clarifying, please let us know on Ed! We want to correct these issues ASAP.\n",
    "- **OH:** After having given a wholehearted attempt, if you are having trouble with the homework, please come to Office Hours.\n",
    "- **Classmates:** We have a strict policy about the homeworks being individual. You are free to discuss _concepts_ with one another, to help each other learn the material. However, no student shall ever discuss their solutions or see another student's solutions to any problem. Once you see someone's coding solution, it's nearly impossible to harness that information in a way that you can write your own unique solution. You've been robbed of a learning opportunity and will likely just regurgitate someone else's work. As a reminder, if you want to take a shortcut on any problem by looking online for already-existing solutions, that's permissible, but you must cite your sources. Otherwise, it constitutes cheating. Posting any pieces of this homework online for others to see if a flagrant violation of our academic policy.\n",
    "- **Other:** I want everyone to be and feel fully supported. If there's anything else we, as a teaching staff, can do to further assist in your learning, please let us know. Related, at the end of this homework assignment, you are expected to complete an anonymous feedback form. I urge you to critically and earnestly think about your own learning, communicate to us your thoughts, and to optionally tell us possible adjustments we could make so that you meet our learning expectations and you achieve your own learning goals."
   ]
  },
  {
   "cell_type": "markdown",
   "metadata": {
    "button": false,
    "new_sheet": false,
    "run_control": {
     "read_only": false
    }
   },
   "source": [
    "<div class='header_yellow'>\n",
    "    \n",
    "# 1. FOUNDATION (CONCEPTS) [10 points]\n",
    "\n",
    "</div>\n",
    "<br/>"
   ]
  },
  {
   "cell_type": "markdown",
   "metadata": {
    "button": false,
    "new_sheet": false,
    "run_control": {
     "read_only": false
    }
   },
   "source": [
    "<div class='q_yellow'><b>1.1. BoW [2 points]</b>\n",
    "\n",
    "Let's say we are building a spam classifier, which simply predicts if each email is either spam or not spam. It doesn't matter what our exact model is, but our data is represented by **boolean, bag-of-words (BoW) vector representations**. Specifically, each email is represented as a boolean vector whose length is the size of our vocabulary. Each index of the vector corresponds to a particular word, and it has a value of 1 if the word is present in the input data, and 0 if the word is not present. Our model is able to achieve an accuracy of $S_{1}$.\n",
    "\n",
    "Now, if we change our data's representation such that we simply first remove all stopwords (e.g., the top 1% of the most frequent words, such as 'the', 'and', 'for'), our input vectors will naturally be 1% shorter, as their vocabulary is slightly smaller. Using this data on the aforementioned model yields an accuracy of $S_{2}$.\n",
    "\n",
    "What can you say about the scores $S_{1}$ and $S_{2}$? Which one should be higher (better)? Why?\n",
    "</div>\n"
   ]
  },
  {
   "cell_type": "markdown",
   "metadata": {
    "button": false,
    "new_sheet": false,
    "run_control": {
     "read_only": false
    }
   },
   "source": [
    "YOUR RESPONSE HERE"
   ]
  },
  {
   "cell_type": "markdown",
   "metadata": {
    "button": false,
    "new_sheet": false,
    "run_control": {
     "read_only": false
    }
   },
   "source": [
    "<div class='q_yellow'><b>1.2. TF-IDF [2 points]</b>\n",
    "\n",
    "Let's say we have a corpus of 100,000 documents (academic research papers), and we're hoping to build an app that allows researchers to quickly see which papers are most related to others. (This could be used to help inform which papers one ought to cite when writing a paper). The 'relatedness' score is calculated by representing each document as a TF-IDF embedding, and then we compute the cosine similarity score between it and every other document vector. The app thus has a score for every pairwise combination of documents, and these can be visualized on the screen as a fully-connected graph with edges' lengths being shorter for documents that are more similar to one another.\n",
    "\n",
    "Unfortunately, one of the new employees who works on the app's parsing and data ingestion made a mistake: a random, 50% of the time, the system can't correctly parse any text after the Abstract section. So, our corpus has actually been reduced to having 50% of the research papers in its original, long form. Yet, the other 50% of papers only have the Abstract section and no other text.\n",
    "\n",
    "- How would this affect the app's results, in terms of how related it thinks the documents are (visualized as a graph)?\n",
    "- Do you think long documents would have more accurate document \"neighbors\" or would the Abstract-only documents? Explain.\n",
    "\n",
    "</div>\n"
   ]
  },
  {
   "cell_type": "markdown",
   "metadata": {
    "button": false,
    "new_sheet": false,
    "run_control": {
     "read_only": false
    }
   },
   "source": [
    "YOUR RESPONSE HERE"
   ]
  },
  {
   "cell_type": "markdown",
   "metadata": {
    "button": false,
    "new_sheet": false,
    "run_control": {
     "read_only": false
    }
   },
   "source": [
    "<div class='q_yellow'><b>1.3. n-grams [2 points]</b>\n",
    "\n",
    "**True/False** \n",
    "    \n",
    "Let $w$ and $w'$ represent word types and $d$ is an end-of-sentence padded corpus. If $n_{w}(d) = 1$, then there exists exactly one $w'$ such that $n_{w,w'}(d) = 1$.\n",
    "\n",
    "Remember, the notation $n_{w}(d)$ represents the number of occurrences of word $w$ in corpus $d$. Similarly, $n_{w,w'}(d)$ represents the number of times the bigram $w,w'$ appeared in corpus $d$.\n",
    "</div>\n"
   ]
  },
  {
   "cell_type": "markdown",
   "metadata": {
    "button": false,
    "new_sheet": false,
    "run_control": {
     "read_only": false
    }
   },
   "source": [
    "YOUR RESPONSE HERE"
   ]
  },
  {
   "cell_type": "markdown",
   "metadata": {
    "button": false,
    "new_sheet": false,
    "run_control": {
     "read_only": false
    }
   },
   "source": [
    "<div class='q_yellow'><b>1.4. CBOW [2 points]</b>\n",
    "\n",
    "The CBOW model has two weight matrices:\n",
    "- input layer to the projection layer (V x N)\n",
    "- project layer to the output layer (N X V)\n",
    "\n",
    "What would happen to the results if we tied the weights (i.e., the 1st weight layer and 2nd weight layer are forced to always have the same weights)?\n",
    "</div>\n"
   ]
  },
  {
   "cell_type": "markdown",
   "metadata": {
    "button": false,
    "new_sheet": false,
    "run_control": {
     "read_only": false
    }
   },
   "source": [
    "YOUR RESPONSE HERE"
   ]
  },
  {
   "cell_type": "markdown",
   "metadata": {
    "button": false,
    "new_sheet": false,
    "run_control": {
     "read_only": false
    }
   },
   "source": [
    "<div class='q_yellow'><b>1.5. CBOW-Expanded [2 points]</b>\n",
    "\n",
    "In the typical CBOW architecture, the input words are the context words appearing to the left and right of the target word. If content window size = $N$, then the input vector would be of length $2N$ and **not** include the target word. What would happen to the results if we provided the target word in the input, too. That is, the input would be of size $2N+1$, and the center word would be the target word.\n",
    "</div>\n"
   ]
  },
  {
   "cell_type": "markdown",
   "metadata": {
    "button": false,
    "new_sheet": false,
    "run_control": {
     "read_only": false
    }
   },
   "source": [
    "YOUR RESPONSE HERE"
   ]
  },
  {
   "cell_type": "markdown",
   "metadata": {
    "button": false,
    "new_sheet": false,
    "run_control": {
     "read_only": false
    }
   },
   "source": [
    "<div class='header_pink'>\n",
    "    \n",
    "# 2. APPLICATION (PROGRAMMING) [70 points]\n",
    "\n",
    "</div>\n",
    "\n",
    "\n",
    "# Mini-Google™ aka Mooogle\n",
    "In this programming exercise, we will build a very simple, make-shift \"search engine\" called Mini-Google, or Mooogle for short (cows love it). I'm putting \"search engine\" in quotes because clearly a fully-functioning, effective search engine requires a full host of computer science solutions; although NLP and Information Retrieval (IR) serve as the crux for any powerful search engine, one must also make heavy use of databases, distributed systems, security, data structures and algorithms, human-computer interaction (HCI), etc. Nonetheless, here, you will get a flavor of the work by building a barebones system that illustrates the power and limitations of document-level representations (e.g., `BoW` and `TF-IDF`) and basic word-level representations (e.g., `word2vec` embeddings).\n",
    "\n",
    "### DATA\n",
    "\n",
    "For Mooogle, we have created two datasets for you to use:\n",
    "- `CS287_news_full` which contains approximately 1000 documents from June 2016 and serves as the full corpus. The documents come from one of three news sources:\n",
    "    - New York Times articles (politically liberal)\n",
    "    - Reuters (politically neutral)\n",
    "    - Fox \"News\" (politically conservative)\n",
    "- `CS287_news_sample` which contains just 3 documents sampled from the full corpus. This serves as a toy example for you to do sanity checks. The documents consist of just 1 document from each of NYT, APNews, and Fox.\n",
    "\n",
    "### PANDAS\n",
    "In all homework assignments, including this one, you are free to use `Pandas`. You are not required to use it at all, but it has some highly useful functionality, e.g., its `read_csv()` function, `DataFrame` and `Series` data structures, and its ability to quickly filter/sort/edit data (which is particularly helpful when experimenting and exploring your data)."
   ]
  },
  {
   "cell_type": "markdown",
   "metadata": {
    "button": false,
    "new_sheet": false,
    "run_control": {
     "read_only": false
    }
   },
   "source": [
    "<div class='q_pink'>\n",
    "    \n",
    "**2.1 Tokenization [4 points total]**\n",
    "\n",
    "</div>\n",
    "\n",
    "The first step in any NLP pipeline is **tokenization**. Remember, tokenization is the process of taking a string of text (e.g. sentence, paragraph, document) and splitting it up into meaningful sub-units (e.g., words). This will allow models to process and understand text in the way that humans do -- i.e. one word at a time.\n",
    "\n",
    "Many popular libraries (e.g. [NLTK](https://www.nltk.org/api/nltk.tokenize.html), [SpaCy](https://spacy.io/api/tokenizer), [Keras](https://www.tensorflow.org/api_docs/python/tf/keras/preprocessing/text/Tokenizer)) have their own tokenization function, which we encourage you to use in future problem sets, as well as your research project. However, for this first problem set, we find it most instructive to write the tokenizer from scratch. This will allow us to develop an appreciation of what takes place \"under the hood\" of these great libraries.\n",
    "\n",
    "Our tokenizer will involve the following three steps:\n",
    "- **Lowercasing**: converts all text to lowercase (e.g. `\"The cat ate the fish.\"` -> `\"the cat ate the fish.\"`).  It will allow models to recognize that the first `\"The\"` in the sentence and the second `\"the\"` in the sentence are actually the same word.  \n",
    "- **Punctuation removal**: deletes punctuation (e.g. `\"the cat ate the fish.\"` -> `\"the cat ate the fish\"`) so that characters such as `\".\"`, `\"!\"`, `\"?\"`, etc. not recognized as part of any word. \n",
    "- **Whitespace-splitting**: takes a string of text and segments out the words as a list of strings based on whitespace (e.g. `\"the cat ate the fish\"` -> `[\"the\", \"cat\", \"ate\", \"the\", \"fish\"]`).  "
   ]
  },
  {
   "cell_type": "markdown",
   "metadata": {
    "button": false,
    "new_sheet": false,
    "run_control": {
     "read_only": false
    }
   },
   "source": [
    "Let's start with **lowercasing**. We will use this as an example to show how to complete problems in the programming section of this notebook. In general, when we ask you to write code, you will see a cell like this:"
   ]
  },
  {
   "cell_type": "code",
   "execution_count": null,
   "metadata": {
    "button": false,
    "collapsed": true,
    "new_sheet": false,
    "run_control": {
     "read_only": false
    }
   },
   "outputs": [],
   "source": [
    "def lowercase(text: str) -> str:\n",
    "    raise NotImplementedError() # Replace with code"
   ]
  },
  {
   "cell_type": "markdown",
   "metadata": {
    "button": false,
    "new_sheet": false,
    "run_control": {
     "read_only": false
    }
   },
   "source": [
    "This cell asks you to implement a function named `lowercase()` that takes as input a *string* named `text` and outputs a *string* of lowercased text. If you're not already familiar, you can learn about _typing_ in Python [here](https://docs.python.org/3/library/typing.html). We will _type_ all of the functions we ask you to implement so that you know exactly what goes in and what needs to come out. Your job is to replace `raise NotImplementedError()` with code that accomplishes the desired task. For example, one solution may re-write the above cell as the following:"
   ]
  },
  {
   "cell_type": "code",
   "execution_count": 2,
   "metadata": {
    "button": false,
    "collapsed": true,
    "new_sheet": false,
    "run_control": {
     "read_only": false
    }
   },
   "outputs": [],
   "source": [
    "def lowercase(text: str) -> str:\n",
    "    return text.lower()"
   ]
  },
  {
   "cell_type": "markdown",
   "metadata": {
    "button": false,
    "new_sheet": false,
    "run_control": {
     "read_only": false
    }
   },
   "source": [
    "Then, we can test our function by running the following cell:"
   ]
  },
  {
   "cell_type": "code",
   "execution_count": null,
   "metadata": {
    "button": false,
    "collapsed": true,
    "new_sheet": false,
    "run_control": {
     "read_only": false
    }
   },
   "outputs": [],
   "source": [
    "# evaluation cell\n",
    "lowercase('The cat ate the fish.')"
   ]
  },
  {
   "cell_type": "markdown",
   "metadata": {
    "button": false,
    "new_sheet": false,
    "run_control": {
     "read_only": false
    }
   },
   "source": [
    "<div class='q_pink'>\n",
    "    \n",
    "**2.1a Tokenization: Punctuation Removal [1 point]**\n",
    "\n",
    "Now, implement the **punctuation removal** function below. The function accepts two inputs:\n",
    "- the input string `text`, which is the data from which you will remove punctuation\n",
    "- a `punc` string, which contains punctuation characters all concatenated together, each of which we want to remove from `text` (**Hint:** you might find Python's built-in functions [`str.replace`](https://www.w3schools.com/python/ref_string_replace.asp), [`str.translate`](https://www.w3schools.com/python/ref_string_translate.asp), or [`ord`](https://www.w3schools.com/python/ref_func_ord.asp) to be helpful)\n",
    "\n",
    "Your function should return `text` with the punctuation removed. **NOTE:** This function has nothing to do with lowercasing, so please do not change the casing of your input text. And, as you can see from the sanity check, you should be _removing_ punctuation, not _replacing_ it with whitespaces.\n",
    "</div>"
   ]
  },
  {
   "cell_type": "code",
   "execution_count": null,
   "metadata": {
    "button": false,
    "collapsed": true,
    "new_sheet": false,
    "run_control": {
     "read_only": false
    }
   },
   "outputs": [],
   "source": [
    "def remove_punc(text: str, punc: str) -> str:\n",
    "    raise NotImplementedError() # TODO"
   ]
  },
  {
   "cell_type": "markdown",
   "metadata": {
    "button": false,
    "new_sheet": false,
    "run_control": {
     "read_only": false
    }
   },
   "source": [
    "As a sanity check, run the test cell below, which should output 'the cat ate the fish'. **Remember:** we are not claiming that passing the following test indicates that you have _fully_ implemented everything correctly; rather, it's a simple check to help inform you if you are on the right track."
   ]
  },
  {
   "cell_type": "code",
   "execution_count": 6,
   "metadata": {
    "button": false,
    "new_sheet": false,
    "run_control": {
     "read_only": false
    }
   },
   "outputs": [
    {
     "data": {
      "text/plain": [
       "\"the cat ate the fish that's wild\""
      ]
     },
     "execution_count": 6,
     "metadata": {},
     "output_type": "execute_result"
    }
   ],
   "source": [
    "# sanity check cell\n",
    "punc = '!\"#$%&()*+,-./:;<=>?@[\\\\]^_`{|}~—“”'\n",
    "\n",
    "# should return 'the cat ate the fish that's wild'\n",
    "remove_punc('the cat ate the fish?!! that\\'s wild!', punc) "
   ]
  },
  {
   "cell_type": "markdown",
   "metadata": {
    "button": false,
    "new_sheet": false,
    "run_control": {
     "read_only": false
    }
   },
   "source": [
    "Once you are convinced that your code is correct, simply run the evaluation cell below to remove the punctuation from a more difficult string of text. **NOTE: DO NOT EDIT THE CELL BELOW.** You will be evaluated on the correctness of the cell's outputs."
   ]
  },
  {
   "cell_type": "code",
   "execution_count": null,
   "metadata": {
    "button": false,
    "collapsed": true,
    "new_sheet": false,
    "run_control": {
     "read_only": false
    }
   },
   "outputs": [],
   "source": [
    "# evaluation cell\n",
    "punc = '!\"#$%&()*+,-./:;<=>?@[\\\\]^_`{|}~—“”'\n",
    "remove_punc('Passwords, they say, must include a special character like !#$ or & but I think * is not allowed, right?!', punc)"
   ]
  },
  {
   "cell_type": "markdown",
   "metadata": {
    "button": false,
    "new_sheet": false,
    "run_control": {
     "read_only": false
    }
   },
   "source": [
    "<div class='q_pink'>\n",
    "    \n",
    "**2.1b Tokenization: Whitespace Splitting [1 point]**\n",
    "    \n",
    "OK, now let's try **whitespace-splitting**. Implement the following `split_on_whitespace()` function which simply takes as input a `text` string and outputs a list of words that have been delimited by _whitespace_. Note, this should handle any whitespace, including tabs, carriage returns, newline characters, and spaces.\n",
    "\n",
    "</div>"
   ]
  },
  {
   "cell_type": "code",
   "execution_count": null,
   "metadata": {
    "button": false,
    "collapsed": true,
    "new_sheet": false,
    "run_control": {
     "read_only": false
    }
   },
   "outputs": [],
   "source": [
    "from typing import List\n",
    "\n",
    "def split_on_whitespace(text: str) -> List[str]:\n",
    "    raise NotImplementedError() # TODO"
   ]
  },
  {
   "cell_type": "markdown",
   "metadata": {
    "button": false,
    "new_sheet": false,
    "run_control": {
     "read_only": false
    }
   },
   "source": [
    "As a sanity check, run the test cell below, which should output `['the', 'cat', 'ate', 'the', 'fish']`. **Remember:** we are not claiming that passing the following test indicates that you have _fully_ implemented everything correctly; rather, it's a simple check to help inform you if you are on the right track."
   ]
  },
  {
   "cell_type": "code",
   "execution_count": 9,
   "metadata": {
    "button": false,
    "new_sheet": false,
    "run_control": {
     "read_only": false
    }
   },
   "outputs": [
    {
     "data": {
      "text/plain": [
       "['the', 'cat', 'ate', 'the', 'fish']"
      ]
     },
     "execution_count": 9,
     "metadata": {},
     "output_type": "execute_result"
    }
   ],
   "source": [
    "# sanity check cell\n",
    "split_on_whitespace('the\\tcat\\n ate\\rthe     fish')"
   ]
  },
  {
   "cell_type": "markdown",
   "metadata": {
    "button": false,
    "new_sheet": false,
    "run_control": {
     "read_only": false
    }
   },
   "source": [
    "Once you are convinced that your code is correct, simply run the evaluation cell below to create a vocabulary for the full corpus. **NOTE: DO NOT EDIT THE CELL BELOW.** You will be evaluated on the correctness of the cell's outputs."
   ]
  },
  {
   "cell_type": "code",
   "execution_count": null,
   "metadata": {
    "button": false,
    "collapsed": true,
    "new_sheet": false,
    "run_control": {
     "read_only": false
    }
   },
   "outputs": [],
   "source": [
    "# evaluation cell\n",
    "tmp_text = \"It goes without saying that regular maintenance is key to the good looks of the Old Yard’s most popular resident who is nearing 140 and has endured much at the hands of visitors and vandals.  \\\n",
    "\\\n",
    "The iconic John Harvard Statue, modeled after a student from the 19th century (not the 17th-century English minister and generous College benefactor, John Harvard), receives occasional washings by Harvard’s Landscape Services team, but last month he had a kind of statuary spa treatment.\"\n",
    "split_on_whitespace(tmp_text)"
   ]
  },
  {
   "cell_type": "markdown",
   "metadata": {
    "button": false,
    "new_sheet": false,
    "run_control": {
     "read_only": false
    }
   },
   "source": [
    "<div class='q_pink'>\n",
    "    \n",
    "**2.1c Tokenization: The full process [1 point]**\n",
    "\n",
    "Implement the following `tokenize()` function by chaining together the aforementioned three steps -- lowercase, punctuation removal, and whitespace-splitting -- and returns the list of string tokens. You can make use of the functions you've already written, if you wish. Then, test the function to ensure that it works.\n",
    "</div>"
   ]
  },
  {
   "cell_type": "code",
   "execution_count": null,
   "metadata": {
    "button": false,
    "collapsed": true,
    "new_sheet": false,
    "run_control": {
     "read_only": false
    }
   },
   "outputs": [],
   "source": [
    "punc = '!\"#$%&()*+,-./:;<=>?@[\\\\]^_`{|}~—“”'\n",
    "def tokenize(text: str, punc: str) -> List[str]:\n",
    "    raise NotImplementedError() # TODO"
   ]
  },
  {
   "cell_type": "markdown",
   "metadata": {
    "button": false,
    "new_sheet": false,
    "run_control": {
     "read_only": false
    }
   },
   "source": [
    "As a sanity check, run the test cell below, which should output `['the', 'cat', 'ate', 'the', 'fish']`. \n",
    "\n",
    "**Remember:** we are not claiming that passing the following test indicates that you have _fully_ implemented everything correctly; rather, it's a simple check to help inform you if you are on the right track. <span style=\"background-color: #FDFFB6\">So as to minimize the annoyance and extraneous text, I will refrain from reminding you of this disclaimer on the subsequent \"sanity check\" cells.</span>"
   ]
  },
  {
   "cell_type": "code",
   "execution_count": 13,
   "metadata": {
    "button": false,
    "new_sheet": false,
    "run_control": {
     "read_only": false
    }
   },
   "outputs": [
    {
     "data": {
      "text/plain": [
       "['the', 'cat', 'ate', 'the', 'fish']"
      ]
     },
     "execution_count": 13,
     "metadata": {},
     "output_type": "execute_result"
    }
   ],
   "source": [
    "# sanity check cell\n",
    "tokenize('The cat\\t\\tate the fish?!', punc) "
   ]
  },
  {
   "cell_type": "markdown",
   "metadata": {
    "button": false,
    "new_sheet": false,
    "run_control": {
     "read_only": false
    }
   },
   "source": [
    "Run the evaluation cell below to test your `tokenize()` function. **NOTE: DO NOT EDIT THE CELL BELOW.** You will be evaluated on the correctness of the cell's outputs. <span style=\"background-color: #FDFFB6\">Similarly, all \"evaluation cells\" serve this purpose, and I will now refrain from describing such on the subsequent \"evaluation\" cells."
   ]
  },
  {
   "cell_type": "code",
   "execution_count": null,
   "metadata": {
    "button": false,
    "collapsed": true,
    "new_sheet": false,
    "run_control": {
     "read_only": false
    }
   },
   "outputs": [],
   "source": [
    "tmp_text = \"It goes without saying that regular maintenance is key to the good looks of the Old Yard’s most popular resident who is nearing 140 and has endured much at the hands of visitors and vandals.  \\\n",
    "\\\n",
    "The iconic John Harvard Statue, modeled after a student from the 19th century (not the 17th-century English minister and generous College benefactor, John Harvard), receives occasional washings by Harvard’s Landscape Services team, but last month he had a kind of statuary spa treatment.\"\n",
    "\n",
    "tokens = tokenize(tmp_text, punc)\n",
    "print(\"tokens:\", tokens)\n",
    "print(\"# tokens:\", len(tokens))\n",
    "print(\"contains check #3:\", \"yard’s\" in tokens)\n",
    "print(\"contains check #1:\", \"17thcentury\" in tokens)\n",
    "print(\"contains check #2:\", \"17th\" in tokens)\n",
    "print(\"contains check #4:\", \"It\" in tokens)\n",
    "print(\"contains check #5:\", \" statue,\" in tokens)"
   ]
  },
  {
   "cell_type": "markdown",
   "metadata": {
    "button": false,
    "new_sheet": false,
    "run_control": {
     "read_only": false
    }
   },
   "source": [
    "Above, you should see that `tmp_text` contains a funky apostrophe, `’` that we did not include in our punctuation list. This was deliberate, as it illustrates how it can be difficult to anticipate all of the nuanced characters and situations that one may encounter in raw text. This is exacerbated by having multiple character encodings. Thus, in practice, it can take a long time to write from scratch a parser that perfectly parses (e.g., tokenizes) your desired input data. As mentioned, fortunately many popular libraries (e.g. [NLTK](https://www.nltk.org/api/nltk.tokenize.html), [SpaCy](https://spacy.io/api/tokenizer), [Keras](https://www.tensorflow.org/api_docs/python/tf/keras/preprocessing/text/Tokenizer)) have their own tokenization functions, which often works sufficiently well for one's data."
   ]
  },
  {
   "cell_type": "markdown",
   "metadata": {
    "button": false,
    "new_sheet": false,
    "run_control": {
     "read_only": false
    }
   },
   "source": [
    "<div class='q_pink'>\n",
    "    \n",
    "**2.1d Load Corpus [1 point]**\n",
    "\n",
    "Now, you will use your `tokenize()` function on some real data. Implement the following `load_corpus()` function, which: takes as input (a) the name of a file containing news articles, and (b) a string of punctuation symbols; loads the file's contents into memory; and returns as output a dictionary of tokenized documents. The _key_ of the dictionary should be the document id and the _value_ will be the tokenized list of words in the document.\n",
    "\n",
    "**NOTE:** Below, we import `pandas` for you. You are not required to use `pandas`, but in this homework you might find it highly useful (e.g., for its `read_csv()` function, `DataFrame` and `Series` data structures, etc).\n",
    "</div>"
   ]
  },
  {
   "cell_type": "code",
   "execution_count": null,
   "metadata": {
    "button": false,
    "collapsed": true,
    "new_sheet": false,
    "run_control": {
     "read_only": false
    }
   },
   "outputs": [],
   "source": [
    "from typing import Tuple, Dict\n",
    "import pandas as pd\n",
    "\n",
    "def load_corpus(filename: str, punc: str) -> Dict[int, List[str]]:\n",
    "    raise NotImplementedError() # TODO"
   ]
  },
  {
   "cell_type": "markdown",
   "metadata": {
    "button": false,
    "new_sheet": false,
    "run_control": {
     "read_only": false
    }
   },
   "source": [
    "As a sanity check, run the cell below to load the `CS287_news_sample` corpus. It should return a dictionary that has three keys: `20621, 84549, 189782`. The value for the key `20621` should be a list of strings, which starts as `['rome', 'among', 'the', 'bureaucrats', ...]`."
   ]
  },
  {
   "cell_type": "code",
   "execution_count": 16,
   "metadata": {
    "button": false,
    "editable": false,
    "new_sheet": false,
    "run_control": {
     "read_only": false
    }
   },
   "outputs": [
    {
     "name": "stdout",
     "output_type": "stream",
     "text": [
      "['rome', 'among', 'the', 'bureaucrats', 'of', 'the', 'european', 'union', 'it', 'is', 'an', 'article', 'of', 'faith', 'that', 'the', 'bloc', 'always', 'emerges', 'stronger']\n"
     ]
    }
   ],
   "source": [
    "# sanity check cell\n",
    "samp_tokenized = load_corpus('CS287_news_sample.csv', punc)\n",
    "print(samp_tokenized[20621][:20])"
   ]
  },
  {
   "cell_type": "markdown",
   "metadata": {
    "button": false,
    "new_sheet": false,
    "run_control": {
     "read_only": false
    }
   },
   "source": [
    "Once you are convinced that your code is correct, simply run (i.e., **DO NOT EDIT**) the cell below to parse the full corpus and output particular samples from it."
   ]
  },
  {
   "cell_type": "code",
   "execution_count": null,
   "metadata": {
    "button": false,
    "collapsed": true,
    "editable": false,
    "new_sheet": false,
    "run_control": {
     "read_only": false
    }
   },
   "outputs": [],
   "source": [
    "# evaluation cell\n",
    "full_tokenized = load_corpus('CS287_news_full.csv', punc)\n",
    "print(type(full_tokenized))\n",
    "print(type(full_tokenized[20516]))\n",
    "print(\"# docs:\", len(full_tokenized.keys()))\n",
    "print(\"length of doc 20516:\", len(full_tokenized[20516]))\n",
    "print(full_tokenized[20516][:20])\n",
    "print(full_tokenized[23230][-20:])"
   ]
  },
  {
   "cell_type": "markdown",
   "metadata": {
    "button": false,
    "new_sheet": false,
    "run_control": {
     "read_only": false
    }
   },
   "source": [
    "<div class='q_pink'>\n",
    "    \n",
    "**2.2 Bag-of-words [6 points total]**\n",
    "\n",
    "</div>\n",
    "\n",
    "Now, we analyze our corpus by creating *vector representations* of each document. These vector representations will allow us to work with documents as numerical data, compare them to one another, and hopefully design a useful information retrieval system.  \n",
    "\n",
    "The first vector representation we will examine is **bag-of-words** (BoW). Here, in BoW, the dimension of each vector should represents the number of times a particular word occurs in a document.\n",
    "\n",
    "\n",
    "<div class='q_pink'>\n",
    "    \n",
    "**2.2a Word Mapping [1 point]**\n",
    "\n",
    "To start, we need to create a **vocabulary** that maps words to the indices of a vector. Implement the following `create_vocab()` function, which takes as input our `load_corpus()`'s output dictionary and returns a dictionary that maps each unique word in the corpus to a unique integer *index*. The returned dictionary should satisfy the following properties:\n",
    "- Each word is mapped to a number between $0$ and $V - 1$, inclusive, where $V$ is the number of unique words in the corpus.\n",
    "- Words with higher frequency across the corpus should have smaller indices; i.e. the most frequent word should have index $0$ and the least frequent word should have index $V - 1$.  Feel free to break ties arbitrarily.\n",
    "</div>"
   ]
  },
  {
   "cell_type": "code",
   "execution_count": null,
   "metadata": {
    "button": false,
    "collapsed": true,
    "new_sheet": false,
    "run_control": {
     "read_only": false
    }
   },
   "outputs": [],
   "source": [
    "def create_vocab(tokenized_texts: Dict[int, List[str]]) -> Dict[str, int]:\n",
    "    raise NotImplementedError() # TODO"
   ]
  },
  {
   "cell_type": "markdown",
   "metadata": {
    "button": false,
    "new_sheet": false,
    "run_control": {
     "read_only": false
    }
   },
   "source": [
    "As a sanity check, run the test cell below, which should output a dictionary with 1147 distinct keys (0 through 1146)."
   ]
  },
  {
   "cell_type": "code",
   "execution_count": 19,
   "metadata": {
    "button": false,
    "editable": false,
    "new_sheet": false,
    "run_control": {
     "read_only": false
    }
   },
   "outputs": [
    {
     "name": "stdout",
     "output_type": "stream",
     "text": [
      "{'the': 0, 'of': 1, 'to': 2, 'and': 3, 'in': 4, 'a': 5, 'for': 6, 'that': 7, 'is': 8, 'european': 9, 'has': 10, 'it': 11, 'on': 12, 'but': 13, 'as': 14, 'not': 15, 'said': 16, 'union': 17, 'from': 18, 'are': 19, 'have': 20, 'an': 21, 'by': 22, 'was': 23, 'he': 24, 'ryan': 25, 'europe': 26, 'with': 27, 'we': 28, 'zika': 29, 'would': 30, 'countries': 31, 'trump': 32, 'bloc': 33, 'who': 34, 'into': 35, 'britain': 36, 'its': 37, 'political': 38, 'had': 39, 'crisis': 40, 'this': 41, 'currency': 42, 'at': 43, 'u': 44, 'more': 45, 'his': 46, 'be': 47, 'could': 48, 'british': 49, 'euro': 50, 'economic': 51, 'health': 52, 'semen': 53, 'study': 54, 'which': 55, 'also': 56, 'even': 57, 'or': 58, 'than': 59, 'officials': 60, 'after': 61, 'will': 62, 's': 63, 'virus': 64, 'bloc’s': 65, 'out': 66, 'politics': 67, 'germany': 68, 'long': 69, 'some': 70, 'new': 71, 'other': 72, 'national': 73, 'their': 74, 'most': 75, 'men': 76, 'help': 77, 'sex': 78, 'one': 79, 'whether': 80, 'greece': 81, 'through': 82, 'policy': 83, 'been': 84, 'what': 85, 'eurozone': 86, 'during': 87, 'between': 88, 'public': 89, 'support': 90, 'house': 91, 'republican': 92, 'endorsement': 93, 'among': 94, 'six': 95, 'thursday': 96, 'when': 97, 'considered': 98, 'can': 99, 'debt': 100, 'how': 101, 'still': 102, 'parties': 103, 'france': 104, 'campaign': 105, 'member': 106, 'very': 107, 'director': 108, 'made': 109, 'people': 110, 'such': 111, 'months': 112, 'brussels': 113, 'analysts': 114, 'last': 115, 'she': 116, 'over': 117, 'wait': 118, 'tweeted': 119, 'agenda': 120, 'about': 121, 'feel': 122, 'including': 123, 'i': 124, 'infected': 125, 'sexual': 126, 'risk': 127, 'dr': 128, 'always': 129, 'now': 130, 'voters': 131, 'latest': 132, 'toward': 133, 'if': 134, 'does': 135, 'leave': 136, 'handling': 137, 'past': 138, 'decade': 139, 'time': 140, 'continent': 141, 'many': 142, 'badly': 143, 'institutions': 144, 'like': 145, 'vote': 146, 'states': 147, 'hungary': 148, 'all': 149, 'being': 150, 'they': 151, 'so': 152, 'happened': 153, 'years': 154, 'those': 155, 'integration': 156, 'partners': 157, 'greek': 158, 'ideas': 159, 'before': 160, 'just': 161, 'migrants': 162, 'since': 163, 'believe': 164, 'president': 165, 'say': 166, 'until': 167, 'you': 168, 'speech': 169, 'women': 170, 'nominee': 171, 'announcement': 172, 'voting': 173, 'i’ll': 174, 'ryan’s': 175, 'short': 176, 'we’re': 177, 'buck': 178, 'wrote': 179, 'no': 180, 'unprotected': 181, 'recommendation': 182, 'funding': 183, 'transmission': 184, 'going': 185, 'infection': 186, 'tuesday': 187, 'ago': 188, 'nations': 189, 'forward': 190, 'english': 191, 'establishment': 192, 'politicians': 193, 'may': 194, 'crises': 195, 'standoff': 196, 'migration': 197, 'each': 198, 'ugly': 199, 'angry': 200, 'across': 201, 'agree': 202, 'left': 203, 'way': 204, 'perceived': 205, 'while': 206, 'fully': 207, 'problems': 208, 'west': 209, 'potentially': 210, 'experts': 211, 'change': 212, 'zone': 213, 'meant': 214, 'nearly': 215, 'lost': 216, 'southern': 217, 'continue': 218, 'prime': 219, 'minister': 220, 'move': 221, 'united': 222, 'poland': 223, 'xenophobia': 224, 'remaining': 225, 'easy': 226, 'moment': 227, 'tilford': 228, 'deputy': 229, 'mr': 230, 'union’s': 231, 'benefits': 232, 'helped': 233, 'lots': 234, 'because': 235, 'join': 236, 'common': 237, 'drive': 238, 'system': 239, 'ability': 240, 'spending': 241, 'inevitably': 242, 'differences': 243, 'recovered': 244, 'were': 245, 'led': 246, 'became': 247, 'solution': 248, 'austerity': 249, 'outside': 250, 'members': 251, 'power': 252, 'followed': 253, 'populist': 254, 'aside': 255, 'tsipras': 256, 'clash': 257, 'against': 258, 'cultures': 259, 'greece’s': 260, 'there': 261, 'lot': 262, 'german': 263, 'mainstream': 264, 'year': 265, 'thousands': 266, 'refugees': 267, 'response': 268, 'under': 269, 'week': 270, 'little': 271, 'different': 272, 'force': 273, 'growing': 274, 'warned': 275, 'donald': 276, 'need': 277, 'away': 278, 'world': 279, 'up': 280, 'improve': 281, 'reforms': 282, 'further': 283, 'needed': 284, 'remains': 285, 'elections': 286, 'then': 287, 'see': 288, 'mother': 289, 'lives': 290, 'presidential': 291, 'office': 292, 'fall': 293, 'confident': 294, 'turn': 295, 'laws': 296, 'any': 297, 'back': 298, 'likely': 299, 'held': 300, 'gain': 301, 'though': 302, 'playing': 303, 'word': 304, 'games': 305, 'free': 306, 'call': 307, 'conversations': 308, 'issues': 309, 'enact': 310, 'our': 311, 'fox': 312, 'news': 313, 'weeks': 314, 'initiatives': 315, 'congress': 316, 'hillary': 317, 'clinton': 318, 'don’t': 319, 'follow': 320, 'report': 321, 'meantime': 322, 'couples': 323, 'refrain': 324, '62': 325, 'days': 326, 'along': 327, 'potential': 328, 'reach': 329, 'can’t': 330, 'money': 331, 'earmarked': 332, 'institute': 333, 'infectious': 334, 'brazil': 335, 'colombia': 336, 'determine': 337, 'interview': 338, 'get': 339, 'spread': 340, 'viruses': 341, 'least': 342, 'reported': 343, 'outbreak': 344, 'mosquito': 345, 'disease': 346, 'survived': 347, 'case': 348, 'similar': 349, 'cdc': 350, 'where': 351, 'include': 352, 'condoms': 353, 'chris': 354, 'personal': 355, 'priorities': 356, 'projects': 357, 'development': 358, 'detected': 359, 'experience': 360, 'symptoms': 361, 'urine': 362, 'researchers': 363, 'ebola': 364, 'medicine': 365, 'jersey': 366, 'rome': 367, 'bureaucrats': 368, 'article': 369, 'faith': 370, 'emerges': 371, 'stronger': 372, 'idealistic': 373, 'founders': 374, 'decades': 375, 'dreamed': 376, 'stitching': 377, 'warring': 378, 'peaceful': 379, 'whole': 380, 'knew': 381, 'path': 382, 'bumpy': 383, 'wobbled': 384, 'dream': 385, 'integrated': 386, 'sink': 387, 'channel': 388, 'decide': 389, 'abandon': 390, 'peculiarly': 391, 'affair': 392, 'villains': 393, 'opportunistic': 394, 'steering': 395, 'delusional': 396, 'mistake': 397, 'blame': 398, 'own': 399, 'tribulations': 400, 'flawed': 401, 'approach': 402, 'rammed': 403, 'fixes': 404, 'only': 405, 'inflamed': 406, 'nationalism': 407, 'spreading': 408, 'result': 409, 'almost': 410, 'ad': 411, 'hoc': 412, 'management': 413, 'admirers': 414, 'wounded': 415, 'reputation': 416, 'damaged': 417, 'idealism': 418, 'given': 419, 'disillusionment': 420, 'elite': 421, 'technocrats': 422, 'often': 423, 'touch': 424, 'equipped': 425, 'address': 426, 'unemployment': 427, 'stagnation': 428, 'solidarity': 429, 'dissolving': 430, 'regional': 431, 'divisions': 432, 'east': 433, 'north': 434, 'south': 435, 'implications': 436, 'exit': 437, 'brexit': 438, 'staggering': 439, 'regardless': 440, 'must': 441, 'structure': 442, 'fragile': 443, 'much': 444, 'struggling': 445, 'recover': 446, 'cannot': 447, 'status': 448, 'quo': 449, 'enrico': 450, 'letta': 451, 'former': 452, 'italian': 453, 'gotten': 454, 'mean': 455, 'gaining': 456, 'strength': 457, 'austria': 458, 'same': 459, 'nasty': 460, 'tenor': 461, 'infused': 462, 'hostility': 463, 'immigrants': 464, 'killing': 465, 'jo': 466, 'cox': 467, 'parliament': 468, 'campaigned': 469, 'shocked': 470, 'simon': 471, 'center': 472, 'reform': 473, 'london': 474, 'grim': 475, 'stuff': 476, 'falls': 477, 'interesting': 478, 'camp': 479, 'outspoken': 480, 'critic': 481, 'woes': 482, 'yet': 483, 'strongly': 484, 'supports': 485, 'britain’s': 486, 'far': 487, 'outweigh': 488, 'disadvantages': 489, 'argues': 490, 'realizes': 491, 'failures': 492, 'legitimize': 493, 'arguments': 494, 'want': 495, 'easier': 496, 'them': 497, 'portray': 498, 'e': 499, 'failure': 500, 'become': 501, 'euroskeptics': 502, 'recent': 503, '1990s': 504, 'already': 505, 'considering': 506, 'drop': 507, 'pound': 508, 'adopting': 509, 'today': 510, '19': 511, '28': 512, 'share': 513, 'financial': 514, 'markets': 515, '1992': 516, 'effectively': 517, 'settled': 518, 'matter': 519, 'decided': 520, 'changing': 521, 'skeptical': 522, 'using': 523, 'closer': 524, 'argued': 525, 'joining': 526, 'limit': 527, 'flexibility': 528, 'devalue': 529, 'downturns': 530, 'use': 531, 'deficit': 532, 'encourage': 533, 'growth': 534, 'arise': 535, 'stark': 536, 'sharing': 537, 'proved': 538, 'true': 539, 'plunged': 540, 'cycle': 541, 'disparities': 542, 'exposed': 543, 'save': 544, 'northern': 545, 'bailed': 546, 'desperate': 547, 'counterparts': 548, 'divided': 549, 'debtors': 550, 'creditors': 551, 'rather': 552, 'equal': 553, 'economics': 554, 'inflicted': 555, 'heavy': 556, 'punishment': 557, 'quickly': 558, '2008': 559, 'did': 560, 'group': 561, 'shifted': 562, 'powerhouse': 563, 'steadily': 564, 'accrued': 565, 'inside': 566, 'resentment': 567, 'gradually': 568, 'especially': 569, 'weakest': 570, 'indebted': 571, 'anger': 572, 'erupted': 573, 'january': 574, '2015': 575, 'swept': 576, 'country’s': 577, 'elected': 578, 'radical': 579, 'leftist': 580, 'alexis': 581, 'promised': 582, 'end': 583, 'write': 584, 'down': 585, 'leading': 586, 'consensus': 587, 'theater': 588, 'greeks': 589, 'misplay': 590, 'hand': 591, 'refused': 592, 'budge': 593, 'obligations': 594, 'negotiation': 595, 'brinkmanship': 596, 'collapsed': 597, 'bankruptcy': 598, 'acceding': 599, 'demands': 600, 'demonstration': 601, 'penchant': 602, 'muddling': 603, 'agreed': 604, 'bailout': 605, 'package': 606, 'regard': 607, 'stopgap': 608, 'higher': 609, 'warn': 610, 'another': 611, 'occur': 612, 'criticism': 613, 'daniela': 614, 'schwarzer': 615, 'program': 616, 'marshall': 617, 'fund': 618, 'berlin': 619, 'bleeds': 620, 'perception': 621, 'functioning': 622, 'properly': 623, 'ineffectiveness': 624, 'levels': 625, 'emboldened': 626, 'right': 627, 'seized': 628, 'images': 629, 'hundreds': 630, 'pouring': 631, 'provoke': 632, 'anxiety': 633, 'began': 634, 'erecting': 635, 'fences': 636, 'block': 637, 'despite': 638, 'open': 639, 'borders': 640, 'leaders': 641, 'struggled': 642, 'mount': 643, 'coherent': 644, 'chancellor': 645, 'angela': 646, 'merkel’s': 647, 'popularity': 648, 'plummeted': 649, 'opened': 650, 'syrian': 651, 'tightened': 652, 'restrictions': 653, 'championed': 654, 'controversial': 655, 'deal': 656, 'turkey': 657, 'sharply': 658, 'reduced': 659, 'migrant': 660, 'flow': 661, 'referendum': 662, 'forces': 663, 'sought': 664, 'depicting': 665, 'invasion': 666, 'poster': 667, 'unveiled': 668, 'nigel': 669, 'farage': 670, 'k': 671, 'independence': 672, 'party': 673, 'leader': 674, 'showed': 675, 'parade': 676, 'pilloried': 677, 'blatant': 678, 'propaganda': 679, 'should': 680, 'remain': 681, 'emerge': 682, 'powerful': 683, 'clout': 684, 'changes': 685, 'necessary': 686, 'top': 687, 'recognition': 688, 'europe’s': 689, 'misjudged': 690, 'appetite': 691, 'rapid': 692, 'specter': 693, 'breakup': 694, 'haunting': 695, 'tusk': 696, 'council': 697, 'comprises': 698, 'heads': 699, 'state': 700, 'understand': 701, 'necessity': 702, 'historical': 703, 'forget': 704, 'audacious': 705, 'experiment': 706, 'wash': 707, 'antagonisms': 708, 'war': 709, 'ii': 710, 'build': 711, 'unity': 712, 'required': 713, 'putting': 714, 'ancient': 715, 'rivalry': 716, 'binding': 717, 'together': 718, 'languages': 719, 'economies': 720, 'generations': 721, '1980s': 722, '2000s': 723, 'saw': 724, 'expanding': 725, 'brought': 726, 'tangible': 727, 'borderless': 728, 'travel': 729, 'job': 730, 'educational': 731, 'mobility': 732, 'within': 733, 'rising': 734, 'prosperity': 735, 'poorly': 736, 'governed': 737, 'came': 738, 'pressure': 739, 'expanded': 740, 'unwieldy': 741, 'frictions': 742, 'arose': 743, 'old': 744, 'resentments': 745, 'never': 746, 'scrubbed': 747, 'tensions': 748, 'increased': 749, 'governments': 750, 'sovereignty': 751, 'space': 752, 'deep': 753, 'possible': 754, 'powers': 755, 'advocates': 756, 'likelihood': 757, 'undertaking': 758, 'significant': 759, 'slim': 760, '2017': 761, 'doing': 762, 'something': 763, 'bold': 764, 'spur': 765, 'electoral': 766, 'backlash': 767, 'possibly': 768, 'humanism': 769, 'champion': 770, 'human': 771, 'rights': 772, 'democracy': 773, 'freedom': 774, 'pope': 775, 'francis': 776, 'asked': 777, 'month': 778, 'acceptance': 779, 'charlemagne': 780, 'prize': 781, 'awarded': 782, 'service': 783, 'unification': 784, 'added': 785, 'peoples': 786, 'great': 787, 'upheld': 788, 'sacrificed': 789, 'dignity': 790, 'brothers': 791, 'sisters': 792, 'speaker': 793, 'paul': 794, 'presumptive': 795, 'amounts': 796, 'column': 797, 'janesville': 798, 'gazette': 799, 'speaker’s': 800, 'hometown': 801, 'paper': 802, 'preference': 803, 'realdonaldtrump': 804, 'i’m': 805, 'gop’s': 806, 'https': 807, 'ends': 808, 'speculation': 809, 'off': 810, 'issuing': 811, 'formal': 812, 'saying': 813, 'business': 814, 'magnate': 815, 'appeared': 816, 'number': 817, 'delegates': 818, 'win': 819, 'nomination': 820, 'primary': 821, 'opponents': 822, 'suspended': 823, 'campaigns': 824, 'seemed': 825, 'stop': 826, 'clarified': 827, 'fact': 828, 'getting': 829, 'behind': 830, 'chief': 831, 'communications': 832, 'adviser': 833, 'brendan': 834, 'various': 835, 'gop': 836, 'seal': 837, 'headlines': 838, '2016': 839, 'biggest': 840, 'name': 841, 'coverage': 842, '→': 843, 'these': 844, 'us': 845, 'people’s': 846, 'that’s': 847, 'why': 848, 'him': 849, 'wisconsin': 850, 'representative': 851, 'acknowledged': 852, 'odds': 853, 'it’s': 854, 'secret': 855, 'won’t': 856, 'pretend': 857, 'otherwise': 858, 'speak': 859, 'my': 860, 'mind': 861, 'reality': 862, 'make': 863, 'ground': 864, 'disagreement': 865, 'criticized': 866, 'range': 867, 'statements': 868, 'york': 869, 'billionaire': 870, 'proposed': 871, 'ban': 872, 'muslims': 873, 'entering': 874, 'two': 875, 'private': 876, 'summit': 877, 'washington': 878, 'stopped': 879, 'backing': 880, 'meeting': 881, 'inevitable': 882, 'told': 883, 'comes': 884, 'begins': 885, 'rolling': 886, 'series': 887, 'next': 888, 'several': 889, 'none': 890, 'expected': 891, 'current': 892, 'democratic': 893, 'deliver': 894, 'foreign': 895, 'timing': 896, 'merely': 897, 'happenstance': 898, 'fun': 899, 'coincidence': 900, 'wasn’t': 901, 'timed': 902, 'her': 903, 'sched': 904, 'closely': 905, 'aide': 906, 'video': 907, 'forthcoming': 908, 'talking': 909, 'news’': 910, 'chad': 911, 'pergram': 912, 'contributed': 913, 'male': 914, 'partner': 915, 'extraordinary': 916, 'based': 917, 'single': 918, 'surviving': 919, 'affect': 920, 'millions': 921, 'grave': 922, 'risks': 923, 'associated': 924, 'driving': 925, 'authorities': 926, 'pursue': 927, 'research': 928, 'mired': 929, 'congressional': 930, 'gridlock': 931, 'example': 932, 'science': 933, 'borrowing': 934, 'programs': 935, 'allergy': 936, 'diseases': 937, 'started': 938, 'enrolling': 939, 'transmittable': 940, 'take': 941, 'complete': 942, 'interim': 943, 'results': 944, 'recommendations': 945, 'limb': 946, 'anthony': 947, 'fauci': 948, 'alarmed': 949, 'zika’s': 950, 'versatility': 951, 'expand': 952, 'primarily': 953, 'aedes': 954, 'aegypti': 955, 'mosquitoes': 956, 'dengue': 957, 'chikungunya': 958, '10': 959, 'infections': 960, 'traveled': 961, 'area': 962, 'whose': 963, 'foothold': 964, 'warm': 965, 'habitats': 966, 'effective': 967, 'agent': 968, 'caution': 969, 'lieu': 970, 'answers': 971, 'protect': 972, 'pregnant': 973, 'trying': 974, 'conceive': 975, 'centers': 976, 'control': 977, 'prevention': 978, 'recommended': 979, 'triple': 980, 'organization': 981, 'recently': 982, 'issued': 983, 'guidance': 984, 'strict': 985, 'advice': 986, 'ideal': 987, 'anne': 988, 'schuchat': 989, 'tell': 990, 'satisfying': 991, 'understanding': 992, 'territory': 993, 'puerto': 994, 'rico': 995, '2': 996, '100': 997, 'cases': 998, 'start': 999, 'passing': 1000, 'protection': 1001, 'kits': 1002, 'bug': 1003, 'spray': 1004, 'warning': 1005, 'isn’t': 1006, 'well': 1007, 'prue': 1008, 'behavioral': 1009, 'scientist': 1010, 'studied': 1011, 'popular': 1012, 'places': 1013, 'there’s': 1014, 'religious': 1015, 'preferences': 1016, 'factors': 1017, 'lawmakers': 1018, 'deadlocked': 1019, 'fight': 1020, 'senate': 1021, 'democrats': 1022, 'blocked': 1023, 'proposal': 1024, 'fell': 1025, 'challenge': 1026, 'posed': 1027, 'hurt': 1028, 'unclear': 1029, 'revisit': 1030, 'request': 1031, 'barack': 1032, 'obama': 1033, '1': 1034, '9': 1035, 'billion': 1036, 'white': 1037, 'diverted': 1038, '500': 1039, 'million': 1040, 'urgent': 1041, 'scientific': 1042, 'opportunities': 1043, 'acted': 1044, 'upon': 1045, 'immediately': 1046, 'children': 1047, 'born': 1048, 'identify': 1049, 'disabilities': 1050, 'birth': 1051, 'priority': 1052, 'list': 1053, 'vaccine': 1054, 'eradication': 1055, 'underway': 1056, 'assess': 1057, 'greater': 1058, 'fever': 1059, 'rash': 1060, 'information': 1061, 'vital': 1062, 'test': 1063, 'poses': 1064, 'grown': 1065, 'laboratory': 1066, 'cell': 1067, 'samples': 1068, 'contagious': 1069, 'typically': 1070, 'clears': 1071, 'bloodstream': 1072, 'twice': 1073, 'persistence': 1074, 'caused': 1075, 'draw': 1076, 'comparisons': 1077, 'hiv': 1078, 'blood': 1079, 'indefinitely': 1080, 'nile': 1081, 'reside': 1082, 'kidneys': 1083, 'patient': 1084, 'deadly': 1085, 'evidence': 1086, '18': 1087, 'got': 1088, 'surprised': 1089, 'hanging': 1090, 'around': 1091, 'peter': 1092, 'hotez': 1093, 'dean': 1094, 'school': 1095, 'tropical': 1096, 'baylor': 1097, 'college': 1098, 'big': 1099, 'questions': 1100, 'ask': 1101, 'cause': 1102, 'type': 1103, 'latency': 1104, 'additional': 1105, 'reporting': 1106, 'julie': 1107, 'steenhuysen': 1108, 'editing': 1109, 'michele': 1110, 'gershberg': 1111, 'lisa': 1112, 'girion': 1113, 'chicago': 1114, 'fate': 1115, 'plan': 1116, 'tax': 1117, 'hike': 1118, 'aimed': 1119, 'ending': 1120, 'illinois’': 1121, 'unprecedented': 1122, 'budget': 1123, 'impasse': 1124, 'moved': 1125, 'representatives': 1126, 'seek': 1127, 'legislation': 1128, 'overriding': 1129, 'governor’s': 1130, 'vetoes': 1131, 'maine': 1132, 'ended': 1133, 'partial': 1134, 'government': 1135, 'shutdowns': 1136, 'fourth': 1137, 'july': 1138, 'holiday': 1139, 'helping': 1140, 'governor': 1141, 'christie': 1142, 'embarrassment': 1143, 'photographed': 1144, 'beach': 1145, 'closed': 1146}\n"
     ]
    }
   ],
   "source": [
    "# sanity check cell\n",
    "samp_vocab = create_vocab(samp_tokenized)\n",
    "print(samp_vocab)"
   ]
  },
  {
   "cell_type": "markdown",
   "metadata": {
    "button": false,
    "new_sheet": false,
    "run_control": {
     "read_only": false
    }
   },
   "source": [
    "Once you are convinced that your code is correct, simply run (i.e., **DO NOT EDIT**) the cell below to create a vocabulary for the full corpus."
   ]
  },
  {
   "cell_type": "code",
   "execution_count": null,
   "metadata": {
    "button": false,
    "collapsed": true,
    "editable": false,
    "new_sheet": false,
    "run_control": {
     "read_only": false
    }
   },
   "outputs": [],
   "source": [
    "# evaluation cell\n",
    "full_vocab = create_vocab(full_tokenized)\n",
    "\n",
    "print(\"full vocab size:\", len(full_vocab))\n",
    "print(\"'said' index:\", full_vocab['said'])\n",
    "print(\"'last' index:\", full_vocab['last'])\n",
    "print(\"'obama' index:\", full_vocab['obama'])"
   ]
  },
  {
   "cell_type": "markdown",
   "metadata": {
    "button": false,
    "new_sheet": false,
    "run_control": {
     "read_only": false
    }
   },
   "source": [
    "<div class='q_pink'>\n",
    "    \n",
    "**2.2b BoW Representations [1 point]**\n",
    "\n",
    "Now, let's create the actual BoW representations. Write the function `create_bow()` below, as follows:\n",
    "- accept two inputs: the output from `load_corpus()` (e.g., `samp_tokenized` or `full_tokenized`) and the output from `create_vocab()` (e.g., `samp_vocab` or `full_vocab`)\n",
    "- it creates BoW representations for each document (not the titles) and returns it\n",
    "- specifically, the output needs to be a dictionary mapping each document id to a NumPy array $\\vec x \\in \\mathbb{R}^V$, where $x_i$ is the number of times the word, whose index into the vocabulary is $i$, appears in the document. For example, if $i=0$ corresponds to \"the\", and \"the\" appears 17 times in the given document, then the 1st index of vector $\\vec x$ should be 17."
   ]
  },
  {
   "cell_type": "code",
   "execution_count": null,
   "metadata": {
    "button": false,
    "collapsed": true,
    "new_sheet": false,
    "run_control": {
     "read_only": false
    }
   },
   "outputs": [],
   "source": [
    "import numpy as np\n",
    "\n",
    "def create_bow(tokenized_texts: Dict[int, List[str]], vocab: Dict[str, int]) -> Dict[int, np.ndarray]:\n",
    "    raise NotImplementedError() # TODO"
   ]
  },
  {
   "cell_type": "markdown",
   "metadata": {
    "button": false,
    "new_sheet": false,
    "run_control": {
     "read_only": false
    }
   },
   "source": [
    "As a sanity check, run the cell below on the sample data."
   ]
  },
  {
   "cell_type": "code",
   "execution_count": 22,
   "metadata": {
    "button": false,
    "editable": false,
    "new_sheet": false,
    "run_control": {
     "read_only": false
    }
   },
   "outputs": [
    {
     "name": "stdout",
     "output_type": "stream",
     "text": [
      "keys: dict_keys([20621, 84549, 189782])\n",
      "vocab size: 1147\n",
      "sample slice from doc 20621's vector: [130.  60.  33.  43.  27.  30.  12.  19.]\n"
     ]
    }
   ],
   "source": [
    "# sanity check cell\n",
    "samp_bow = create_bow(samp_tokenized, samp_vocab)\n",
    "\n",
    "# should yield keys: 20621, 84549, 189782\n",
    "print(\"keys:\", samp_bow.keys()) \n",
    "\n",
    "# should yield 1147\n",
    "print(\"vocab size:\", len(samp_bow[20621]))\n",
    "\n",
    "# should yield [130.  60.  33.  43.  27.  30.  12.  19.]\n",
    "print(\"sample slice from doc 20621's vector:\", samp_bow[20621][0:8]) "
   ]
  },
  {
   "cell_type": "markdown",
   "metadata": {
    "button": false,
    "new_sheet": false,
    "run_control": {
     "read_only": false
    }
   },
   "source": [
    "Once you are convinced that your code is correct, simply run (i.e., **DO NOT EDIT**) the cell below to create a BoW representation for the full corpus."
   ]
  },
  {
   "cell_type": "code",
   "execution_count": null,
   "metadata": {
    "button": false,
    "collapsed": true,
    "new_sheet": false,
    "run_control": {
     "read_only": false
    }
   },
   "outputs": [],
   "source": [
    "# evaluation cell\n",
    "full_bow = create_bow(full_tokenized, full_vocab)\n",
    "print(\"# keys:\", len(full_bow.keys()))\n",
    "print(\"first 5 sorted keys:\", sorted(full_bow.keys())[:5])\n",
    "print(\"last 5 sorted keys:\", sorted(full_bow.keys())[-5:])\n",
    "print(\"vocab size:\", len(full_bow[20337]))\n",
    "print(full_bow[20337][:5])\n",
    "print(full_bow[20442][:5])"
   ]
  },
  {
   "cell_type": "markdown",
   "metadata": {
    "button": false,
    "new_sheet": false,
    "run_control": {
     "read_only": false
    }
   },
   "source": [
    "<div class='q_pink'>\n",
    "    \n",
    "**2.2c Using BoW [4 points]**\n",
    "\n",
    "Great! Now that we have vector representations of all of our _documents_ (not titles of documents), let's see what we can do with them! To quantify the distance between two documents, we will calculate the **cosine similarity** between their vector representations. Imagine that someone is using Mooogle and really likes a particular document $d$. One easy way for Mooogle to recommend documents that are similar to $d$ is to find $k$ documents in the rest of the corpus that have the largest cosine similarity with $d$. Below, write code however you wish so that you can answer the following questions about the full `CS287_news_full.csv` corpus:\n",
    "1. What is the cosine similarity between the following pairs of documents: 20153 and 23299?\n",
    "2. What are the *titles* of the $k = 5$ documents most similar to document 23266? Do these results seem reasonable?\n",
    "3. Explore the corpus a bit.  Are there documents that are close to many different documents? Are there documents that are far from all other documents? **NOTE:** We are not asking/requiring you to make visualizations here; you can if you want, as that would be highly insightful, but we are simply asking for you to explore your results a bit and report your thoughts.\n",
    "4. Can you find a document whose $k = 5$ closest recommendations don't make sense?  Why do you think that's the case?\n",
    "\n",
    "For clarity, we will explicitly ask you each of these questions in separate prompts below.\n",
    "</div>"
   ]
  },
  {
   "cell_type": "code",
   "execution_count": null,
   "metadata": {
    "button": false,
    "collapsed": true,
    "new_sheet": false,
    "run_control": {
     "read_only": false
    }
   },
   "outputs": [],
   "source": [
    "# TODO: answer the above"
   ]
  },
  {
   "cell_type": "markdown",
   "metadata": {
    "button": false,
    "new_sheet": false,
    "run_control": {
     "read_only": false
    }
   },
   "source": [
    "<div class='q_pink'>\n",
    "1. What is the cosine similarity between the following pairs of documents: 20153 and 23299? Your cell below should output your answer (e.g., 0.42)\n",
    "</div>"
   ]
  },
  {
   "cell_type": "code",
   "execution_count": null,
   "metadata": {
    "button": false,
    "collapsed": true,
    "new_sheet": false,
    "run_control": {
     "read_only": false
    }
   },
   "outputs": [],
   "source": [
    "# TODO: answer the above"
   ]
  },
  {
   "cell_type": "markdown",
   "metadata": {
    "button": false,
    "new_sheet": false,
    "run_control": {
     "read_only": false
    }
   },
   "source": [
    "<div class='q_pink'>\n",
    "2. What are the titles of the $k=5$ documents most similar to document 23266 (which is titled \"Muhammad Ali Remembered, by Those Who Knew Him as Cassius - The New York Times\")? Your cell below should output your answer. \n",
    "</div>"
   ]
  },
  {
   "cell_type": "code",
   "execution_count": null,
   "metadata": {
    "button": false,
    "collapsed": true,
    "new_sheet": false,
    "run_control": {
     "read_only": false
    }
   },
   "outputs": [],
   "source": [
    "# TODO: answer the above"
   ]
  },
  {
   "cell_type": "markdown",
   "metadata": {
    "button": false,
    "new_sheet": false,
    "run_control": {
     "read_only": false
    }
   },
   "source": [
    "<div class='q_pink'>\n",
    "2 (continued). Do the results above seem reasonable? Please explain in 1-2 sentences.\n",
    "</div>"
   ]
  },
  {
   "cell_type": "markdown",
   "metadata": {
    "button": false,
    "new_sheet": false,
    "run_control": {
     "read_only": false
    }
   },
   "source": [
    "### TEXT SOLUTION:\n",
    "Yes, all 5 documents are clearly about Muhammad Ali. Several are about \"remembering\" him, so one can expect that the documents concern many shared words about remembering, paying homage, respect, and his legacy.."
   ]
  },
  {
   "cell_type": "markdown",
   "metadata": {
    "button": false,
    "new_sheet": false,
    "run_control": {
     "read_only": false
    }
   },
   "source": [
    "<div class='q_pink'>\n",
    "3. Explore the corpus a bit. Are there documents that are close to many different documents? Are there documents that are far from all other documents? Please limit your response to 2-3 sentences. <b>NOTE:</b> We are not asking/requiring you to make visualizations here; you can if you want, as that would be highly insightful, but we are simply asking for you to explore your results a bit and report your thoughts.\n",
    "</div>"
   ]
  },
  {
   "cell_type": "code",
   "execution_count": null,
   "metadata": {
    "button": false,
    "collapsed": true,
    "new_sheet": false,
    "run_control": {
     "read_only": false
    }
   },
   "outputs": [],
   "source": [
    "# TODO: answer the above"
   ]
  },
  {
   "cell_type": "markdown",
   "metadata": {
    "button": false,
    "new_sheet": false,
    "run_control": {
     "read_only": false
    }
   },
   "source": [
    "### TEXT SOLUTION\n",
    "If we calculate the average cosine similarity between each document and how it relates to all other documents, we see that many have high average values (i.e., > 0.7). However, there is also an outlier (doc 84570) that is highly dissimilar from all other documents (i.e., 0.015 average cosine sim.)."
   ]
  },
  {
   "cell_type": "markdown",
   "metadata": {
    "button": false,
    "new_sheet": false,
    "run_control": {
     "read_only": false
    }
   },
   "source": [
    "<div class='q_pink'>\n",
    "4. Can you find a document whose $k=5$ closest recommendations don't make sense?\n",
    "</div>"
   ]
  },
  {
   "cell_type": "code",
   "execution_count": null,
   "metadata": {
    "button": false,
    "collapsed": true,
    "new_sheet": false,
    "run_control": {
     "read_only": false
    }
   },
   "outputs": [],
   "source": [
    "# TODO: answer the above"
   ]
  },
  {
   "cell_type": "markdown",
   "metadata": {
    "button": false,
    "new_sheet": false,
    "run_control": {
     "read_only": false
    }
   },
   "source": [
    "<div class='q_pink'>\n",
    "4 (continued). Why do you think that's the case (i.e., that a document has non-sensical closest-document pairs, or that it's hard to find such an outlier document). Please limit your response to 2-3 sentences.\n",
    "</div>"
   ]
  },
  {
   "cell_type": "markdown",
   "metadata": {
    "button": false,
    "new_sheet": false,
    "run_control": {
     "read_only": false
    }
   },
   "source": [
    "YOUR ANSWER HERE"
   ]
  },
  {
   "cell_type": "markdown",
   "metadata": {
    "button": false,
    "new_sheet": false,
    "run_control": {
     "read_only": false
    }
   },
   "source": [
    "<div class='q_pink'><b>2.3 TF-IDF [9 points total]</b></div>"
   ]
  },
  {
   "cell_type": "markdown",
   "metadata": {
    "button": false,
    "new_sheet": false,
    "run_control": {
     "read_only": false
    }
   },
   "source": [
    "<div class='q_pink'>\n",
    "    \n",
    "**2.3a Create TF-IDF vectors [3 points]**\n",
    "\n",
    "\n",
    "Instead of using BoW vectors with raw counts, let's try using term frequency-inverse document frequency (TF-IDF) vectors. Implement the `create_TFIDF()` function below. Its inputs and outputs are identical to `create_BoW()`:\n",
    "- accept two inputs: the output from `load_corpus()` (e.g., `samp_tokenized` or `full_tokenized`) and the output from `create_vocab()` (e.g., `samp_vocab` or `full_vocab`)\n",
    "- it creates TF-IDF representations for each document (not the titles) and returns it. **NOTE:** You don't need to perform any smoothing or additional, vector normalization of each TF-IDF vector across dimensions on a per-doc basis, but if you wish to, you can. \n",
    "- specifically, the output needs to be a dictionary mapping each document id to a NumPy array $\\vec x \\in \\mathbb{R}^V$, where $x_i$ is the TF-IDF for the word whose index into the vocabulary is $i$."
   ]
  },
  {
   "cell_type": "code",
   "execution_count": null,
   "metadata": {
    "button": false,
    "collapsed": true,
    "new_sheet": false,
    "run_control": {
     "read_only": false
    }
   },
   "outputs": [],
   "source": [
    "def create_TFIDF(tokenized_texts: Dict[int, List[str]], vocab: Dict[str, int]) -> Dict[int, np.ndarray]:\n",
    "    raise NotImplementedError() # TODO"
   ]
  },
  {
   "cell_type": "markdown",
   "metadata": {
    "button": false,
    "new_sheet": false,
    "run_control": {
     "read_only": false
    }
   },
   "source": [
    "In the sanity check cell below, we encourage you to run your `create_TFIDF()` on the sample data. In our solutions, we did not implement smoothing or any post- normalization (you can if you want), and our output for the cell below yielded `[0, 0, 0, 0, 0, 0, 0, 0, 0, 23.07085806, 6.08197662, 0]`."
   ]
  },
  {
   "cell_type": "code",
   "execution_count": 30,
   "metadata": {
    "button": false,
    "new_sheet": false,
    "run_control": {
     "read_only": false
    }
   },
   "outputs": [
    {
     "name": "stdout",
     "output_type": "stream",
     "text": [
      "[ 0.          0.          0.          0.          0.          0.\n",
      "  0.          0.          0.         23.07085806  6.08197662  0.        ]\n"
     ]
    }
   ],
   "source": [
    "# sanity check cell\n",
    "samp_tfidf = create_TFIDF(samp_tokenized, samp_vocab)\n",
    "print(samp_tfidf[20621][:12])"
   ]
  },
  {
   "cell_type": "markdown",
   "metadata": {
    "button": false,
    "new_sheet": false,
    "run_control": {
     "read_only": false
    }
   },
   "source": [
    "Once you are convinced that your code is correct, simply run (i.e., **DO NOT EDIT**) the cell below to create TF-IDF representations for the full corpus."
   ]
  },
  {
   "cell_type": "code",
   "execution_count": null,
   "metadata": {
    "button": false,
    "collapsed": true,
    "new_sheet": false,
    "run_control": {
     "read_only": false
    }
   },
   "outputs": [],
   "source": [
    "full_tfidf = create_TFIDF(full_tokenized, full_vocab)\n",
    "print(type(full_tfidf))\n",
    "print(\"# keys:\", len(full_tfidf.keys()))\n",
    "print(\"first 5 sorted keys:\", sorted(full_tfidf.keys())[:5])\n",
    "print(\"last 5 sorted keys:\", sorted(full_tfidf.keys())[-5:])\n",
    "print(\"vocab size:\", len(full_tfidf[20337]))\n",
    "print(\"sample 1:\", full_tfidf[20337][:5])\n",
    "print(\"sample 2:\",full_tfidf[20442][:5])\n",
    "print(\"sample 3:\",full_tfidf[20355][100:105])"
   ]
  },
  {
   "cell_type": "markdown",
   "metadata": {
    "button": false,
    "new_sheet": false,
    "run_control": {
     "read_only": false
    }
   },
   "source": [
    "<div class='q_pink'>\n",
    "    \n",
    "**2.3b TF-IDF vs BoW [3 points]**\n",
    "\n",
    "Let's continue to use the full dataset, `CS287_news_full.csv`\n",
    "\n",
    "Please write code in the cell below that allows you complete the following exercise:\n",
    "1. Find three documents $d$ that satisfy the following property: Using document $d$ as a query, let $\\mathcal{S}$ denote the set of $k = 5$ closest documents when using BoW representations.  Let $\\mathcal{T}$ denote the set of $k = 5$ closest documents when using TF-IDF representations. We want $|\\mathcal{S} \\cap \\mathcal{T}| \\leq 1$ (i.e. $\\mathcal{S}$ and $\\mathcal{T}$ have at most 1 common overlap). \n",
    "2. For each $d$, display the titles of $\\mathcal{S}$ and $\\mathcal{T}$. Based on the titles, does $\\mathcal{S}$ or $\\mathcal{T}$ comprise better recommendations for $d$?  Please justify your answer.\n",
    "3. Based on what you know about BoW and TF-IDF, why do you think $\\mathcal{S}$ and $\\mathcal{T}$ ended up with different recommmendations?\n",
    "\n",
    "For clarity, we will explicitly ask you each of these questions in separate prompts below."
   ]
  },
  {
   "cell_type": "code",
   "execution_count": null,
   "metadata": {
    "button": false,
    "collapsed": true,
    "new_sheet": false,
    "run_control": {
     "read_only": false
    }
   },
   "outputs": [],
   "source": [
    "# TODO: you may use this cell to set up any code to help answer this question"
   ]
  },
  {
   "cell_type": "markdown",
   "metadata": {
    "button": false,
    "new_sheet": false,
    "run_control": {
     "read_only": false
    }
   },
   "source": [
    "<div class='q_pink'>\n",
    "1. Find three documents $d$ that satisfy the following property: using document $d$ as a query, let $\\mathcal{S}$ denote the set of $k = 5$ closest documents when using BoW representations. Let $\\mathcal{T}$ denote the set of $k = 5$ closest documents when using TF-IDF representations. We want $|\\mathcal{S} \\cap \\mathcal{T}| \\leq 1$ (i.e. $\\mathcal{S}$ and $\\mathcal{T}$ have at most 1 common overlap). Your cell below should output your answer (i.e., three document ids)\n",
    "</div>"
   ]
  },
  {
   "cell_type": "code",
   "execution_count": null,
   "metadata": {
    "button": false,
    "collapsed": true,
    "new_sheet": false,
    "run_control": {
     "read_only": false
    }
   },
   "outputs": [],
   "source": [
    "# TODO: answer the above"
   ]
  },
  {
   "cell_type": "markdown",
   "metadata": {
    "button": false,
    "new_sheet": false,
    "run_control": {
     "read_only": false
    }
   },
   "source": [
    "<div class='q_pink'>\n",
    "2. For each $d$, display the titles of $\\mathcal{S}$ and $\\mathcal{T}$.\n",
    "</div>"
   ]
  },
  {
   "cell_type": "code",
   "execution_count": null,
   "metadata": {
    "button": false,
    "collapsed": true,
    "new_sheet": false,
    "run_control": {
     "read_only": false
    }
   },
   "outputs": [],
   "source": [
    "# TODO: answer the above"
   ]
  },
  {
   "cell_type": "markdown",
   "metadata": {
    "button": false,
    "new_sheet": false,
    "run_control": {
     "read_only": false
    }
   },
   "source": [
    "<div class='q_pink'>\n",
    "2 (continued). Based on the titles, does $\\mathcal{S}$ or $\\mathcal{T}$ comprise better recommendations for $d$? Please justify your answer in ~2 sentences.\n",
    "</div>"
   ]
  },
  {
   "cell_type": "markdown",
   "metadata": {
    "button": false,
    "new_sheet": false,
    "run_control": {
     "read_only": false
    }
   },
   "source": [
    "YOUR ANSWER HERE"
   ]
  },
  {
   "cell_type": "markdown",
   "metadata": {
    "button": false,
    "new_sheet": false,
    "run_control": {
     "read_only": false
    }
   },
   "source": [
    "<div class='q_pink'>\n",
    "3. Based on what you know about BoW and TF-IDF, why do you think $\\mathcal{S}$ and $\\mathcal{T}$ ended up with different recommendations? (2-3 sentences).\n",
    "</div>"
   ]
  },
  {
   "cell_type": "markdown",
   "metadata": {
    "button": false,
    "new_sheet": false,
    "run_control": {
     "read_only": false
    }
   },
   "source": [
    "YOUR ANSWER HERE"
   ]
  },
  {
   "cell_type": "markdown",
   "metadata": {
    "button": false,
    "new_sheet": false,
    "run_control": {
     "read_only": false
    }
   },
   "source": [
    "<div class='q_pink'>\n",
    "    \n",
    "**2.3c PCA-based visualization of the TF-IDF represented dataset [3 points]**\n",
    "\n",
    "Let's continue to explore our full dataset (i.e., `CS287_news_full.csv`) some more. Recall that there are three natural divisions in our dataset, based on news source (i.e. New York Times, Reuters, Fox News). Can TF-IDF encode the political differences between these news sources? To answer this question, in the cell below: use the [Sci-Kit Learn](https://scikit-learn.org/stable/modules/generated/sklearn.decomposition.PCA.html) library to run a **principal components analysis** (PCA), and extract the two directions of maximum variation among the TF-IDF vectors. Plot each document in a 2D grid based on its PCA components and color the document in the plot based on its news source (i.e., your documents should encompass three distinct colors, one for each news source).\n",
    "    \n",
    "**Before running PCA, please scale the TF-IDF vector for each document so that it has unit norm.  This will put each document on the same scale, so that PCA can better highlight the different word distributions between documents.**\n",
    "\n",
    "Briefly explain what you see and justify why it makes sense."
   ]
  },
  {
   "cell_type": "code",
   "execution_count": null,
   "metadata": {
    "button": false,
    "collapsed": true,
    "new_sheet": false,
    "run_control": {
     "read_only": false
    }
   },
   "outputs": [],
   "source": [
    "# TODO: answer the above. Remember to include a plot"
   ]
  },
  {
   "cell_type": "markdown",
   "metadata": {
    "button": false,
    "new_sheet": false,
    "run_control": {
     "read_only": false
    }
   },
   "source": [
    "<div class='q_pink'>\n",
    "    \n",
    "**2.3c (continued)** Briefly explain your plot above and justify why it makes sense (2-3 sentences)."
   ]
  },
  {
   "cell_type": "markdown",
   "metadata": {
    "button": false,
    "new_sheet": false,
    "run_control": {
     "read_only": false
    }
   },
   "source": [
    "YOUR ANSWER HERE"
   ]
  },
  {
   "cell_type": "markdown",
   "metadata": {
    "button": false,
    "new_sheet": false,
    "run_control": {
     "read_only": false
    }
   },
   "source": [
    "<div class='q_pink'><b>2.4 Word2Vec from Scratch [45 points total]</b></div>"
   ]
  },
  {
   "cell_type": "markdown",
   "metadata": {
    "button": false,
    "new_sheet": false,
    "run_control": {
     "read_only": false
    }
   },
   "source": [
    "### Word Representations\n",
    "So far, we have only considered how vectors can encode similarity at the document level. However, for decades, researchers have aspired to have useful, meaningful _word-level_ representations, too. After all, much of human language is built on piecing together words that have individual, semantic meaning. Thus, it makes sense for models to also try to capture this phenomenon. In 2013, `word2vec` was created, and not only did it yield the most compelling word-level representations to date, but it was the first, main deep learning architecture in NLP that had undeniably strong results.\n",
    "\n",
    "### PyTorch\n",
    "Back in 2013, deep learning frameworks (e.g., Theono, Caffe, Torch) existed, but they were difficult to use and had orders of magnitude fewer users/contributors than today. With the power of modern-day PyTorch, we will train word-level representations from scratch on our full news corpus. As we will see, even though we are using a relatively small dataset, we will still be able to do some useful reasoning with the word vectors we obtain.  Part of the purpose of this problem is to introduce you to PyTorch's excellent abstractions (e.g. `Dataset`, `DataLoader`, `Module`, `Optimizer`, etc.). Thus, even though the `word2vec` model that we consider here is a simpler version than the ones provided in third-party libraries, our comprehensive, from-scratch approach is more scalable to future problem sets that involve more complex models (e.g. large language models, neural translation models) -- especially when GPUs are involved.\n",
    "\n",
    "PyTorch is heavily object-oriented, which means that we will need to create our own versions of its classes in order to solve our specific problems.  You can find a refresher on object-oriented programming in Python [here](https://realpython.com/python3-object-oriented-programming/).   "
   ]
  },
  {
   "cell_type": "markdown",
   "metadata": {
    "button": false,
    "new_sheet": false,
    "run_control": {
     "read_only": false
    }
   },
   "source": [
    "<div class='q_pink'><b>2.4a Dataset Class [9 points]</b>\n",
    "\n",
    "Let's start by defining a custom PyTorch dataset class for our news corpus. We will call it the `MooogleDataset`.  Notice in the cell below that it extends the base PyTorch `Dataset`. As a subclass of `Dataset`, `MooogleDataset` is required by contract to implement three methods (you can read more about this [here](https://pytorch.org/tutorials/beginner/basics/data_tutorial.html)):\n",
    "- A `__init__` method that inputs and stores all the instance variables needed for creating a particular `MooogleDataset` object. As an example, we have implemented this function for you below to take in three arguments:\n",
    "    - the dictionary `tokenized_texts`\n",
    "    - the dictionary `vocab`,\n",
    "    - and an integer `vocab_size`. This will limit the number of unique words that our model is exposed to by only considering the `vocab_size`-most frequent words. Having such a cutoff is standard in deep learning, so that models do not become too large. We will use `vocab_size = 5000`.  Feel free to modify/extend the code in `__init__` if you think that will make implementing the next two functions easier. **Pro tip:** whenever you start to write _any_ code, it's good practice to start small just to ensure everything interacts and behaves correctly -- only once you're sure of such is it worth scaling up and validating the quality of your code. \n",
    "- A `__len__` method that tells us how large the dataset is. In our case, this should be the number of documents in the corpus. You need to implement this method.\n",
    "- A `__getitem__` method that gets a particular item in the dataset. You need to implement this method. The input is `idx`, which is an integer between 0 (inclusive) and the length of the dataset determined by `__len__` (exclusive).  Given `idx`, we want `__getitem__` to (a) find the `idx`-th document (when the documents are sorted in order by id) and (b) return the *integer representation* of that document wrapped in a PyTorch [`Tensor`](https://pytorch.org/docs/stable/tensors.html).  Words with vocabulary indices greater than `vocab_size - 1` are ignored. For example consider the document `[\"the\", \"cat\", \"ate\", \"the\", \"yummy\", \"fish\"]` with vocabulary `{\"the\": 0, \"ate\": 1, \"cat\": 2, \"fish\": 3, \"yummy\": 4}` and `vocab_size = 4`.  Then, the *integer representation* of the document is `[0, 2, 1, 0, 3]`, since \"the\"=0, \"cat\"=2, \"ate\"=1, \"the\"=0, \"yummy\"=3, and \"fish\"=2, but \"yummy\" is ignored (i.e., dropped) since its vocabulary index exceeds `vocab_size - 1`.\n",
    "\n",
    "</div>"
   ]
  },
  {
   "cell_type": "code",
   "execution_count": null,
   "metadata": {
    "button": false,
    "collapsed": true,
    "new_sheet": false,
    "run_control": {
     "read_only": false
    }
   },
   "outputs": [],
   "source": [
    "from torch.utils.data import Dataset\n",
    "from torch import Tensor\n",
    "import torch\n",
    "\n",
    "class MooogleDataset(Dataset):\n",
    "    \n",
    "    def __init__(self, tokenized_texts: Dict[int, List[str]], vocab: Dict[str, int], vocab_size: int):\n",
    "        self.tokenized_texts = tokenized_texts\n",
    "        self.vocab = vocab\n",
    "        self.vocab_size = vocab_size\n",
    "        \n",
    "    def __len__(self) -> int:\n",
    "        raise NotImplementedError() # TODO\n",
    "        \n",
    "    def __getitem__(self, idx: int) -> Tensor:\n",
    "        raise NotImplementedError() # TODO"
   ]
  },
  {
   "cell_type": "markdown",
   "metadata": {
    "button": false,
    "new_sheet": false,
    "run_control": {
     "read_only": false
    }
   },
   "source": [
    "As a sanity check, run the test cell below."
   ]
  },
  {
   "cell_type": "code",
   "execution_count": 37,
   "metadata": {
    "button": false,
    "new_sheet": false,
    "run_control": {
     "read_only": false
    }
   },
   "outputs": [
    {
     "name": "stdout",
     "output_type": "stream",
     "text": [
      "3\n",
      "tensor([ 91, 793, 794,  25,  16,  96,  24,  30, 146,   6, 795,  92, 291, 171,\n",
      "        276,  32,  21, 172,  46, 292,  16, 796,   2,  21,  93,  25, 109,   0,\n",
      "        172,   4,   5, 797,   6,   0, 798, 799,   0, 800, 801, 802,   3,  56,\n",
      "        119,  66,  46, 173, 803, 174,  47, 173,   6, 804,  41, 293, 805, 294,\n",
      "         24,  62,  77, 295,   0,  91, 806, 120,  35, 296, 807, 175,  90,   6,\n",
      "         32, 808, 297, 809, 121,  80,  58,  15,  25,  30, 298,   0, 299,  92,\n",
      "        171,  25,  39, 300, 810, 811,   5, 812,  93,  58, 813,  24,  30, 146,\n",
      "          6,   0, 814, 815,  57,  61,  32,  39, 816,   2, 301,   0, 817,   1,\n",
      "        818, 284,   2, 819,   0,  92, 820,   3, 149,   1,  46, 821, 822,  39,\n",
      "        823,  74, 824, 302,  25,  12,  96, 825,   2, 826, 176,   1,   0,  93,\n",
      "         46, 292, 827,   7,  24,  23,   4, 828, 829, 830,  32, 177,  15, 303,\n",
      "        304, 305, 122, 306,   2, 307,  11,  21,  93, 175, 831, 832, 833, 834,\n",
      "        178, 119, 177,  15, 303, 304, 305, 122, 306,   2, 307,  11,  21,  93,\n",
      "         25, 179,   7, 308,  24,  39,  27,  32,  12, 835, 309, 123,  80,   5,\n",
      "        165,  32,  30,  77, 310,   0,  91, 836, 120, 233, 837,  46,  90,   0,\n",
      "        132, 838,  12,   0, 839, 286,  18,   0, 840, 841,   4,  67, 288, 132,\n",
      "        842, 843,  82, 844, 308, 124, 122, 294,  24,  30,  77, 845, 295,   0,\n",
      "        159,   4,  41, 120,  35, 296,   2,  77, 281, 846, 290,  25, 179, 847,\n",
      "        848, 174,  47, 173,   6, 849,  41, 293,   0, 850, 851, 852,   7,  24,\n",
      "          3,  32,  20,  84,  43, 853,   4,   0, 138, 854, 180, 855,   7,  24,\n",
      "          3, 124,  20, 311, 243,  25, 179, 124, 856, 857, 858,   3,  97, 124,\n",
      "        122,   0, 277,   2, 174, 218,   2, 859, 860, 861,  13,   0, 862,   8,\n",
      "         12,   0, 309,   7, 863, 280, 311, 120,  28,  20,  45, 237, 864,  59,\n",
      "        865,  25,  39, 866,  32,  87,   0, 105,  12,   5, 867,   1, 868, 109,\n",
      "         22,   0,  71, 869, 870, 123,   5, 871, 872,  12, 873, 874,   0,  44,\n",
      "         63,   0, 875,  76, 300,   5, 876, 877,   4, 194,   4, 878,  13,  25,\n",
      "        879, 176,   1, 880,  32,  61,   0, 881,  13, 175,  90,   6,  32,  23,\n",
      "        882, 312, 313,  23, 883, 314, 188,   0, 313, 884,  14,  25, 885, 886,\n",
      "         66,   5, 887,   1,  95,  83, 315,  87,   0, 888, 889, 314, 890,   1,\n",
      "         55,  19, 891,   2,  47,  98,   4,   0, 892, 316,  25, 109,  46, 172,\n",
      "        161,  14, 299, 893, 291, 171, 317, 318,  23, 121,   2, 894,   5, 895,\n",
      "         83, 169,  13, 178,  16,   0, 896,  23, 897, 898,   3, 180, 206,   5,\n",
      "        899, 900,  11, 901, 902,   2,   5, 317, 318, 169, 178, 119, 164,  11,\n",
      "         58,  15,  28, 319, 320, 903, 904,   7, 905,  21, 906,   2,  25, 119,\n",
      "          7,   5, 907,  30,  47, 908,   1,  25, 909, 121,  46,  90,   6,  32,\n",
      "        312, 910, 911, 912, 913,   2,  41, 321])\n"
     ]
    }
   ],
   "source": [
    "# sanity check cell\n",
    "samp_dataset = MooogleDataset(samp_tokenized, samp_vocab, vocab_size=5000)\n",
    "\n",
    "# Alias for samp_dataset.__len__()\n",
    "print(len(samp_dataset)) # should output 3\n",
    "\n",
    "# Alias for samp_dataset.__getitem__(1)\n",
    "# should output a tensor that starts with tensor([ 91, 793, 794,  25,  16,  96,  24,  30, 146 ...\n",
    "print(samp_dataset[1]) "
   ]
  },
  {
   "cell_type": "markdown",
   "metadata": {
    "button": false,
    "new_sheet": false,
    "run_control": {
     "read_only": false
    }
   },
   "source": [
    "Once you are convinced that your code is correct, simply run (i.e., **DO NOT EDIT**) the cell below to parse the full corpus and output particular samples from it."
   ]
  },
  {
   "cell_type": "code",
   "execution_count": null,
   "metadata": {
    "button": false,
    "collapsed": true,
    "new_sheet": false,
    "run_control": {
     "read_only": false
    }
   },
   "outputs": [],
   "source": [
    "# evaluation cell\n",
    "full_dataset = MooogleDataset(full_tokenized, full_vocab, vocab_size=5000)\n",
    "print(len(full_dataset)) \n",
    "print(full_dataset[12])\n",
    "print(full_dataset[34])"
   ]
  },
  {
   "cell_type": "markdown",
   "metadata": {
    "button": false,
    "new_sheet": false,
    "run_control": {
     "read_only": false
    }
   },
   "source": [
    "The reason why we went through the trouble of extending PyTorch's `Dataset` class is that we can now use PyTorch's other classes (which are designed to work with `Dataset`) for free! One such class is `DataLoader`. A key concept in deep learning is the idea of \"batch\" training (i.e., batch gradient descent). For efficiency's sake, we don't want to just have our model train on one document at time (i.e., stochastic gradient descent); we want it to be able to process an entire \"batch\" of documents in parallel at once. The `DataLoader` implements this idea of generating random batches for us."
   ]
  },
  {
   "cell_type": "markdown",
   "metadata": {
    "button": false,
    "new_sheet": false,
    "run_control": {
     "read_only": false
    }
   },
   "source": [
    "<div class='q_pink'><b>2.4b DataLoader Class [3 points]</b>\n",
    "\n",
    "Carefully read the documentation for `DataLoader` [here](https://pytorch.org/docs/stable/data.html#torch.utils.data.DataLoader). Then, please complete the following tasks:\n",
    "1. Use the documentation to determine appropriate arguments for instantiating `DataLoader` for our `MooogleDataset` (containing the full document collection) in the code cell below.  We want to make sure that (a) there are 32 documents per batch, (b) the documents used to form the batch are randomly selected each time, and (c) there is never less than 32 documents per batch -- even for the final batch of the dataloader. \n",
    "2. One argument that our `DataLoader` definitely needs is `collate_fn`, which we have provided for you in the cell below. As you can see, our `collate_fn` is built on a PyTorch utility function called `pad_sequence`. Read the documentation for `pad_sequence` [here](https://pytorch.org/docs/stable/generated/torch.nn.utils.rnn.pad_sequence.html), and briefly explain in the markdown cell below: (a) what our specific `collate_fn` below is doing; and, (b) why it is necessary when working with NLP data in particular.\n",
    "</div>"
   ]
  },
  {
   "cell_type": "code",
   "execution_count": null,
   "metadata": {
    "button": false,
    "collapsed": true,
    "new_sheet": false,
    "run_control": {
     "read_only": false
    }
   },
   "outputs": [],
   "source": [
    "from torch.utils.data import DataLoader\n",
    "from torch.nn.utils.rnn import pad_sequence\n",
    "\n",
    "PADDING_IDX = -1\n",
    "collate_fn = lambda x: pad_sequence(x, batch_first=True, padding_value=PADDING_IDX)\n",
    "\n",
    "# for this code cell, you only need to pass the appropriate arguments into the DataLoader() below\n",
    "full_dataloader = DataLoader() # TODO: add the correct arguments "
   ]
  },
  {
   "cell_type": "markdown",
   "metadata": {
    "button": false,
    "new_sheet": false,
    "run_control": {
     "read_only": false
    }
   },
   "source": [
    "YOUR ANSWER HERE FOR PART 2"
   ]
  },
  {
   "cell_type": "markdown",
   "metadata": {
    "button": false,
    "new_sheet": false,
    "run_control": {
     "read_only": false
    }
   },
   "source": [
    "Once you are confident that both `Dataset` and `DataLoader` were implemented correctly, run the evaluation cell below, which  should run without error and return a PyTorch **Tensor**.  This **Tensor** is the first batch of data in our data loader."
   ]
  },
  {
   "cell_type": "code",
   "execution_count": null,
   "metadata": {
    "button": false,
    "collapsed": true,
    "new_sheet": false,
    "run_control": {
     "read_only": false
    }
   },
   "outputs": [],
   "source": [
    "# evaluation cell\n",
    "batch = next(iter(full_dataloader))\n",
    "print(batch)"
   ]
  },
  {
   "cell_type": "markdown",
   "metadata": {
    "button": false,
    "new_sheet": false,
    "run_control": {
     "read_only": false
    }
   },
   "source": [
    "<div class='q_pink'><b>2.4c Understanding the Batch [2 points]</b>\n",
    "    \n",
    "What are the dimensions of the `batch` Tensor from the evaluation cell above? What do they represent? Please limit your response to 3-4 sentences.\n",
    "</div>"
   ]
  },
  {
   "cell_type": "code",
   "execution_count": null,
   "metadata": {
    "button": false,
    "collapsed": true,
    "new_sheet": false,
    "run_control": {
     "read_only": false
    }
   },
   "outputs": [],
   "source": [
    "# TODO: what are the dimensions of \"batch\"?"
   ]
  },
  {
   "cell_type": "markdown",
   "metadata": {
    "button": false,
    "new_sheet": false,
    "run_control": {
     "read_only": false
    }
   },
   "source": [
    "ELABORATE ON YOUR RESULT FROM ABOVE HERE"
   ]
  },
  {
   "cell_type": "markdown",
   "metadata": {
    "button": false,
    "new_sheet": false,
    "run_control": {
     "read_only": false
    }
   },
   "source": [
    "Congrats on making it this far! Now comes the most fun part yet: **implementing the Word2Vec model**. Recall that in the [original Word2Vec paper](https://arxiv.org/pdf/1301.3781.pdf), there were two ways that Word2Vec vectors could be trained (CBOW and skip-gram). We will be implementing the first method, called **Continuous Bag-of-Words** (CBOW). You can find a diagram of CBOW below.\n",
    "\n",
    "**CBOW Training Algorithm:** We will train a vector (also called an \"embedding\") $x_i \\in \\mathbb{R}^D$ for each word $i$ in our vocabulary of size $V$, where $D = 100$ is the size of the vector. To train the embeddings, we will use the documents from our news corpus. Here's the overall process of what we will do:\n",
    "1. Assume we have a document $d$ of length $T$ represented by a sequence of words $w_1, w_2, \\ldots, w_T$.  For each word $w_t$ in this document, we will try to predict $w_t$ based on its surrounding words (also known as its \"context\") $\\mathcal{C}_t = \\{w_{t - N}, \\ldots, w_{t - 1}, w_{t +1} \\ldots, w_{t + N}\\}$, where $N = 5$ denotes the context length (meaning the full context will include the 5 words that preceed our given word, and the 5 words that follow it).\n",
    "2. Compute the \"context embedding\" $x = \\frac{1}{2N} \\sum_{w \\in \\mathcal{C}_t} x_w$ by averaging the word embeddings of all words in the context.  Note that this averaging is done for each dimension of the embedding, so $x \\in \\mathbb{R}^D$.  Also note that this averaging will eliminate any notion of word order among words in the context, hence \"continuous bag-of-words\".   \n",
    "3. Use $x$ as the feature vector in a multi-class logistic regression (softmax) problem to predict the missing word $w_t$ out of $V$ possible words in our vocabulary. \n",
    "4. Optimize the word embeddings to minimize the logistic regression loss with batch gradient descent.\n",
    "\n",
    "![CBOW](cbow.png)\n"
   ]
  },
  {
   "cell_type": "markdown",
   "metadata": {
    "button": false,
    "new_sheet": false,
    "run_control": {
     "read_only": false
    }
   },
   "source": [
    "To implement CBOW in PyTorch, we will extend the ``Module`` class (see below).  If you are new to PyTorch, it is expected that this part will be challenging, so don't worry if it takes you a lot of time to get a working implementation.  Definitely check out the excellent PyTorch tutorial on ``Module`` [here](https://pytorch.org/tutorials/beginner/basics/buildmodel_tutorial.html). \n",
    "\n",
    "<div class='q_pink'><b>2.4d The CBOW Module [20 points]</b>\n",
    "    \n",
    "All models in PyTorch are implemented through the ``Module`` class.  Below, write a custom ``Module`` called ``CBOW`` that accomplishes the CBOW algorithm we outlined above. Note, every ``Module`` needs to implement the following two methods:\n",
    "1. An ``__init__()`` method that initializes the ``Module`` object.  This ``__init__()`` method typically involves three things: (a) Inputing and saving instance variables (similar to what we did in ``MooogleDataset`` above), (b) Defining the layers/architecture of the network based on these instance variables, and (c) Initializing the layers of the network. \n",
    "    - For ``CBOW``, we have supplied the signature of the ``__init__()`` method, which includes the instance variables you'll need (e.g. ``context_size``, ``vocab_size``, etc.); your job is to accomplish (a), (b), and (c).  For step (b), you can find a list of PyTorch layers [here](https://pytorch.org/docs/stable/nn.html) [hint: check out ``Embedding`` and ``Linear`` in particular].  For step (c), you can find PyTorch functions for initializing tensors [here](https://pytorch.org/docs/stable/nn.init.html).  **We highly recommend initializing all word vectors as zero vectors and the logistic regression weights uniformly between -1 and +1.**    \n",
    "   \n",
    "   \n",
    "2. A ``forward()`` method that takes a `batch` of data from the `DataLoader` and returns a tuple of two tensors: (a) a tensor of predictions `preds` and (b) tensor of targets `targets`.  \n",
    "    - For ``CBOW``, the input `batch` is a 2D `LongTensor` (i.e. tensor of integers).  It has dimensions $B \\times T$, where $B$ is the batch size and $T$ is the sequence length (i.e. number of words).  Keep in mind that many rows in `batch` will end with a string of -1's to indicate padding.  \n",
    "    - The first output `preds` is expected to be a 2D `FloatTensor` (i.e. tensor of decimals) with dimensions $M \\times V$, where $M$ is the number of (non-pad) words in the batch and $V$ is the size of the vocabulary.  The $(i, j)$-th entry of `preds` will contain CBOW's predicted *log probability* of the $i$-th word in the batch being equal to the $j$-th word in the vocabulary.  \n",
    "    - The second output `targets` is expected to be a 1D `LongTensor` with length $M$.  The $i$-th entry of `targets` will contain the true identity (i.e. \"target\") of the $i$-th word in the batch.\n",
    "    - Writing a `forward()` method that goes directly from `batch` to (`preds`, `targets`) may be quite a challenging task, so we have broken down the problem into subproblems that may be easier to think about.  Each subproblem will involve implementing a different *helper function* (see cell below) that can be used to implement by full `forward()` method.  We encourage you to test your helper functions with sample inputs as you implement them [hint: recall that you can get a sample batch from any `DataLoader` object `dataloader` by running `batch = next(iter(dataloader))`].\n",
    "        - *Subproblem 1*: Following the **CBOW Training Algorithm** above, the first step is to take the batch of documents ``batch`` along with some integer ``context_size`` and extract a ``contexts`` tensor and a ``targets`` tensor.  This logic will be implemented in the ``split_data()`` helper function below [hint: you may want to make use of [this PyTorch function](https://pytorch.org/docs/stable/generated/torch.Tensor.unfold.html) in your implementation].  Since each batch has multiple documents, each document has multiple contexts, and each context is comprised of multiple words, ``contexts`` will be a 3D tensor with dimensions $B \\times C \\times N$, where $C$ is the number of contexts [hint: $C$ is a function of $T$ and $N$].  The `targets` tensor will be a 2D tensor with dimensions $B \\times C$, since each context has one target word to predict.  In future steps, we will be using the ``contexts`` to predict the ``targets`` (think of ``contexts`` as the \"X-variable\" and ``targets`` as the \"y-variable\" in logistic regression).  \n",
    "        - *Subproblem 2*: The next step has more to do with tensor organization than the actual CBOW algorithm.  If you look inside your ``contexts`` and ``targets`` tensors from the previous subproblem, you'll notice that some of these contain $-1$, which corresponds to padding.  These exist because we needed to pad some of the documents in order to process them as a batch with common sequence length $T$.  However, we don't actually want to train our model on any contexts or targets that contain padding; padding has nothing to do with the CBOW algorithm.  Thus, to filter out the pads, you will flatten the 3D `contexts` tensor and 2D `targets` tensor by implementing the `flatten_tensors()` helper function below.  The outputs should be a flattened 2D `contexts` tensor with dimensions $M \\times N$ and a flattened 1D `targets` tensor with dimension $M$, where $M$ is the total number of real (i.e. non-pad) words in the batch [hint: to check your understanding, think about why it must be the case that $M < B \\cdot C$].\n",
    "        - *Subproblem 3*: Assuming that you have implemented both `split_data()` and `flatten_tensors()` correctly, you are now ready to write the `CBOW.forward` method, which will call both of these helpers.  The output of `flatten_tensors()` will yield `contexts` and `targets`.  Following the description of the **CBOW Training Algorithm** above, figure out how to pass `contexts` through the layers you defined in ``CBOW.__init__`` to yield ``preds``, the log probabilities tensor of size $M \\times V$.  Then, return ``preds`` and ``targets`` to finish the function.\n",
    "</div>"
   ]
  },
  {
   "cell_type": "code",
   "execution_count": null,
   "metadata": {
    "button": false,
    "collapsed": true,
    "new_sheet": false,
    "run_control": {
     "read_only": false
    }
   },
   "outputs": [],
   "source": [
    "from typing import Tuple\n",
    "\n",
    "from torch.nn import Module, Embedding, Linear, init\n",
    "from torch import LongTensor, BoolTensor, FloatTensor\n",
    "\n",
    "# Helper function \n",
    "def split_data(batch: LongTensor, context_size: int) -> Tuple[LongTensor, LongTensor]:\n",
    "    raise NotImplementedError() # TODO\n",
    "    \n",
    "# Helper function \n",
    "def flatten_tensors(context: LongTensor, target: LongTensor, padding_idx: int) -> Tuple[LongTensor, LongTensor]:\n",
    "    raise NotImplementedError() # TODO\n",
    "\n",
    "class CBOW(Module):\n",
    "    \n",
    "    def __init__(self, context_size: int, vocab_size: int, vector_size: int, padding_idx: int):\n",
    "        super().__init__()\n",
    "        raise NotImplementedError() # TODO\n",
    "    \n",
    "    def forward(self, batch: LongTensor) -> Tuple[FloatTensor, LongTensor]:\n",
    "        raise NotImplementedError() # TODO"
   ]
  },
  {
   "cell_type": "markdown",
   "metadata": {
    "button": false,
    "new_sheet": false,
    "run_control": {
     "read_only": false
    }
   },
   "source": [
    "Once you are confident with your `CBOW` implementation, run the following cell to test (a) the initialization of the model and (b) the `forward` function on a random batch from the dataloader.  It should run without error if you have implemented everything correctly."
   ]
  },
  {
   "cell_type": "code",
   "execution_count": null,
   "metadata": {
    "button": false,
    "collapsed": true,
    "new_sheet": false,
    "run_control": {
     "read_only": false
    }
   },
   "outputs": [],
   "source": [
    "# evaluation cell\n",
    "batch = next(iter(full_dataloader))\n",
    "model = CBOW(context_size=5, vocab_size=5000, vector_size=100, padding_idx=PADDING_IDX)\n",
    "preds, targets = model(batch) # Alias for model.forward(batch)\n",
    "print(preds.shape, targets.shape)\n",
    "print(preds, targets)"
   ]
  },
  {
   "cell_type": "markdown",
   "metadata": {
    "button": false,
    "new_sheet": false,
    "run_control": {
     "read_only": false
    }
   },
   "source": [
    "<div class='q_pink'><b>2.4e Training the Model [9 points]</b>\n",
    "    \n",
    "Great! Now that we have a Dataset, a DataLoader, and a model, we can start training the model! Please read steps 3 and 4 of [this tutorial](https://pytorch.org/tutorials/beginner/blitz/cifar10_tutorial.html). In the tutorial, you'll notice that training will require three steps:\n",
    "- Choosing an [optimizer](https://pytorch.org/docs/stable/optim.html) (we recommend [Adam](https://pytorch.org/docs/stable/generated/torch.optim.Adam.html#torch.optim.Adam) with learning rate 0.001, but feel free to experiment)\n",
    "- Choosing a [loss function](https://pytorch.org/docs/stable/nn.html#loss-functions)\n",
    "- Writing a training loop (i.e. step 4 in the tutorial).  In the training loop, you'll have to set how many times to iterate through the dataloader; this is also called the *number of epochs*.  For starters, 1-2 epochs should be enough to see some decent results in the next section, but feel free to train for more epochs to see if you can get even better word vectors. **In your training loop, please print out your loss every 10 batches.** This is insightful to the user (and grader).\n",
    "\n",
    "For reference, our solution runs 3 epochs in 2 minutes 45 seconds (on a 2019 Macbook Pro w/ a 2.6 GHz CPU and no GPU).\n",
    "\n",
    "In the cell below, write and run code to train your model.\n",
    "</div>"
   ]
  },
  {
   "cell_type": "code",
   "execution_count": null,
   "metadata": {
    "button": false,
    "collapsed": true,
    "new_sheet": false,
    "run_control": {
     "read_only": false
    }
   },
   "outputs": [],
   "source": [
    "%%time\n",
    "\n",
    "from torch.optim import Adam\n",
    "from torch.nn import NLLLoss\n",
    "\n",
    "# TODO: train the model!"
   ]
  },
  {
   "cell_type": "markdown",
   "metadata": {
    "button": false,
    "new_sheet": false,
    "run_control": {
     "read_only": false
    }
   },
   "source": [
    "Great job on writing Word2Vec from scratch!  Hopefully you learned a lot about the inner workings of PyTorch.  This will go a long way in preparing us for training more complicated models in the future."
   ]
  },
  {
   "cell_type": "markdown",
   "metadata": {
    "button": false,
    "new_sheet": false,
    "run_control": {
     "read_only": false
    }
   },
   "source": [
    "<div class='q_pink'><b>2.4f Evaluate the word2vec embeddings [4 points]</b>\n",
    "\n",
    "Now, let's see if the Word2Vec vectors we trained were any good.  Complete the following exercise:\n",
    "1. Extract the Word2Vec embeddings for each word from your model and print the shape of this data structure.\n",
    "2. For each word $w$ in the list [\"man\", \"thursday\", \"senate\", \"jersey\", \"injured\", \"republican\"], find and display the five other words whose vectors have the highest **cosine similarity** with the vector for $w$.  Also, display their cosine similarities.  Are the results in-line with what you would expect?  Why or why not?\n",
    "3. Explore the embeddings yourself and find one word with not-so-sensible neighbors.  Why might this be the case?\n",
    "\n",
    "For clarity, we will explicitly ask you each of these questions in separate prompts below.\n",
    "</div>"
   ]
  },
  {
   "cell_type": "markdown",
   "metadata": {
    "button": false,
    "new_sheet": false,
    "run_control": {
     "read_only": false
    }
   },
   "source": [
    "<div class='q_pink'>\n",
    "\n",
    "**1.** Extract the Word2Vec embeddings for each word from your model and print the shape of this data structure.\n",
    "</div>"
   ]
  },
  {
   "cell_type": "code",
   "execution_count": null,
   "metadata": {
    "button": false,
    "collapsed": true,
    "new_sheet": false,
    "run_control": {
     "read_only": false
    }
   },
   "outputs": [],
   "source": [
    "# TODO: answer the above"
   ]
  },
  {
   "cell_type": "markdown",
   "metadata": {
    "button": false,
    "new_sheet": false,
    "run_control": {
     "read_only": false
    }
   },
   "source": [
    "<div class='q_pink'>\n",
    " \n",
    "**2.** For each word  𝑤  in the list [\"man\", \"thursday\", \"senate\", \"jersey\", \"injured\", \"republican\"], find and display the five other words whose vectors have the highest cosine similarity with the vector for  𝑤 . Also, display their cosine similarities.\n",
    "</div>"
   ]
  },
  {
   "cell_type": "code",
   "execution_count": null,
   "metadata": {
    "button": false,
    "collapsed": true,
    "new_sheet": false,
    "run_control": {
     "read_only": false
    }
   },
   "outputs": [],
   "source": [
    "# TODO: answer the above"
   ]
  },
  {
   "cell_type": "markdown",
   "metadata": {
    "button": false,
    "new_sheet": false,
    "run_control": {
     "read_only": false
    }
   },
   "source": [
    "<div class='q_pink'>\n",
    "    \n",
    "**2 (continued).** Are the results in-line with what you would expect? Why or why not? (2-3 sentences).\n",
    "</div>"
   ]
  },
  {
   "cell_type": "markdown",
   "metadata": {
    "button": false,
    "new_sheet": false,
    "run_control": {
     "read_only": false
    }
   },
   "source": [
    "YOUR ANSWER HERE"
   ]
  },
  {
   "cell_type": "markdown",
   "metadata": {
    "button": false,
    "new_sheet": false,
    "run_control": {
     "read_only": false
    }
   },
   "source": [
    "<div class='q_pink'>\n",
    "\n",
    "**3.** Explore the embeddings yourself and find one word with not-so-sensible neighbors.\n",
    "</div>"
   ]
  },
  {
   "cell_type": "code",
   "execution_count": null,
   "metadata": {
    "button": false,
    "collapsed": true,
    "new_sheet": false,
    "run_control": {
     "read_only": false
    }
   },
   "outputs": [],
   "source": [
    "# TODO: answer the above"
   ]
  },
  {
   "cell_type": "markdown",
   "metadata": {
    "button": false,
    "new_sheet": false,
    "run_control": {
     "read_only": false
    }
   },
   "source": [
    "<div class='q_pink'>\n",
    "    \n",
    "**3 (continued).** Why might this be the case? (1-2 sentences)\n",
    "</div>"
   ]
  },
  {
   "cell_type": "markdown",
   "metadata": {
    "button": false,
    "new_sheet": false,
    "run_control": {
     "read_only": false
    }
   },
   "source": [
    "YOUR ANSWER HERE"
   ]
  },
  {
   "cell_type": "markdown",
   "metadata": {
    "button": false,
    "new_sheet": false,
    "run_control": {
     "read_only": false
    }
   },
   "source": [
    "<div class='q_pink'><b>2.5 From Word2Vec to Doc2Vec [4 points total]</b></div>"
   ]
  },
  {
   "cell_type": "markdown",
   "metadata": {
    "button": false,
    "new_sheet": false,
    "run_control": {
     "read_only": false
    }
   },
   "source": [
    "OK, time to get back to Mooogle. The cows appear to be growing restless. Hopefully you've seen how training Word2Vec gives us nice word vectors that capture some knowledge about usage and meaning. However, what we ultimately care about in this information retrieval problem is recommending good _documents_. Thus, we will try to use Word2Vec to do document recommendation for Mooogle.\n",
    "\n",
    "Word2Vec provides a vector *for each word*, yet Mooogle requires a vector *for each document*. How do we go from word vectors to document vectors? One very simple way is to define the document vector as the average of word vectors for all the words in the document.  \n",
    "\n",
    "Unfortunately, our in-house Word2Vec vectors from the previous section were not trained on enough data.  Thus, they will not lead to good document vectors. However, we can import some pretrained Word2Vec vectors that were trained on many documents from Google News using the awesome [gensim library](https://radimrehurek.com/gensim/index.html). Run the following code to download these vectors. **WARNING:** This will use 1.6 gb of hard drive space and will thus take some time to download."
   ]
  },
  {
   "cell_type": "code",
   "execution_count": null,
   "metadata": {
    "button": false,
    "collapsed": true,
    "new_sheet": false,
    "run_control": {
     "read_only": false
    }
   },
   "outputs": [],
   "source": [
    "import gensim.downloader\n",
    "\n",
    "gnews = gensim.downloader.load('word2vec-google-news-300')\n",
    "gnews_vecs = gnews.vectors\n",
    "gnews_vocab = gnews.key_to_index"
   ]
  },
  {
   "cell_type": "markdown",
   "metadata": {
    "button": false,
    "new_sheet": false,
    "run_control": {
     "read_only": false
    }
   },
   "source": [
    "<div class='q_pink'><b>2.5a doc2vec [0 points]</b>\n",
    "    \n",
    "**Note:** This section has already been implemented for you. Your job is to read the code and make sure you understand what's happening.\n",
    "    \n",
    "As the cell above suggests, Google News has its own vectors and vocabulary. Below, we use these objects, along with your `tokenized_texts` to implement the following function `run_doc2vec()`, which assigns a vector to every document based on the Word2Vec word vectors. If a word in the corpus happens to be missing from the Google News vocabulary, we skip it when computing document vectors [note: the denominator in the average is adjusted accordingly].\n",
    "\n",
    "The function accepts as inputs:\n",
    "- the output from `load_corpus()` (e.g., `samp_tokenized`)\n",
    "- `gnews_vocab`\n",
    "- `gnews_vecs`\n",
    "\n",
    "It return a dictionary, just like `create_TFIDF()`, whereby the keys are the doc ids and the values are the corresponding vectors.\n",
    "</div>"
   ]
  },
  {
   "cell_type": "code",
   "execution_count": null,
   "metadata": {
    "button": false,
    "collapsed": true,
    "new_sheet": false,
    "run_control": {
     "read_only": false
    }
   },
   "outputs": [],
   "source": [
    "def run_doc2vec(tokenized_texts: Dict[int, List[str]], vocab: Dict[str, int], vecs: np.ndarray) -> Dict[int, np.ndarray]:\n",
    "    doc_vecs = {}\n",
    "    for doc_id, doc in tokenized_texts.items():\n",
    "        doc_vecs[doc_id] = np.mean([vecs[vocab[word]] for word in doc if word in vocab], axis=0)\n",
    "    return doc_vecs"
   ]
  },
  {
   "cell_type": "markdown",
   "metadata": {
    "button": false,
    "new_sheet": false,
    "run_control": {
     "read_only": false
    }
   },
   "source": [
    "Execute the following cells to make sure that `run_doc2vec` is working correctly."
   ]
  },
  {
   "cell_type": "code",
   "execution_count": 51,
   "metadata": {
    "button": false,
    "collapsed": true,
    "new_sheet": false,
    "run_control": {
     "read_only": false
    }
   },
   "outputs": [],
   "source": [
    "# sanity check cell\n",
    "samp_doc2vec = run_doc2vec(samp_tokenized, gnews_vocab, gnews_vecs)"
   ]
  },
  {
   "cell_type": "markdown",
   "metadata": {
    "button": false,
    "new_sheet": false,
    "run_control": {
     "read_only": false
    }
   },
   "source": [
    "Once you are convinced that the code is correct, simply run (i.e., **DO NOT EDIT**) the cell below to convert the dataset to doc2vec format."
   ]
  },
  {
   "cell_type": "code",
   "execution_count": null,
   "metadata": {
    "button": false,
    "collapsed": true,
    "new_sheet": false,
    "run_control": {
     "read_only": false
    }
   },
   "outputs": [],
   "source": [
    "full_doc2vec = run_doc2vec(full_tokenized, gnews_vocab, gnews_vecs)\n",
    "print(len(full_doc2vec[20679]))\n",
    "print(full_doc2vec[189708])"
   ]
  },
  {
   "cell_type": "markdown",
   "metadata": {
    "button": false,
    "new_sheet": false,
    "run_control": {
     "read_only": false
    }
   },
   "source": [
    "<div class='q_pink'><b>2.5b Run Moogle [4 points]</b>\n",
    "    \n",
    "We now produce recommendations based onthe Doc2Vec embeddings, and compare them to those produced by TF-IDF. **You do not need to write any code in the cell below. Simply answer the subsequent question.**\n",
    "</div>"
   ]
  },
  {
   "cell_type": "code",
   "execution_count": null,
   "metadata": {
    "button": false,
    "collapsed": true,
    "new_sheet": false,
    "run_control": {
     "read_only": false
    }
   },
   "outputs": [],
   "source": [
    "doc2vec_df = pd.DataFrame(full_doc2vec).T\n",
    "doc2vec_norms = np.sqrt((doc2vec_df ** 2).sum(axis=1))\n",
    "doc2vec_cosines = doc2vec_df @ doc2vec_df.T / doc2vec_norms.values / doc2vec_norms.values.reshape(-1, 1)\n",
    "doc2vec_cosines\n",
    "\n",
    "# Get top 5 recommendations for doc2vec\n",
    "doc2vec_recs = doc2vec_cosines.apply(lambda x: pd.Series(x.nlargest(6).index[1:])).T\n",
    "# Display titles of recommendations\n",
    "for doc_id in [189496, 20398, 20516, 189657]:\n",
    "    print('**** Query ****')\n",
    "    print(titles.loc[doc_id])\n",
    "    print('**** Doc2Vec Recommendations ****')\n",
    "    for rec_id in doc2vec_recs.loc[doc_id]:\n",
    "        print(titles.loc[rec_id])\n",
    "    print('**** TF-IDF Recommendations ****')\n",
    "    for rec_id in tfidf_recs.loc[doc_id]:\n",
    "        print(titles.loc[rec_id])\n",
    "    print('\\n')"
   ]
  },
  {
   "cell_type": "markdown",
   "metadata": {
    "button": false,
    "new_sheet": false,
    "run_control": {
     "read_only": false
    }
   },
   "source": [
    "<div class='q_pink'> How do our Doc2Vec recommendations compare to TF-IDF's? Why? Are Doc2Vec recommendations good overall? What are some alternative ways to adapt word2vec for documents? (At least 2-3 sentences.)\n",
    "</div>"
   ]
  },
  {
   "cell_type": "markdown",
   "metadata": {
    "button": false,
    "new_sheet": false,
    "run_control": {
     "read_only": false
    }
   },
   "source": [
    "YOUR ANSWER HERE"
   ]
  },
  {
   "cell_type": "markdown",
   "metadata": {
    "button": false,
    "new_sheet": false,
    "run_control": {
     "read_only": false
    }
   },
   "source": [
    "<div class='header_green'>\n",
    "    \n",
    "# 3. RESEARCH [20 points]\n",
    "\n",
    "</div>"
   ]
  },
  {
   "cell_type": "markdown",
   "metadata": {
    "button": false,
    "new_sheet": false,
    "run_control": {
     "read_only": false
    }
   },
   "source": [
    "As we build a foundation in NLP, it's also important to also see what the latest, cutting-edge work (research) looks like. It's incredibly worthwhile to learn about the types of problems people work on, their methodology and approach to the problem, the datasets they work on, the issues they raise, and the solutions they posit. The field moves incredibly fast, but the __approach__ to ML/NLP research is relatively stable -- different types of papers are accepted as the years progress, but that's a different story.\n",
    "\n",
    "We want to help you get practice reading research papers, which mostly entails thinking critically about the work, being able to discern the main takeaways/conclusions, and to reflect on the work in a meaningful way."
   ]
  },
  {
   "cell_type": "markdown",
   "metadata": {
    "button": false,
    "new_sheet": false,
    "run_control": {
     "read_only": false
    }
   },
   "source": [
    "<div class='q_green'><b>3.1: Read an NLP research paper [0 points]</b>\n",
    "    \n",
    "Select and read a paper that was published in ACL, NAACL, EMNLP, or COLING in 2020 or 2021. You can find a list of such published papers by searching Google (Mooogle can't help you here), a la \"ACL 2020 accepted papers\". For this assignment, you are allowed to pick either a short paper (4-5 pages) or long paper (8-9 pages), **but you must not select a workshop paper**. List below the name of the paper, authors, venue, and year published.\n",
    "\n",
    "While I highly encourage you to look at the aforementioned venues to find a paper that interests you, alternatively, you could select one of the follow three papers:\n",
    "\n",
    "- Famous alternative, follow-up to word2vec:\n",
    "> GloVe: Global vectors for word representation. Jeffrey Pennington, Richard Socher, and Christopher Manning. EMNLP 2014.\n",
    "\n",
    "- Influential paper on probing, and the title is a reference to a famous quote \"You can't cram the meaning of a whole sentence into a %&!$# vector\\\":\n",
    "> What you can cram into a single vector: Probing sentence embeddings for linguistic properties. A Conneau, G Kruszewski, G Lample, L Barrault, M Baroni. ACL 2018.\n",
    "\n",
    "- Not as famous, but a solid approach to an important and interesting problem:\n",
    "> Improving Vector Space Word Representations Using Multilingual Correlation. Manaal Faruqui and Chris Dyer. EACL 2014.\n",
    "\n",
    "</div>"
   ]
  },
  {
   "cell_type": "markdown",
   "metadata": {
    "button": false,
    "new_sheet": false,
    "run_control": {
     "read_only": false
    }
   },
   "source": [
    "YOUR PAPER HERE"
   ]
  },
  {
   "cell_type": "markdown",
   "metadata": {
    "button": false,
    "new_sheet": false,
    "run_control": {
     "read_only": false
    }
   },
   "source": [
    "<div class='q_green'><b>3.2: Problem? [2 point]</b> What is the problem that it is trying to address? In other words, what is it trying to solve? (2-3 sentences)\n",
    "</div>"
   ]
  },
  {
   "cell_type": "markdown",
   "metadata": {
    "button": false,
    "new_sheet": false,
    "run_control": {
     "read_only": false
    }
   },
   "source": [
    "YOUR ANSWER HERE"
   ]
  },
  {
   "cell_type": "markdown",
   "metadata": {
    "button": false,
    "new_sheet": false,
    "run_control": {
     "read_only": false
    }
   },
   "source": [
    "<div class='q_green'><b>3.3: Solution? [2 point]</b> At a very high-level, what was their solution? (2-3 sentences). Here, you don't have room to go into the small details (e.g., about the model), so you'll need to summarize the most important elements that comprised the solution.\n",
    "</div>"
   ]
  },
  {
   "cell_type": "markdown",
   "metadata": {
    "button": false,
    "new_sheet": false,
    "run_control": {
     "read_only": false
    }
   },
   "source": [
    "YOUR ANSWER HERE"
   ]
  },
  {
   "cell_type": "markdown",
   "metadata": {
    "button": false,
    "new_sheet": false,
    "run_control": {
     "read_only": false
    }
   },
   "source": [
    "<div class='q_green'><b>3.4: Data? [2 points]</b> What dataset(s) did they use? Are they freely available? What's the size of the data? (2-3 sentences)\n",
    "</div>"
   ]
  },
  {
   "cell_type": "markdown",
   "metadata": {
    "button": false,
    "new_sheet": false,
    "run_control": {
     "read_only": false
    }
   },
   "source": [
    "YOUR ANSWER HERE"
   ]
  },
  {
   "cell_type": "markdown",
   "metadata": {
    "button": false,
    "new_sheet": false,
    "run_control": {
     "read_only": false
    }
   },
   "source": [
    "<div class='q_green'><b>3.5: Model [2 points]</b> Very related to the 'solutions' question, describe here any models that they used, and what made it effective (2-3 sentences)\n",
    "</div>"
   ]
  },
  {
   "cell_type": "markdown",
   "metadata": {
    "button": false,
    "new_sheet": false,
    "run_control": {
     "read_only": false
    }
   },
   "source": [
    "YOUR ANSWER HERE"
   ]
  },
  {
   "cell_type": "markdown",
   "metadata": {
    "button": false,
    "new_sheet": false,
    "run_control": {
     "read_only": false
    }
   },
   "source": [
    "<div class='q_green'><b>3.6: Results? [2 points]</b> What are their main results? (~2 sentences)\n",
    "</div>"
   ]
  },
  {
   "cell_type": "markdown",
   "metadata": {
    "button": false,
    "new_sheet": false,
    "run_control": {
     "read_only": false
    }
   },
   "source": [
    "YOUR ANSWER HERE"
   ]
  },
  {
   "cell_type": "markdown",
   "metadata": {
    "button": false,
    "new_sheet": false,
    "run_control": {
     "read_only": false
    }
   },
   "source": [
    "<div class='q_green'><b>3.7: Strengths? [2 points]</b> List 2-3 strengths of the paper\n",
    "</div>"
   ]
  },
  {
   "cell_type": "markdown",
   "metadata": {
    "button": false,
    "new_sheet": false,
    "run_control": {
     "read_only": false
    }
   },
   "source": [
    "YOUR ANSWER HERE"
   ]
  },
  {
   "cell_type": "markdown",
   "metadata": {
    "button": false,
    "new_sheet": false,
    "run_control": {
     "read_only": false
    }
   },
   "source": [
    "<div class='q_green'><b>3.8: Weaknesses? [2 points]</b> Although you may be new to this problem and all of its content, try to list 2-3 weaknesses of the paper (anything that you think could strengthen the paper is sufficient).\n",
    "</div>"
   ]
  },
  {
   "cell_type": "markdown",
   "metadata": {
    "button": false,
    "new_sheet": false,
    "run_control": {
     "read_only": false
    }
   },
   "source": [
    "YOUR ANSWER HERE"
   ]
  },
  {
   "cell_type": "markdown",
   "metadata": {
    "button": false,
    "new_sheet": false,
    "run_control": {
     "read_only": false
    }
   },
   "source": [
    "<div class='q_green'><b>3.9: Evaluation [2 points]</b>\n",
    "    \n",
    "How would you evaluate this paper in terms of:\n",
    "- scientific contribution\n",
    "- effectiveness to solve the problem\n",
    "- how convincing it was.\n",
    "    \n",
    "Give each of these elements a score from 1-10 (10 is best). No word explanation necessary.\n",
    "</div>"
   ]
  },
  {
   "cell_type": "markdown",
   "metadata": {
    "button": false,
    "new_sheet": false,
    "run_control": {
     "read_only": false
    }
   },
   "source": [
    "YOUR ANSWER HERE"
   ]
  },
  {
   "cell_type": "markdown",
   "metadata": {
    "button": false,
    "new_sheet": false,
    "run_control": {
     "read_only": false
    }
   },
   "source": [
    "<div class='q_green'><b>3.10: Research Ideas [4 points]</b> Think of 1-2 research ideas that you have based on this paper. It doesn't have to be grand; most research is very incremental. Specifically, your research idea should have a concrete __question__ that you're aiming to answer. List it below. \n",
    "</div>"
   ]
  },
  {
   "cell_type": "markdown",
   "metadata": {
    "button": false,
    "new_sheet": false,
    "run_control": {
     "read_only": false
    }
   },
   "source": [
    "YOUR ANSWER HERE"
   ]
  },
  {
   "cell_type": "markdown",
   "metadata": {
    "button": false,
    "new_sheet": false,
    "run_control": {
     "read_only": false
    }
   },
   "source": [
    "<div class='q_green'><b>BONUS POINTS [5 points]</b> I mention the full details in the syllabus on the course website. However, in short, these bonus points cannot bring one's grade to exceed 100. That is, if someone received a 97 on this homework, doing this bonus could allow their grade to reach 100 points. If the person had an 83 on the homework, then the most they could achieve is an 88.\n",
    "    \n",
    "The task: read another research paper (allowed to be a Short Paper) and answer the same questions again. Please copy and paste all of the questions below.\n",
    "</div>"
   ]
  },
  {
   "cell_type": "markdown",
   "metadata": {
    "button": false,
    "new_sheet": false,
    "run_control": {
     "read_only": false
    }
   },
   "source": []
  },
  {
   "cell_type": "markdown",
   "metadata": {
    "button": false,
    "new_sheet": false,
    "run_control": {
     "read_only": false
    }
   },
   "source": [
    "<div class='header_blue'>\n",
    "    \n",
    "# 4. SELF-REFLECTION [0 points]\n",
    "\n",
    "</div>"
   ]
  },
  {
   "cell_type": "markdown",
   "metadata": {
    "button": false,
    "new_sheet": false,
    "run_control": {
     "read_only": false
    }
   },
   "source": [
    "<div class='q_blue'><b>4.1: Self-reflection and Feedback [0 points]</b>\n",
    "\n",
    "Are you thriving in the course? Are there elements that are particularly confusing to you? I want everyone to be and feel fully supported. Toward this, I strongly urge you all to think critically about your own learning and efforts. Please provide us with feedback about how you're doing in the course and if there's anything further or different we can do to better assist your learning. I want everyone to give their earnest account, so the form is completely anonymous.\n",
    "\n",
    "</div>\n",
    "\n",
    "[Anonymous Self-Reflection and Feedback Form](https://forms.gle/3LT6UfhtCtqp2G7X9)"
   ]
  },
  {
   "cell_type": "code",
   "execution_count": null,
   "metadata": {
    "button": false,
    "collapsed": true,
    "new_sheet": false,
    "run_control": {
     "read_only": false
    }
   },
   "outputs": [],
   "source": []
  }
 ],
 "metadata": {
  "celltoolbar": "Edit Metadata",
  "kernel_loop": {
   "byte_size": "82791"
  },
  "kernelspec": {
   "display_name": "Python 3",
   "language": "python",
   "name": "python3"
  },
  "language_info": {
   "codemirror_mode": {
    "name": "ipython",
    "version": 3
   },
   "file_extension": ".py",
   "mimetype": "text/x-python",
   "name": "python",
   "nbconvert_exporter": "python",
   "pygments_lexer": "ipython3",
   "version": "3.8.8"
  }
 },
 "nbformat": 4,
 "nbformat_minor": 4
}
